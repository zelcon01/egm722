{
 "cells": [
  {
   "cell_type": "code",
   "execution_count": null,
   "id": "635e0015-7d7a-4a22-9e6c-e2be88c829a8",
   "metadata": {},
   "outputs": [],
   "source": [
    "# https://dataspace.copernicus.eu/news/2023-9-28-accessing-sentinel-mission-data-new-copernicus-data-space-ecosystem-apis"
   ]
  },
  {
   "cell_type": "code",
   "execution_count": null,
   "id": "14a6a95d-7cbb-4821-8066-65d0e4bda98c",
   "metadata": {},
   "outputs": [],
   "source": [
    "import os\n",
    "import geopandas as gpd\n",
    "from sentinelsat import SentinelAPI, make_path_filter\n",
    "from IPython import display # lets us display images that we download\n",
    "import shapely\n",
    "import requests\n",
    "import netrc"
   ]
  },
  {
   "cell_type": "code",
   "execution_count": null,
   "id": "ceb989a7-2fb9-47cf-99d2-1ed07c3097d6",
   "metadata": {},
   "outputs": [],
   "source": [
    "url = \"https://identity.dataspace.copernicus.eu/auth/realms/CDSE/protocol/openid-connect/token\"\n",
    "headers = {\n",
    "    \"Content-Type\": \"application/x-www-form-urlencoded\"\n",
    "}\n",
    "\n",
    "# Specify the path to the .netrc file\n",
    "netrc_file_path = r\"C:\\Users\\kinse\\.netrc.txt\"\n",
    "\n",
    "# Load credentials from .netrc file\n",
    "access_token = netrc.netrc(netrc_file_path).authenticators(\"identity.dataspace.copernicus.eu\")\n",
    "\n",
    "if access_token:\n",
    "    username, _, password = access_token\n",
    "    data = {\n",
    "        \"username\": username,\n",
    "        \"password\": password,\n",
    "        \"grant_type\": \"password\",\n",
    "        \"client_id\": \"cdse-public\"\n",
    "    }\n",
    "\n",
    "    response = requests.post(url, headers=headers, data=data)\n",
    "    print(response.json())\n",
    "else:\n",
    "    print(\"Credentials not found in .netrc file.\")"
   ]
  },
  {
   "cell_type": "code",
   "execution_count": null,
   "id": "19609332-dc78-400e-9ebe-d168e8a9db7b",
   "metadata": {},
   "outputs": [],
   "source": [
    "start_date = \"2022-06-01\"\n",
    "end_date = \"2022-06-10\"\n",
    "data_collection = \"SENTINEL-2\"\n",
    "aoi = \"POLYGON((4.220581 50.958859,4.521264 50.953236,4.545977 50.906064,4.541858 50.802029,4.489685 50.763825,4.23843 50.767734,4.192435 50.806369,4.189689 50.907363,4.220581 50.958859))'\"\n"
   ]
  },
  {
   "cell_type": "code",
   "execution_count": null,
   "id": "f36edbba-e81a-469d-8a06-4a9abf9d0fed",
   "metadata": {},
   "outputs": [],
   "source": [
    "json = requests.get(f\"https://catalogue.dataspace.copernicus.eu/odata/v1/Products?$filter=Collection/Name eq '{data_collection}' and OData.CSC.Intersects(area=geography'SRID=4326;{aoi}) and ContentDate/Start gt {start_date}T00:00:00.000Z and ContentDate/Start lt {end_date}T00:00:00.000Z\").json()\n",
    "gpd.GeoDataFrame.from_dict(json['value']).head(5)\n"
   ]
  },
  {
   "cell_type": "code",
   "execution_count": null,
   "id": "c3001243-0668-4500-8ed2-3420d190f921",
   "metadata": {},
   "outputs": [],
   "source": [
    "url = f\"https://zipper.dataspace.copernicus.eu/odata/v1/Products(acdd7b9a-a5d4-5d10-9ac8-554623b8a0c9)/$value\"\n",
    "\n",
    "headers = {\"Authorization\": f\"Bearer {access_token}\"}\n",
    "\n",
    "session = requests.Session()\n",
    "session.headers.update(headers)\n",
    "response = session.get(url, headers=headers, stream=True)\n",
    "\n",
    "with open(\"product.zip\", \"wb\") as file:\n",
    "    for chunk in response.iter_content(chunk_size=8192):\n",
    "        if chunk:\n",
    "            file.write(chunk)\n",
    "            "
   ]
  },
  {
   "cell_type": "code",
   "execution_count": null,
   "id": "d3c1a812-24cc-4868-bbbf-93e8aecd82fb",
   "metadata": {},
   "outputs": [],
   "source": []
  }
 ],
 "metadata": {
  "kernelspec": {
   "display_name": "Python 3 (ipykernel)",
   "language": "python",
   "name": "python3"
  },
  "language_info": {
   "codemirror_mode": {
    "name": "ipython",
    "version": 3
   },
   "file_extension": ".py",
   "mimetype": "text/x-python",
   "name": "python",
   "nbconvert_exporter": "python",
   "pygments_lexer": "ipython3",
   "version": "3.12.2"
  }
 },
 "nbformat": 4,
 "nbformat_minor": 5
}
