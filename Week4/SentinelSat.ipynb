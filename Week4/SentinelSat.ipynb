{
 "cells": [
  {
   "cell_type": "markdown",
   "id": "abed271e",
   "metadata": {},
   "source": [
    "# searching + downloading sentinel data using sentinelsat\n",
    "\n",
    "## overview\n",
    "Up to now, you have gained some experience working with basic features of python, used cartopy and matplotlib to create a map, explored using shapely and geopandas to work with vector data, and explored using rasterio and numpy to work with raster data. \n",
    "\n",
    "In this example, we'll see how we can use an application programming interface (API) to query and download Sentinel data, using the [SentinelSat](https://sentinelsat.readthedocs.io/en/stable/) API. As part of this, we'll also introduce a few more geometric operations using `shapely` that you may find useful.\n",
    "\n",
    "## objectives\n",
    "\n",
    "In this example, you will:\n",
    "\n",
    "-  Use `shapely` to get the _unary union_ of a collection of shapes\n",
    "-  Use `shapely` to find the minimum bounding rectangle of a geometry\n",
    "-  Use the SentinelAPI to search for Sentinel-2 images\n",
    "-  Calculate the fractional overlap between shapes\n",
    "-  Use the SentinelAPI to download images\n",
    "\n",
    "## data provided\n",
    "\n",
    "In this example, we will be using the `Counties` shapefile that we used in Week 2.\n",
    "\n",
    "## getting started\n",
    "\n",
    "To get started, run the following cell to import the packages that we'll use in the practical."
   ]
  },
  {
   "cell_type": "code",
   "execution_count": null,
   "id": "cac1d768",
   "metadata": {},
   "outputs": [],
   "source": [
    "import os\n",
    "import geopandas as gpd\n",
    "from sentinelsat import SentinelAPI, make_path_filter\n",
    "from IPython import display # lets us display images that we download\n",
    "import shapely"
   ]
  },
  {
   "cell_type": "markdown",
   "id": "c2de4cd6",
   "metadata": {},
   "source": [
    "## preparing a search area\n",
    "\n",
    "Before we get to using the API to search for images, we'll see how we can use existing data, like the `Counties` shapefile we used in Week 2, to help us search for images.\n",
    "\n",
    "We won't be able to use particularly complicated shapes, but we can use a combination of GIS/geometric operations to get a simple outline of our data, which can be used for the search.\n",
    "\n",
    "First, we'll load the data using `geopandas`, making sure to transform from the original CRS to WGS84 latitude/longitude (`epsg=4326`):"
   ]
  },
  {
   "cell_type": "code",
   "execution_count": null,
   "id": "638fe303",
   "metadata": {},
   "outputs": [],
   "source": [
    "counties = gpd.read_file('../Week2/data_files/Counties.shp').to_crs(epsg=4326)"
   ]
  },
  {
   "cell_type": "markdown",
   "id": "7d82f49e",
   "metadata": {},
   "source": [
    "Next, we'll use the `geopandas.Series.unary_union` attribute ([documentation](https://geopandas.org/en/stable/docs/reference/api/geopandas.GeoSeries.unary_union.html)) to get a combination of all of the County outlines in a single geometry feature:"
   ]
  },
  {
   "cell_type": "code",
   "execution_count": null,
   "id": "79135771",
   "metadata": {},
   "outputs": [],
   "source": [
    "# gets a single polygon (or multipolygon) composed of the individual polygons\n",
    "outline = counties['geometry'].unary_union\n",
    "\n",
    "outline # note that in a jupyter notebook, this actually displays the polygon."
   ]
  },
  {
   "cell_type": "markdown",
   "id": "c45acea3",
   "metadata": {},
   "source": [
    "In the output of the cell above, we can see that the `outline` shape is indeed the combination of all of the individual county outlines.\n",
    "\n",
    "We could use this as an input to our search, but we'll look at one additional attribute of a `shapely` **Polygon** that we can use to get a bounding box of the geometry - the `minimum_rotated_rectangle` ([documentation](https://shapely.readthedocs.io/en/stable/reference/shapely.minimum_rotated_rectangle.html)):"
   ]
  },
  {
   "cell_type": "code",
   "execution_count": null,
   "id": "bff8fec1",
   "metadata": {},
   "outputs": [],
   "source": [
    "# gets the minimum rotated rectangle that covers the outline\n",
    "search_area = outline.minimum_rotated_rectangle\n",
    "\n",
    "search_area"
   ]
  },
  {
   "cell_type": "markdown",
   "id": "6b16509f",
   "metadata": {},
   "source": [
    "You can see above that this gives a boundary box of the polygon, but rather than being a simple rectangle made of the maximum/minimum coordinates, it's rotated to be as small as possible while still covering the entire geometry. \n",
    "\n",
    "This way, we minimize the area outside of the area of interest (Northern Ireland) within our search area, while still making sure to cover the entire area of interest.\n",
    "\n",
    "Finally, if we look at the docstring for `SentinelAPI.query()` ([documentation](https://sentinelsat.readthedocs.io/en/latest/api_reference.html#sentinelsat.sentinel.SentinelAPI.query)), we see that the `area` argument needs to be a `str`:"
   ]
  },
  {
   "cell_type": "code",
   "execution_count": null,
   "id": "e23485ca",
   "metadata": {},
   "outputs": [],
   "source": [
    "help(SentinelAPI.query)"
   ]
  },
  {
   "cell_type": "markdown",
   "id": "aa1c1886",
   "metadata": {},
   "source": [
    "Specifically, it needs to be a [\"Well-Known Text (WKT)\"](https://en.wikipedia.org/wiki/Well-known_text_representation_of_geometry) representation of the geometry. \n",
    "\n",
    "For a `shapely` geometry, the WKT representation of the geometry is stored in the `wkt` attribute:"
   ]
  },
  {
   "cell_type": "code",
   "execution_count": null,
   "id": "ffe52488",
   "metadata": {},
   "outputs": [],
   "source": [
    "# displays the search area wkt\n",
    "print(search_area.wkt)"
   ]
  },
  {
   "cell_type": "markdown",
   "id": "28038a8e",
   "metadata": {},
   "source": [
    "That's all we need to be able to search for images that intersect with a given geometry. Once we have this, we can connect to the API and start the query.\n",
    "\n",
    "## searching the archive for images\n",
    "\n",
    "### connecting to the api\n",
    "\n",
    "To connect to the API, we first create a **SentinelAPI** object ([documentation](https://sentinelsat.readthedocs.io/en/latest/api_reference.html#sentinelsat.sentinel.SentinelAPI)):"
   ]
  },
  {
   "cell_type": "code",
   "execution_count": null,
   "id": "43acb010",
   "metadata": {},
   "outputs": [],
   "source": [
    "api = SentinelAPI(None, None) # remember - don't type your username and password into a jupyter notebook!"
   ]
  },
  {
   "cell_type": "markdown",
   "id": "7a38d5b2",
   "metadata": {},
   "source": [
    "From the API reference for `sentinelsat`, we can see that we either type in the username and password as a string (**a terrible idea - don't do this!**), or we use `None` to use the `.netrc` file that we created earlier.\n",
    "\n",
    "If there are no error messages or warnings, the connection was successfully created, and we can move on to searching for images.\n",
    "\n",
    "### searching for images\n",
    "\n",
    "As we saw earlier, the method we'll use is `api.query()`.\n",
    "\n",
    "For this example, we'll use the following arguments for the search:\n",
    "\n",
    "- `area`: the search area to use\n",
    "- `date`: the date range to use. We'll look for all images from February 2023.\n",
    "- `platformname`: we're going to limit our search to Sentinel-2, but note that there are other options available\n",
    "- `producttype`: we'll search for the Sentinel-2 MSI Level 2A (surface reflectance) products\n",
    "- `cloudcoverpercentage`: we want (mostly) cloud-free images, so we'll search for images with < 30% cloud cover\n",
    "\n",
    "To see what additional arguments are available, you can check the [SentinelAPI](https://sentinelsat.readthedocs.io/en/latest/api_reference.html#sentinelsat.sentinel.SentinelAPI.query) API reference, or the [Open Access Hub](https://scihub.copernicus.eu/twiki/do/view/SciHubUserGuide/FullTextSearch?redirectedfrom=SciHubUserGuide.3FullTextSearch) API reference for additional keywords to use."
   ]
  },
  {
   "cell_type": "code",
   "execution_count": null,
   "id": "592aa7c3",
   "metadata": {},
   "outputs": [],
   "source": [
    "products = api.query(search_area.wkt, # use the WKT representation of our search area\n",
    "                     date=('20230201', '20230228'), # all images from February 2023\n",
    "                     platformname='Sentinel-2', # the platform name is Sentinel-2\n",
    "                     producttype='S2MSI2A', # surface reflectance product (L2A)\n",
    "                     cloudcoverpercentage=(0, 30)) # limit to 10% cloud cover"
   ]
  },
  {
   "cell_type": "markdown",
   "id": "4579efd5",
   "metadata": {},
   "source": [
    "The output of `api.query()` is a **dict** object, with the product name the `key` and the `value` being the metadata. \n",
    "\n",
    "To see how many images were returned by the search, we can check the length of the **dict** object, which tells us the number of `item`s (`key`/`value` pairs) in the **dict**:"
   ]
  },
  {
   "cell_type": "code",
   "execution_count": null,
   "id": "0b656e5e",
   "metadata": {},
   "outputs": [],
   "source": [
    "nresults = len(products)\n",
    "print(f'Found {nresults} results')"
   ]
  },
  {
   "cell_type": "markdown",
   "id": "ef0c8a5d",
   "metadata": {},
   "source": [
    "You should hopefully see that the search has returned 11 results. \n",
    "\n",
    "To look at the first one returned, we can use the built-ins `next()` ([documentation](https://docs.python.org/3/library/functions.html#next)) and `iter()` ([documentation](https://docs.python.org/3/library/functions.html#iter)), which returns the first item that was entered into the **dict**:"
   ]
  },
  {
   "cell_type": "code",
   "execution_count": null,
   "id": "a0b3378d",
   "metadata": {},
   "outputs": [],
   "source": [
    "result = next(iter(products)) # get the \"first\" item from the dict\n",
    "products[result] # show the metadata for the first item"
   ]
  },
  {
   "cell_type": "markdown",
   "id": "91812fbc",
   "metadata": {},
   "source": [
    "And, we can also download the browse image for this product, using `SentinelAPI.download_quicklook()` ([documentation](https://sentinelsat.readthedocs.io/en/latest/api_reference.html#sentinelsat.sentinel.SentinelAPI.download_quicklook)):"
   ]
  },
  {
   "cell_type": "code",
   "execution_count": null,
   "id": "400cdca0",
   "metadata": {},
   "outputs": [],
   "source": [
    "qlook = api.download_quicklook(result) # download the quicklook image for the first result\n",
    "display.Image(qlook['path']) # display the image"
   ]
  },
  {
   "cell_type": "markdown",
   "id": "919073bd",
   "metadata": {},
   "source": [
    "In this example, we might notice a small problem - while this image technically does intersect our area of interest, it does so only barely. Northern Ireland is the small bit of land in the lower left-hand corner of this image - most of the image is of Scotland and the Irish Sea.\n",
    "\n",
    "In the next section, we'll see one way that we can make sure that we're only getting images that mostly intersect with our area of interest.\n",
    "\n",
    "## filtering by overlap\n",
    "\n",
    "To start, we use `SentinelAPI.to_geodataframe()` ([documentation](https://sentinelsat.readthedocs.io/en/latest/api_reference.html#sentinelsat.sentinel.SentinelAPI.download_quicklook)) to convert the results into a **GeoDataFrame**:"
   ]
  },
  {
   "cell_type": "code",
   "execution_count": null,
   "id": "fde31a48",
   "metadata": {},
   "outputs": [],
   "source": [
    "product_geo = SentinelAPI.to_geodataframe(products) # convert the search results to a geodataframe\n",
    "product_geo.head() # show the first 5 rows of the geodataframe"
   ]
  },
  {
   "cell_type": "markdown",
   "id": "575dc121",
   "metadata": {},
   "source": [
    "Now, we can iterate over **GeoDataFrame** to calculate the intersection of the image footprint with the outline of Northern Ireland:"
   ]
  },
  {
   "cell_type": "code",
   "execution_count": null,
   "id": "72630475",
   "metadata": {},
   "outputs": [],
   "source": [
    "for ind, row in product_geo.iterrows():\n",
    "    intersection = outline.intersection(row['geometry']) # find the intersection of the two polygons\n",
    "    product_geo.loc[ind, 'overlap'] = intersection.area / outline.area # get the fractional overlap\n",
    "    \n",
    "print(product_geo.overlap) # show the fractional overlap for each index"
   ]
  },
  {
   "cell_type": "markdown",
   "id": "c9bee6fd",
   "metadata": {},
   "source": [
    "In this example, the third image, `80558644-2e31-48b9-acd5-5d1475dfc1bf` has 43% overlap with the outline of Northern Ireland; none of the other images have more than 20%.\n",
    "\n",
    "Rather than copying this down, we can use `geopandas.GeoSeries.argmax()` ([documentation](https://pandas.pydata.org/pandas-docs/stable/reference/api/pandas.Series.argmax.html)) to find the integer location of the largest value in the `overlap` column:"
   ]
  },
  {
   "cell_type": "code",
   "execution_count": null,
   "id": "c04eeb7d",
   "metadata": {},
   "outputs": [],
   "source": [
    "max_index = product_geo.overlap.argmax() # get the integer location of the largest overlap value\n",
    "print(max_index) # should be 2"
   ]
  },
  {
   "cell_type": "markdown",
   "id": "87693815",
   "metadata": {},
   "source": [
    "Then, we get the **GeoDataFrame** index that corresponds to that integer location:"
   ]
  },
  {
   "cell_type": "code",
   "execution_count": null,
   "id": "c2677871",
   "metadata": {},
   "outputs": [],
   "source": [
    "best_overlap = product_geo.index[max_index] # get the actual index (image name) with the largest overlap\n",
    "print(product_geo.loc[best_overlap]) # show the metadata for the image with the largest overlap"
   ]
  },
  {
   "cell_type": "markdown",
   "id": "a425b9a1",
   "metadata": {},
   "source": [
    "With this, we can use `api.download_quicklook()` ([documentation](https://sentinelsat.readthedocs.io/en/latest/api_reference.html#sentinelsat.sentinel.SentinelAPI.download_quicklook)) to download the quicklook image for the result that has the largest overlap with the outline of Northern Ireland:"
   ]
  },
  {
   "cell_type": "code",
   "execution_count": null,
   "id": "020c0e65",
   "metadata": {},
   "outputs": [],
   "source": [
    "qlook = api.download_quicklook(best_overlap) # download the quicklook image for the first result\n",
    "display.Image(qlook['path']) # display the image"
   ]
  },
  {
   "cell_type": "markdown",
   "id": "47566cc7",
   "metadata": {},
   "source": [
    "So that's a little bit better - at least with this image, we can see much more of Northern Ireland (and the ever-present clouds).\n",
    "\n",
    "That's all for right now - the next few cells provide examples for how you can download the actual image data.\n",
    "\n",
    "## downloading images\n",
    "\n",
    "<span style=\"color:#009fdf;font-size:1.1em;font-weight:bold\">Remember that these are very large files (each granule is ~1GB), so you should only run these cells if you actually want to download the data!</span>\n",
    "\n",
    "### downloading an individual image\n",
    "\n",
    "We can use `SentinelAPI.download()` ([documentation](https://sentinelsat.readthedocs.io/en/latest/api_reference.html#sentinelsat.sentinel.SentinelAPI.download)) to download a single product, given the Product ID:"
   ]
  },
  {
   "cell_type": "code",
   "execution_count": null,
   "id": "7841fa96",
   "metadata": {},
   "outputs": [],
   "source": [
    "api.download(best_overlap) # downloads the first result"
   ]
  },
  {
   "cell_type": "markdown",
   "id": "104f5c65",
   "metadata": {},
   "source": [
    "### download an individual image, but only the image bands\n",
    "\n",
    "This example uses the `nodefilter` argument along with `make_path_filter()` ([documentation](https://sentinelsat.readthedocs.io/en/latest/api_reference.html#sentinelsat.products.make_path_filter)) to only download the image bands (files that match the format `*_B*.jp2`):"
   ]
  },
  {
   "cell_type": "code",
   "execution_count": null,
   "id": "f2de5dc9",
   "metadata": {},
   "outputs": [],
   "source": [
    "api.download(first_result, # downloads the first result\n",
    "             nodefilter=make_path_filter(\"*_B*.jp2\")) # only download the image bands (optional)"
   ]
  },
  {
   "cell_type": "markdown",
   "id": "ab726f12",
   "metadata": {},
   "source": [
    "### download all images from a list of products\n",
    "\n",
    "Finally, `SentinelAPI.download_all()` ([documentation](https://sentinelsat.readthedocs.io/en/latest/api_reference.html#sentinelsat.sentinel.SentinelAPI.download_all)) will download all of the products in a list. \n",
    "\n",
    "<span style=\"color:#009fdf;font-size:1.1em;font-weight:bold\">Again, these are very large files, so you should only run the following cell if you actually want to download all of the images returned by the API!</span>"
   ]
  },
  {
   "cell_type": "code",
   "execution_count": null,
   "id": "a4104965",
   "metadata": {},
   "outputs": [],
   "source": [
    "api.download_all(products,\n",
    "                 n_concurrent_dl=5, # allow up to 5 concurrent downloads\n",
    "                 nodefilter=make_path_filter(\"*_B*.jp2\")) # only down the image bands (optional)"
   ]
  }
 ],
 "metadata": {
  "kernelspec": {
   "display_name": "Python 3 (ipykernel)",
   "language": "python",
   "name": "python3"
  },
  "language_info": {
   "codemirror_mode": {
    "name": "ipython",
    "version": 3
   },
   "file_extension": ".py",
   "mimetype": "text/x-python",
   "name": "python",
   "nbconvert_exporter": "python",
   "pygments_lexer": "ipython3",
   "version": "3.11.6"
  }
 },
 "nbformat": 4,
 "nbformat_minor": 5
}
