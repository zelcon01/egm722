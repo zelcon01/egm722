{
 "cells": [
  {
   "cell_type": "markdown",
   "id": "abed271e",
   "metadata": {},
   "source": [
    "# searching + downloading sentinel data using sentinelsat\n",
    "\n",
    "## overview\n",
    "Up to now, you have gained some experience working with basic features of python, used cartopy and matplotlib to create a map, explored using shapely and geopandas to work with vector data, and explored using rasterio and numpy to work with raster data. \n",
    "\n",
    "In this example, we'll see how we can use an application programming interface (API) to query and download Sentinel data, using the [SentinelSat](https://sentinelsat.readthedocs.io/en/stable/) API. As part of this, we'll also introduce a few more geometric operations using `shapely` that you may find useful.\n",
    "\n",
    "## objectives\n",
    "\n",
    "In this example, you will:\n",
    "\n",
    "-  Use `shapely` to get the _unary union_ of a collection of shapes\n",
    "-  Use `shapely` to find the minimum bounding rectangle of a geometry\n",
    "-  Use the SentinelAPI to search for Sentinel-2 images\n",
    "-  Calculate the fractional overlap between shapes\n",
    "-  Use the SentinelAPI to download images\n",
    "\n",
    "## data provided\n",
    "\n",
    "In this example, we will be using the `Counties` shapefile that we used in Week 2.\n",
    "\n",
    "## getting started\n",
    "\n",
    "To get started, run the following cell to import the packages that we'll use in the practical."
   ]
  },
  {
   "cell_type": "code",
   "execution_count": 1,
   "id": "cac1d768",
   "metadata": {},
   "outputs": [],
   "source": [
    "import os\n",
    "import geopandas as gpd\n",
    "from sentinelsat import SentinelAPI, make_path_filter\n",
    "from IPython import display # lets us display images that we download\n",
    "import shapely\n",
    "import requests\n",
    "import netrc"
   ]
  },
  {
   "cell_type": "markdown",
   "id": "c2de4cd6",
   "metadata": {},
   "source": [
    "## preparing a search area\n",
    "\n",
    "Before we get to using the API to search for images, we'll see how we can use existing data, like the `Counties` shapefile we used in Week 2, to help us search for images.\n",
    "\n",
    "We won't be able to use particularly complicated shapes, but we can use a combination of GIS/geometric operations to get a simple outline of our data, which can be used for the search.\n",
    "\n",
    "First, we'll load the data using `geopandas`, making sure to transform from the original CRS to WGS84 latitude/longitude (`epsg=4326`):"
   ]
  },
  {
   "cell_type": "code",
   "execution_count": 2,
   "id": "638fe303",
   "metadata": {},
   "outputs": [],
   "source": [
    "counties = gpd.read_file('../Week2/data_files/Counties.shp').to_crs(epsg=4326)"
   ]
  },
  {
   "cell_type": "markdown",
   "id": "7d82f49e",
   "metadata": {},
   "source": [
    "Next, we'll use the `geopandas.Series.unary_union` attribute ([documentation](https://geopandas.org/en/stable/docs/reference/api/geopandas.GeoSeries.unary_union.html)) to get a combination of all of the County outlines in a single geometry feature:"
   ]
  },
  {
   "cell_type": "code",
   "execution_count": null,
   "id": "79135771",
   "metadata": {},
   "outputs": [],
   "source": [
    "# gets a single polygon (or multipolygon) composed of the individual polygons\n",
    "outline = counties['geometry'].unary_union\n",
    "\n",
    "outline # note that in a jupyter notebook, this actually displays the polygon."
   ]
  },
  {
   "cell_type": "markdown",
   "id": "c45acea3",
   "metadata": {},
   "source": [
    "In the output of the cell above, we can see that the `outline` shape is indeed the combination of all of the individual county outlines.\n",
    "\n",
    "We could use this as an input to our search, but we'll look at one additional attribute of a `shapely` **Polygon** that we can use to get a bounding box of the geometry - the `minimum_rotated_rectangle` ([documentation](https://shapely.readthedocs.io/en/stable/reference/shapely.minimum_rotated_rectangle.html)):"
   ]
  },
  {
   "cell_type": "code",
   "execution_count": 4,
   "id": "bff8fec1",
   "metadata": {},
   "outputs": [
    {
     "data": {
      "image/svg+xml": [
       "<svg xmlns=\"http://www.w3.org/2000/svg\" xmlns:xlink=\"http://www.w3.org/1999/xlink\" width=\"100.0\" height=\"100.0\" viewBox=\"-8.298044262651807 53.89656961000986 2.996005250900687 1.5744317859632844\" preserveAspectRatio=\"xMinYMin meet\"><g transform=\"matrix(1,0,0,-1,0,109.36757100598301)\"><path fill-rule=\"evenodd\" fill=\"#66cc99\" stroke=\"#555555\" stroke-width=\"0.059920105018013745\" opacity=\"0.6\" d=\"M -5.444578058013133,54.00753276745063 L -8.18708110521104,54.07491705166869 L -8.155505216389793,55.36003823853238 L -5.413002169191886,55.292653954314325 L -5.444578058013133,54.00753276745063 z\" /></g></svg>"
      ],
      "text/plain": [
       "<POLYGON ((-5.445 54.008, -8.187 54.075, -8.156 55.36, -5.413 55.293, -5.445...>"
      ]
     },
     "execution_count": 4,
     "metadata": {},
     "output_type": "execute_result"
    }
   ],
   "source": [
    "# gets the minimum rotated rectangle that covers the outline\n",
    "search_area = outline.minimum_rotated_rectangle\n",
    "\n",
    "search_area"
   ]
  },
  {
   "cell_type": "markdown",
   "id": "6b16509f",
   "metadata": {},
   "source": [
    "You can see above that this gives a boundary box of the polygon, but rather than being a simple rectangle made of the maximum/minimum coordinates, it's rotated to be as small as possible while still covering the entire geometry. \n",
    "\n",
    "This way, we minimize the area outside of the area of interest (Northern Ireland) within our search area, while still making sure to cover the entire area of interest.\n",
    "\n",
    "Finally, if we look at the docstring for `SentinelAPI.query()` ([documentation](https://sentinelsat.readthedocs.io/en/latest/api_reference.html#sentinelsat.sentinel.SentinelAPI.query)), we see that the `area` argument needs to be a `str`:"
   ]
  },
  {
   "cell_type": "code",
   "execution_count": 5,
   "id": "e23485ca",
   "metadata": {},
   "outputs": [
    {
     "name": "stdout",
     "output_type": "stream",
     "text": [
      "Help on function query in module sentinelsat.sentinel:\n",
      "\n",
      "query(self, area=None, date=None, raw=None, area_relation='Intersects', order_by=None, limit=None, offset=0, **keywords)\n",
      "    Query the OpenSearch API with the coordinates of an area, a date interval\n",
      "    and any other search keywords accepted by the API.\n",
      "\n",
      "    Parameters\n",
      "    ----------\n",
      "    area : str, optional\n",
      "        The area of interest formatted as a Well-Known Text string.\n",
      "    date : tuple of (str or datetime) or str, optional\n",
      "        A time interval filter based on the Sensing Start Time of the products.\n",
      "        Expects a tuple of (start, end), e.g. (\"NOW-1DAY\", \"NOW\").\n",
      "        The timestamps can be either a Python datetime or a string in one of the\n",
      "        following formats:\n",
      "\n",
      "            - yyyyMMdd\n",
      "            - yyyy-MM-ddThh:mm:ss.SSSZ (ISO-8601)\n",
      "            - yyyy-MM-ddThh:mm:ssZ\n",
      "            - NOW\n",
      "            - NOW-<n>DAY(S) (or HOUR(S), MONTH(S), etc.)\n",
      "            - NOW+<n>DAY(S)\n",
      "            - yyyy-MM-ddThh:mm:ssZ-<n>DAY(S)\n",
      "            - NOW/DAY (or HOUR, MONTH etc.) - rounds the value to the given unit\n",
      "\n",
      "        Alternatively, an already fully formatted string such as \"[NOW-1DAY TO NOW]\" can be\n",
      "        used as well.\n",
      "    raw : str, optional\n",
      "        Additional query text that will be appended to the query.\n",
      "    area_relation : {'Intersects', 'Contains', 'IsWithin'}, optional\n",
      "        What relation to use for testing the AOI. Case insensitive.\n",
      "\n",
      "            - Intersects: true if the AOI and the footprint intersect (default)\n",
      "            - Contains: true if the AOI is inside the footprint\n",
      "            - IsWithin: true if the footprint is inside the AOI\n",
      "\n",
      "    order_by: str, optional\n",
      "        A comma-separated list of fields to order by (on server side).\n",
      "        Prefix the field name by '+' or '-' to sort in ascending or descending order,\n",
      "        respectively. Ascending order is used if prefix is omitted.\n",
      "        Example: \"cloudcoverpercentage, -beginposition\".\n",
      "    limit: int, optional\n",
      "        Maximum number of products returned. Defaults to no limit.\n",
      "    offset: int, optional\n",
      "        The number of results to skip. Defaults to 0.\n",
      "    **keywords\n",
      "        Additional keywords can be used to specify other query parameters,\n",
      "        e.g. `relativeorbitnumber=70`.\n",
      "        See https://scihub.copernicus.eu/twiki/do/view/SciHubUserGuide/3FullTextSearch\n",
      "        for a full list.\n",
      "\n",
      "\n",
      "    Range values can be passed as two-element tuples, e.g. `cloudcoverpercentage=(0, 30)`.\n",
      "    `None` can be used in range values for one-sided ranges, e.g. `orbitnumber=(16302, None)`.\n",
      "    Ranges with no bounds (`orbitnumber=(None, None)`) will not be included in the query.\n",
      "\n",
      "    Multiple values for the same query parameter can be provided as sets and will be handled as\n",
      "    logical OR, e.g. `orbitnumber={16302, 1206}`.\n",
      "\n",
      "    The time interval formats accepted by the `date` parameter can also be used with\n",
      "    any other parameters that expect time intervals (that is: 'beginposition', 'endposition',\n",
      "    'date', 'creationdate', and 'ingestiondate').\n",
      "\n",
      "    Returns\n",
      "    -------\n",
      "    dict[string, dict]\n",
      "        Products returned by the query as a dictionary with the product ID as the key and\n",
      "        the product's attributes (a dictionary) as the value.\n",
      "\n"
     ]
    }
   ],
   "source": [
    "help(SentinelAPI.query)"
   ]
  },
  {
   "cell_type": "markdown",
   "id": "aa1c1886",
   "metadata": {},
   "source": [
    "Specifically, it needs to be a [\"Well-Known Text (WKT)\"](https://en.wikipedia.org/wiki/Well-known_text_representation_of_geometry) representation of the geometry. \n",
    "\n",
    "For a `shapely` geometry, the WKT representation of the geometry is stored in the `wkt` attribute:"
   ]
  },
  {
   "cell_type": "code",
   "execution_count": 6,
   "id": "ffe52488",
   "metadata": {},
   "outputs": [
    {
     "name": "stdout",
     "output_type": "stream",
     "text": [
      "POLYGON ((-5.444578058013133 54.00753276745063, -8.18708110521104 54.07491705166869, -8.155505216389793 55.36003823853238, -5.413002169191886 55.292653954314325, -5.444578058013133 54.00753276745063))\n"
     ]
    }
   ],
   "source": [
    "# displays the search area wkt\n",
    "print(search_area.wkt)"
   ]
  },
  {
   "cell_type": "markdown",
   "id": "28038a8e",
   "metadata": {},
   "source": [
    "That's all we need to be able to search for images that intersect with a given geometry. Once we have this, we can connect to the API and start the query.\n",
    "\n",
    "## searching the archive for images\n",
    "\n",
    "### connecting to the api\n",
    "\n",
    "To connect to the API, we first create a **SentinelAPI** object ([documentation](https://sentinelsat.readthedocs.io/en/latest/api_reference.html#sentinelsat.sentinel.SentinelAPI)):"
   ]
  },
  {
   "cell_type": "code",
   "execution_count": 7,
   "id": "43acb010",
   "metadata": {},
   "outputs": [
    {
     "name": "stdout",
     "output_type": "stream",
     "text": [
      "{'access_token': 'eyJhbGciOiJSUzI1NiIsInR5cCIgOiAiSldUIiwia2lkIiA6ICJYVUh3VWZKaHVDVWo0X3k4ZF8xM0hxWXBYMFdwdDd2anhob2FPLUxzREZFIn0.eyJleHAiOjE3MTIwMDk1NzUsImlhdCI6MTcxMjAwODk3NSwianRpIjoiMWNmOWJmY2EtMWExMi00NTk1LTg1N2YtOWRhYWMzZDY1MTgwIiwiaXNzIjoiaHR0cHM6Ly9pZGVudGl0eS5kYXRhc3BhY2UuY29wZXJuaWN1cy5ldS9hdXRoL3JlYWxtcy9DRFNFIiwiYXVkIjpbIkNMT1VERkVSUk9fUFVCTElDIiwiYWNjb3VudCJdLCJzdWIiOiI4ZjIxMWZlYi1mOGZiLTRjMzgtODJkMC02ZjRjMjYyZjQxNDQiLCJ0eXAiOiJCZWFyZXIiLCJhenAiOiJjZHNlLXB1YmxpYyIsInNlc3Npb25fc3RhdGUiOiI5MDA0MGFkOC1lZGRjLTQ1MjAtYTUwZS05ODkxNDExN2Y2NjgiLCJhbGxvd2VkLW9yaWdpbnMiOlsiaHR0cHM6Ly9sb2NhbGhvc3Q6NDIwMCIsIioiLCJodHRwczovL3dvcmtzcGFjZS5zdGFnaW5nLWNkc2UtZGF0YS1leHBsb3Jlci5hcHBzLnN0YWdpbmcuaW50cmEuY2xvdWRmZXJyby5jb20iXSwicmVhbG1fYWNjZXNzIjp7InJvbGVzIjpbIm9mZmxpbmVfYWNjZXNzIiwidW1hX2F1dGhvcml6YXRpb24iLCJkZWZhdWx0LXJvbGVzLWNkYXMiLCJjb3Blcm5pY3VzLWdlbmVyYWwiXX0sInJlc291cmNlX2FjY2VzcyI6eyJhY2NvdW50Ijp7InJvbGVzIjpbIm1hbmFnZS1hY2NvdW50IiwibWFuYWdlLWFjY291bnQtbGlua3MiLCJ2aWV3LXByb2ZpbGUiXX19LCJzY29wZSI6IkFVRElFTkNFX1BVQkxJQyBvcGVuaWQgZW1haWwgcHJvZmlsZSBvbmRlbWFuZF9wcm9jZXNzaW5nIHVzZXItY29udGV4dCIsInNpZCI6IjkwMDQwYWQ4LWVkZGMtNDUyMC1hNTBlLTk4OTE0MTE3ZjY2OCIsImdyb3VwX21lbWJlcnNoaXAiOlsiL2FjY2Vzc19ncm91cHMvdXNlcl90eXBvbG9neS9jb3Blcm5pY3VzX2dlbmVyYWwiLCIvb3JnYW5pemF0aW9ucy9kZWZhdWx0LThmMjExZmViLWY4ZmItNGMzOC04MmQwLTZmNGMyNjJmNDE0NC9yZWd1bGFyX3VzZXIiXSwiZW1haWxfdmVyaWZpZWQiOnRydWUsIm5hbWUiOiJOaWNob2xhcyBLaW5zZWxsYSIsIm9yZ2FuaXphdGlvbnMiOlsiZGVmYXVsdC04ZjIxMWZlYi1mOGZiLTRjMzgtODJkMC02ZjRjMjYyZjQxNDQiXSwidXNlcl9jb250ZXh0X2lkIjoiYjE3OWQ2YzMtZDc5Zi00ZjVlLTg0NTQtZDMwY2VmZjFkNTUyIiwiY29udGV4dF9yb2xlcyI6e30sImNvbnRleHRfZ3JvdXBzIjpbIi9hY2Nlc3NfZ3JvdXBzL3VzZXJfdHlwb2xvZ3kvY29wZXJuaWN1c19nZW5lcmFsLyIsIi9vcmdhbml6YXRpb25zL2RlZmF1bHQtOGYyMTFmZWItZjhmYi00YzM4LTgyZDAtNmY0YzI2MmY0MTQ0L3JlZ3VsYXJfdXNlci8iXSwicHJlZmVycmVkX3VzZXJuYW1lIjoia2luc2VsbGEubmlja0BnbWFpbC5jb20iLCJnaXZlbl9uYW1lIjoiTmljaG9sYXMiLCJmYW1pbHlfbmFtZSI6IktpbnNlbGxhIiwidXNlcl9jb250ZXh0IjoiZGVmYXVsdC04ZjIxMWZlYi1mOGZiLTRjMzgtODJkMC02ZjRjMjYyZjQxNDQiLCJlbWFpbCI6ImtpbnNlbGxhLm5pY2tAZ21haWwuY29tIn0.ZVsqukwDVNv9spAo8nmIeJLTYFyDE2GExPifMv9b0Q6SDxNSLpRh8hJoQQduHj4sPRMcEZ7xwwN-5v-I3tGBhfoBceh8q0LIb21SG_uxMGux40vKaDMnUUwZOX5hDUbCBvOLstDIdqegVjCy6ZDO-Xyu5k_jdU08eleVFh2uwNsMCIPC-EPtutJ9fFzu6u3xo8U2okz1vNX44pL8T6tAI2VMP6YLkMCPvasabkZ7ab-L4qOUfDeAdTt5nEDDHaZhACDwH5ukkgxnpirdER1r2CBT98xW09zoFRiD6QUFFJRUh82f7-fV3YfDbHhN2roK9ioB9914sMA9J-kHhiGGlQ', 'expires_in': 600, 'refresh_expires_in': 3600, 'refresh_token': 'eyJhbGciOiJIUzI1NiIsInR5cCIgOiAiSldUIiwia2lkIiA6ICJhZmFlZTU2Zi1iNWZiLTRiMzMtODRlYS0zMWY2NzMyMzNhNzgifQ.eyJleHAiOjE3MTIwMTI1NzUsImlhdCI6MTcxMjAwODk3NSwianRpIjoiMmUzMjYxODYtNzZhZC00Y2JhLTlkODgtMTIxNzM3MGJmN2IzIiwiaXNzIjoiaHR0cHM6Ly9pZGVudGl0eS5kYXRhc3BhY2UuY29wZXJuaWN1cy5ldS9hdXRoL3JlYWxtcy9DRFNFIiwiYXVkIjoiaHR0cHM6Ly9pZGVudGl0eS5kYXRhc3BhY2UuY29wZXJuaWN1cy5ldS9hdXRoL3JlYWxtcy9DRFNFIiwic3ViIjoiOGYyMTFmZWItZjhmYi00YzM4LTgyZDAtNmY0YzI2MmY0MTQ0IiwidHlwIjoiUmVmcmVzaCIsImF6cCI6ImNkc2UtcHVibGljIiwic2Vzc2lvbl9zdGF0ZSI6IjkwMDQwYWQ4LWVkZGMtNDUyMC1hNTBlLTk4OTE0MTE3ZjY2OCIsInNjb3BlIjoiQVVESUVOQ0VfUFVCTElDIG9wZW5pZCBlbWFpbCBwcm9maWxlIG9uZGVtYW5kX3Byb2Nlc3NpbmcgdXNlci1jb250ZXh0Iiwic2lkIjoiOTAwNDBhZDgtZWRkYy00NTIwLWE1MGUtOTg5MTQxMTdmNjY4In0.rw7PrcN-EimXEqQp7QH05wc3S2SHVa1X1xJv7llp-pc', 'token_type': 'Bearer', 'not-before-policy': 0, 'session_state': '90040ad8-eddc-4520-a50e-98914117f668', 'scope': 'AUDIENCE_PUBLIC openid email profile ondemand_processing user-context'}\n"
     ]
    }
   ],
   "source": [
    "url = \"https://identity.dataspace.copernicus.eu/auth/realms/CDSE/protocol/openid-connect/token\"\n",
    "headers = {\n",
    "    \"Content-Type\": \"application/x-www-form-urlencoded\"\n",
    "}\n",
    "\n",
    "# Specify the path to the .netrc file\n",
    "netrc_file_path = r\"C:\\Users\\kinse\\.netrc.txt\"\n",
    "\n",
    "# Load credentials from .netrc file\n",
    "credentials = netrc.netrc(netrc_file_path).authenticators(\"identity.dataspace.copernicus.eu\")\n",
    "\n",
    "if credentials:\n",
    "    username, _, password = credentials\n",
    "    data = {\n",
    "        \"username\": username,\n",
    "        \"password\": password,\n",
    "        \"grant_type\": \"password\",\n",
    "        \"client_id\": \"cdse-public\"\n",
    "    }\n",
    "\n",
    "    response = requests.post(url, headers=headers, data=data)\n",
    "    print(response.json())\n",
    "else:\n",
    "    print(\"Credentials not found in .netrc file.\")\n"
   ]
  },
  {
   "cell_type": "markdown",
   "id": "7a38d5b2",
   "metadata": {},
   "source": [
    "From the API reference for `sentinelsat`, we can see that we either type in the username and password as a string (**a terrible idea - don't do this!**), or we use `None` to use the `.netrc` file that we created earlier.\n",
    "\n",
    "If there are no error messages or warnings, the connection was successfully created, and we can move on to searching for images.\n",
    "\n",
    "### searching for images\n",
    "\n",
    "As we saw earlier, the method we'll use is `api.query()`.\n",
    "\n",
    "For this example, we'll use the following arguments for the search:\n",
    "\n",
    "- `area`: the search area to use\n",
    "- `date`: the date range to use. We'll look for all images from February 2023.\n",
    "- `platformname`: we're going to limit our search to Sentinel-2, but note that there are other options available\n",
    "- `producttype`: we'll search for the Sentinel-2 MSI Level 2A (surface reflectance) products\n",
    "- `cloudcoverpercentage`: we want (mostly) cloud-free images, so we'll search for images with < 30% cloud cover\n",
    "\n",
    "To see what additional arguments are available, you can check the [SentinelAPI](https://sentinelsat.readthedocs.io/en/latest/api_reference.html#sentinelsat.sentinel.SentinelAPI.query) API reference, or the [Open Access Hub](https://scihub.copernicus.eu/twiki/do/view/SciHubUserGuide/FullTextSearch?redirectedfrom=SciHubUserGuide.3FullTextSearch) API reference for additional keywords to use."
   ]
  },
  {
   "cell_type": "code",
   "execution_count": 12,
   "id": "592aa7c3",
   "metadata": {},
   "outputs": [],
   "source": [
    "aoi = \"POLYGON((4.220581 50.958859,4.521264 50.953236,4.545977 50.906064,4.541858 50.802029,4.489685 50.763825,4.23843 50.767734,4.192435 50.806369,4.189689 50.907363,4.220581 50.958859))'\"\n"
   ]
  },
  {
   "cell_type": "markdown",
   "id": "4579efd5",
   "metadata": {},
   "source": [
    "The output of `api.query()` is a **dict** object, with the product name the `key` and the `value` being the metadata. \n",
    "\n",
    "To see how many images were returned by the search, we can check the length of the **dict** object, which tells us the number of `item`s (`key`/`value` pairs) in the **dict**:"
   ]
  },
  {
   "cell_type": "code",
   "execution_count": 11,
   "id": "0b656e5e",
   "metadata": {},
   "outputs": [
    {
     "name": "stdout",
     "output_type": "stream",
     "text": [
      "{'detail': {'message': 'Error during parsing at index 71',\n",
      "            'request_id': 'c34f9851-0784-4366-8274-2b7ecf679d07'}}\n"
     ]
    }
   ],
   "source": [
    "# Define your variables\n",
    "data_collection = \"SENTINEL-2\"\n",
    "aoi = \"POLYGON((4.220581 50.958859,4.521264 50.953236,4.545977 50.906064,4.541858 50.802029,4.489685 50.763825,4.23843 50.767734,4.192435 50.806369,4.189689 50.907363,4.220581 50.958859))\"\n",
    "start_date = \"2022-06-01\"\n",
    "end_date = \"2022-06-10\"\n",
    "\n",
    "# Make the request to the API\n",
    "json_data = requests.get(f\"https://catalogue.dataspace.copernicus.eu/odata/v1/Products?$filter=Collection/Name eq '{data_collection}' and OData.CSC.Intersects(area=geography'SRID=4326;{aoi}) and ContentDate/Start gt {start_date}T00:00:00.000Z and ContentDate/Start lt {end_date}T00:00:00.000Z\").json()\n",
    "\n",
    "# Create a DataFrame from the JSON data\n",
    "df = gpd.GeoDataFrame.from_dict(json_data['value'])\n",
    "\n",
    "# Display the first 5 rows of the DataFrame\n",
    "print(df.head(5))\n"
   ]
  },
  {
   "cell_type": "markdown",
   "id": "ef0c8a5d",
   "metadata": {},
   "source": [
    "You should hopefully see that the search has returned 11 results. \n",
    "\n",
    "To look at the first one returned, we can use the built-ins `next()` ([documentation](https://docs.python.org/3/library/functions.html#next)) and `iter()` ([documentation](https://docs.python.org/3/library/functions.html#iter)), which returns the first item that was entered into the **dict**:"
   ]
  },
  {
   "cell_type": "code",
   "execution_count": null,
   "id": "a0b3378d",
   "metadata": {},
   "outputs": [],
   "source": [
    "import random\n",
    "\n",
    "# List of scenes\n",
    "scenes = [\n",
    "    {\n",
    "        \"Id\": \"550c10a8-3a31-5f28-8d68-e0b7086dbc8f\",\n",
    "        \"Name\": \"S2B_MSIL2A_20220601T103629_N0400_R008_T31UFS_2...\",\n",
    "        \"ContentDate\": \"2022-06-01T10:36:29.024Z\",\n",
    "        \"Footprint\": \"geography'SRID=4326;POLYGON ((4.4362457433229 ...)\"\n",
    "    },\n",
    "    {\n",
    "        \"Id\": \"f83b6e00-8669-5f6c-96e1-f8c82dd98909\",\n",
    "        \"Name\": \"S2B_MSIL1C_20220601T103629_N0400_R008_T31UES_2...\",\n",
    "        \"ContentDate\": \"2022-06-01T10:36:29.024Z\",\n",
    "        \"Footprint\": \"geography'SRID=4326;POLYGON ((4.0716897587579 ...)\"\n",
    "    },\n",
    "    # Add more scenes as needed\n",
    "]\n",
    "\n",
    "# Randomly select one scene\n",
    "selected_scene = random.choice(scenes)\n",
    "\n",
    "# Print the selected scene's details\n",
    "print(\"Selected Scene:\")\n",
    "print(\"ID:\", selected_scene[\"Id\"])\n",
    "print(\"Name:\", selected_scene[\"Name\"])\n",
    "print(\"Content Date:\", selected_scene[\"ContentDate\"])\n",
    "print(\"Footprint:\", selected_scene[\"Footprint\"])\n"
   ]
  },
  {
   "cell_type": "markdown",
   "id": "91812fbc",
   "metadata": {},
   "source": [
    "And, we can also download the browse image for this product, using `SentinelAPI.download_quicklook()` ([documentation](https://sentinelsat.readthedocs.io/en/latest/api_reference.html#sentinelsat.sentinel.SentinelAPI.download_quicklook)):"
   ]
  },
  {
   "cell_type": "code",
   "execution_count": null,
   "id": "400cdca0",
   "metadata": {},
   "outputs": [],
   "source": [
    "qlook = api.download_quicklook(result) # download the quicklook image for the first result\n",
    "display.Image(qlook['path']) # display the image"
   ]
  },
  {
   "cell_type": "markdown",
   "id": "919073bd",
   "metadata": {},
   "source": [
    "In this example, we might notice a small problem - while this image technically does intersect our area of interest, it does so only barely. Northern Ireland is the small bit of land in the lower left-hand corner of this image - most of the image is of Scotland and the Irish Sea.\n",
    "\n",
    "In the next section, we'll see one way that we can make sure that we're only getting images that mostly intersect with our area of interest.\n",
    "\n",
    "## filtering by overlap\n",
    "\n",
    "To start, we use `SentinelAPI.to_geodataframe()` ([documentation](https://sentinelsat.readthedocs.io/en/latest/api_reference.html#sentinelsat.sentinel.SentinelAPI.download_quicklook)) to convert the results into a **GeoDataFrame**:"
   ]
  },
  {
   "cell_type": "code",
   "execution_count": null,
   "id": "fde31a48",
   "metadata": {},
   "outputs": [],
   "source": [
    "product_geo = SentinelAPI.to_geodataframe(products) # convert the search results to a geodataframe\n",
    "product_geo.head() # show the first 5 rows of the geodataframe"
   ]
  },
  {
   "cell_type": "markdown",
   "id": "575dc121",
   "metadata": {},
   "source": [
    "Now, we can iterate over **GeoDataFrame** to calculate the intersection of the image footprint with the outline of Northern Ireland:"
   ]
  },
  {
   "cell_type": "code",
   "execution_count": null,
   "id": "72630475",
   "metadata": {},
   "outputs": [],
   "source": [
    "for ind, row in product_geo.iterrows():\n",
    "    intersection = outline.intersection(row['geometry']) # find the intersection of the two polygons\n",
    "    product_geo.loc[ind, 'overlap'] = intersection.area / outline.area # get the fractional overlap\n",
    "    \n",
    "print(product_geo.overlap) # show the fractional overlap for each index"
   ]
  },
  {
   "cell_type": "markdown",
   "id": "c9bee6fd",
   "metadata": {},
   "source": [
    "In this example, the third image, `80558644-2e31-48b9-acd5-5d1475dfc1bf` has 43% overlap with the outline of Northern Ireland; none of the other images have more than 20%.\n",
    "\n",
    "Rather than copying this down, we can use `geopandas.GeoSeries.argmax()` ([documentation](https://pandas.pydata.org/pandas-docs/stable/reference/api/pandas.Series.argmax.html)) to find the integer location of the largest value in the `overlap` column:"
   ]
  },
  {
   "cell_type": "code",
   "execution_count": null,
   "id": "c04eeb7d",
   "metadata": {},
   "outputs": [],
   "source": [
    "max_index = product_geo.overlap.argmax() # get the integer location of the largest overlap value\n",
    "print(max_index) # should be 2"
   ]
  },
  {
   "cell_type": "markdown",
   "id": "87693815",
   "metadata": {},
   "source": [
    "Then, we get the **GeoDataFrame** index that corresponds to that integer location:"
   ]
  },
  {
   "cell_type": "code",
   "execution_count": null,
   "id": "c2677871",
   "metadata": {},
   "outputs": [],
   "source": [
    "best_overlap = product_geo.index[max_index] # get the actual index (image name) with the largest overlap\n",
    "print(product_geo.loc[best_overlap]) # show the metadata for the image with the largest overlap"
   ]
  },
  {
   "cell_type": "markdown",
   "id": "a425b9a1",
   "metadata": {},
   "source": [
    "With this, we can use `api.download_quicklook()` ([documentation](https://sentinelsat.readthedocs.io/en/latest/api_reference.html#sentinelsat.sentinel.SentinelAPI.download_quicklook)) to download the quicklook image for the result that has the largest overlap with the outline of Northern Ireland:"
   ]
  },
  {
   "cell_type": "code",
   "execution_count": null,
   "id": "020c0e65",
   "metadata": {},
   "outputs": [],
   "source": [
    "qlook = api.download_quicklook(best_overlap) # download the quicklook image for the first result\n",
    "display.Image(qlook['path']) # display the image"
   ]
  },
  {
   "cell_type": "markdown",
   "id": "47566cc7",
   "metadata": {},
   "source": [
    "So that's a little bit better - at least with this image, we can see much more of Northern Ireland (and the ever-present clouds).\n",
    "\n",
    "That's all for right now - the next few cells provide examples for how you can download the actual image data.\n",
    "\n",
    "## downloading images\n",
    "\n",
    "<span style=\"color:#009fdf;font-size:1.1em;font-weight:bold\">Remember that these are very large files (each granule is ~1GB), so you should only run these cells if you actually want to download the data!</span>\n",
    "\n",
    "### downloading an individual image\n",
    "\n",
    "We can use `SentinelAPI.download()` ([documentation](https://sentinelsat.readthedocs.io/en/latest/api_reference.html#sentinelsat.sentinel.SentinelAPI.download)) to download a single product, given the Product ID:"
   ]
  },
  {
   "cell_type": "code",
   "execution_count": null,
   "id": "7841fa96",
   "metadata": {},
   "outputs": [],
   "source": [
    "api.download(best_overlap) # downloads the first result"
   ]
  },
  {
   "cell_type": "markdown",
   "id": "104f5c65",
   "metadata": {},
   "source": [
    "### download an individual image, but only the image bands\n",
    "\n",
    "This example uses the `nodefilter` argument along with `make_path_filter()` ([documentation](https://sentinelsat.readthedocs.io/en/latest/api_reference.html#sentinelsat.products.make_path_filter)) to only download the image bands (files that match the format `*_B*.jp2`):"
   ]
  },
  {
   "cell_type": "code",
   "execution_count": null,
   "id": "f2de5dc9",
   "metadata": {},
   "outputs": [],
   "source": [
    "api.download(first_result, # downloads the first result\n",
    "             nodefilter=make_path_filter(\"*_B*.jp2\")) # only download the image bands (optional)"
   ]
  },
  {
   "cell_type": "markdown",
   "id": "ab726f12",
   "metadata": {},
   "source": [
    "### download all images from a list of products\n",
    "\n",
    "Finally, `SentinelAPI.download_all()` ([documentation](https://sentinelsat.readthedocs.io/en/latest/api_reference.html#sentinelsat.sentinel.SentinelAPI.download_all)) will download all of the products in a list. \n",
    "\n",
    "<span style=\"color:#009fdf;font-size:1.1em;font-weight:bold\">Again, these are very large files, so you should only run the following cell if you actually want to download all of the images returned by the API!</span>"
   ]
  },
  {
   "cell_type": "code",
   "execution_count": null,
   "id": "a4104965",
   "metadata": {},
   "outputs": [],
   "source": [
    "api.download_all(products,\n",
    "                 n_concurrent_dl=5, # allow up to 5 concurrent downloads\n",
    "                 nodefilter=make_path_filter(\"*_B*.jp2\")) # only down the image bands (optional)"
   ]
  }
 ],
 "metadata": {
  "kernelspec": {
   "display_name": "Python 3 (ipykernel)",
   "language": "python",
   "name": "python3"
  },
  "language_info": {
   "codemirror_mode": {
    "name": "ipython",
    "version": 3
   },
   "file_extension": ".py",
   "mimetype": "text/x-python",
   "name": "python",
   "nbconvert_exporter": "python",
   "pygments_lexer": "ipython3",
   "version": "3.12.2"
  }
 },
 "nbformat": 4,
 "nbformat_minor": 5
}
