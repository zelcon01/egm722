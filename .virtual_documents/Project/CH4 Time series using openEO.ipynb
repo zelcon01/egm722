import folium # Importing GeoJson class from folium library for visualizing geospatial data
import json # Importing json module for working with JSON data
import os # Importing os module for accessing operating system dependent functionality
import pandas as pd # Importing pandas library and aliasing it as pd for data analysis and manipulation
import matplotlib.pyplot as plt # Importing pyplot module from matplotlib library and aliasing it as plt for plotting
import scipy.signal # Importing signal module from scipy library for signal processing
import numpy as np # Importing numpy library and aliasing it as np for numerical computing
import geopandas as gpd # Importing geopandas library and aliasing it as gpd for working with geographic data
import openeo # Importing openeo library for working with the OpenEO API for Earth Observation data processing
from shapely.geometry import shape # Importing shape class from geometry module of shapely library for geometric operations
from shapely.geometry import Point # Importing Point class from geometry module of shapely library for representing a point in space


connection = openeo.connect(url="openeo.dataspace.copernicus.eu")
connection.authenticate_oidc()


def read_json(filename: str) -> dict:
    with open(filename,encoding="utf-8") as input:
        field = json.load(input)
    return field

fields = read_json(r"C:\GIS_Course\EGM722\Project\Data\PZ_landfill_point4326.geojson")


s2cube = connection.load_collection(
    "SENTINEL_5P_L2",
    temporal_extent=["2023-02-01", "2023-03-01"],
    bands=["CH4"],
)





timeseries = s2cube.aggregate_spatial(geometries=fields, reducer="mean")



job = timeseries.execute_batch(out_format="CSV", title="CH4 timeseries")


job.get_results().download_file("CH4-results/CH4_timeseries.csv")

pd.read_csv("CH4-results/CH4_timeseries.csv", index_col=0)



def plot_timeseries(filename, figsize=(15, 3)):
    df = pd.read_csv(filename, index_col=0)
    df.index = pd.to_datetime(df.index)
    df = df.sort_index()

    fig, ax = plt.subplots(figsize=figsize, dpi=90)
    df.groupby("feature_index")["avg(band_0)"].plot(marker="o", ax=ax)
    ax.set_title(filename.split("/")[-1])
    ax.set_ylabel("CH4")
    ax.set_ylim(1800, 2000)
    ax.legend(title="parcel id", loc='upper left', bbox_to_anchor=(1.02, 1), ncol=2)
    ax.xaxis.set_major_locator(plt.MaxNLocator(20))
    ax.grid(True)



plot_timeseries("CH4-results/CH4_timeseries.csv")




