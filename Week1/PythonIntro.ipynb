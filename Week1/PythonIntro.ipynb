{
 "cells": [
  {
   "cell_type": "markdown",
   "metadata": {},
   "source": [
    "# introduction to python\n",
    "\n",
    "## overview\n",
    "\n",
    "As we discussed in this week's lecture, programming is a powerful tool that allows us to do complicated calculations and analysis, visualize data, and automate workflows to ensure consistency, accuracy, and reproducability in our research. In this practical, you will learn and practice basic commands in python and import modules to complete more complicated tasks. In the weeks to come, you will learn to work with different GIS datasets such as vector (e.g., shapefiles) or raster files using python libraries.\n",
    "\n",
    "\n",
    "## objectives\n",
    "-  Learn and gain experience with some of the basic elements of python and programming\n",
    "-  Learn how to use the python command line interface\n",
    "-  Practice planning out a script\n",
    "\n",
    "## data provided\n",
    "\n",
    "In the data\\_files folder, you should have the following:\n",
    "-  GPSPoints.txt\n",
    "-  Glaciers.shp (and associated files)\n",
    "\n",
    "## the python interpreter\n",
    "\n",
    "Before we get started, it's important that we check which verison of python we're running. To do this, we can use the `sys` module. After you run the following cell, you should see something like this print out:\n",
    "\n",
    "`3.12.1 | packaged by conda-forge | (main, Dec 23 2023, 07:53:56) [MSC v.1937 64 bit (AMD64)]`\n",
    "\n",
    "If you see a version of python other than 3.x, we'll need to switch your working environment.\n",
    "\n",
    "To run the cell, click on it to highlight it, then either press **Ctrl** + **Enter**, or press the triangular \"play\" button at the top of this panel:"
   ]
  },
  {
   "cell_type": "code",
   "execution_count": 1,
   "metadata": {},
   "outputs": [
    {
     "name": "stdout",
     "output_type": "stream",
     "text": [
      "3.12.2 | packaged by conda-forge | (main, Feb 16 2024, 20:42:31) [MSC v.1937 64 bit (AMD64)]\n"
     ]
    }
   ],
   "source": [
    "import sys\n",
    "print(sys.version)"
   ]
  },
  {
   "cell_type": "markdown",
   "metadata": {},
   "source": [
    "You should notice a few things. First, the square brackets (`[ ]`) have a number inside of them (`[1]`), and you can see the output of `print(sys.version)` below the cell.\n",
    "\n",
    "Now that we know we're using the right version of python, run the following:"
   ]
  },
  {
   "cell_type": "code",
   "execution_count": 2,
   "metadata": {},
   "outputs": [
    {
     "name": "stdout",
     "output_type": "stream",
     "text": [
      "Hello, World!\n"
     ]
    }
   ],
   "source": [
    "print(\"Hello, World!\")"
   ]
  },
  {
   "cell_type": "markdown",
   "metadata": {},
   "source": [
    "The `print()` **function** ([documentation](https://docs.python.org/3/library/functions.html#print)) allows us to print messages and information to the screen, or to a file (more on this later), but it doesn't allow us to save the messages that we display. To do this, we first have to create an **object** using the **assignment operator**, `=`:\n",
    "\n",
    "```python\n",
    "foo = 'a message'\n",
    "```\n",
    "\n",
    "This will assign the value `'a message'` to a new object, `foo`.\n",
    "\n",
    "In the cell below, type a line of code that will define a new **object**, `foo`, that stores the message `Hello, World!`. Then, print the message to the screen using the **variable** name you've just defined:"
   ]
  },
  {
   "cell_type": "code",
   "execution_count": 3,
   "metadata": {},
   "outputs": [
    {
     "name": "stdout",
     "output_type": "stream",
     "text": [
      "everlong\n"
     ]
    }
   ],
   "source": [
    "foo = 'everlong'\n",
    "print(foo) # print the value of the object to the screen using print"
   ]
  },
  {
   "cell_type": "markdown",
   "metadata": {},
   "source": [
    "Often, you will want to know how to use a particular function. To get help, we can use the built-in `help()` function ([documentation](https://docs.python.org/3/library/functions.html#help)). \n",
    "\n",
    "For example, to get more information on how to use the `print()` function:"
   ]
  },
  {
   "cell_type": "code",
   "execution_count": 4,
   "metadata": {},
   "outputs": [
    {
     "name": "stdout",
     "output_type": "stream",
     "text": [
      "Help on built-in function print in module builtins:\n",
      "\n",
      "print(*args, sep=' ', end='\\n', file=None, flush=False)\n",
      "    Prints the values to a stream, or to sys.stdout by default.\n",
      "\n",
      "    sep\n",
      "      string inserted between values, default a space.\n",
      "    end\n",
      "      string appended after the last value, default a newline.\n",
      "    file\n",
      "      a file-like object (stream); defaults to the current sys.stdout.\n",
      "    flush\n",
      "      whether to forcibly flush the stream.\n",
      "\n"
     ]
    }
   ],
   "source": [
    "help(print)"
   ]
  },
  {
   "cell_type": "markdown",
   "metadata": {},
   "source": [
    "This tells you the different *positional arguments* to `print()` (such as `value`), the *optional keyword arguments* (such as `file` or `sep`), as well as what `print()` does (\"Prints the values to a stream, or to sys.stdout by default\").\n",
    " \n",
    "In jupyter/ipython, you can also use the ``?`` operator:"
   ]
  },
  {
   "cell_type": "code",
   "execution_count": 5,
   "metadata": {},
   "outputs": [
    {
     "data": {
      "text/plain": [
       "\u001b[1;31mSignature:\u001b[0m \u001b[0mprint\u001b[0m\u001b[1;33m(\u001b[0m\u001b[1;33m*\u001b[0m\u001b[0margs\u001b[0m\u001b[1;33m,\u001b[0m \u001b[0msep\u001b[0m\u001b[1;33m=\u001b[0m\u001b[1;34m' '\u001b[0m\u001b[1;33m,\u001b[0m \u001b[0mend\u001b[0m\u001b[1;33m=\u001b[0m\u001b[1;34m'\\n'\u001b[0m\u001b[1;33m,\u001b[0m \u001b[0mfile\u001b[0m\u001b[1;33m=\u001b[0m\u001b[1;32mNone\u001b[0m\u001b[1;33m,\u001b[0m \u001b[0mflush\u001b[0m\u001b[1;33m=\u001b[0m\u001b[1;32mFalse\u001b[0m\u001b[1;33m)\u001b[0m\u001b[1;33m\u001b[0m\u001b[1;33m\u001b[0m\u001b[0m\n",
       "\u001b[1;31mDocstring:\u001b[0m\n",
       "Prints the values to a stream, or to sys.stdout by default.\n",
       "\n",
       "sep\n",
       "  string inserted between values, default a space.\n",
       "end\n",
       "  string appended after the last value, default a newline.\n",
       "file\n",
       "  a file-like object (stream); defaults to the current sys.stdout.\n",
       "flush\n",
       "  whether to forcibly flush the stream.\n",
       "\u001b[1;31mType:\u001b[0m      builtin_function_or_method"
      ]
     },
     "metadata": {},
     "output_type": "display_data"
    }
   ],
   "source": [
    "print?"
   ]
  },
  {
   "cell_type": "markdown",
   "metadata": {},
   "source": [
    "This is a lot of information for now, but if you want to know how to use a particular function, method, or class, you can find that help here. \n",
    "\n",
    "A warning, however: some python packages are better-documented than others (which is why we should always provide thorough documentation when writing our own code, right?)"
   ]
  },
  {
   "cell_type": "markdown",
   "metadata": {},
   "source": [
    "## objects and variables\n",
    "\n",
    "We have already seen one example of an **object**, `foo` (the **variable** name), above. Objects store temporary information that can be manipulated or changed as we type commands or run scripts.\n",
    "\n",
    "One important thing to remember is that the *name* of an **object** is *case-sensitive* (meaning that `foo` is different from `Foo`):"
   ]
  },
  {
   "cell_type": "code",
   "execution_count": 8,
   "metadata": {},
   "outputs": [
    {
     "ename": "NameError",
     "evalue": "name 'Foo' is not defined",
     "output_type": "error",
     "traceback": [
      "\u001b[1;31m---------------------------------------------------------------------------\u001b[0m",
      "\u001b[1;31mNameError\u001b[0m                                 Traceback (most recent call last)",
      "Cell \u001b[1;32mIn[8], line 1\u001b[0m\n\u001b[1;32m----> 1\u001b[0m \u001b[38;5;28mprint\u001b[39m(\u001b[43mFoo\u001b[49m) \u001b[38;5;66;03m# this won't work, because we haven't created an object called Foo yet\u001b[39;00m\n",
      "\u001b[1;31mNameError\u001b[0m: name 'Foo' is not defined"
     ]
    }
   ],
   "source": [
    "print(Foo) # this won't work, because we haven't created an object called Foo yet"
   ]
  },
  {
   "cell_type": "markdown",
   "metadata": {},
   "source": [
    "We'll see more examples of error messages later (and how to interpret them), but hopefully the message:\n",
    "\n",
    "```pytb\n",
    "    NameError: name 'Foo' is not defined\n",
    "\n",
    "```\n",
    "\n",
    "is clear enough. Because we were expecting this error message, we can ignore it and move on for now.\n",
    "\n",
    "As we covered in this week's lecture, in python, variable names can consist of letters, digits, or underscores, but they __cannot__ begin with a digit. If you try to name a __variable__ using an illegal name, you will get a `SyntaxError`:"
   ]
  },
  {
   "cell_type": "code",
   "execution_count": 9,
   "metadata": {},
   "outputs": [
    {
     "ename": "SyntaxError",
     "evalue": "invalid decimal literal (1145266503.py, line 1)",
     "output_type": "error",
     "traceback": [
      "\u001b[1;36m  Cell \u001b[1;32mIn[9], line 1\u001b[1;36m\u001b[0m\n\u001b[1;33m    3var = \"this won't work\"\u001b[0m\n\u001b[1;37m    ^\u001b[0m\n\u001b[1;31mSyntaxError\u001b[0m\u001b[1;31m:\u001b[0m invalid decimal literal\n"
     ]
    }
   ],
   "source": [
    "3var = \"this won't work\""
   ]
  },
  {
   "cell_type": "markdown",
   "metadata": {},
   "source": [
    "Here, we see a `SyntaxError` raised - this means that the code we have written violates the *syntax* (grammar) of the language. We'll look more at different error types in the debugging exercise later on.\n",
    "\n",
    "## numeric operations\n",
    "\n",
    "A large part of what we will use python for is the manipulation of numeric data. Thus, it is a good idea for us to understand how python treats numeric data. In the cell below, we first define two objects, `x` and `y`, and assign then values of 2 and 3, respectively.\n",
    "\n",
    "Before you run the cell, look at the print statements - these will show which operators are being used (`+`, `-`, `*`, etc.), along with the output of the operation using the variables `x` and `y`.  Think about what you exect the results to be - when you run the cell, do the outputs match your expectation? Why or why not?"
   ]
  },
  {
   "cell_type": "code",
   "execution_count": 10,
   "metadata": {},
   "outputs": [
    {
     "name": "stdout",
     "output_type": "stream",
     "text": [
      "x + y = 5\n",
      "x - y = -1\n",
      "x * y = 6\n",
      "x / y = 0.6666666666666666\n",
      "x // y = 0\n",
      "x ** y = 8\n",
      "x % y = 2\n",
      "x ^ y = 1\n"
     ]
    }
   ],
   "source": [
    "x = 2\n",
    "y = 3\n",
    "\n",
    "print(f\"x + y = {(x+y)}\") # print the value of x + y (addition)\n",
    "print(f\"x - y = {(x-y)}\") # print the value of x - y (subtraction)\n",
    "print(f\"x * y = {(x*y)}\") # print the value of x * y (multiplication)\n",
    "print(f\"x / y = {(x/y)}\") # print the value of x / y (division)\n",
    "print(f\"x // y = {(x//y)}\") # print the value of x // y (floor division)\n",
    "print(f\"x ** y = {(x**y)}\") # print the value of x ** y (exponentiation)\n",
    "print(f\"x % y = {(x%y)}\") # print the value of x % y (modular division)\n",
    "print(f\"x ^ y = {(x^y)}\") # print the value of x ^ y (bitwise XOR)"
   ]
  },
  {
   "cell_type": "markdown",
   "metadata": {},
   "source": [
    "Most of these should be fairly straightforward, except perhaps for the last two (`%` and `^`). The `%` (\"modular\" operator) returns the remainder of dividing two numbers. The `^` (\"bitwise XOR\" or \"bitwise exclusive or\") does something a little more involved - for more information about bitwise operators in general, see this [Wikipedia article](https://en.wikipedia.org/wiki/Bitwise_operation#Bitwise_operators).\n",
    "\n",
    "Note also how we're using `print()` here, with a \"[formatted string literal](https://docs.python.org/3/tutorial/inputoutput.html#tut-f-strings)\" (or \"**f-String**\", `f\"{}\"`). By prefixing the string with the letter `f`, we can include the value of an expression inside the string, using the `{ }` operators. We'll look at more examples of how to use these later on, including how we can format numbers inside of strings.\n",
    "\n",
    "## string objects and operations\n",
    "\n",
    "We have already worked with one example of a **str**ing object, `foo`. As noted in the lecture, we can easily access parts of a string by using the desired index inside square brackets `[ ]`. Remember that the index starts from 0, and it has to be an **int**eger value:"
   ]
  },
  {
   "cell_type": "code",
   "execution_count": 11,
   "metadata": {},
   "outputs": [
    {
     "data": {
      "text/plain": [
       "'e'"
      ]
     },
     "execution_count": 11,
     "metadata": {},
     "output_type": "execute_result"
    }
   ],
   "source": [
    "foo[0]"
   ]
  },
  {
   "cell_type": "markdown",
   "metadata": {},
   "source": [
    "If we use a **float**ing point value, it raises a `TypeError`:"
   ]
  },
  {
   "cell_type": "code",
   "execution_count": 12,
   "metadata": {},
   "outputs": [
    {
     "ename": "TypeError",
     "evalue": "string indices must be integers, not 'float'",
     "output_type": "error",
     "traceback": [
      "\u001b[1;31m---------------------------------------------------------------------------\u001b[0m",
      "\u001b[1;31mTypeError\u001b[0m                                 Traceback (most recent call last)",
      "Cell \u001b[1;32mIn[12], line 1\u001b[0m\n\u001b[1;32m----> 1\u001b[0m \u001b[43mfoo\u001b[49m\u001b[43m[\u001b[49m\u001b[38;5;241;43m0.0\u001b[39;49m\u001b[43m]\u001b[49m \u001b[38;5;66;03m# slice indices have to be integers, not floats!\u001b[39;00m\n",
      "\u001b[1;31mTypeError\u001b[0m: string indices must be integers, not 'float'"
     ]
    }
   ],
   "source": [
    "foo[0.0] # slice indices have to be integers, not floats!"
   ]
  },
  {
   "cell_type": "markdown",
   "metadata": {},
   "source": [
    "As an additional example, to get the 3rd character in `foo`, we would type `foo[2]` at the prompt and press ENTER:"
   ]
  },
  {
   "cell_type": "code",
   "execution_count": 13,
   "metadata": {},
   "outputs": [
    {
     "data": {
      "text/plain": [
       "'e'"
      ]
     },
     "execution_count": 13,
     "metadata": {},
     "output_type": "execute_result"
    }
   ],
   "source": [
    "foo[2] # get the 3rd character in foo"
   ]
  },
  {
   "cell_type": "markdown",
   "metadata": {},
   "source": [
    "Why does this give us the third character from `foo`? Well, remember that the first element of a __str__ (or any sequence; more on that later) has an index of 0 - so, the third element has an index of 2. \n",
    "\n",
    "To access the last element of a __str__ (or a sequence), we could count up all of the elements of the __str__ and subtract one (remember that we start counting at 0, not 1), but python gives us an easier way: __negative indexing__. Negative indexing starts from the end of the string (after all of the \n",
    "\n",
    "Thus, to get the last element of `foo`, we can type `foo[-1]`. To get the second-to-last element, we could type `foo[-2]`, and so on:"
   ]
  },
  {
   "cell_type": "code",
   "execution_count": 14,
   "metadata": {},
   "outputs": [
    {
     "data": {
      "text/plain": [
       "'g'"
      ]
     },
     "execution_count": 14,
     "metadata": {},
     "output_type": "execute_result"
    }
   ],
   "source": [
    "foo[-1] # get the last character in myString"
   ]
  },
  {
   "cell_type": "markdown",
   "metadata": {},
   "source": [
    "If we want to access more than one element of the string, we can use multiple indices, with the basic form of:\n",
    "\n",
    "```python\n",
    "sliced = myString[first:last]\n",
    "```\n",
    "\n",
    "This will select the letters of the string starting at index `first` up to, __but not including__, `last`.\n",
    "\n",
    "This is also called __slicing__. Before running the cell below, think about what the result should be. Does it match your expectation?"
   ]
  },
  {
   "cell_type": "code",
   "execution_count": 15,
   "metadata": {},
   "outputs": [
    {
     "data": {
      "text/plain": [
       "'verl'"
      ]
     },
     "execution_count": 15,
     "metadata": {},
     "output_type": "execute_result"
    }
   ],
   "source": [
    "foo[1:5]"
   ]
  },
  {
   "cell_type": "markdown",
   "metadata": {},
   "source": [
    "If we want to find an element in a string, we can use the helpfully-named built-in function (or method) `find()`. For example, typing `foo.find('W')` will return the index of the letter `W`:"
   ]
  },
  {
   "cell_type": "code",
   "execution_count": 17,
   "metadata": {},
   "outputs": [
    {
     "data": {
      "text/plain": [
       "3"
      ]
     },
     "execution_count": 17,
     "metadata": {},
     "output_type": "execute_result"
    }
   ],
   "source": [
    "foo.find('r') # find the index of the character W in myString"
   ]
  },
  {
   "cell_type": "markdown",
   "metadata": {},
   "source": [
    "Note that if a given letter (or pattern) occurs more than once, `.find()` will only tell us the index of the *first* occurrence:"
   ]
  },
  {
   "cell_type": "code",
   "execution_count": 18,
   "metadata": {},
   "outputs": [
    {
     "data": {
      "text/plain": [
       "4"
      ]
     },
     "execution_count": 18,
     "metadata": {},
     "output_type": "execute_result"
    }
   ],
   "source": [
    "foo.find('l') # will tell us the index of the first "
   ]
  },
  {
   "cell_type": "markdown",
   "metadata": {},
   "source": [
    "Have a look at the [documentation](https://docs.python.org/3/library/stdtypes.html#string-methods) for `str` to see if you can find a method that will give you the index of the *last* occurrence of a pattern in a string, then use that in the cell below to find the index of the last `l`:"
   ]
  },
  {
   "cell_type": "code",
   "execution_count": 19,
   "metadata": {},
   "outputs": [
    {
     "data": {
      "text/plain": [
       "4"
      ]
     },
     "execution_count": 19,
     "metadata": {},
     "output_type": "execute_result"
    }
   ],
   "source": [
    "foo.rindex('l')  # will tell us the index of the last "
   ]
  },
  {
   "cell_type": "markdown",
   "metadata": {},
   "source": [
    "If the pattern isn't found in the string, `find()` returns a value of `-1`:"
   ]
  },
  {
   "cell_type": "code",
   "execution_count": 20,
   "metadata": {},
   "outputs": [
    {
     "data": {
      "text/plain": [
       "-1"
      ]
     },
     "execution_count": 20,
     "metadata": {},
     "output_type": "execute_result"
    }
   ],
   "source": [
    "foo.find('a') # what will this return?"
   ]
  },
  {
   "cell_type": "markdown",
   "metadata": {},
   "source": [
    "As you can see from the documentation linked above, **str** objects have a wide range of methods available. We won't go through these in detail, but we will make use of more of them over the remainder of this class.\n",
    "\n",
    "Finally, we'll look at some of the operators that we can use with **str** objects. Although we can’t subtract or divide strings, we do have two operators at our disposal: `+` (concatenation) and `*` (repeated concatenation). \n",
    "\n",
    "Before running the cell below, what do you expect will be stored in each variable below? Does the result match what you expected?\n",
    "\n",
    "-  `newString = \"Hello\" + \"World!\"`\n",
    "-  `repString = \"Hello\" * 5`"
   ]
  },
  {
   "cell_type": "code",
   "execution_count": 21,
   "metadata": {},
   "outputs": [
    {
     "name": "stdout",
     "output_type": "stream",
     "text": [
      "newString is: HelloWorld!\n",
      "repString is: HelloHelloHelloHelloHello\n"
     ]
    }
   ],
   "source": [
    "newString = \"Hello\" + \"World!\"\n",
    "repString = \"Hello\" * 5\n",
    "\n",
    "print(f'newString is: {newString}')\n",
    "print(f'repString is: {repString}')"
   ]
  },
  {
   "cell_type": "markdown",
   "metadata": {},
   "source": [
    "## lists\n",
    "\n",
    "**list**s are an incredibly powerful and versatile data type we can use in python to store a sequence of values. \n",
    "\n",
    "Any other data type can be inserted into a __list__, including other **list**s. Run the following cell to see how we can create a new __list__ object:"
   ]
  },
  {
   "cell_type": "code",
   "execution_count": 22,
   "metadata": {},
   "outputs": [
    {
     "name": "stdout",
     "output_type": "stream",
     "text": [
      "['Apple', 'Banana', 'Melon', 'Grapes', 'Raspberries']\n"
     ]
    }
   ],
   "source": [
    "fruits = [\"Apple\", \"Banana\", \"Melon\", \"Grapes\", \"Raspberries\"]\n",
    "print(fruits)"
   ]
  },
  {
   "cell_type": "markdown",
   "metadata": {},
   "source": [
    "Like with __str__ objects, we can access and manipulate __list__ objects using indexing and slicing techniques, in much the same way.\n",
    "\n",
    "Can you write a command below to `print()` 'Grapes' by using the corresponding index from `fruits`?"
   ]
  },
  {
   "cell_type": "code",
   "execution_count": 23,
   "metadata": {},
   "outputs": [
    {
     "name": "stdout",
     "output_type": "stream",
     "text": [
      "Grapes\n"
     ]
    }
   ],
   "source": [
    "print(fruits[3]) #insert the correct command inside the ()"
   ]
  },
  {
   "cell_type": "markdown",
   "metadata": {},
   "source": [
    "If we want to access more than one element of a list, we can slice the list, using the same syntax as with the `myString` examples above.\n",
    "\n",
    "What do you think will print when you run the cell below?"
   ]
  },
  {
   "cell_type": "code",
   "execution_count": 24,
   "metadata": {},
   "outputs": [
    {
     "data": {
      "text/plain": [
       "['Melon', 'Grapes']"
      ]
     },
     "execution_count": 24,
     "metadata": {},
     "output_type": "execute_result"
    }
   ],
   "source": [
    "fruits[2:-1] # think about what this output will look like"
   ]
  },
  {
   "cell_type": "markdown",
   "metadata": {},
   "source": [
    "What about this cell?"
   ]
  },
  {
   "cell_type": "code",
   "execution_count": 25,
   "metadata": {},
   "outputs": [
    {
     "data": {
      "text/plain": [
       "'Melon'"
      ]
     },
     "execution_count": 25,
     "metadata": {},
     "output_type": "execute_result"
    }
   ],
   "source": [
    "fruits[2:-1][0] # what will this show?"
   ]
  },
  {
   "cell_type": "markdown",
   "metadata": {},
   "source": [
    "and finally, what about this?"
   ]
  },
  {
   "cell_type": "code",
   "execution_count": 26,
   "metadata": {},
   "outputs": [
    {
     "data": {
      "text/plain": [
       "'n'"
      ]
     },
     "execution_count": 26,
     "metadata": {},
     "output_type": "execute_result"
    }
   ],
   "source": [
    "fruits[2:-1][0][-1]"
   ]
  },
  {
   "cell_type": "markdown",
   "metadata": {},
   "source": [
    "As you can see from the examples above, while indexing a **list** returns the value of a single element, a **list** slice is itself a **list**. This difference is subtle, but important to remember.\n",
    "\n",
    "## classes, functions and methods\n",
    "\n",
    "In programming, a __function__ is essentially a short program that we can use to perform a specific action. \n",
    "\n",
    "Functions take in __parameters__ in the form of __arguments__, and (often, but not always) return a result, or otherwise perform an action. \n",
    "\n",
    "Parameters can be __positional__ (in other words, the order they are given matters), or they can be __keyword__ (i.e., you specify the argument with the parameter name, in the form `parameter=value`). \n",
    "\n",
    "Python has a number of built-in functions for us to  - we have already seen a few examples such as `print()` and `help()`. As another example, instead of typing `2 ** 8` earlier, we could instead have typed `pow(2,8)`:"
   ]
  },
  {
   "cell_type": "code",
   "execution_count": 27,
   "metadata": {},
   "outputs": [
    {
     "name": "stdout",
     "output_type": "stream",
     "text": [
      "using the ** operator: 256\n",
      "using the pow() function: 256\n"
     ]
    }
   ],
   "source": [
    "print('using the ** operator: {}'.format(2**8))\n",
    "print('using the pow() function: {}'.format(pow(2, 8)))"
   ]
  },
  {
   "cell_type": "markdown",
   "metadata": {},
   "source": [
    "Here, we are calling the function `pow()` and supplying the __positional__ arguments `2` and `8`. \n",
    "The result returned is the same, `256` (or 2<sup>8</sup>), but the approach used is different. \n",
    "\n",
    "If you want to see a list of __built-in__ functions and classes in python, have a look at the python [documentation](https://docs.python.org/3/library/functions.html).\n",
    "\n",
    "Alternatively, you can type `print(dir(__builtins__))` (note the two underscores on either side of __builtins__):"
   ]
  },
  {
   "cell_type": "code",
   "execution_count": 28,
   "metadata": {},
   "outputs": [
    {
     "name": "stdout",
     "output_type": "stream",
     "text": [
      "['ArithmeticError', 'AssertionError', 'AttributeError', 'BaseException', 'BaseExceptionGroup', 'BlockingIOError', 'BrokenPipeError', 'BufferError', 'BytesWarning', 'ChildProcessError', 'ConnectionAbortedError', 'ConnectionError', 'ConnectionRefusedError', 'ConnectionResetError', 'DeprecationWarning', 'EOFError', 'Ellipsis', 'EncodingWarning', 'EnvironmentError', 'Exception', 'ExceptionGroup', 'False', 'FileExistsError', 'FileNotFoundError', 'FloatingPointError', 'FutureWarning', 'GeneratorExit', 'IOError', 'ImportError', 'ImportWarning', 'IndentationError', 'IndexError', 'InterruptedError', 'IsADirectoryError', 'KeyError', 'KeyboardInterrupt', 'LookupError', 'MemoryError', 'ModuleNotFoundError', 'NameError', 'None', 'NotADirectoryError', 'NotImplemented', 'NotImplementedError', 'OSError', 'OverflowError', 'PendingDeprecationWarning', 'PermissionError', 'ProcessLookupError', 'RecursionError', 'ReferenceError', 'ResourceWarning', 'RuntimeError', 'RuntimeWarning', 'StopAsyncIteration', 'StopIteration', 'SyntaxError', 'SyntaxWarning', 'SystemError', 'SystemExit', 'TabError', 'TimeoutError', 'True', 'TypeError', 'UnboundLocalError', 'UnicodeDecodeError', 'UnicodeEncodeError', 'UnicodeError', 'UnicodeTranslateError', 'UnicodeWarning', 'UserWarning', 'ValueError', 'Warning', 'WindowsError', 'ZeroDivisionError', '__IPYTHON__', '__build_class__', '__debug__', '__doc__', '__import__', '__loader__', '__name__', '__package__', '__spec__', 'abs', 'aiter', 'all', 'anext', 'any', 'ascii', 'bin', 'bool', 'breakpoint', 'bytearray', 'bytes', 'callable', 'chr', 'classmethod', 'compile', 'complex', 'copyright', 'credits', 'delattr', 'dict', 'dir', 'display', 'divmod', 'enumerate', 'eval', 'exec', 'execfile', 'filter', 'float', 'format', 'frozenset', 'get_ipython', 'getattr', 'globals', 'hasattr', 'hash', 'help', 'hex', 'id', 'input', 'int', 'isinstance', 'issubclass', 'iter', 'len', 'license', 'list', 'locals', 'map', 'max', 'memoryview', 'min', 'next', 'object', 'oct', 'open', 'ord', 'pow', 'print', 'property', 'range', 'repr', 'reversed', 'round', 'runfile', 'set', 'setattr', 'slice', 'sorted', 'staticmethod', 'str', 'sum', 'super', 'tuple', 'type', 'vars', 'zip']\n"
     ]
    }
   ],
   "source": [
    "print(dir(__builtins__)) # show a list of all of the builtin functions"
   ]
  },
  {
   "cell_type": "markdown",
   "metadata": {},
   "source": [
    "While it may not be completely clear at first what each of these things are, remember that we can use the `help()` __function__ to get more information. \n",
    "\n",
    "For example, one very useful built-in __class__ is `range` ([documentation](https://docs.python.org/3/library/stdtypes.html#range)).\n",
    "\n",
    "To create a new __range__ object, we call it like we would a function:\n",
    "\n",
    "```python\n",
    "range(stop)\n",
    "range([start,] stop [,step])\n",
    "```\n",
    "\n",
    "\"Under the hood\", so to speak, this is actually calling the **\\_\\_init\\_\\_()** method of the __class__, which is the __function__ that python uses to _initialize_, or create, a new object.\n",
    "\n",
    "Note that `range()` takes between one and three arguments:\n",
    "\n",
    "* `range(stop)` creates a __range__ object that will \"count\" from 0 up to (__but not including__) `stop`, incrementing by 1.\n",
    "* `range(start, stop)` creates a __range__ object that will \"count\" from `start` up to (__but not including__) `stop`, incrementing by 1.\n",
    "* `range(start, stop, step)` creates a __range__ object that will \"count\" from `start` to (__but not including__) `stop`, incrementing by `step`.\n",
    "\n",
    "To pass multiple parameters to a function, we separate each parameter by a comma. \n",
    "\n",
    "In the cell below, write a statement that returns a list of numbers counting from a `start` of 10 to 0 (inclusive)."
   ]
  },
  {
   "cell_type": "code",
   "execution_count": 29,
   "metadata": {},
   "outputs": [
    {
     "name": "stdout",
     "output_type": "stream",
     "text": [
      "[10, 9, 8, 7, 6, 5, 4, 3, 2, 1, 0]\n"
     ]
    }
   ],
   "source": [
    "ii = list(range(10, -1, -1))\n",
    "print(ii)"
   ]
  },
  {
   "cell_type": "markdown",
   "metadata": {},
   "source": [
    "A __method__ is a type of __function__ that acts directly on an object - we have seen examples of this already with `str.find()`. In general, methods are called just like functions - the general syntax is `object.method(arguments)`. \n",
    "\n",
    "For example, __str__ objects have a __method__, `.count()` [documentation](https://docs.python.org/3/library/stdtypes.html#str.split), which counts the number of times a character (or substring) occurs in the __str__. \n",
    "\n",
    "If you type `topic = \"Geographic Information Systems\"` into the interpreter, what would you expect the result of `topic.count(\"i\")` to be? What about `topic.count(\"s\")`?"
   ]
  },
  {
   "cell_type": "code",
   "execution_count": 30,
   "metadata": {},
   "outputs": [
    {
     "name": "stdout",
     "output_type": "stream",
     "text": [
      "2\n",
      "2\n"
     ]
    }
   ],
   "source": [
    "topic = \"Geographic Information Systems\"\n",
    "print(topic.count(\"i\"))\n",
    "print(topic.count(\"s\"))"
   ]
  },
  {
   "cell_type": "markdown",
   "metadata": {},
   "source": [
    "Another powerful __str__ method is `str.split()`, which returns a __list__ of the given __str__, split into substrings based on the delimeter provided as an argument:"
   ]
  },
  {
   "cell_type": "code",
   "execution_count": 31,
   "metadata": {},
   "outputs": [
    {
     "name": "stdout",
     "output_type": "stream",
     "text": [
      "Help on built-in function split:\n",
      "\n",
      "split(sep=None, maxsplit=-1) method of builtins.str instance\n",
      "    Return a list of the substrings in the string, using sep as the separator string.\n",
      "\n",
      "      sep\n",
      "        The separator used to split the string.\n",
      "\n",
      "        When set to None (the default value), will split on any whitespace\n",
      "        character (including \\n \\r \\t \\f and spaces) and will discard\n",
      "        empty strings from the result.\n",
      "      maxsplit\n",
      "        Maximum number of splits.\n",
      "        -1 (the default value) means no limit.\n",
      "\n",
      "    Splitting starts at the front of the string and works to the end.\n",
      "\n",
      "    Note, str.split() is mainly useful for data that has been intentionally\n",
      "    delimited.  With natural text that includes punctuation, consider using\n",
      "    the regular expression module.\n",
      "\n"
     ]
    }
   ],
   "source": [
    "help(topic.split)"
   ]
  },
  {
   "cell_type": "markdown",
   "metadata": {},
   "source": [
    "From this, we can see that if we call `topic.split()` without any arguments at all, it will split `topic` based on any whitespace and discard any _empty_ strings. \n",
    "\n",
    "That is, if we have multiple spaces in our string, it will treat those as a single space:"
   ]
  },
  {
   "cell_type": "code",
   "execution_count": 32,
   "metadata": {},
   "outputs": [
    {
     "name": "stdout",
     "output_type": "stream",
     "text": [
      "['Geographic', 'Information', 'Systems']\n",
      "['Geographic', 'Information', 'Systems']\n"
     ]
    }
   ],
   "source": [
    "singlespace = 'Geographic Information Systems'\n",
    "multispace = 'Geographic   Information  Systems'\n",
    "\n",
    "print(singlespace.split())\n",
    "print(multispace.split())"
   ]
  },
  {
   "cell_type": "markdown",
   "metadata": {},
   "source": [
    "If we want to specify a single space character (`' '`), though, the result will change:"
   ]
  },
  {
   "cell_type": "code",
   "execution_count": 33,
   "metadata": {},
   "outputs": [
    {
     "name": "stdout",
     "output_type": "stream",
     "text": [
      "['Geographic', 'Information', 'Systems']\n",
      "['Geographic', '', '', 'Information', '', 'Systems']\n"
     ]
    }
   ],
   "source": [
    "print(singlespace.split(' ')) # split on a single space\n",
    "print(multispace.split(' ')) # split on a single space"
   ]
  },
  {
   "cell_type": "markdown",
   "metadata": {},
   "source": [
    "Using `str.split()` and an additional method to change all of the letters in the __str__ to _lower_\\ -case, can you get the following result in the cell below?\n",
    "\n",
    "```python\n",
    "['remote ', 'en', 'ing and geographic information ', 'y', 'tem', '']\n",
    "```"
   ]
  },
  {
   "cell_type": "code",
   "execution_count": 34,
   "metadata": {},
   "outputs": [
    {
     "name": "stdout",
     "output_type": "stream",
     "text": [
      "['Remote Sen', 'ing and Geographic Information Sy', 'tem', '']\n"
     ]
    }
   ],
   "source": [
    "topic = 'Remote Sensing and Geographic Information Systems'\n",
    "print(topic.split('s')) # edit this line to get the result shown above"
   ]
  },
  {
   "cell_type": "markdown",
   "metadata": {},
   "source": [
    "## defining our own functions\n",
    "\n",
    "Often, we will want to define our own **function**s. Using functions has many benefits, including:\n",
    "* improving readability,\n",
    "* eliminating repetitive code,\n",
    "* allowing for easier debugging of a program,\n",
    "* and even allowing us to re-use code in other scripts/programs.\n",
    "\n",
    "Defining a __function__ in python is quite easy. \n",
    "\n",
    "We begin the definition with a `def` __statement__ that includes the function name and all parameters (this first line is called the __header__). The header must end with a colon (`:`):\n",
    "\n",
    "```python\n",
    "def cat_twice(str1, str2):\n",
    "```\n",
    "\n",
    "The __body__ of the function (i.e., the set of instructions that make up the function) are _indented_ - like other forms of flow control in python, once the interpreter sees a non-indented line, it marks the end of the function:\n",
    "\n",
    "```python\n",
    "def cat_twice(str1, str2):\n",
    "   cat = str1 + str2\n",
    "   print(cat) # this is part of the function\n",
    "   print(cat) # this is part of the function\n",
    "\n",
    "# this is no longer part of the function\n",
    "```\n",
    "\n",
    "To help illustrate this, let's define a function for calculating the area of a circle. Mathematically, this is a function of the radius of the circle - equal to the constant pi multiplied by the radius squared. Run the cell below to create the new function, and then test it:"
   ]
  },
  {
   "cell_type": "code",
   "execution_count": 35,
   "metadata": {},
   "outputs": [
    {
     "data": {
      "text/plain": [
       "314.1592653589793"
      ]
     },
     "execution_count": 35,
     "metadata": {},
     "output_type": "execute_result"
    }
   ],
   "source": [
    "from math import pi # import the constant pi from the math module\n",
    "\n",
    "def circle_area(radius):\n",
    "    area = pi * radius ** 2 # calculate the area of the circle using the radius argument\n",
    "    return area # use return to get a value back from the function\n",
    "\n",
    "circle_area(10) # get the area of a circle with radius 10 (should be 314.15926 ...)"
   ]
  },
  {
   "cell_type": "markdown",
   "metadata": {},
   "source": [
    "Remember that if we want to return something from a function, we use a `return` __statement__, followed by the variable(s) that we want to return:\n",
    "\n",
    "```python\n",
    "def cat_twice_return(str1, str2):\n",
    "    cat = str1 + str2\n",
    "    print(cat)\n",
    "    print(cat)\n",
    "    return cat\n",
    "```\n",
    "\n",
    "In the cell below, I've started two more functions for calculating the surface area and volume of a sphere. For each function, fill in the code that will return the correct result, then confirm that your function output matches the values shown in the comment on each line."
   ]
  },
  {
   "cell_type": "code",
   "execution_count": 37,
   "metadata": {},
   "outputs": [
    {
     "name": "stdout",
     "output_type": "stream",
     "text": [
      "1256.6370614359173\n",
      "4188.790204786391\n"
     ]
    }
   ],
   "source": [
    "def sphere_area(radius):\n",
    "    return 4 * pi * radius ** 2\n",
    "\n",
    "def sphere_volume(radius):\n",
    "    return (4/3) * pi * radius ** 3\n",
    "\n",
    "print(sphere_area(10)) # get the surface area of a sphere with radius 10 (should be 1256.637)\n",
    "print(sphere_volume(10)) # get the volume of a sphere with radius 10 (should be 4188.79)"
   ]
  },
  {
   "cell_type": "markdown",
   "metadata": {
    "jp-MarkdownHeadingCollapsed": true
   },
   "source": [
    "## controlling flow\n",
    "\n",
    "Some of the most important uses that we'll have for programming are repeating tasks and executing different code based on some condition. For example, we might want to loop through a list of files and run a series of commands on each file, or apply an analysis only if the right conditions are met. \n",
    "\n",
    "In python, we can use the `while`, `for`, and `if` operators to control the flow of our programs. \n",
    "\n",
    "For example, given a number, we might want to check whether the value is positive, negative, or zero, and perform a different action based on which condition is `True`:"
   ]
  },
  {
   "cell_type": "code",
   "execution_count": null,
   "metadata": {},
   "outputs": [],
   "source": [
    "def pos_neg_zero(x): # a function to tell us whether a number is positive, negative, or 0\n",
    "    if x > 0: # if x > 0, print that it is positive\n",
    "        print(f'{x} is a positive number')\n",
    "    elif x < 0: # if x < 0, print that it is negative\n",
    "        print(f'{x} is a negative number')\n",
    "    else: # if \n",
    "        print(f'{x} is zero')"
   ]
  },
  {
   "cell_type": "markdown",
   "metadata": {},
   "source": [
    "Here, we take in a number, `x`, and execute code based on whether `x` is positive, negative, or zero.\n",
    "\n",
    "Like the header of a function, an `if` __statement__ has to be terminated with a colon (`:`). \n",
    "\n",
    "If we have multiple options, we can use an `elif` __statement__. There isn't a limit to the number of `elif` statements we can use, but note that the order matters - once a condition is evaluated as `True`, the indented code is executed and the whole block is exited. \n",
    "\n",
    "For this reason, an `else` __statement__ is optional, but it must always be last (since it automatically evaluates as `True`).\n",
    "\n",
    "Run the cell below to see how the output of the function changes based on the input:"
   ]
  },
  {
   "cell_type": "code",
   "execution_count": null,
   "metadata": {},
   "outputs": [],
   "source": [
    "pos_neg_zero(-1) # a negative number\n",
    "pos_neg_zero(1) # a positive number\n",
    "pos_neg_zero(False) # a weird one"
   ]
  },
  {
   "cell_type": "markdown",
   "metadata": {},
   "source": [
    "Note that in the example above, `False` has evaluated as being equal to zero. This is because in python, **bool** (\"Boolean\") objects (`True` and `False`) are subclasses of **int**, and `False` has a value of `0`, while `True` has a value of `1`. For more on how python tests for truth values, see the [documentation](https://docs.python.org/3/library/stdtypes.html#truth-value-testing).\n",
    "\n",
    "Now, in the cell below, write your own function that takes in two arguments `x` and `y`, and prints different output depending on which of the two numbers is larger:"
   ]
  },
  {
   "cell_type": "code",
   "execution_count": null,
   "metadata": {},
   "outputs": [],
   "source": [
    "def which_is_greater(x, y):\n",
    "    pass # replace this line with your code"
   ]
  },
  {
   "cell_type": "markdown",
   "metadata": {},
   "source": [
    "Next, test your function by running the cell below - you should see \"2 is greater than 1\" printed in the first line, and \"10 is less than 100\" in the second:"
   ]
  },
  {
   "cell_type": "code",
   "execution_count": null,
   "metadata": {},
   "outputs": [],
   "source": [
    "which_is_greater(2, 1) # say which is greater, 2 or 1\n",
    "which_is_greater(10, 100) # say which is greater, 10 or 100"
   ]
  },
  {
   "cell_type": "markdown",
   "metadata": {},
   "source": [
    "In addition to conditional flow, we might also want to repeat actions. For example, we can write a simple function that counts down to some event, then announces the arrival of that event. \n",
    "\n",
    "We could define this function using a `while` loop, making sure to update a variable in each step:"
   ]
  },
  {
   "cell_type": "code",
   "execution_count": null,
   "metadata": {},
   "outputs": [],
   "source": [
    "def countdown(n):\n",
    "    while n > 0:\n",
    "        print(n)\n",
    "        n -= 1 # note that this is the same as n = n - 1\n",
    "    print(\"Blastoff!\")\n",
    "    \n",
    "countdown(5)"
   ]
  },
  {
   "cell_type": "markdown",
   "metadata": {},
   "source": [
    "Note the importance of updating the variable that we are testing in the loop. If we remove the `n -= 1` line, our function will never stop running (an __infinite loop__). \n",
    "\n",
    "`while` loops are useful for actions without a pre-defined number of repetitions. We could just as easily re-define `countdown()` using a `for` loop, using something else we've seen before:"
   ]
  },
  {
   "cell_type": "code",
   "execution_count": null,
   "metadata": {},
   "outputs": [],
   "source": [
    "def countdown_for(n):\n",
    "    for ii in range(n, 0, -1):\n",
    "        print(ii)\n",
    "    print(\"Blastoff!\")\n",
    "\n",
    "countdown_for(5) # run the function to count down from 5"
   ]
  },
  {
   "cell_type": "markdown",
   "metadata": {},
   "source": [
    "This version uses `range` to iterate from `n` to 1 in increments of -1, printing the value of `i` each time - that is, we leave `n` unchanged. \n",
    "\n",
    "We can also use the `break` statement to **break** out of a loop:"
   ]
  },
  {
   "cell_type": "code",
   "execution_count": null,
   "metadata": {},
   "outputs": [],
   "source": [
    "def break_example(n):\n",
    "    # prints values from n to 1, then Blastoff!\n",
    "    while True:  # here, the loop will always run\n",
    "    # unless we reach a condition \n",
    "    # that breaks out of it:\n",
    "        if n <= 0:\n",
    "            break\n",
    "        print(n)\n",
    "        n -= 1\n",
    "    print(\"Blastoff!\")\n",
    "\n",
    "break_example(5) # run the function to count down from 5"
   ]
  },
  {
   "cell_type": "markdown",
   "metadata": {},
   "source": [
    "or the `continue` statement to continue to the next step of a loop:"
   ]
  },
  {
   "cell_type": "code",
   "execution_count": null,
   "metadata": {},
   "outputs": [],
   "source": [
    "def continue_example(n):\n",
    "    # given an integer, n, prints the values from 0 to n that are even.\n",
    "    for x in range(n):\n",
    "        if x % 2 == 1:\n",
    "            continue\n",
    "        print('{} is even'.format(x))\n",
    "\n",
    "continue_example(10) # print the even integers from 0 to 9 (remember that range(n) is not inclusive!)"
   ]
  },
  {
   "cell_type": "markdown",
   "metadata": {},
   "source": [
    "Using the information above, write a function that will print the values from 1 to an integer `n` that are even, unless those values are also divisible by 3 **or** 4:"
   ]
  },
  {
   "cell_type": "code",
   "execution_count": null,
   "metadata": {},
   "outputs": [],
   "source": [
    "def evenNoThreesorFours(n):\n",
    "    # given an integer n, prints values from 1 to n that are even, unless they are divisible by 3 or 4.\n",
    "    for x in range(1, n):\n",
    "        pass # your code goes here"
   ]
  },
  {
   "cell_type": "markdown",
   "metadata": {},
   "source": [
    "(_Hint: remember that you can use the `%` operator to determine whether one number is divisble by another_)."
   ]
  },
  {
   "cell_type": "markdown",
   "metadata": {},
   "source": [
    "## importing modules\n",
    "\n",
    "Modules provide a convenient way to package functions and object classes, and load these items when needed. This also means that we only end up loading the functionality that we need, which helps save on memory and other resources. \n",
    "\n",
    "We have already imported one such module, the `sys` module, and above where we imported `pi` from the `math` module. Note that when we used `from`, we *only* imported the attribute `pi` - this means that we don't have access to any of the other functions, classes, or attributes within the `math` module - only `pi`. \n",
    "\n",
    "When we import the entire module, we can access the attributes, classes, functions, etc. using a `.`:"
   ]
  },
  {
   "cell_type": "code",
   "execution_count": 38,
   "metadata": {},
   "outputs": [
    {
     "name": "stdout",
     "output_type": "stream",
     "text": [
      "3.141592653589793\n"
     ]
    }
   ],
   "source": [
    "import math # import the entire math module\n",
    "\n",
    "print(math.pi) # print the value of math.pi"
   ]
  },
  {
   "cell_type": "markdown",
   "metadata": {},
   "source": [
    "When we specifically name the things we want to import, we only have access to those things - importing `pi` from `math` does not also import `floor` - hence, the error message when you run the cell below:"
   ]
  },
  {
   "cell_type": "code",
   "execution_count": 39,
   "metadata": {},
   "outputs": [
    {
     "name": "stdout",
     "output_type": "stream",
     "text": [
      "math.floor(10.19) is equal to: 10\n"
     ]
    },
    {
     "ename": "NameError",
     "evalue": "name 'floor' is not defined",
     "output_type": "error",
     "traceback": [
      "\u001b[1;31m---------------------------------------------------------------------------\u001b[0m",
      "\u001b[1;31mNameError\u001b[0m                                 Traceback (most recent call last)",
      "Cell \u001b[1;32mIn[39], line 2\u001b[0m\n\u001b[0;32m      1\u001b[0m \u001b[38;5;28mprint\u001b[39m(\u001b[38;5;124mf\u001b[39m\u001b[38;5;124m'\u001b[39m\u001b[38;5;124mmath.floor(10.19) is equal to: \u001b[39m\u001b[38;5;132;01m{\u001b[39;00mmath\u001b[38;5;241m.\u001b[39mfloor(\u001b[38;5;241m10.19\u001b[39m)\u001b[38;5;132;01m}\u001b[39;00m\u001b[38;5;124m'\u001b[39m) \u001b[38;5;66;03m# print the output of math.floor(10.19)\u001b[39;00m\n\u001b[1;32m----> 2\u001b[0m \u001b[38;5;28mprint\u001b[39m(\u001b[38;5;124mf\u001b[39m\u001b[38;5;124m'\u001b[39m\u001b[38;5;124mfloor(10.19) is equal to:      \u001b[39m\u001b[38;5;132;01m{\u001b[39;00m\u001b[43mfloor\u001b[49m(\u001b[38;5;241m10.19\u001b[39m)\u001b[38;5;132;01m}\u001b[39;00m\u001b[38;5;124m'\u001b[39m) \u001b[38;5;66;03m# print the output of floor(10.19)\u001b[39;00m\n",
      "\u001b[1;31mNameError\u001b[0m: name 'floor' is not defined"
     ]
    }
   ],
   "source": [
    "print(f'math.floor(10.19) is equal to: {math.floor(10.19)}') # print the output of math.floor(10.19)\n",
    "print(f'floor(10.19) is equal to:      {floor(10.19)}') # print the output of floor(10.19)"
   ]
  },
  {
   "cell_type": "markdown",
   "metadata": {},
   "source": [
    "To import multiple things from a single module, you can separate them by commas:"
   ]
  },
  {
   "cell_type": "code",
   "execution_count": 40,
   "metadata": {},
   "outputs": [],
   "source": [
    "from math import pi, floor, sin, cos, tan # import pi, floor, sin, cos, and tan from math"
   ]
  },
  {
   "cell_type": "markdown",
   "metadata": {},
   "source": [
    "## example: working with shapefiles\n",
    "\n",
    "When using vector data in this course, we will primarily work with `geopandas` ([documentation](http://geopandas.org/)), \"an open source project to make working with geospatial data in python easier.\" \n",
    "\n",
    "To work with the provided shapefile (`data_files/Glaciers.shp`), we first have to __import__ `geopandas` and load the data using `geopandas.read_file()`:"
   ]
  },
  {
   "cell_type": "code",
   "execution_count": 42,
   "metadata": {},
   "outputs": [],
   "source": [
    "import geopandas as gpd\n",
    "glacier_data = gpd.read_file('data_files/Glaciers.shp')"
   ]
  },
  {
   "cell_type": "markdown",
   "metadata": {},
   "source": [
    "Note that in the cell above, we're using an _alias_ when we __import__ `geopandas`:\n",
    "\n",
    "```python\n",
    "import geopandas as gpd\n",
    "```\n",
    "\n",
    "This means that instead of having to write `geopandas` every time we want to use a __method__ or __class__ from the `geopandas` package, we instead type `gpd`. You will most likely see this syntax a lot - it's mostly used to make the code easier to read (or out of laziness)."
   ]
  },
  {
   "cell_type": "markdown",
   "metadata": {},
   "source": [
    "### a note on filepaths\n",
    "\n",
    "On Windows computers, filepaths are separated using `\\`. For example, on my Windows machine, this notebook file has the following path:\n",
    "\n",
    "```\n",
    "C:\\Users\\bob\\egm722\\Week1\\Practical1.ipynb\n",
    "```\n",
    "\n",
    "This is a problem in python, because `\\` is a protected character -- specifically, it's either used as a line continuation to split a string over multiple lines:\n",
    "\n",
    "```python\n",
    ">>> mystring = 'this is a string that is split ' + \\\n",
    "...            'over multiple lines'\n",
    ">>> print(mystring)\n",
    "this is a string that is split over multiple lines\n",
    "```\n",
    "\n",
    "Inside of a string, `\\` _escapes_ the next character - effectively, it makes the interpreter change how it processes it:\n",
    "\n",
    "```python\n",
    ">>> not_escaped = 'this isn't going to work'\n",
    "  File \"<stdin>\", line 1\n",
    "    not_escaped = 'this isn't going to work'\n",
    "                            ^\n",
    "SyntaxError: invalid syntax\n",
    "```\n",
    "\n",
    "In the example above, the single quote in \"isn't\" actually ends the __str__ - because mashing a string (`'this isn'`) and something else (`t going to work'`) doesn't work, python raises a `SyntaxError`.\n",
    "\n",
    "But, we can use `\\` to make python see that the single quote in the middle of the __str__ should be treated as part of the __str__:\n",
    "\n",
    "```python\n",
    ">>> escaped = 'this isn\\'t going to cause a problem.'\n",
    ">>> print(escaped)\n",
    "this isn't going to cause a problem.\n",
    "```\n",
    "\n",
    "What this means is that when we're working with Windows paths in python, we have to do something competely different. When writing paths as __str__ objects, there are three main options:\n",
    "\n",
    "1. replace `\\` with `/`: `C:/Users/bob/egm722/Week1/Practical1.ipynb`\n",
    "2. _escape_ the `\\` chracter: `C:\\\\Users\\\\bob\\\\egm722\\\\Week1\\\\Practical1.ipynb`\n",
    "3. use a __raw string literal__ by appending `r` before the start of the __str__: `r'C:\\Users\\bob\\egm722\\Week1\\Practical1.ipynb'`\n",
    "\n",
    "Option 1. has the advantage of working on multiple platforms. As an example, the _relative_ path:\n",
    "\n",
    "```python\n",
    "'data_files/Glaciers.shp'\n",
    "```\n",
    "\n",
    "will work on Windows, MacOS, and linux systems. Later in this module, we will see how we can use both the `os` ([documentation](https://docs.python.org/3/library/os.html)) and `pathlib` ([documentation](https://docs.python.org/3/library/pathlib.html)) modules to work with filepaths; if we're using python 3.4 or newer, the  module provides an even nicer way of working with filepaths.\n",
    "\n",
    "### working with GeoDataFrames\n",
    "\n",
    "Back to working with shapefile data. First, let's use `.head()` to have a look at the first few rows of data in our shapefile:"
   ]
  },
  {
   "cell_type": "code",
   "execution_count": 43,
   "metadata": {},
   "outputs": [
    {
     "data": {
      "text/html": [
       "<div>\n",
       "<style scoped>\n",
       "    .dataframe tbody tr th:only-of-type {\n",
       "        vertical-align: middle;\n",
       "    }\n",
       "\n",
       "    .dataframe tbody tr th {\n",
       "        vertical-align: top;\n",
       "    }\n",
       "\n",
       "    .dataframe thead th {\n",
       "        text-align: right;\n",
       "    }\n",
       "</style>\n",
       "<table border=\"1\" class=\"dataframe\">\n",
       "  <thead>\n",
       "    <tr style=\"text-align: right;\">\n",
       "      <th></th>\n",
       "      <th>RGIID</th>\n",
       "      <th>GLIMSID</th>\n",
       "      <th>RGIFLAG</th>\n",
       "      <th>BGNDATE</th>\n",
       "      <th>ENDDATE</th>\n",
       "      <th>CENLON</th>\n",
       "      <th>CENLAT</th>\n",
       "      <th>O1REGION</th>\n",
       "      <th>O2REGION</th>\n",
       "      <th>AREA</th>\n",
       "      <th>ZMIN</th>\n",
       "      <th>ZMAX</th>\n",
       "      <th>ZMED</th>\n",
       "      <th>SLOPE</th>\n",
       "      <th>ASPECT</th>\n",
       "      <th>LMAX</th>\n",
       "      <th>GLACTYPE</th>\n",
       "      <th>NAME</th>\n",
       "      <th>geometry</th>\n",
       "    </tr>\n",
       "  </thead>\n",
       "  <tbody>\n",
       "    <tr>\n",
       "      <th>0</th>\n",
       "      <td>RGI40-08.01398</td>\n",
       "      <td>G006462E59966N</td>\n",
       "      <td>000</td>\n",
       "      <td>20030809</td>\n",
       "      <td>20060916</td>\n",
       "      <td>6.46207</td>\n",
       "      <td>59.9663</td>\n",
       "      <td>8</td>\n",
       "      <td>1</td>\n",
       "      <td>0.115</td>\n",
       "      <td>1239</td>\n",
       "      <td>1352</td>\n",
       "      <td>1296</td>\n",
       "      <td>23.5</td>\n",
       "      <td>90</td>\n",
       "      <td>224</td>\n",
       "      <td>9099</td>\n",
       "      <td>None</td>\n",
       "      <td>POLYGON ((6.45968 59.96954, 6.45965 59.96929, ...</td>\n",
       "    </tr>\n",
       "    <tr>\n",
       "      <th>1</th>\n",
       "      <td>RGI40-08.01414</td>\n",
       "      <td>G006415E60121N</td>\n",
       "      <td>000</td>\n",
       "      <td>20030809</td>\n",
       "      <td>20060916</td>\n",
       "      <td>6.41519</td>\n",
       "      <td>60.1211</td>\n",
       "      <td>8</td>\n",
       "      <td>1</td>\n",
       "      <td>0.176</td>\n",
       "      <td>1291</td>\n",
       "      <td>1385</td>\n",
       "      <td>1335</td>\n",
       "      <td>12.9</td>\n",
       "      <td>0</td>\n",
       "      <td>532</td>\n",
       "      <td>9099</td>\n",
       "      <td>None</td>\n",
       "      <td>POLYGON ((6.41323 60.12366, 6.41318 60.12315, ...</td>\n",
       "    </tr>\n",
       "    <tr>\n",
       "      <th>2</th>\n",
       "      <td>RGI40-08.01415</td>\n",
       "      <td>G006422E60101N</td>\n",
       "      <td>000</td>\n",
       "      <td>20030809</td>\n",
       "      <td>20060916</td>\n",
       "      <td>6.42158</td>\n",
       "      <td>60.1011</td>\n",
       "      <td>8</td>\n",
       "      <td>1</td>\n",
       "      <td>4.352</td>\n",
       "      <td>1173</td>\n",
       "      <td>1578</td>\n",
       "      <td>1473</td>\n",
       "      <td>12.3</td>\n",
       "      <td>315</td>\n",
       "      <td>2814</td>\n",
       "      <td>9099</td>\n",
       "      <td>None</td>\n",
       "      <td>POLYGON ((6.42682 60.11614, 6.42679 60.11589, ...</td>\n",
       "    </tr>\n",
       "    <tr>\n",
       "      <th>3</th>\n",
       "      <td>RGI40-08.01416</td>\n",
       "      <td>G006291E60040N</td>\n",
       "      <td>010</td>\n",
       "      <td>20030809</td>\n",
       "      <td>20060916</td>\n",
       "      <td>6.29127</td>\n",
       "      <td>60.0398</td>\n",
       "      <td>8</td>\n",
       "      <td>1</td>\n",
       "      <td>2.764</td>\n",
       "      <td>1114</td>\n",
       "      <td>1683</td>\n",
       "      <td>1483</td>\n",
       "      <td>13.4</td>\n",
       "      <td>0</td>\n",
       "      <td>2749</td>\n",
       "      <td>9099</td>\n",
       "      <td>None</td>\n",
       "      <td>POLYGON ((6.30861 60.04641, 6.30862 60.04637, ...</td>\n",
       "    </tr>\n",
       "    <tr>\n",
       "      <th>4</th>\n",
       "      <td>RGI40-08.01417</td>\n",
       "      <td>G006256E60024N</td>\n",
       "      <td>010</td>\n",
       "      <td>20030809</td>\n",
       "      <td>20060916</td>\n",
       "      <td>6.25622</td>\n",
       "      <td>60.0240</td>\n",
       "      <td>8</td>\n",
       "      <td>1</td>\n",
       "      <td>2.974</td>\n",
       "      <td>1049</td>\n",
       "      <td>1691</td>\n",
       "      <td>1498</td>\n",
       "      <td>14.2</td>\n",
       "      <td>315</td>\n",
       "      <td>2937</td>\n",
       "      <td>9099</td>\n",
       "      <td>None</td>\n",
       "      <td>POLYGON ((6.25752 60.03359, 6.25792 60.03346, ...</td>\n",
       "    </tr>\n",
       "  </tbody>\n",
       "</table>\n",
       "</div>"
      ],
      "text/plain": [
       "            RGIID         GLIMSID RGIFLAG   BGNDATE   ENDDATE   CENLON  \\\n",
       "0  RGI40-08.01398  G006462E59966N     000  20030809  20060916  6.46207   \n",
       "1  RGI40-08.01414  G006415E60121N     000  20030809  20060916  6.41519   \n",
       "2  RGI40-08.01415  G006422E60101N     000  20030809  20060916  6.42158   \n",
       "3  RGI40-08.01416  G006291E60040N     010  20030809  20060916  6.29127   \n",
       "4  RGI40-08.01417  G006256E60024N     010  20030809  20060916  6.25622   \n",
       "\n",
       "    CENLAT  O1REGION  O2REGION   AREA  ZMIN  ZMAX  ZMED  SLOPE  ASPECT  LMAX  \\\n",
       "0  59.9663         8         1  0.115  1239  1352  1296   23.5      90   224   \n",
       "1  60.1211         8         1  0.176  1291  1385  1335   12.9       0   532   \n",
       "2  60.1011         8         1  4.352  1173  1578  1473   12.3     315  2814   \n",
       "3  60.0398         8         1  2.764  1114  1683  1483   13.4       0  2749   \n",
       "4  60.0240         8         1  2.974  1049  1691  1498   14.2     315  2937   \n",
       "\n",
       "  GLACTYPE  NAME                                           geometry  \n",
       "0     9099  None  POLYGON ((6.45968 59.96954, 6.45965 59.96929, ...  \n",
       "1     9099  None  POLYGON ((6.41323 60.12366, 6.41318 60.12315, ...  \n",
       "2     9099  None  POLYGON ((6.42682 60.11614, 6.42679 60.11589, ...  \n",
       "3     9099  None  POLYGON ((6.30861 60.04641, 6.30862 60.04637, ...  \n",
       "4     9099  None  POLYGON ((6.25752 60.03359, 6.25792 60.03346, ...  "
      ]
     },
     "execution_count": 43,
     "metadata": {},
     "output_type": "execute_result"
    }
   ],
   "source": [
    "glacier_data.head() # show the first 5 rows of the table"
   ]
  },
  {
   "cell_type": "markdown",
   "metadata": {},
   "source": [
    "Note that the data are stored in a table (a __GeoDataFrame__), much like the attribute table in ArcMap. One small difference is the additional column, `geometry`, which stores the geometry for each feature (in this case, a `polygon`). \n",
    "\n",
    "One thing that we might be interested in, is the number of features stored in our dataset. Within a script, the best way to do this is by using the `shape` of the __GeoDataFrame__, which prints out the size of the __GeoDataFrame__ in (rows, columns):"
   ]
  },
  {
   "cell_type": "code",
   "execution_count": 44,
   "metadata": {},
   "outputs": [
    {
     "name": "stdout",
     "output_type": "stream",
     "text": [
      "Number of features: 62\n"
     ]
    }
   ],
   "source": [
    "rows, cols = glacier_data.shape # get the number of rows, columns in the table\n",
    "print('Number of features: {}'.format(rows))"
   ]
  },
  {
   "cell_type": "markdown",
   "metadata": {},
   "source": [
    "We can also use the `len()` built-in to print out the number of rows:"
   ]
  },
  {
   "cell_type": "code",
   "execution_count": 45,
   "metadata": {},
   "outputs": [
    {
     "name": "stdout",
     "output_type": "stream",
     "text": [
      "Number of features: 62\n"
     ]
    }
   ],
   "source": [
    "print('Number of features: {}'.format(len(glacier_data))) # should give us the same as before"
   ]
  },
  {
   "cell_type": "markdown",
   "metadata": {},
   "source": [
    "We can also perform calculations on the data, get statistics, etc. Many of these are built-in methods that can be called on an individual column. \n",
    "\n",
    "We can access individual columns in two ways. We'll stick with the \"normal\" way for now, but we'll revisit the other method later on in another lab. The normal way is by indexing with the column name (i.e., `dataframe['column_name']`). \n",
    "\n",
    "If we want to see what columns are available in the data table, we can look at the `columns` __attribute__ of the table:"
   ]
  },
  {
   "cell_type": "code",
   "execution_count": 46,
   "metadata": {},
   "outputs": [
    {
     "data": {
      "text/plain": [
       "Index(['RGIID', 'GLIMSID', 'RGIFLAG', 'BGNDATE', 'ENDDATE', 'CENLON', 'CENLAT',\n",
       "       'O1REGION', 'O2REGION', 'AREA', 'ZMIN', 'ZMAX', 'ZMED', 'SLOPE',\n",
       "       'ASPECT', 'LMAX', 'GLACTYPE', 'NAME', 'geometry'],\n",
       "      dtype='object')"
      ]
     },
     "execution_count": 46,
     "metadata": {},
     "output_type": "execute_result"
    }
   ],
   "source": [
    "glacier_data.columns # see the names of the columns in our table"
   ]
  },
  {
   "cell_type": "markdown",
   "metadata": {},
   "source": [
    "There are quite a few columns here, and most of them aren't so important for now. We might be interested in working with the __AREA__ column, though, to find out more about the size of glaciers in our study region. For example, to find the average glacier area in our dataset, we could type the following:"
   ]
  },
  {
   "cell_type": "code",
   "execution_count": 47,
   "metadata": {},
   "outputs": [
    {
     "data": {
      "text/plain": [
       "3.252387096774194"
      ]
     },
     "execution_count": 47,
     "metadata": {},
     "output_type": "execute_result"
    }
   ],
   "source": [
    "glacier_data['AREA'].mean() # get the mean value of the AREA column"
   ]
  },
  {
   "cell_type": "markdown",
   "metadata": {},
   "source": [
    "This gives us the average area in square kilometers (the units of the column). What if, for some unfathomable reason, we wanted the glacier areas to be stored in square feet? We could do this by updating the column directly:"
   ]
  },
  {
   "cell_type": "code",
   "execution_count": 48,
   "metadata": {},
   "outputs": [
    {
     "data": {
      "text/plain": [
       "35008403.45656558"
      ]
     },
     "execution_count": 48,
     "metadata": {},
     "output_type": "execute_result"
    }
   ],
   "source": [
    "glacier_data['AREA'] = glacier_data['AREA'] * 1e6 * 3.2808399 * 3.2808399 # km2 x m2/km2 X ft/m x ft/m\n",
    "glacier_data['AREA'].mean()"
   ]
  },
  {
   "cell_type": "markdown",
   "metadata": {},
   "source": [
    "But, just in case we didn't want to lose the sensible units, we could also have created a new column:"
   ]
  },
  {
   "cell_type": "code",
   "execution_count": 49,
   "metadata": {},
   "outputs": [
    {
     "data": {
      "text/plain": [
       "3.252387096774194"
      ]
     },
     "execution_count": 49,
     "metadata": {},
     "output_type": "execute_result"
    }
   ],
   "source": [
    "glacier_data['AREA_SQKM'] = glacier_data['AREA'] / 1e6 / 3.2808399 / 3.2808399  # the reverse of the above\n",
    "glacier_data['AREA_SQKM'].mean()"
   ]
  },
  {
   "cell_type": "markdown",
   "metadata": {},
   "source": [
    "## example: converting text data into shapefiles\n",
    "\n",
    "Another useful package we'll make use of is `pandas` ([documentation](https://pandas.pydata.org/)), a powerful data analysis package that provides the basis for `geopandas` (as you perhaps guessed by the name). In this example, we'll take a Comma Separated Value (__CSV__) file representing data about lakes from around the world, and convert this into a shapefile that we can load into ArcGIS, QGIS, or other GIS software.\n",
    "\n",
    "First, let's import the necessary modules and load the data:"
   ]
  },
  {
   "cell_type": "code",
   "execution_count": 51,
   "metadata": {},
   "outputs": [],
   "source": [
    "import pandas as pd\n",
    "import geopandas as gpd\n",
    "from shapely.geometry import Point\n",
    "\n",
    "df = pd.read_csv('data_files/GPSPoints.txt')"
   ]
  },
  {
   "cell_type": "markdown",
   "metadata": {},
   "source": [
    "Like we did with the `geopandas` data above, let's have a look at the `DataFrame` we've just loaded:"
   ]
  },
  {
   "cell_type": "code",
   "execution_count": 52,
   "metadata": {},
   "outputs": [
    {
     "data": {
      "text/html": [
       "<div>\n",
       "<style scoped>\n",
       "    .dataframe tbody tr th:only-of-type {\n",
       "        vertical-align: middle;\n",
       "    }\n",
       "\n",
       "    .dataframe tbody tr th {\n",
       "        vertical-align: top;\n",
       "    }\n",
       "\n",
       "    .dataframe thead th {\n",
       "        text-align: right;\n",
       "    }\n",
       "</style>\n",
       "<table border=\"1\" class=\"dataframe\">\n",
       "  <thead>\n",
       "    <tr style=\"text-align: right;\">\n",
       "      <th></th>\n",
       "      <th>area</th>\n",
       "      <th>lon</th>\n",
       "      <th>lat</th>\n",
       "      <th>id</th>\n",
       "      <th>level</th>\n",
       "      <th>max_depth</th>\n",
       "      <th>name</th>\n",
       "      <th>parent_id</th>\n",
       "      <th>sibling_id</th>\n",
       "      <th>source</th>\n",
       "      <th>date</th>\n",
       "    </tr>\n",
       "  </thead>\n",
       "  <tbody>\n",
       "    <tr>\n",
       "      <th>0</th>\n",
       "      <td>371000</td>\n",
       "      <td>50.7974</td>\n",
       "      <td>41.7510</td>\n",
       "      <td>145424</td>\n",
       "      <td>2</td>\n",
       "      <td>1025.0</td>\n",
       "      <td>Caspian Sea</td>\n",
       "      <td>0</td>\n",
       "      <td>180487</td>\n",
       "      <td>WDBII</td>\n",
       "      <td>2000-03-17</td>\n",
       "    </tr>\n",
       "    <tr>\n",
       "      <th>1</th>\n",
       "      <td>59600</td>\n",
       "      <td>-82.2559</td>\n",
       "      <td>44.9583</td>\n",
       "      <td>145425</td>\n",
       "      <td>2</td>\n",
       "      <td>229.0</td>\n",
       "      <td>Lake Huron</td>\n",
       "      <td>2</td>\n",
       "      <td>180488</td>\n",
       "      <td>WDBII</td>\n",
       "      <td>2009-11-15</td>\n",
       "    </tr>\n",
       "    <tr>\n",
       "      <th>2</th>\n",
       "      <td>31722</td>\n",
       "      <td>107.7016</td>\n",
       "      <td>53.4145</td>\n",
       "      <td>145429</td>\n",
       "      <td>2</td>\n",
       "      <td>1642.0</td>\n",
       "      <td>Lake Baikal</td>\n",
       "      <td>0</td>\n",
       "      <td>180492</td>\n",
       "      <td>WDBII</td>\n",
       "      <td>2013-10-02</td>\n",
       "    </tr>\n",
       "    <tr>\n",
       "      <th>3</th>\n",
       "      <td>31153</td>\n",
       "      <td>-120.9532</td>\n",
       "      <td>66.0093</td>\n",
       "      <td>145430</td>\n",
       "      <td>2</td>\n",
       "      <td>446.0</td>\n",
       "      <td>Great Bear Lake</td>\n",
       "      <td>2</td>\n",
       "      <td>180493</td>\n",
       "      <td>WDBII</td>\n",
       "      <td>2012-02-02</td>\n",
       "    </tr>\n",
       "    <tr>\n",
       "      <th>4</th>\n",
       "      <td>27200</td>\n",
       "      <td>-113.7628</td>\n",
       "      <td>61.7776</td>\n",
       "      <td>145431</td>\n",
       "      <td>2</td>\n",
       "      <td>614.0</td>\n",
       "      <td>Great Slave Lake</td>\n",
       "      <td>2</td>\n",
       "      <td>180494</td>\n",
       "      <td>WDBII</td>\n",
       "      <td>2006-08-20</td>\n",
       "    </tr>\n",
       "  </tbody>\n",
       "</table>\n",
       "</div>"
      ],
      "text/plain": [
       "     area       lon      lat      id  level  max_depth              name  \\\n",
       "0  371000   50.7974  41.7510  145424      2     1025.0       Caspian Sea   \n",
       "1   59600  -82.2559  44.9583  145425      2      229.0        Lake Huron   \n",
       "2   31722  107.7016  53.4145  145429      2     1642.0       Lake Baikal   \n",
       "3   31153 -120.9532  66.0093  145430      2      446.0   Great Bear Lake   \n",
       "4   27200 -113.7628  61.7776  145431      2      614.0  Great Slave Lake   \n",
       "\n",
       "   parent_id  sibling_id source        date  \n",
       "0          0      180487  WDBII  2000-03-17  \n",
       "1          2      180488  WDBII  2009-11-15  \n",
       "2          0      180492  WDBII  2013-10-02  \n",
       "3          2      180493  WDBII  2012-02-02  \n",
       "4          2      180494  WDBII  2006-08-20  "
      ]
     },
     "execution_count": 52,
     "metadata": {},
     "output_type": "execute_result"
    }
   ],
   "source": [
    "df.head()"
   ]
  },
  {
   "cell_type": "markdown",
   "metadata": {},
   "source": [
    "Here, we see a number of lake names, with accompanying data such as the lake area (presumably in square kilometers?), the maximum depth (missing for some lakes), Lat/Lon information, and so on. \n",
    "\n",
    "A `GeoDataFrame` can hold lots of different data, but it absolutely must have a column that specifies the geometry of the features in the table. Given that we only have point information (a single Lat/Lon coordinate) for each lake, it makes sense to create a `Point` object for each feature using that point. \n",
    "\n",
    "One way that we can do this by first using the python built-in __zip__, then the __apply__ method of the `DataFrame` to create a point object from the list of coordinates."
   ]
  },
  {
   "cell_type": "code",
   "execution_count": 53,
   "metadata": {},
   "outputs": [],
   "source": [
    "df['geometry'] = list(zip(df['lon'], df['lat'])) # zip is an iterator, so we use list to create \n",
    "                                                 # something that pandas can use.\n",
    "df['geometry'] = df['geometry'].apply(Point) # using the 'apply' method of the dataframe, \n",
    "                                             # turn the coordinates column\n",
    "                                             # into points (instead of a tuple of lat, lon coordinates).\n",
    "                                             # NB: Point takes (x, y) coordinates"
   ]
  },
  {
   "cell_type": "markdown",
   "metadata": {},
   "source": [
    "Let's look at the `DataFrame` again. We should have a `geometry` column, with the lat/lon coordinates for each feature:"
   ]
  },
  {
   "cell_type": "code",
   "execution_count": 54,
   "metadata": {},
   "outputs": [
    {
     "data": {
      "text/html": [
       "<div>\n",
       "<style scoped>\n",
       "    .dataframe tbody tr th:only-of-type {\n",
       "        vertical-align: middle;\n",
       "    }\n",
       "\n",
       "    .dataframe tbody tr th {\n",
       "        vertical-align: top;\n",
       "    }\n",
       "\n",
       "    .dataframe thead th {\n",
       "        text-align: right;\n",
       "    }\n",
       "</style>\n",
       "<table border=\"1\" class=\"dataframe\">\n",
       "  <thead>\n",
       "    <tr style=\"text-align: right;\">\n",
       "      <th></th>\n",
       "      <th>area</th>\n",
       "      <th>lon</th>\n",
       "      <th>lat</th>\n",
       "      <th>id</th>\n",
       "      <th>level</th>\n",
       "      <th>max_depth</th>\n",
       "      <th>name</th>\n",
       "      <th>parent_id</th>\n",
       "      <th>sibling_id</th>\n",
       "      <th>source</th>\n",
       "      <th>date</th>\n",
       "      <th>geometry</th>\n",
       "    </tr>\n",
       "  </thead>\n",
       "  <tbody>\n",
       "    <tr>\n",
       "      <th>0</th>\n",
       "      <td>371000</td>\n",
       "      <td>50.7974</td>\n",
       "      <td>41.7510</td>\n",
       "      <td>145424</td>\n",
       "      <td>2</td>\n",
       "      <td>1025.0</td>\n",
       "      <td>Caspian Sea</td>\n",
       "      <td>0</td>\n",
       "      <td>180487</td>\n",
       "      <td>WDBII</td>\n",
       "      <td>2000-03-17</td>\n",
       "      <td>POINT (50.7974 41.751)</td>\n",
       "    </tr>\n",
       "    <tr>\n",
       "      <th>1</th>\n",
       "      <td>59600</td>\n",
       "      <td>-82.2559</td>\n",
       "      <td>44.9583</td>\n",
       "      <td>145425</td>\n",
       "      <td>2</td>\n",
       "      <td>229.0</td>\n",
       "      <td>Lake Huron</td>\n",
       "      <td>2</td>\n",
       "      <td>180488</td>\n",
       "      <td>WDBII</td>\n",
       "      <td>2009-11-15</td>\n",
       "      <td>POINT (-82.2559 44.9583)</td>\n",
       "    </tr>\n",
       "    <tr>\n",
       "      <th>2</th>\n",
       "      <td>31722</td>\n",
       "      <td>107.7016</td>\n",
       "      <td>53.4145</td>\n",
       "      <td>145429</td>\n",
       "      <td>2</td>\n",
       "      <td>1642.0</td>\n",
       "      <td>Lake Baikal</td>\n",
       "      <td>0</td>\n",
       "      <td>180492</td>\n",
       "      <td>WDBII</td>\n",
       "      <td>2013-10-02</td>\n",
       "      <td>POINT (107.7016 53.4145)</td>\n",
       "    </tr>\n",
       "    <tr>\n",
       "      <th>3</th>\n",
       "      <td>31153</td>\n",
       "      <td>-120.9532</td>\n",
       "      <td>66.0093</td>\n",
       "      <td>145430</td>\n",
       "      <td>2</td>\n",
       "      <td>446.0</td>\n",
       "      <td>Great Bear Lake</td>\n",
       "      <td>2</td>\n",
       "      <td>180493</td>\n",
       "      <td>WDBII</td>\n",
       "      <td>2012-02-02</td>\n",
       "      <td>POINT (-120.9532 66.0093)</td>\n",
       "    </tr>\n",
       "    <tr>\n",
       "      <th>4</th>\n",
       "      <td>27200</td>\n",
       "      <td>-113.7628</td>\n",
       "      <td>61.7776</td>\n",
       "      <td>145431</td>\n",
       "      <td>2</td>\n",
       "      <td>614.0</td>\n",
       "      <td>Great Slave Lake</td>\n",
       "      <td>2</td>\n",
       "      <td>180494</td>\n",
       "      <td>WDBII</td>\n",
       "      <td>2006-08-20</td>\n",
       "      <td>POINT (-113.7628 61.7776)</td>\n",
       "    </tr>\n",
       "    <tr>\n",
       "      <th>5</th>\n",
       "      <td>29600</td>\n",
       "      <td>34.5098</td>\n",
       "      <td>-11.9643</td>\n",
       "      <td>145432</td>\n",
       "      <td>2</td>\n",
       "      <td>706.0</td>\n",
       "      <td>Lake Malawi</td>\n",
       "      <td>1</td>\n",
       "      <td>180495</td>\n",
       "      <td>WDBII</td>\n",
       "      <td>2010-04-05</td>\n",
       "      <td>POINT (34.5098 -11.9643)</td>\n",
       "    </tr>\n",
       "    <tr>\n",
       "      <th>6</th>\n",
       "      <td>25667</td>\n",
       "      <td>-81.2358</td>\n",
       "      <td>42.1555</td>\n",
       "      <td>145433</td>\n",
       "      <td>2</td>\n",
       "      <td>64.0</td>\n",
       "      <td>Lake Erie</td>\n",
       "      <td>2</td>\n",
       "      <td>180496</td>\n",
       "      <td>WDBII</td>\n",
       "      <td>2013-10-28</td>\n",
       "      <td>POINT (-81.2358 42.1555)</td>\n",
       "    </tr>\n",
       "    <tr>\n",
       "      <th>7</th>\n",
       "      <td>24514</td>\n",
       "      <td>-97.8114</td>\n",
       "      <td>52.6031</td>\n",
       "      <td>145434</td>\n",
       "      <td>2</td>\n",
       "      <td>36.0</td>\n",
       "      <td>Lake Winnipeg</td>\n",
       "      <td>2</td>\n",
       "      <td>180497</td>\n",
       "      <td>WDBII</td>\n",
       "      <td>2011-11-10</td>\n",
       "      <td>POINT (-97.8114 52.6031)</td>\n",
       "    </tr>\n",
       "    <tr>\n",
       "      <th>8</th>\n",
       "      <td>19000</td>\n",
       "      <td>-77.7592</td>\n",
       "      <td>43.6671</td>\n",
       "      <td>145435</td>\n",
       "      <td>2</td>\n",
       "      <td>244.0</td>\n",
       "      <td>Lake Ontario</td>\n",
       "      <td>2</td>\n",
       "      <td>180498</td>\n",
       "      <td>WDBII</td>\n",
       "      <td>2007-02-15</td>\n",
       "      <td>POINT (-77.7592 43.6671)</td>\n",
       "    </tr>\n",
       "    <tr>\n",
       "      <th>9</th>\n",
       "      <td>17891</td>\n",
       "      <td>31.4610</td>\n",
       "      <td>60.8466</td>\n",
       "      <td>145436</td>\n",
       "      <td>2</td>\n",
       "      <td>230.0</td>\n",
       "      <td>Lake Ladoga</td>\n",
       "      <td>0</td>\n",
       "      <td>180499</td>\n",
       "      <td>WDBII</td>\n",
       "      <td>2003-04-15</td>\n",
       "      <td>POINT (31.461 60.8466)</td>\n",
       "    </tr>\n",
       "    <tr>\n",
       "      <th>10</th>\n",
       "      <td>16996</td>\n",
       "      <td>75.6321</td>\n",
       "      <td>46.2842</td>\n",
       "      <td>145437</td>\n",
       "      <td>2</td>\n",
       "      <td>26.0</td>\n",
       "      <td>Lake Balkash</td>\n",
       "      <td>0</td>\n",
       "      <td>180500</td>\n",
       "      <td>WDBII</td>\n",
       "      <td>2009-10-31</td>\n",
       "      <td>POINT (75.6321 46.2842)</td>\n",
       "    </tr>\n",
       "    <tr>\n",
       "      <th>11</th>\n",
       "      <td>1350</td>\n",
       "      <td>14.0564</td>\n",
       "      <td>13.1940</td>\n",
       "      <td>145438</td>\n",
       "      <td>2</td>\n",
       "      <td>11.0</td>\n",
       "      <td>Lake Chad</td>\n",
       "      <td>1</td>\n",
       "      <td>180501</td>\n",
       "      <td>WDBII</td>\n",
       "      <td>2004-02-12</td>\n",
       "      <td>POINT (14.0564 13.194)</td>\n",
       "    </tr>\n",
       "    <tr>\n",
       "      <th>12</th>\n",
       "      <td>4380</td>\n",
       "      <td>28.4338</td>\n",
       "      <td>62.0452</td>\n",
       "      <td>145439</td>\n",
       "      <td>2</td>\n",
       "      <td>82.0</td>\n",
       "      <td>Storsaimen</td>\n",
       "      <td>0</td>\n",
       "      <td>180502</td>\n",
       "      <td>WDBII</td>\n",
       "      <td>2009-02-06</td>\n",
       "      <td>POINT (28.4338 62.0452)</td>\n",
       "    </tr>\n",
       "    <tr>\n",
       "      <th>13</th>\n",
       "      <td>9894</td>\n",
       "      <td>35.3822</td>\n",
       "      <td>61.7853</td>\n",
       "      <td>145440</td>\n",
       "      <td>2</td>\n",
       "      <td>127.0</td>\n",
       "      <td>Lake Onega</td>\n",
       "      <td>0</td>\n",
       "      <td>180503</td>\n",
       "      <td>WDBII</td>\n",
       "      <td>2009-08-18</td>\n",
       "      <td>POINT (35.3822 61.7853)</td>\n",
       "    </tr>\n",
       "    <tr>\n",
       "      <th>14</th>\n",
       "      <td>8264</td>\n",
       "      <td>-85.3904</td>\n",
       "      <td>11.5322</td>\n",
       "      <td>145442</td>\n",
       "      <td>2</td>\n",
       "      <td>26.0</td>\n",
       "      <td>Lake Nicaragua</td>\n",
       "      <td>2</td>\n",
       "      <td>180505</td>\n",
       "      <td>WDBII</td>\n",
       "      <td>2000-01-04</td>\n",
       "      <td>POINT (-85.3904 11.5322)</td>\n",
       "    </tr>\n",
       "    <tr>\n",
       "      <th>15</th>\n",
       "      <td>7850</td>\n",
       "      <td>-109.3507</td>\n",
       "      <td>59.1734</td>\n",
       "      <td>145443</td>\n",
       "      <td>2</td>\n",
       "      <td>124.0</td>\n",
       "      <td>Lake Athabasca</td>\n",
       "      <td>2</td>\n",
       "      <td>180506</td>\n",
       "      <td>WDBII</td>\n",
       "      <td>2009-04-18</td>\n",
       "      <td>POINT (-109.3507 59.1734)</td>\n",
       "    </tr>\n",
       "    <tr>\n",
       "      <th>16</th>\n",
       "      <td>8372</td>\n",
       "      <td>-69.3648</td>\n",
       "      <td>-15.8825</td>\n",
       "      <td>145444</td>\n",
       "      <td>2</td>\n",
       "      <td>281.0</td>\n",
       "      <td>Lake Titicaca</td>\n",
       "      <td>3</td>\n",
       "      <td>180507</td>\n",
       "      <td>WDBII</td>\n",
       "      <td>2008-03-17</td>\n",
       "      <td>POINT (-69.3648 -15.8825)</td>\n",
       "    </tr>\n",
       "    <tr>\n",
       "      <th>17</th>\n",
       "      <td>6405</td>\n",
       "      <td>36.1790</td>\n",
       "      <td>3.5880</td>\n",
       "      <td>145445</td>\n",
       "      <td>2</td>\n",
       "      <td>109.0</td>\n",
       "      <td>Lake Turkana</td>\n",
       "      <td>1</td>\n",
       "      <td>180508</td>\n",
       "      <td>WDBII</td>\n",
       "      <td>2011-01-17</td>\n",
       "      <td>POINT (36.179 3.588)</td>\n",
       "    </tr>\n",
       "    <tr>\n",
       "      <th>18</th>\n",
       "      <td>5650</td>\n",
       "      <td>-102.3784</td>\n",
       "      <td>57.2870</td>\n",
       "      <td>145446</td>\n",
       "      <td>2</td>\n",
       "      <td>219.0</td>\n",
       "      <td>Reinsjøen</td>\n",
       "      <td>2</td>\n",
       "      <td>180509</td>\n",
       "      <td>WDBII</td>\n",
       "      <td>2013-07-22</td>\n",
       "      <td>POINT (-102.3784 57.287)</td>\n",
       "    </tr>\n",
       "    <tr>\n",
       "      <th>19</th>\n",
       "      <td>6236</td>\n",
       "      <td>77.2663</td>\n",
       "      <td>42.4381</td>\n",
       "      <td>145447</td>\n",
       "      <td>2</td>\n",
       "      <td>668.0</td>\n",
       "      <td>Issyk-Kul</td>\n",
       "      <td>0</td>\n",
       "      <td>6236</td>\n",
       "      <td>WDBII</td>\n",
       "      <td>2005-06-09</td>\n",
       "      <td>POINT (77.2663 42.4381)</td>\n",
       "    </tr>\n",
       "    <tr>\n",
       "      <th>20</th>\n",
       "      <td>5650</td>\n",
       "      <td>13.2708</td>\n",
       "      <td>58.9076</td>\n",
       "      <td>145448</td>\n",
       "      <td>2</td>\n",
       "      <td>106.0</td>\n",
       "      <td>Vänern</td>\n",
       "      <td>0</td>\n",
       "      <td>180511</td>\n",
       "      <td>WDBII</td>\n",
       "      <td>2002-02-25</td>\n",
       "      <td>POINT (13.2708 58.9076)</td>\n",
       "    </tr>\n",
       "    <tr>\n",
       "      <th>21</th>\n",
       "      <td>82100</td>\n",
       "      <td>-87.7567</td>\n",
       "      <td>47.5367</td>\n",
       "      <td>145425</td>\n",
       "      <td>2</td>\n",
       "      <td>406.0</td>\n",
       "      <td>Lake Superior</td>\n",
       "      <td>2</td>\n",
       "      <td>180488</td>\n",
       "      <td>WDBII</td>\n",
       "      <td>1999-08-12</td>\n",
       "      <td>POINT (-87.7567 47.5367)</td>\n",
       "    </tr>\n",
       "    <tr>\n",
       "      <th>22</th>\n",
       "      <td>58000</td>\n",
       "      <td>-86.7612</td>\n",
       "      <td>44.0135</td>\n",
       "      <td>145425</td>\n",
       "      <td>2</td>\n",
       "      <td>281.0</td>\n",
       "      <td>Lake Michigan</td>\n",
       "      <td>2</td>\n",
       "      <td>180488</td>\n",
       "      <td>WDBII</td>\n",
       "      <td>2004-10-03</td>\n",
       "      <td>POINT (-86.7612 44.0135)</td>\n",
       "    </tr>\n",
       "    <tr>\n",
       "      <th>23</th>\n",
       "      <td>5370</td>\n",
       "      <td>-100.1435</td>\n",
       "      <td>52.5566</td>\n",
       "      <td>145451</td>\n",
       "      <td>2</td>\n",
       "      <td>12.0</td>\n",
       "      <td>Lake Winnipegosis</td>\n",
       "      <td>2</td>\n",
       "      <td>180514</td>\n",
       "      <td>WDBII</td>\n",
       "      <td>2014-03-03</td>\n",
       "      <td>POINT (-100.1435 52.5566)</td>\n",
       "    </tr>\n",
       "    <tr>\n",
       "      <th>24</th>\n",
       "      <td>4624</td>\n",
       "      <td>-98.6423</td>\n",
       "      <td>50.9195</td>\n",
       "      <td>145455</td>\n",
       "      <td>2</td>\n",
       "      <td>7.0</td>\n",
       "      <td>Lake Manitoba</td>\n",
       "      <td>2</td>\n",
       "      <td>180518</td>\n",
       "      <td>WDBII</td>\n",
       "      <td>2012-07-20</td>\n",
       "      <td>POINT (-98.6423 50.9195)</td>\n",
       "    </tr>\n",
       "    <tr>\n",
       "      <th>25</th>\n",
       "      <td>4848</td>\n",
       "      <td>-88.5262</td>\n",
       "      <td>49.8306</td>\n",
       "      <td>145456</td>\n",
       "      <td>2</td>\n",
       "      <td>165.0</td>\n",
       "      <td>Lake Nipigon</td>\n",
       "      <td>2</td>\n",
       "      <td>180519</td>\n",
       "      <td>WDBII</td>\n",
       "      <td>2014-05-25</td>\n",
       "      <td>POINT (-88.5262 49.8306)</td>\n",
       "    </tr>\n",
       "    <tr>\n",
       "      <th>26</th>\n",
       "      <td>4560</td>\n",
       "      <td>102.0923</td>\n",
       "      <td>74.5772</td>\n",
       "      <td>145458</td>\n",
       "      <td>2</td>\n",
       "      <td>26.0</td>\n",
       "      <td>Lake Taymyr</td>\n",
       "      <td>0</td>\n",
       "      <td>180521</td>\n",
       "      <td>WDBII</td>\n",
       "      <td>2013-06-08</td>\n",
       "      <td>POINT (102.0923 74.5772)</td>\n",
       "    </tr>\n",
       "    <tr>\n",
       "      <th>27</th>\n",
       "      <td>4168</td>\n",
       "      <td>-94.7027</td>\n",
       "      <td>49.2872</td>\n",
       "      <td>145459</td>\n",
       "      <td>2</td>\n",
       "      <td>64.0</td>\n",
       "      <td>Lake of the Woods</td>\n",
       "      <td>2</td>\n",
       "      <td>180522</td>\n",
       "      <td>WDBII</td>\n",
       "      <td>2006-10-02</td>\n",
       "      <td>POINT (-94.7027 49.2872)</td>\n",
       "    </tr>\n",
       "    <tr>\n",
       "      <th>28</th>\n",
       "      <td>1320</td>\n",
       "      <td>-100.1255</td>\n",
       "      <td>53.5496</td>\n",
       "      <td>145461</td>\n",
       "      <td>2</td>\n",
       "      <td>10.0</td>\n",
       "      <td>Cedar Lake</td>\n",
       "      <td>2</td>\n",
       "      <td>180524</td>\n",
       "      <td>WDBII</td>\n",
       "      <td>2003-01-27</td>\n",
       "      <td>POINT (-100.1255 53.5496)</td>\n",
       "    </tr>\n",
       "    <tr>\n",
       "      <th>29</th>\n",
       "      <td>1070</td>\n",
       "      <td>25.9600</td>\n",
       "      <td>62.1873</td>\n",
       "      <td>145466</td>\n",
       "      <td>2</td>\n",
       "      <td>96.0</td>\n",
       "      <td>Päijänne</td>\n",
       "      <td>0</td>\n",
       "      <td>180529</td>\n",
       "      <td>WDBII</td>\n",
       "      <td>2006-04-27</td>\n",
       "      <td>POINT (25.96 62.1873)</td>\n",
       "    </tr>\n",
       "    <tr>\n",
       "      <th>30</th>\n",
       "      <td>3833</td>\n",
       "      <td>-101.4030</td>\n",
       "      <td>63.1110</td>\n",
       "      <td>145470</td>\n",
       "      <td>2</td>\n",
       "      <td>NaN</td>\n",
       "      <td>Dubawnt Lake</td>\n",
       "      <td>2</td>\n",
       "      <td>180533</td>\n",
       "      <td>WDBII</td>\n",
       "      <td>2010-11-22</td>\n",
       "      <td>POINT (-101.403 63.111)</td>\n",
       "    </tr>\n",
       "    <tr>\n",
       "      <th>31</th>\n",
       "      <td>3555</td>\n",
       "      <td>27.5429</td>\n",
       "      <td>58.5428</td>\n",
       "      <td>145471</td>\n",
       "      <td>2</td>\n",
       "      <td>15.0</td>\n",
       "      <td>Lake Peipus</td>\n",
       "      <td>0</td>\n",
       "      <td>180534</td>\n",
       "      <td>WDBII</td>\n",
       "      <td>2001-04-14</td>\n",
       "      <td>POINT (27.5429 58.5428)</td>\n",
       "    </tr>\n",
       "    <tr>\n",
       "      <th>32</th>\n",
       "      <td>3115</td>\n",
       "      <td>-71.2279</td>\n",
       "      <td>64.9084</td>\n",
       "      <td>145476</td>\n",
       "      <td>2</td>\n",
       "      <td>NaN</td>\n",
       "      <td>Lake Amadjuak</td>\n",
       "      <td>11</td>\n",
       "      <td>180539</td>\n",
       "      <td>WDBII</td>\n",
       "      <td>2016-11-05</td>\n",
       "      <td>POINT (-71.2279 64.9084)</td>\n",
       "    </tr>\n",
       "    <tr>\n",
       "      <th>33</th>\n",
       "      <td>68800</td>\n",
       "      <td>32.9078</td>\n",
       "      <td>-1.1007</td>\n",
       "      <td>145426</td>\n",
       "      <td>2</td>\n",
       "      <td>83.0</td>\n",
       "      <td>Lake Victoria</td>\n",
       "      <td>1</td>\n",
       "      <td>180489</td>\n",
       "      <td>WDBII</td>\n",
       "      <td>2004-12-30</td>\n",
       "      <td>POINT (32.9078 -1.1007)</td>\n",
       "    </tr>\n",
       "  </tbody>\n",
       "</table>\n",
       "</div>"
      ],
      "text/plain": [
       "      area       lon      lat      id  level  max_depth               name  \\\n",
       "0   371000   50.7974  41.7510  145424      2     1025.0        Caspian Sea   \n",
       "1    59600  -82.2559  44.9583  145425      2      229.0         Lake Huron   \n",
       "2    31722  107.7016  53.4145  145429      2     1642.0        Lake Baikal   \n",
       "3    31153 -120.9532  66.0093  145430      2      446.0    Great Bear Lake   \n",
       "4    27200 -113.7628  61.7776  145431      2      614.0   Great Slave Lake   \n",
       "5    29600   34.5098 -11.9643  145432      2      706.0        Lake Malawi   \n",
       "6    25667  -81.2358  42.1555  145433      2       64.0          Lake Erie   \n",
       "7    24514  -97.8114  52.6031  145434      2       36.0      Lake Winnipeg   \n",
       "8    19000  -77.7592  43.6671  145435      2      244.0       Lake Ontario   \n",
       "9    17891   31.4610  60.8466  145436      2      230.0        Lake Ladoga   \n",
       "10   16996   75.6321  46.2842  145437      2       26.0       Lake Balkash   \n",
       "11    1350   14.0564  13.1940  145438      2       11.0          Lake Chad   \n",
       "12    4380   28.4338  62.0452  145439      2       82.0         Storsaimen   \n",
       "13    9894   35.3822  61.7853  145440      2      127.0         Lake Onega   \n",
       "14    8264  -85.3904  11.5322  145442      2       26.0     Lake Nicaragua   \n",
       "15    7850 -109.3507  59.1734  145443      2      124.0     Lake Athabasca   \n",
       "16    8372  -69.3648 -15.8825  145444      2      281.0      Lake Titicaca   \n",
       "17    6405   36.1790   3.5880  145445      2      109.0       Lake Turkana   \n",
       "18    5650 -102.3784  57.2870  145446      2      219.0          Reinsjøen   \n",
       "19    6236   77.2663  42.4381  145447      2      668.0          Issyk-Kul   \n",
       "20    5650   13.2708  58.9076  145448      2      106.0             Vänern   \n",
       "21   82100  -87.7567  47.5367  145425      2      406.0      Lake Superior   \n",
       "22   58000  -86.7612  44.0135  145425      2      281.0      Lake Michigan   \n",
       "23    5370 -100.1435  52.5566  145451      2       12.0  Lake Winnipegosis   \n",
       "24    4624  -98.6423  50.9195  145455      2        7.0      Lake Manitoba   \n",
       "25    4848  -88.5262  49.8306  145456      2      165.0       Lake Nipigon   \n",
       "26    4560  102.0923  74.5772  145458      2       26.0        Lake Taymyr   \n",
       "27    4168  -94.7027  49.2872  145459      2       64.0  Lake of the Woods   \n",
       "28    1320 -100.1255  53.5496  145461      2       10.0         Cedar Lake   \n",
       "29    1070   25.9600  62.1873  145466      2       96.0           Päijänne   \n",
       "30    3833 -101.4030  63.1110  145470      2        NaN       Dubawnt Lake   \n",
       "31    3555   27.5429  58.5428  145471      2       15.0        Lake Peipus   \n",
       "32    3115  -71.2279  64.9084  145476      2        NaN      Lake Amadjuak   \n",
       "33   68800   32.9078  -1.1007  145426      2       83.0      Lake Victoria   \n",
       "\n",
       "    parent_id  sibling_id source        date                   geometry  \n",
       "0           0      180487  WDBII  2000-03-17     POINT (50.7974 41.751)  \n",
       "1           2      180488  WDBII  2009-11-15   POINT (-82.2559 44.9583)  \n",
       "2           0      180492  WDBII  2013-10-02   POINT (107.7016 53.4145)  \n",
       "3           2      180493  WDBII  2012-02-02  POINT (-120.9532 66.0093)  \n",
       "4           2      180494  WDBII  2006-08-20  POINT (-113.7628 61.7776)  \n",
       "5           1      180495  WDBII  2010-04-05   POINT (34.5098 -11.9643)  \n",
       "6           2      180496  WDBII  2013-10-28   POINT (-81.2358 42.1555)  \n",
       "7           2      180497  WDBII  2011-11-10   POINT (-97.8114 52.6031)  \n",
       "8           2      180498  WDBII  2007-02-15   POINT (-77.7592 43.6671)  \n",
       "9           0      180499  WDBII  2003-04-15     POINT (31.461 60.8466)  \n",
       "10          0      180500  WDBII  2009-10-31    POINT (75.6321 46.2842)  \n",
       "11          1      180501  WDBII  2004-02-12     POINT (14.0564 13.194)  \n",
       "12          0      180502  WDBII  2009-02-06    POINT (28.4338 62.0452)  \n",
       "13          0      180503  WDBII  2009-08-18    POINT (35.3822 61.7853)  \n",
       "14          2      180505  WDBII  2000-01-04   POINT (-85.3904 11.5322)  \n",
       "15          2      180506  WDBII  2009-04-18  POINT (-109.3507 59.1734)  \n",
       "16          3      180507  WDBII  2008-03-17  POINT (-69.3648 -15.8825)  \n",
       "17          1      180508  WDBII  2011-01-17       POINT (36.179 3.588)  \n",
       "18          2      180509  WDBII  2013-07-22   POINT (-102.3784 57.287)  \n",
       "19          0        6236  WDBII  2005-06-09    POINT (77.2663 42.4381)  \n",
       "20          0      180511  WDBII  2002-02-25    POINT (13.2708 58.9076)  \n",
       "21          2      180488  WDBII  1999-08-12   POINT (-87.7567 47.5367)  \n",
       "22          2      180488  WDBII  2004-10-03   POINT (-86.7612 44.0135)  \n",
       "23          2      180514  WDBII  2014-03-03  POINT (-100.1435 52.5566)  \n",
       "24          2      180518  WDBII  2012-07-20   POINT (-98.6423 50.9195)  \n",
       "25          2      180519  WDBII  2014-05-25   POINT (-88.5262 49.8306)  \n",
       "26          0      180521  WDBII  2013-06-08   POINT (102.0923 74.5772)  \n",
       "27          2      180522  WDBII  2006-10-02   POINT (-94.7027 49.2872)  \n",
       "28          2      180524  WDBII  2003-01-27  POINT (-100.1255 53.5496)  \n",
       "29          0      180529  WDBII  2006-04-27      POINT (25.96 62.1873)  \n",
       "30          2      180533  WDBII  2010-11-22    POINT (-101.403 63.111)  \n",
       "31          0      180534  WDBII  2001-04-14    POINT (27.5429 58.5428)  \n",
       "32         11      180539  WDBII  2016-11-05   POINT (-71.2279 64.9084)  \n",
       "33          1      180489  WDBII  2004-12-30    POINT (32.9078 -1.1007)  "
      ]
     },
     "execution_count": 54,
     "metadata": {},
     "output_type": "execute_result"
    }
   ],
   "source": [
    "df"
   ]
  },
  {
   "cell_type": "markdown",
   "metadata": {},
   "source": [
    "We could simply create a `GeoDataFrame` from this `DataFrame`, but let's first remove a few extra columns from the table:"
   ]
  },
  {
   "cell_type": "code",
   "execution_count": 55,
   "metadata": {},
   "outputs": [],
   "source": [
    "del df['lat'], df['lon'] # we don't really need these, since they're in the 'geometry' column now"
   ]
  },
  {
   "cell_type": "markdown",
   "metadata": {},
   "source": [
    "Next, let's change the units of the `area` column to be in square meters (assuming that they are currently in square kilometers):"
   ]
  },
  {
   "cell_type": "code",
   "execution_count": 59,
   "metadata": {},
   "outputs": [
    {
     "data": {
      "text/plain": [
       "0     0.371000\n",
       "1     0.059600\n",
       "2     0.031722\n",
       "3     0.031153\n",
       "4     0.027200\n",
       "5     0.029600\n",
       "6     0.025667\n",
       "7     0.024514\n",
       "8     0.019000\n",
       "9     0.017891\n",
       "10    0.016996\n",
       "11    0.001350\n",
       "12    0.004380\n",
       "13    0.009894\n",
       "14    0.008264\n",
       "15    0.007850\n",
       "16    0.008372\n",
       "17    0.006405\n",
       "18    0.005650\n",
       "19    0.006236\n",
       "20    0.005650\n",
       "21    0.082100\n",
       "22    0.058000\n",
       "23    0.005370\n",
       "24    0.004624\n",
       "25    0.004848\n",
       "26    0.004560\n",
       "27    0.004168\n",
       "28    0.001320\n",
       "29    0.001070\n",
       "30    0.003833\n",
       "31    0.003555\n",
       "32    0.003115\n",
       "33    0.068800\n",
       "Name: area, dtype: float64"
      ]
     },
     "execution_count": 59,
     "metadata": {},
     "output_type": "execute_result"
    }
   ],
   "source": [
    "df['area'] /1000000 # modify this cell to convert the area column to square meters here"
   ]
  },
  {
   "cell_type": "markdown",
   "metadata": {},
   "source": [
    "Now we can create a new `GeoDataFrame` from the `DataFrame`:"
   ]
  },
  {
   "cell_type": "code",
   "execution_count": 61,
   "metadata": {},
   "outputs": [],
   "source": [
    "gdf = gpd.GeoDataFrame(df)"
   ]
  },
  {
   "cell_type": "markdown",
   "metadata": {},
   "source": [
    "We also want to remember to set the spatial reference information, so that our GIS software knows what reference frame our data use. For this, we'll use the EPSG code representing WGS84 Lat/Lon, 4326. EPSG codes are a concise way to refer to a given reference system - more information about them (and a comprehensive list of codes) can be found [here](http://spatialreference.org/)."
   ]
  },
  {
   "cell_type": "code",
   "execution_count": 62,
   "metadata": {},
   "outputs": [],
   "source": [
    "gdf = gdf.set_crs(\"EPSG:4326\") # this sets the coordinate reference system to epsg:4326, wgs84 lat/lon"
   ]
  },
  {
   "cell_type": "markdown",
   "metadata": {},
   "source": [
    "Let's take another look at the `GeoDataFrame`:"
   ]
  },
  {
   "cell_type": "code",
   "execution_count": 63,
   "metadata": {},
   "outputs": [
    {
     "data": {
      "text/html": [
       "<div>\n",
       "<style scoped>\n",
       "    .dataframe tbody tr th:only-of-type {\n",
       "        vertical-align: middle;\n",
       "    }\n",
       "\n",
       "    .dataframe tbody tr th {\n",
       "        vertical-align: top;\n",
       "    }\n",
       "\n",
       "    .dataframe thead th {\n",
       "        text-align: right;\n",
       "    }\n",
       "</style>\n",
       "<table border=\"1\" class=\"dataframe\">\n",
       "  <thead>\n",
       "    <tr style=\"text-align: right;\">\n",
       "      <th></th>\n",
       "      <th>area</th>\n",
       "      <th>id</th>\n",
       "      <th>level</th>\n",
       "      <th>max_depth</th>\n",
       "      <th>name</th>\n",
       "      <th>parent_id</th>\n",
       "      <th>sibling_id</th>\n",
       "      <th>source</th>\n",
       "      <th>date</th>\n",
       "      <th>geometry</th>\n",
       "    </tr>\n",
       "  </thead>\n",
       "  <tbody>\n",
       "    <tr>\n",
       "      <th>0</th>\n",
       "      <td>371000</td>\n",
       "      <td>145424</td>\n",
       "      <td>2</td>\n",
       "      <td>1025.0</td>\n",
       "      <td>Caspian Sea</td>\n",
       "      <td>0</td>\n",
       "      <td>180487</td>\n",
       "      <td>WDBII</td>\n",
       "      <td>2000-03-17</td>\n",
       "      <td>POINT (50.79740 41.75100)</td>\n",
       "    </tr>\n",
       "    <tr>\n",
       "      <th>1</th>\n",
       "      <td>59600</td>\n",
       "      <td>145425</td>\n",
       "      <td>2</td>\n",
       "      <td>229.0</td>\n",
       "      <td>Lake Huron</td>\n",
       "      <td>2</td>\n",
       "      <td>180488</td>\n",
       "      <td>WDBII</td>\n",
       "      <td>2009-11-15</td>\n",
       "      <td>POINT (-82.25590 44.95830)</td>\n",
       "    </tr>\n",
       "    <tr>\n",
       "      <th>2</th>\n",
       "      <td>31722</td>\n",
       "      <td>145429</td>\n",
       "      <td>2</td>\n",
       "      <td>1642.0</td>\n",
       "      <td>Lake Baikal</td>\n",
       "      <td>0</td>\n",
       "      <td>180492</td>\n",
       "      <td>WDBII</td>\n",
       "      <td>2013-10-02</td>\n",
       "      <td>POINT (107.70160 53.41450)</td>\n",
       "    </tr>\n",
       "    <tr>\n",
       "      <th>3</th>\n",
       "      <td>31153</td>\n",
       "      <td>145430</td>\n",
       "      <td>2</td>\n",
       "      <td>446.0</td>\n",
       "      <td>Great Bear Lake</td>\n",
       "      <td>2</td>\n",
       "      <td>180493</td>\n",
       "      <td>WDBII</td>\n",
       "      <td>2012-02-02</td>\n",
       "      <td>POINT (-120.95320 66.00930)</td>\n",
       "    </tr>\n",
       "    <tr>\n",
       "      <th>4</th>\n",
       "      <td>27200</td>\n",
       "      <td>145431</td>\n",
       "      <td>2</td>\n",
       "      <td>614.0</td>\n",
       "      <td>Great Slave Lake</td>\n",
       "      <td>2</td>\n",
       "      <td>180494</td>\n",
       "      <td>WDBII</td>\n",
       "      <td>2006-08-20</td>\n",
       "      <td>POINT (-113.76280 61.77760)</td>\n",
       "    </tr>\n",
       "    <tr>\n",
       "      <th>5</th>\n",
       "      <td>29600</td>\n",
       "      <td>145432</td>\n",
       "      <td>2</td>\n",
       "      <td>706.0</td>\n",
       "      <td>Lake Malawi</td>\n",
       "      <td>1</td>\n",
       "      <td>180495</td>\n",
       "      <td>WDBII</td>\n",
       "      <td>2010-04-05</td>\n",
       "      <td>POINT (34.50980 -11.96430)</td>\n",
       "    </tr>\n",
       "    <tr>\n",
       "      <th>6</th>\n",
       "      <td>25667</td>\n",
       "      <td>145433</td>\n",
       "      <td>2</td>\n",
       "      <td>64.0</td>\n",
       "      <td>Lake Erie</td>\n",
       "      <td>2</td>\n",
       "      <td>180496</td>\n",
       "      <td>WDBII</td>\n",
       "      <td>2013-10-28</td>\n",
       "      <td>POINT (-81.23580 42.15550)</td>\n",
       "    </tr>\n",
       "    <tr>\n",
       "      <th>7</th>\n",
       "      <td>24514</td>\n",
       "      <td>145434</td>\n",
       "      <td>2</td>\n",
       "      <td>36.0</td>\n",
       "      <td>Lake Winnipeg</td>\n",
       "      <td>2</td>\n",
       "      <td>180497</td>\n",
       "      <td>WDBII</td>\n",
       "      <td>2011-11-10</td>\n",
       "      <td>POINT (-97.81140 52.60310)</td>\n",
       "    </tr>\n",
       "    <tr>\n",
       "      <th>8</th>\n",
       "      <td>19000</td>\n",
       "      <td>145435</td>\n",
       "      <td>2</td>\n",
       "      <td>244.0</td>\n",
       "      <td>Lake Ontario</td>\n",
       "      <td>2</td>\n",
       "      <td>180498</td>\n",
       "      <td>WDBII</td>\n",
       "      <td>2007-02-15</td>\n",
       "      <td>POINT (-77.75920 43.66710)</td>\n",
       "    </tr>\n",
       "    <tr>\n",
       "      <th>9</th>\n",
       "      <td>17891</td>\n",
       "      <td>145436</td>\n",
       "      <td>2</td>\n",
       "      <td>230.0</td>\n",
       "      <td>Lake Ladoga</td>\n",
       "      <td>0</td>\n",
       "      <td>180499</td>\n",
       "      <td>WDBII</td>\n",
       "      <td>2003-04-15</td>\n",
       "      <td>POINT (31.46100 60.84660)</td>\n",
       "    </tr>\n",
       "    <tr>\n",
       "      <th>10</th>\n",
       "      <td>16996</td>\n",
       "      <td>145437</td>\n",
       "      <td>2</td>\n",
       "      <td>26.0</td>\n",
       "      <td>Lake Balkash</td>\n",
       "      <td>0</td>\n",
       "      <td>180500</td>\n",
       "      <td>WDBII</td>\n",
       "      <td>2009-10-31</td>\n",
       "      <td>POINT (75.63210 46.28420)</td>\n",
       "    </tr>\n",
       "    <tr>\n",
       "      <th>11</th>\n",
       "      <td>1350</td>\n",
       "      <td>145438</td>\n",
       "      <td>2</td>\n",
       "      <td>11.0</td>\n",
       "      <td>Lake Chad</td>\n",
       "      <td>1</td>\n",
       "      <td>180501</td>\n",
       "      <td>WDBII</td>\n",
       "      <td>2004-02-12</td>\n",
       "      <td>POINT (14.05640 13.19400)</td>\n",
       "    </tr>\n",
       "    <tr>\n",
       "      <th>12</th>\n",
       "      <td>4380</td>\n",
       "      <td>145439</td>\n",
       "      <td>2</td>\n",
       "      <td>82.0</td>\n",
       "      <td>Storsaimen</td>\n",
       "      <td>0</td>\n",
       "      <td>180502</td>\n",
       "      <td>WDBII</td>\n",
       "      <td>2009-02-06</td>\n",
       "      <td>POINT (28.43380 62.04520)</td>\n",
       "    </tr>\n",
       "    <tr>\n",
       "      <th>13</th>\n",
       "      <td>9894</td>\n",
       "      <td>145440</td>\n",
       "      <td>2</td>\n",
       "      <td>127.0</td>\n",
       "      <td>Lake Onega</td>\n",
       "      <td>0</td>\n",
       "      <td>180503</td>\n",
       "      <td>WDBII</td>\n",
       "      <td>2009-08-18</td>\n",
       "      <td>POINT (35.38220 61.78530)</td>\n",
       "    </tr>\n",
       "    <tr>\n",
       "      <th>14</th>\n",
       "      <td>8264</td>\n",
       "      <td>145442</td>\n",
       "      <td>2</td>\n",
       "      <td>26.0</td>\n",
       "      <td>Lake Nicaragua</td>\n",
       "      <td>2</td>\n",
       "      <td>180505</td>\n",
       "      <td>WDBII</td>\n",
       "      <td>2000-01-04</td>\n",
       "      <td>POINT (-85.39040 11.53220)</td>\n",
       "    </tr>\n",
       "    <tr>\n",
       "      <th>15</th>\n",
       "      <td>7850</td>\n",
       "      <td>145443</td>\n",
       "      <td>2</td>\n",
       "      <td>124.0</td>\n",
       "      <td>Lake Athabasca</td>\n",
       "      <td>2</td>\n",
       "      <td>180506</td>\n",
       "      <td>WDBII</td>\n",
       "      <td>2009-04-18</td>\n",
       "      <td>POINT (-109.35070 59.17340)</td>\n",
       "    </tr>\n",
       "    <tr>\n",
       "      <th>16</th>\n",
       "      <td>8372</td>\n",
       "      <td>145444</td>\n",
       "      <td>2</td>\n",
       "      <td>281.0</td>\n",
       "      <td>Lake Titicaca</td>\n",
       "      <td>3</td>\n",
       "      <td>180507</td>\n",
       "      <td>WDBII</td>\n",
       "      <td>2008-03-17</td>\n",
       "      <td>POINT (-69.36480 -15.88250)</td>\n",
       "    </tr>\n",
       "    <tr>\n",
       "      <th>17</th>\n",
       "      <td>6405</td>\n",
       "      <td>145445</td>\n",
       "      <td>2</td>\n",
       "      <td>109.0</td>\n",
       "      <td>Lake Turkana</td>\n",
       "      <td>1</td>\n",
       "      <td>180508</td>\n",
       "      <td>WDBII</td>\n",
       "      <td>2011-01-17</td>\n",
       "      <td>POINT (36.17900 3.58800)</td>\n",
       "    </tr>\n",
       "    <tr>\n",
       "      <th>18</th>\n",
       "      <td>5650</td>\n",
       "      <td>145446</td>\n",
       "      <td>2</td>\n",
       "      <td>219.0</td>\n",
       "      <td>Reinsjøen</td>\n",
       "      <td>2</td>\n",
       "      <td>180509</td>\n",
       "      <td>WDBII</td>\n",
       "      <td>2013-07-22</td>\n",
       "      <td>POINT (-102.37840 57.28700)</td>\n",
       "    </tr>\n",
       "    <tr>\n",
       "      <th>19</th>\n",
       "      <td>6236</td>\n",
       "      <td>145447</td>\n",
       "      <td>2</td>\n",
       "      <td>668.0</td>\n",
       "      <td>Issyk-Kul</td>\n",
       "      <td>0</td>\n",
       "      <td>6236</td>\n",
       "      <td>WDBII</td>\n",
       "      <td>2005-06-09</td>\n",
       "      <td>POINT (77.26630 42.43810)</td>\n",
       "    </tr>\n",
       "    <tr>\n",
       "      <th>20</th>\n",
       "      <td>5650</td>\n",
       "      <td>145448</td>\n",
       "      <td>2</td>\n",
       "      <td>106.0</td>\n",
       "      <td>Vänern</td>\n",
       "      <td>0</td>\n",
       "      <td>180511</td>\n",
       "      <td>WDBII</td>\n",
       "      <td>2002-02-25</td>\n",
       "      <td>POINT (13.27080 58.90760)</td>\n",
       "    </tr>\n",
       "    <tr>\n",
       "      <th>21</th>\n",
       "      <td>82100</td>\n",
       "      <td>145425</td>\n",
       "      <td>2</td>\n",
       "      <td>406.0</td>\n",
       "      <td>Lake Superior</td>\n",
       "      <td>2</td>\n",
       "      <td>180488</td>\n",
       "      <td>WDBII</td>\n",
       "      <td>1999-08-12</td>\n",
       "      <td>POINT (-87.75670 47.53670)</td>\n",
       "    </tr>\n",
       "    <tr>\n",
       "      <th>22</th>\n",
       "      <td>58000</td>\n",
       "      <td>145425</td>\n",
       "      <td>2</td>\n",
       "      <td>281.0</td>\n",
       "      <td>Lake Michigan</td>\n",
       "      <td>2</td>\n",
       "      <td>180488</td>\n",
       "      <td>WDBII</td>\n",
       "      <td>2004-10-03</td>\n",
       "      <td>POINT (-86.76120 44.01350)</td>\n",
       "    </tr>\n",
       "    <tr>\n",
       "      <th>23</th>\n",
       "      <td>5370</td>\n",
       "      <td>145451</td>\n",
       "      <td>2</td>\n",
       "      <td>12.0</td>\n",
       "      <td>Lake Winnipegosis</td>\n",
       "      <td>2</td>\n",
       "      <td>180514</td>\n",
       "      <td>WDBII</td>\n",
       "      <td>2014-03-03</td>\n",
       "      <td>POINT (-100.14350 52.55660)</td>\n",
       "    </tr>\n",
       "    <tr>\n",
       "      <th>24</th>\n",
       "      <td>4624</td>\n",
       "      <td>145455</td>\n",
       "      <td>2</td>\n",
       "      <td>7.0</td>\n",
       "      <td>Lake Manitoba</td>\n",
       "      <td>2</td>\n",
       "      <td>180518</td>\n",
       "      <td>WDBII</td>\n",
       "      <td>2012-07-20</td>\n",
       "      <td>POINT (-98.64230 50.91950)</td>\n",
       "    </tr>\n",
       "    <tr>\n",
       "      <th>25</th>\n",
       "      <td>4848</td>\n",
       "      <td>145456</td>\n",
       "      <td>2</td>\n",
       "      <td>165.0</td>\n",
       "      <td>Lake Nipigon</td>\n",
       "      <td>2</td>\n",
       "      <td>180519</td>\n",
       "      <td>WDBII</td>\n",
       "      <td>2014-05-25</td>\n",
       "      <td>POINT (-88.52620 49.83060)</td>\n",
       "    </tr>\n",
       "    <tr>\n",
       "      <th>26</th>\n",
       "      <td>4560</td>\n",
       "      <td>145458</td>\n",
       "      <td>2</td>\n",
       "      <td>26.0</td>\n",
       "      <td>Lake Taymyr</td>\n",
       "      <td>0</td>\n",
       "      <td>180521</td>\n",
       "      <td>WDBII</td>\n",
       "      <td>2013-06-08</td>\n",
       "      <td>POINT (102.09230 74.57720)</td>\n",
       "    </tr>\n",
       "    <tr>\n",
       "      <th>27</th>\n",
       "      <td>4168</td>\n",
       "      <td>145459</td>\n",
       "      <td>2</td>\n",
       "      <td>64.0</td>\n",
       "      <td>Lake of the Woods</td>\n",
       "      <td>2</td>\n",
       "      <td>180522</td>\n",
       "      <td>WDBII</td>\n",
       "      <td>2006-10-02</td>\n",
       "      <td>POINT (-94.70270 49.28720)</td>\n",
       "    </tr>\n",
       "    <tr>\n",
       "      <th>28</th>\n",
       "      <td>1320</td>\n",
       "      <td>145461</td>\n",
       "      <td>2</td>\n",
       "      <td>10.0</td>\n",
       "      <td>Cedar Lake</td>\n",
       "      <td>2</td>\n",
       "      <td>180524</td>\n",
       "      <td>WDBII</td>\n",
       "      <td>2003-01-27</td>\n",
       "      <td>POINT (-100.12550 53.54960)</td>\n",
       "    </tr>\n",
       "    <tr>\n",
       "      <th>29</th>\n",
       "      <td>1070</td>\n",
       "      <td>145466</td>\n",
       "      <td>2</td>\n",
       "      <td>96.0</td>\n",
       "      <td>Päijänne</td>\n",
       "      <td>0</td>\n",
       "      <td>180529</td>\n",
       "      <td>WDBII</td>\n",
       "      <td>2006-04-27</td>\n",
       "      <td>POINT (25.96000 62.18730)</td>\n",
       "    </tr>\n",
       "    <tr>\n",
       "      <th>30</th>\n",
       "      <td>3833</td>\n",
       "      <td>145470</td>\n",
       "      <td>2</td>\n",
       "      <td>NaN</td>\n",
       "      <td>Dubawnt Lake</td>\n",
       "      <td>2</td>\n",
       "      <td>180533</td>\n",
       "      <td>WDBII</td>\n",
       "      <td>2010-11-22</td>\n",
       "      <td>POINT (-101.40300 63.11100)</td>\n",
       "    </tr>\n",
       "    <tr>\n",
       "      <th>31</th>\n",
       "      <td>3555</td>\n",
       "      <td>145471</td>\n",
       "      <td>2</td>\n",
       "      <td>15.0</td>\n",
       "      <td>Lake Peipus</td>\n",
       "      <td>0</td>\n",
       "      <td>180534</td>\n",
       "      <td>WDBII</td>\n",
       "      <td>2001-04-14</td>\n",
       "      <td>POINT (27.54290 58.54280)</td>\n",
       "    </tr>\n",
       "    <tr>\n",
       "      <th>32</th>\n",
       "      <td>3115</td>\n",
       "      <td>145476</td>\n",
       "      <td>2</td>\n",
       "      <td>NaN</td>\n",
       "      <td>Lake Amadjuak</td>\n",
       "      <td>11</td>\n",
       "      <td>180539</td>\n",
       "      <td>WDBII</td>\n",
       "      <td>2016-11-05</td>\n",
       "      <td>POINT (-71.22790 64.90840)</td>\n",
       "    </tr>\n",
       "    <tr>\n",
       "      <th>33</th>\n",
       "      <td>68800</td>\n",
       "      <td>145426</td>\n",
       "      <td>2</td>\n",
       "      <td>83.0</td>\n",
       "      <td>Lake Victoria</td>\n",
       "      <td>1</td>\n",
       "      <td>180489</td>\n",
       "      <td>WDBII</td>\n",
       "      <td>2004-12-30</td>\n",
       "      <td>POINT (32.90780 -1.10070)</td>\n",
       "    </tr>\n",
       "  </tbody>\n",
       "</table>\n",
       "</div>"
      ],
      "text/plain": [
       "      area      id  level  max_depth               name  parent_id  \\\n",
       "0   371000  145424      2     1025.0        Caspian Sea          0   \n",
       "1    59600  145425      2      229.0         Lake Huron          2   \n",
       "2    31722  145429      2     1642.0        Lake Baikal          0   \n",
       "3    31153  145430      2      446.0    Great Bear Lake          2   \n",
       "4    27200  145431      2      614.0   Great Slave Lake          2   \n",
       "5    29600  145432      2      706.0        Lake Malawi          1   \n",
       "6    25667  145433      2       64.0          Lake Erie          2   \n",
       "7    24514  145434      2       36.0      Lake Winnipeg          2   \n",
       "8    19000  145435      2      244.0       Lake Ontario          2   \n",
       "9    17891  145436      2      230.0        Lake Ladoga          0   \n",
       "10   16996  145437      2       26.0       Lake Balkash          0   \n",
       "11    1350  145438      2       11.0          Lake Chad          1   \n",
       "12    4380  145439      2       82.0         Storsaimen          0   \n",
       "13    9894  145440      2      127.0         Lake Onega          0   \n",
       "14    8264  145442      2       26.0     Lake Nicaragua          2   \n",
       "15    7850  145443      2      124.0     Lake Athabasca          2   \n",
       "16    8372  145444      2      281.0      Lake Titicaca          3   \n",
       "17    6405  145445      2      109.0       Lake Turkana          1   \n",
       "18    5650  145446      2      219.0          Reinsjøen          2   \n",
       "19    6236  145447      2      668.0          Issyk-Kul          0   \n",
       "20    5650  145448      2      106.0             Vänern          0   \n",
       "21   82100  145425      2      406.0      Lake Superior          2   \n",
       "22   58000  145425      2      281.0      Lake Michigan          2   \n",
       "23    5370  145451      2       12.0  Lake Winnipegosis          2   \n",
       "24    4624  145455      2        7.0      Lake Manitoba          2   \n",
       "25    4848  145456      2      165.0       Lake Nipigon          2   \n",
       "26    4560  145458      2       26.0        Lake Taymyr          0   \n",
       "27    4168  145459      2       64.0  Lake of the Woods          2   \n",
       "28    1320  145461      2       10.0         Cedar Lake          2   \n",
       "29    1070  145466      2       96.0           Päijänne          0   \n",
       "30    3833  145470      2        NaN       Dubawnt Lake          2   \n",
       "31    3555  145471      2       15.0        Lake Peipus          0   \n",
       "32    3115  145476      2        NaN      Lake Amadjuak         11   \n",
       "33   68800  145426      2       83.0      Lake Victoria          1   \n",
       "\n",
       "    sibling_id source        date                     geometry  \n",
       "0       180487  WDBII  2000-03-17    POINT (50.79740 41.75100)  \n",
       "1       180488  WDBII  2009-11-15   POINT (-82.25590 44.95830)  \n",
       "2       180492  WDBII  2013-10-02   POINT (107.70160 53.41450)  \n",
       "3       180493  WDBII  2012-02-02  POINT (-120.95320 66.00930)  \n",
       "4       180494  WDBII  2006-08-20  POINT (-113.76280 61.77760)  \n",
       "5       180495  WDBII  2010-04-05   POINT (34.50980 -11.96430)  \n",
       "6       180496  WDBII  2013-10-28   POINT (-81.23580 42.15550)  \n",
       "7       180497  WDBII  2011-11-10   POINT (-97.81140 52.60310)  \n",
       "8       180498  WDBII  2007-02-15   POINT (-77.75920 43.66710)  \n",
       "9       180499  WDBII  2003-04-15    POINT (31.46100 60.84660)  \n",
       "10      180500  WDBII  2009-10-31    POINT (75.63210 46.28420)  \n",
       "11      180501  WDBII  2004-02-12    POINT (14.05640 13.19400)  \n",
       "12      180502  WDBII  2009-02-06    POINT (28.43380 62.04520)  \n",
       "13      180503  WDBII  2009-08-18    POINT (35.38220 61.78530)  \n",
       "14      180505  WDBII  2000-01-04   POINT (-85.39040 11.53220)  \n",
       "15      180506  WDBII  2009-04-18  POINT (-109.35070 59.17340)  \n",
       "16      180507  WDBII  2008-03-17  POINT (-69.36480 -15.88250)  \n",
       "17      180508  WDBII  2011-01-17     POINT (36.17900 3.58800)  \n",
       "18      180509  WDBII  2013-07-22  POINT (-102.37840 57.28700)  \n",
       "19        6236  WDBII  2005-06-09    POINT (77.26630 42.43810)  \n",
       "20      180511  WDBII  2002-02-25    POINT (13.27080 58.90760)  \n",
       "21      180488  WDBII  1999-08-12   POINT (-87.75670 47.53670)  \n",
       "22      180488  WDBII  2004-10-03   POINT (-86.76120 44.01350)  \n",
       "23      180514  WDBII  2014-03-03  POINT (-100.14350 52.55660)  \n",
       "24      180518  WDBII  2012-07-20   POINT (-98.64230 50.91950)  \n",
       "25      180519  WDBII  2014-05-25   POINT (-88.52620 49.83060)  \n",
       "26      180521  WDBII  2013-06-08   POINT (102.09230 74.57720)  \n",
       "27      180522  WDBII  2006-10-02   POINT (-94.70270 49.28720)  \n",
       "28      180524  WDBII  2003-01-27  POINT (-100.12550 53.54960)  \n",
       "29      180529  WDBII  2006-04-27    POINT (25.96000 62.18730)  \n",
       "30      180533  WDBII  2010-11-22  POINT (-101.40300 63.11100)  \n",
       "31      180534  WDBII  2001-04-14    POINT (27.54290 58.54280)  \n",
       "32      180539  WDBII  2016-11-05   POINT (-71.22790 64.90840)  \n",
       "33      180489  WDBII  2004-12-30    POINT (32.90780 -1.10070)  "
      ]
     },
     "execution_count": 63,
     "metadata": {},
     "output_type": "execute_result"
    }
   ],
   "source": [
    "gdf"
   ]
  },
  {
   "cell_type": "markdown",
   "metadata": {},
   "source": [
    "Finally, let's save the `GeoDataFrame` as a shapefile, which you can open in your GIS software of choice:"
   ]
  },
  {
   "cell_type": "code",
   "execution_count": 64,
   "metadata": {},
   "outputs": [],
   "source": [
    "gdf.to_file('lake_points.shp')"
   ]
  },
  {
   "cell_type": "markdown",
   "metadata": {},
   "source": [
    "Load your shapefile into a GIS software package such as ArcGIS Pro or QGIS - does everything look right? If not, go back through the steps and see if you can find where you went wrong. \n",
    "\n",
    "Can you make a map that looks like this one below in your GIS software of choice? Give it a try! \n",
    "\n",
    "By the end of the module, you should be able to put together a map like this using python.\n",
    "\n",
    "![](imgs/lake_map.png)\n",
    "\n",
    "Obviously, this is only a beginning, but hopefully you've gotten a taste for what we can do with python. Feel free to explore more, read through some documentation, and ask questions."
   ]
  }
 ],
 "metadata": {
  "kernelspec": {
   "display_name": "Python 3 (ipykernel)",
   "language": "python",
   "name": "python3"
  },
  "language_info": {
   "codemirror_mode": {
    "name": "ipython",
    "version": 3
   },
   "file_extension": ".py",
   "mimetype": "text/x-python",
   "name": "python",
   "nbconvert_exporter": "python",
   "pygments_lexer": "ipython3",
   "version": "3.12.2"
  }
 },
 "nbformat": 4,
 "nbformat_minor": 4
}
