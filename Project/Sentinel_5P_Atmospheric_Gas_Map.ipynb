{
 "cells": [
  {
   "cell_type": "markdown",
   "id": "a6a79d32-a388-489a-80fd-c2fd6d92d8af",
   "metadata": {},
   "source": [
    "# Sentinel 5P Atmospheric Gas Map Tool\n",
    "\n",
    "## Overview\n",
    "This Jupyter notebook will alow you to view the atmospheric gas data from Sentinel 5P on a map of Iberia, along with the Canary and Baleric islands. The gas options are as follows:\n",
    "- Methane (CH4)\n",
    "- Nitrogen dioxide (NO2)\n",
    "- Carbon monoxide (CO)\n",
    "- Formaldehyde (HCHO)\n",
    "- Ozone (O3)\n",
    "- Sulfur dioxide (SO2)\n",
    "\n",
    "Please run the code in order and follow any instructions given. Should you have any problems, please refer to the relevant section in the user manual. \n",
    "\n",
    "<u>WARNING - If you wish to run this tool twice (for different dates) then the kernel will need to be reset each time.</u> \n",
    "\n",
    "Run the section below imports the packages needed to run the script."
   ]
  },
  {
   "cell_type": "code",
   "execution_count": null,
   "id": "437fc337-f5cf-42f2-af1e-45e9822a49ad",
   "metadata": {},
   "outputs": [],
   "source": [
    "import folium\n",
    "import pandas as pd\n",
    "import matplotlib.pyplot as plt\n",
    "import geopandas as gpd\n",
    "import openeo\n",
    "from shapely.geometry import shape, Point\n",
    "from rasterio import warp\n",
    "from matplotlib import cm\n",
    "from matplotlib.colors import Normalize\n",
    "import folium.raster_layers\n",
    "import rasterio\n",
    "from rasterio import warp\n",
    "import numpy as np"
   ]
  },
  {
   "cell_type": "markdown",
   "id": "aa23035e-08c0-48b3-a487-2f37c44391a7",
   "metadata": {},
   "source": [
    "## Connect to OpenEO\n",
    "\n",
    "The code below establishes a connection with the Copernicus openEO platform which provides a wide variety of earth observation datasets\n",
    "\n",
    "- If this does not read as 'Authorised successfully' or 'Authenticated using refresh token', then please ensure that you have completed the setup steps as outlined in section 2.6 of the user guide. \n",
    "\n",
    "- If you have followed the steps in section 2.6 correctly and the problem persists, please look at https://dataspace.copernicus.eu/news for any information about service interruptions. \n",
    "\n",
    "- If there is no news of service problems you can raise a ticket here: https://helpcenter.dataspace.copernicus.eu/hc/en-gb/requests/new"
   ]
  },
  {
   "cell_type": "code",
   "execution_count": null,
   "id": "480ef419-3c6b-4ebf-813f-7d61b584b9f7",
   "metadata": {},
   "outputs": [],
   "source": [
    "connection = openeo.connect(url=\"openeo.dataspace.copernicus.eu\")\n",
    "connection.authenticate_oidc()"
   ]
  },
  {
   "cell_type": "markdown",
   "id": "9e50b470-4595-4f13-9af7-3f32702e40e3",
   "metadata": {},
   "source": [
    "## View list of landfills. \n",
    "\n",
    "For easy reference the complete list of landfills can be viewed by running the following piece of code."
   ]
  },
  {
   "cell_type": "code",
   "execution_count": null,
   "id": "f36381e0-f14a-41ec-b925-2a9307cda9ab",
   "metadata": {},
   "outputs": [],
   "source": [
    "landfills = gpd.read_file(r\"C:\\GIS_Course\\EGM722\\Project\\Data\\PZ_landfill_point4326.geojson\")\n",
    "\n",
    "landfills"
   ]
  },
  {
   "cell_type": "markdown",
   "id": "dc1bb17d-286f-46ea-8894-0955fe6fbf3e",
   "metadata": {},
   "source": [
    "## Choosing date and gas type\n",
    "\n",
    "This downloads the gas concentration data for a particular date. The two parameters you need to modify before running the code are:\n",
    "\n",
    "- temporal_extent = [\"2023-01-31\", \"2023-03-12\"] (change this to your chosen date range using \"YYYY-MM-DD\" format)\n",
    "- bands=[\"CH4\"], (change this to either one of 'CO', 'HCHO', 'NO2', 'O3', 'SO2', 'CH4')\n",
    "\n",
    "Please note that the temporal extent dates <u>MUST BE IDENTICAL</u> because we are only choosing a single date.\n",
    "\n",
    "If you recieve an error message of 'NoDataAvailable' then please check the list of available data above and try again."
   ]
  },
  {
   "cell_type": "code",
   "execution_count": null,
   "id": "34fbe07c-5d0d-4f07-8552-214690c457c7",
   "metadata": {},
   "outputs": [],
   "source": [
    "cube = connection.load_collection(\n",
    "    collection_id=\"SENTINEL_5P_L2\", \n",
    "    temporal_extent=[\"2023-02-24\", \"2023-02-24\"], # Select a date range using the format YYYY-MM-DD\n",
    "    spatial_extent={\"west\": -19.5, \"south\": 20.0, \"east\": 9.0, \"north\": 44.5}, # these coordinates define the area to be downloaded (Peninsular Spain, the Canaries and Baleric islands along with some of North Africa)\n",
    "    bands=[\"CH4\"], # The options for gas monitoring are: 'CO', 'HCHO', 'NO2', 'O3', 'SO2', 'CH4'\n",
    ")\n",
    "cube.download(\"Sentinel-5P_Spain.GTiff\")\n"
   ]
  },
  {
   "cell_type": "markdown",
   "id": "a76a55ea-f184-4d8d-ab01-16a454e1f63b",
   "metadata": {},
   "source": [
    "## Fitting the data to the map\n",
    "\n",
    "Currently the data is projected in EPSG:4326 and to display correctly on the map it needs to be EPSG:3857. Running the script does that. You do not need to change anything here. \n",
    "\n",
    "NOTE - If you recieve the error \"CPLE_AppDefinedError: Deleting Sentinel-5P_Spain3857.GTiff failed: Permission denied\" this is because the tool has already been run once and needs to have its kernel reset.\n"
   ]
  },
  {
   "cell_type": "code",
   "execution_count": null,
   "id": "0238b20a-b089-4a2f-a761-d06b0f79c3e3",
   "metadata": {},
   "outputs": [],
   "source": [
    "# The destination coordinate reference system (CRS)\n",
    "dst_crs = 'EPSG:3857'\n",
    "\n",
    "# Open the gas data file that is in ESPG:4326 and calculate its bounds\n",
    "with rasterio.open('Sentinel-5P_Spain.GTiff') as src:\n",
    "    transform, width, height = rasterio.warp.calculate_default_transform(\n",
    "        src.crs, dst_crs, src.width, src.height, *src.bounds)\n",
    "    \n",
    "    # Copy and update the metadata from the source dataset\n",
    "    kwargs = src.meta.copy()\n",
    "    kwargs.update({\n",
    "        'crs': dst_crs,\n",
    "        'transform': transform,\n",
    "        'width': width,\n",
    "        'height': height\n",
    "    })\n",
    "    \n",
    "    # Create a new gas data file in EPSG:3857 \n",
    "    with rasterio.open('Sentinel-5P_Spain3857.GTiff', 'w', **kwargs) as dst: #if you wish to run this without restarting the kernel, you will need to rename this\n",
    "        # Loop through each band in the source dataset\n",
    "        for ind in range(1, src.count + 1):\n",
    "            # Reproject each band and write it to the destination dataset\n",
    "            rasterio.warp.reproject(\n",
    "                source=rasterio.band(src, ind),\n",
    "                destination=rasterio.band(dst, ind),\n",
    "                src_transform=src.transform,\n",
    "                src_crs=src.crs,\n",
    "                dst_transform=transform,\n",
    "                dst_crs=dst_crs,\n",
    "                resampling=rasterio.warp.Resampling.nearest)"
   ]
  },
  {
   "cell_type": "markdown",
   "id": "d1b1974c-4e89-4062-9249-52fa558d39d4",
   "metadata": {},
   "source": [
    "## Viewing the data. \n",
    "\n",
    "This section of code can be run to produce the map. The landfills are also shown for reference and when clicked will display their name. \n",
    "\n",
    "The warning \"...Geometry is in a geographic CRS. Results from 'centroid' are likely incorrect...\" can be ignored. "
   ]
  },
  {
   "cell_type": "code",
   "execution_count": null,
   "id": "1ab5c771-f978-4ef5-a0d1-fc07a96f0487",
   "metadata": {},
   "outputs": [],
   "source": [
    "# This section loads the map \n",
    "\n",
    "#This is the reprojected gas data\n",
    "gas_data = r'C:\\GIS_Course\\EGM722\\Project\\Sentinel-5P_Spain3857.GTiff'\n",
    "\n",
    "# Open raster file, load values and prepare them to be displayed.\n",
    "dataset = rasterio.open(gas_data, 'r')  \n",
    "rasdata = dataset.read()[0]  \n",
    "rasdata_normed = rasdata / rasdata.max() * 10  \n",
    "                                 \n",
    "# When the data is displayed, this says to ignore values of zero. \n",
    "non_zero_values = rasdata[rasdata != 0]\n",
    "min_value = non_zero_values.min()\n",
    "max_value = non_zero_values.max()\n",
    "normalized_data = (non_zero_values - min_value) / (max_value - min_value)\n",
    "\n",
    "# Create a colourmap for the non-zero values\n",
    "colourmap = cm.turbo \n",
    "colourmap_index = np.zeros_like(rasdata, dtype=np.float64)\n",
    "colourmap_index[rasdata != 0] = normalized_data\n",
    "\n",
    "#Loading in the landfill locations\n",
    "PZ_landfill_Locations = gpd.read_file(r\"C:\\GIS_Course\\EGM722\\Project\\Data\\PZ_landfill_point4326.geojson\")\n",
    "\n",
    "# This creates the map and centres it on the geometries.\n",
    "centroids = PZ_landfill_Locations.geometry.centroid\n",
    "center = [centroids.y.mean(), centroids.x.mean()]\n",
    "gas_concentration_map = folium.Map(location=center, zoom_start=5, tiles='CartoDB Positron')\n",
    "\n",
    "# Adding the PreZero landfill locations to the map and making them clickable for info\n",
    "for feature in PZ_landfill_Locations.iterfeatures():\n",
    "    # Extract feature number from properties\n",
    "    feature_number = feature['properties']['Landfill'] \n",
    "    # Extract coordinates of the feature\n",
    "    coordinates = feature['geometry']['coordinates']\n",
    "    # Create a marker with label for each feature\n",
    "    folium.Marker(location=[coordinates[1], coordinates[0]], \n",
    "                  popup=f\"Feature {feature_number}\").add_to(gas_concentration_map)\n",
    "\n",
    "# Adding the gas concentration dataset to the map\n",
    "folium.raster_layers.ImageOverlay(\n",
    "    image=colourmap(colourmap_index),\n",
    "    name='gas concentration in atmosphere',\n",
    "    opacity=0.6,\n",
    "    bounds=[[20.0, -19.5], [44.4, 9.0]],  # this should be the same as the spatial extent of cube \n",
    "    interactive=False,\n",
    "    cross_origin=False,\n",
    "    zindex=1\n",
    ").add_to(gas_concentration_map)\n",
    "\n",
    "# Creating the legend for gas concentration\n",
    "fig, ax = plt.subplots(figsize=(8, 0.2))\n",
    "cbar = plt.colorbar(cm.ScalarMappable(norm=Normalize(vmin=min_value, vmax=max_value),\n",
    "                                      cmap=colourmap),\n",
    "                    cax=ax, orientation='horizontal')\n",
    "cbar.set_label('Parts per billion for CH4 or mol/m2 for all other gasses')\n",
    "\n",
    "# Display the map\n",
    "gas_concentration_map"
   ]
  },
  {
   "cell_type": "markdown",
   "id": "1f08a16d-b8e8-470d-8ba3-78fcc8eb89c0",
   "metadata": {},
   "source": [
    "## Interpreting this map\n",
    "\n",
    "- CH4 measurements are column averaged dry air mixing ratio of methane (parts per billion). Ranges of 1,600 - 2,000\n",
    "- NO2 measurements are Nitrogen dioxide tropospheric column (mol/m2). Ranges of 0 - 0.0003\n",
    "- CO measurements are Carbon monoxide total column (mol/m2). Ranges of 0 - 0.1\n",
    "- HCHO measurements are Formaldehyde troposheric vertical column (mol/m2). Ranges of 0 - 0.001\n",
    "- O3 measurements are Ozone total column (mol/m2). Ranges of 0 - 0.36\n",
    "- SO2 measurements are Sulfur dioxide total column (mol/m2). Ranges of 0 - 0.01\n",
    "\n",
    "More information: https://docs.sentinel-hub.com/api/latest/data/sentinel-5p-l2/"
   ]
  }
 ],
 "metadata": {
  "kernelspec": {
   "display_name": "Python 3 (ipykernel)",
   "language": "python",
   "name": "python3"
  },
  "language_info": {
   "codemirror_mode": {
    "name": "ipython",
    "version": 3
   },
   "file_extension": ".py",
   "mimetype": "text/x-python",
   "name": "python",
   "nbconvert_exporter": "python",
   "pygments_lexer": "ipython3",
   "version": "3.12.2"
  }
 },
 "nbformat": 4,
 "nbformat_minor": 5
}
