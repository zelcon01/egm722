{
 "cells": [
  {
   "cell_type": "code",
   "execution_count": null,
   "id": "780c32a7-375e-4f46-91c6-4f4836c3148f",
   "metadata": {},
   "outputs": [],
   "source": [
    "# This section installs packages needed to run the script. \n",
    "\n",
    "import folium  # Importing GeoJson class from folium library for visualizing geospatial data\n",
    "import pandas as pd  # Importing pandas library and aliasing it as pd for data analysis and manipulation\n",
    "import matplotlib.pyplot as plt  # Importing pyplot module from matplotlib library and aliasing it as plt for plotting\n",
    "import scipy.signal  # Importing signal module from scipy library for signal processing\n",
    "import numpy as np  # Importing numpy library and aliasing it as np for numerical computing\n",
    "import geopandas as gpd  # Importing geopandas library and aliasing it as gpd for working with geographic data\n",
    "import openeo  # Importing openeo library for working with the OpenEO API for Earth Observation data processing\n",
    "from shapely.geometry import shape  # Importing shape class from geometry module of shapely library for geometric operations\n"
   ]
  },
  {
   "cell_type": "code",
   "execution_count": null,
   "id": "6fcd63d8-7504-4e73-9650-83d089691f41",
   "metadata": {},
   "outputs": [],
   "source": [
    "#This establishes a connection with the Sentenel satelite data. \n",
    "\n",
    "connection = openeo.connect(url=\"openeo.dataspace.copernicus.eu\")\n",
    "connection.authenticate_oidc()\n",
    "\n",
    "#if this does not read as 'Authorised successfully' or 'Authenticated using refresh token', then please ensure that you have completed the setup steps as outlined in section 2.6 of the user guide. \n",
    "#if you have followed the steps in section 2.6 correctly and the problem persists, please look at https://dataspace.copernicus.eu/news for any information about service interruptions. \n",
    "#if there is no news of service problems you can raise a ticket here: https://helpcenter.dataspace.copernicus.eu/hc/en-gb/requests/new"
   ]
  },
  {
   "cell_type": "code",
   "execution_count": null,
   "id": "2335c82e-657d-4af2-bf80-73cf4c133436",
   "metadata": {},
   "outputs": [],
   "source": [
    "# This section displays a list of all the PreZero landfill sites\n",
    "\n",
    "landfills = gpd.read_file(r\"C:\\GIS_Course\\EGM722\\Project\\Data\\PZ_landfill_point4326.geojson\")\n",
    "\n",
    "landfills"
   ]
  },
  {
   "cell_type": "code",
   "execution_count": null,
   "id": "6776d253-0420-4c33-a7e0-0d057e8d306b",
   "metadata": {},
   "outputs": [],
   "source": [
    "# This section displays a map of all the landfill sites. Click any site for its name. \n",
    "\n",
    "# This creates the map and centres it on the geometries. \n",
    "centroids = landfills.geometry.centroid\n",
    "center = [centroids.y.mean(), centroids.x.mean()]\n",
    "site_map = folium.Map(location=center, zoom_start=5)\n",
    "\n",
    "# Adding the landfill locations to the map\n",
    "for feature in landfills.iterfeatures():\n",
    "    # Extract feature number from properties\n",
    "    #feature_number = feature['properties']['DIRECCION'] #this is for the test landfill\n",
    "    feature_number = feature['properties']['Landfill'] #this is for the PreZero ones\n",
    "    \n",
    "    # Extract coordinates of the feature\n",
    "    coordinates = feature['geometry']['coordinates']\n",
    "    \n",
    "    # Create a marker with label for each feature\n",
    "    folium.Marker(location=[coordinates[1], coordinates[0]], \n",
    "                  popup=f\"Feature {feature_number}\").add_to(site_map)\n",
    "\n",
    "# Display the map\n",
    "site_map\n",
    "\n",
    "# the warning \"...Geometry is in a geographic CRS. Results from 'centroid' are likely incorrect...\" can be ignored. "
   ]
  },
  {
   "cell_type": "code",
   "execution_count": null,
   "id": "e4226dae-6ebf-48c8-9770-5064a2c47125",
   "metadata": {},
   "outputs": [],
   "source": [
    "# This section applies a buffer of 5000m to each landfill for the analysis.\n",
    "\n",
    "# loading dataframe\n",
    "landfill_5000m = gpd.read_file(r\"C:\\GIS_Course\\EGM722\\Project\\Data\\PZ_landfill_point4326.geojson\")\n",
    "\n",
    "# The dataset is projected in EPSG:4326 with its units in degrees. This needs to be converted to CRS to EPSG:2062, which is in metres. \n",
    "landfill_5000m = landfill_5000m.to_crs(epsg=2062)\n",
    "\n",
    "# Now the dataframe is converted, a buffer of 5000m is added to each point\n",
    "landfill_5000m['geometry'] = landfill_5000m.buffer(5000)\n",
    "\n",
    "# Now the buffered data needs to be converted back to EPSG:4326 because the Sentinel data is projected in EPSG:4326.\n",
    "landfill_5000m = landfill_5000m.to_crs(epsg=4326)\n",
    "\n",
    "# The time series analysis requires that A GeoJSON format file is used for the analised areas, so this bit produces a file suitable for that.\n",
    "landfill_5000m_geojson = landfill_5000m.__geo_interface__\n",
    "\n"
   ]
  },
  {
   "cell_type": "code",
   "execution_count": null,
   "id": "5971bd93-2dd1-4cef-a21a-958c5247b09d",
   "metadata": {},
   "outputs": [],
   "source": [
    "# This selects the specific dataset for the time series analysis. \n",
    "\n",
    "s5cube_timeseries = connection.load_collection(\n",
    "    \"SENTINEL_5P_L2\",  \n",
    "    temporal_extent=[\"2021-08-01\", \"2021-10-31\"], # Select a date range using the format YYYY-MM-DD\n",
    "    bands=[\"CH4\"], # The options for gas monitoring are: 'CO', 'HCHO', 'NO2', 'O3', 'SO2', 'CH4'\n",
    ")"
   ]
  },
  {
   "cell_type": "code",
   "execution_count": null,
   "id": "5d166542-6fe5-424c-93ca-c9c637f32c93",
   "metadata": {
    "scrolled": true
   },
   "outputs": [],
   "source": [
    "# This section takes the mean values of the selected gas within each of the buffered landfill geometries for every dataset within the selected time period. \n",
    "# Sentinel 5P will provide daily values of any gas you select. \n",
    "\n",
    "timeseries = s5cube_timeseries.aggregate_spatial(geometries=landfill_5000m_geojson, reducer=\"mean\")\n",
    "\n",
    "#This saves the results as a .CSV file which can be viewed in Microsoft Excel or a similar package. It will be saved in the indicated location.\n",
    "job = timeseries.execute_batch(out_format=\"CSV\", title=\"Gas timeseries\")\n",
    "\n",
    "job.get_results().download_file(\"Gas_Timeseries_results/Gas_timeseries.csv\")\n",
    "\n",
    "pd.read_csv(\"Gas_Timeseries_results/Gas_timeseries.csv\", index_col=0)"
   ]
  },
  {
   "cell_type": "code",
   "execution_count": null,
   "id": "474e7b63-20a9-42f2-a555-225f4d9fac10",
   "metadata": {},
   "outputs": [],
   "source": [
    "#This section defines the graph where the time series is plotted\n",
    "\n",
    "def plot_timeseries(filename, figsize=(15, 10)): #here you can specify how big the graph is on the screen\n",
    "    df = pd.read_csv(filename, index_col=0)\n",
    "    df.index = pd.to_datetime(df.index)\n",
    "    df = df.sort_index()\n",
    "\n",
    "    fig, ax = plt.subplots(figsize=figsize, dpi=90)\n",
    "    df.groupby(\"feature_index\")[\"avg(band_0)\"].plot(marker=\"o\", ax=ax)\n",
    "    ax.set_title(filename.split(\"/\")[-1])\n",
    "    ax.set_ylabel(\"Parts per billion for CH4 or mol/m2 for all other gasses\")\n",
    "    \n",
    "    # Calculate the minimum and maximum values\n",
    "    ymin = df[\"avg(band_0)\"].min()\n",
    "    ymax = df[\"avg(band_0)\"].max()\n",
    "\n",
    "    # Add 10% to the minimum and maximum values\n",
    "    ymin_with_margin = ymin - 0.1 * (ymax - ymin)\n",
    "    ymax_with_margin = ymax + 0.1 * (ymax - ymin)\n",
    "\n",
    "    ax.set_ylim(ymin_with_margin, ymax_with_margin)\n",
    "    \n",
    "    ax.legend(title=\"parcel id\", loc='upper left', bbox_to_anchor=(1.02, 1), ncol=2)\n",
    "    ax.xaxis.set_major_locator(plt.MaxNLocator(30))\n",
    "    ax.grid(True)\n",
    "\n",
    "plot_timeseries(\"Gas_Timeseries_results/Gas_timeseries.csv\")\n",
    "\n",
    "#CH4 measurements are column averaged dry air mixing ratio of methane (parts per billion). Ranges of 1,600 - 2,000\n",
    "#NO2 measurements are Nitrogen dioxide tropospheric column (mol/m2). Ranges of 0 - 0.0003\n",
    "#CO measurements are Carbon monoxide total column (mol/m2). Ranges of 0 - 0.1\n",
    "#HCHO measurements are Formaldehyde troposheric vertical column (mol/m2). Ranges of 0 - 0.001\n",
    "#O3 measurements are Ozone total column (mol/m2). Ranges of 0 - 0.36\n",
    "#SO2 measurements are Sulfur dioxide total column (mol/m2). Ranges of 0 - 0.01\n",
    "#More information: https://docs.sentinel-hub.com/api/latest/data/sentinel-5p-l2/"
   ]
  },
  {
   "cell_type": "code",
   "execution_count": null,
   "id": "145d4c29-e03c-43f4-aaec-4e5b306e7e72",
   "metadata": {},
   "outputs": [],
   "source": []
  }
 ],
 "metadata": {
  "kernelspec": {
   "display_name": "Python 3 (ipykernel)",
   "language": "python",
   "name": "python3"
  },
  "language_info": {
   "codemirror_mode": {
    "name": "ipython",
    "version": 3
   },
   "file_extension": ".py",
   "mimetype": "text/x-python",
   "name": "python",
   "nbconvert_exporter": "python",
   "pygments_lexer": "ipython3",
   "version": "3.12.2"
  }
 },
 "nbformat": 4,
 "nbformat_minor": 5
}
