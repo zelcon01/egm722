{
 "cells": [
  {
   "cell_type": "code",
   "execution_count": null,
   "id": "0538b5de-fb3e-4985-a169-ec1fa3cdb844",
   "metadata": {},
   "outputs": [],
   "source": [
    "# https://documentation.dataspace.copernicus.eu/notebook-samples/openeo/NDVI_Timeseries.html"
   ]
  },
  {
   "cell_type": "code",
   "execution_count": 80,
   "id": "35db1050-b36d-421d-9a56-95c9fc850f5a",
   "metadata": {},
   "outputs": [],
   "source": [
    "import json\n",
    "import os\n",
    "import pandas as pd\n",
    "import matplotlib.pyplot as plt\n",
    "import scipy.signal\n",
    "import numpy as np\n",
    "import geopandas as gpd\n",
    "import openeo\n",
    "from shapely.geometry import shape\n",
    "from shapely.geometry import Point"
   ]
  },
  {
   "cell_type": "code",
   "execution_count": 81,
   "id": "6fcd63d8-7504-4e73-9650-83d089691f41",
   "metadata": {},
   "outputs": [
    {
     "name": "stdout",
     "output_type": "stream",
     "text": [
      "Authenticated using refresh token.\n"
     ]
    },
    {
     "data": {
      "text/plain": [
       "<Connection to 'https://openeo.dataspace.copernicus.eu/openeo/1.2/' with OidcBearerAuth>"
      ]
     },
     "execution_count": 81,
     "metadata": {},
     "output_type": "execute_result"
    }
   ],
   "source": [
    "connection = openeo.connect(url=\"openeo.dataspace.copernicus.eu\")\n",
    "connection.authenticate_oidc()"
   ]
  },
  {
   "cell_type": "code",
   "execution_count": 82,
   "id": "b9549942-27b3-418c-b991-5480bc22ad1c",
   "metadata": {},
   "outputs": [],
   "source": [
    "def read_json(filename: str) -> dict:\n",
    "    with open(filename,encoding=\"utf-8\") as input:\n",
    "        field = json.load(input)\n",
    "    return field\n",
    "\n",
    "fields = read_json(r\"C:\\GIS_Course\\EGM722\\Project\\Data\\test_landfill.geojson\")\n"
   ]
  },
  {
   "cell_type": "code",
   "execution_count": 84,
   "id": "5f063dd9-8fa5-4ed7-99d1-d7460e2caea8",
   "metadata": {},
   "outputs": [],
   "source": [
    "s2cube = connection.load_collection(\n",
    "    \"SENTINEL_5P_L2\",\n",
    "    temporal_extent=[\"2021-08-01\", \"2021-10-31\"],\n",
    "    bands=[\"CH4\"],\n",
    ")"
   ]
  },
  {
   "cell_type": "code",
   "execution_count": 36,
   "id": "994773bc-6fc6-49aa-9271-468d2cf0109d",
   "metadata": {},
   "outputs": [],
   "source": [
    "#swir1 = s2cube.band(\"B11\")  # SWIR band 1\n",
    "#swir2 = s2cube.band(\"B12\")  # SWIR band 2\n",
    "#swir_sum = swir1 + swir2  # Add SWIR bands together\n",
    "#avg_swir = swir_sum / 2  # Divide the sum by 2"
   ]
  },
  {
   "cell_type": "code",
   "execution_count": 85,
   "id": "5d166542-6fe5-424c-93ca-c9c637f32c93",
   "metadata": {},
   "outputs": [],
   "source": [
    "timeseries = s2cube.aggregate_spatial(geometries=fields, reducer=\"mean\")\n"
   ]
  },
  {
   "cell_type": "code",
   "execution_count": 97,
   "id": "af82057c-473f-4b8d-98f6-cf46984b13e5",
   "metadata": {},
   "outputs": [
    {
     "name": "stdout",
     "output_type": "stream",
     "text": [
      "0:00:00 Job 'j-2404125d6c764a8393431206da10902c': send 'start'\n",
      "0:00:14 Job 'j-2404125d6c764a8393431206da10902c': created (progress N/A)\n",
      "0:00:20 Job 'j-2404125d6c764a8393431206da10902c': created (progress N/A)\n",
      "0:00:26 Job 'j-2404125d6c764a8393431206da10902c': created (progress N/A)\n",
      "0:00:34 Job 'j-2404125d6c764a8393431206da10902c': created (progress N/A)\n",
      "0:00:45 Job 'j-2404125d6c764a8393431206da10902c': running (progress N/A)\n",
      "0:00:57 Job 'j-2404125d6c764a8393431206da10902c': running (progress N/A)\n",
      "0:01:13 Job 'j-2404125d6c764a8393431206da10902c': running (progress N/A)\n",
      "0:01:33 Job 'j-2404125d6c764a8393431206da10902c': running (progress N/A)\n",
      "0:01:57 Job 'j-2404125d6c764a8393431206da10902c': running (progress N/A)\n",
      "0:02:27 Job 'j-2404125d6c764a8393431206da10902c': running (progress N/A)\n",
      "0:03:05 Job 'j-2404125d6c764a8393431206da10902c': finished (progress N/A)\n"
     ]
    }
   ],
   "source": [
    "job = timeseries.execute_batch(out_format=\"CSV\", title=\"SWIR timeseries\")"
   ]
  },
  {
   "cell_type": "code",
   "execution_count": 98,
   "id": "5500a7e8-1ad9-4fc4-9f2d-f6a628a3cebf",
   "metadata": {},
   "outputs": [
    {
     "data": {
      "text/html": [
       "<div>\n",
       "<style scoped>\n",
       "    .dataframe tbody tr th:only-of-type {\n",
       "        vertical-align: middle;\n",
       "    }\n",
       "\n",
       "    .dataframe tbody tr th {\n",
       "        vertical-align: top;\n",
       "    }\n",
       "\n",
       "    .dataframe thead th {\n",
       "        text-align: right;\n",
       "    }\n",
       "</style>\n",
       "<table border=\"1\" class=\"dataframe\">\n",
       "  <thead>\n",
       "    <tr style=\"text-align: right;\">\n",
       "      <th></th>\n",
       "      <th>feature_index</th>\n",
       "      <th>avg(band_0)</th>\n",
       "    </tr>\n",
       "    <tr>\n",
       "      <th>date</th>\n",
       "      <th></th>\n",
       "      <th></th>\n",
       "    </tr>\n",
       "  </thead>\n",
       "  <tbody>\n",
       "    <tr>\n",
       "      <th>2021-08-03T00:00:00.000Z</th>\n",
       "      <td>0</td>\n",
       "      <td>NaN</td>\n",
       "    </tr>\n",
       "    <tr>\n",
       "      <th>2021-08-01T00:00:00.000Z</th>\n",
       "      <td>0</td>\n",
       "      <td>NaN</td>\n",
       "    </tr>\n",
       "    <tr>\n",
       "      <th>2021-08-02T00:00:00.000Z</th>\n",
       "      <td>0</td>\n",
       "      <td>NaN</td>\n",
       "    </tr>\n",
       "    <tr>\n",
       "      <th>2021-08-23T00:00:00.000Z</th>\n",
       "      <td>0</td>\n",
       "      <td>NaN</td>\n",
       "    </tr>\n",
       "    <tr>\n",
       "      <th>2021-08-24T00:00:00.000Z</th>\n",
       "      <td>0</td>\n",
       "      <td>NaN</td>\n",
       "    </tr>\n",
       "    <tr>\n",
       "      <th>...</th>\n",
       "      <td>...</td>\n",
       "      <td>...</td>\n",
       "    </tr>\n",
       "    <tr>\n",
       "      <th>2021-10-09T00:00:00.000Z</th>\n",
       "      <td>0</td>\n",
       "      <td>NaN</td>\n",
       "    </tr>\n",
       "    <tr>\n",
       "      <th>2021-10-08T00:00:00.000Z</th>\n",
       "      <td>0</td>\n",
       "      <td>1899.230713</td>\n",
       "    </tr>\n",
       "    <tr>\n",
       "      <th>2021-10-29T00:00:00.000Z</th>\n",
       "      <td>0</td>\n",
       "      <td>NaN</td>\n",
       "    </tr>\n",
       "    <tr>\n",
       "      <th>2021-10-28T00:00:00.000Z</th>\n",
       "      <td>0</td>\n",
       "      <td>NaN</td>\n",
       "    </tr>\n",
       "    <tr>\n",
       "      <th>2021-10-30T00:00:00.000Z</th>\n",
       "      <td>0</td>\n",
       "      <td>NaN</td>\n",
       "    </tr>\n",
       "  </tbody>\n",
       "</table>\n",
       "<p>82 rows × 2 columns</p>\n",
       "</div>"
      ],
      "text/plain": [
       "                          feature_index  avg(band_0)\n",
       "date                                                \n",
       "2021-08-03T00:00:00.000Z              0          NaN\n",
       "2021-08-01T00:00:00.000Z              0          NaN\n",
       "2021-08-02T00:00:00.000Z              0          NaN\n",
       "2021-08-23T00:00:00.000Z              0          NaN\n",
       "2021-08-24T00:00:00.000Z              0          NaN\n",
       "...                                 ...          ...\n",
       "2021-10-09T00:00:00.000Z              0          NaN\n",
       "2021-10-08T00:00:00.000Z              0  1899.230713\n",
       "2021-10-29T00:00:00.000Z              0          NaN\n",
       "2021-10-28T00:00:00.000Z              0          NaN\n",
       "2021-10-30T00:00:00.000Z              0          NaN\n",
       "\n",
       "[82 rows x 2 columns]"
      ]
     },
     "execution_count": 98,
     "metadata": {},
     "output_type": "execute_result"
    }
   ],
   "source": [
    "job.get_results().download_file(\"swir-results/timeseries-basic.csv\")\n",
    "\n",
    "pd.read_csv(\"swir-results/timeseries-basic.csv\", index_col=0)\n"
   ]
  },
  {
   "cell_type": "code",
   "execution_count": 108,
   "id": "06b28df9-63c4-4fd0-93ab-26ff4efef1c7",
   "metadata": {},
   "outputs": [],
   "source": [
    "def plot_timeseries(filename, figsize=(15, 3)):\n",
    "    df = pd.read_csv(filename, index_col=0)\n",
    "    df.index = pd.to_datetime(df.index)\n",
    "    df = df.sort_index()\n",
    "\n",
    "    fig, ax = plt.subplots(figsize=figsize, dpi=90)\n",
    "    df.groupby(\"feature_index\")[\"avg(band_0)\"].plot(marker=\"o\", ax=ax)\n",
    "    ax.set_title(filename.split(\"/\")[-1])\n",
    "    ax.set_ylabel(\"CH4\")\n",
    "    ax.set_ylim(0, 5000)\n",
    "    ax.legend(title=\"parcel id\", loc='upper left', bbox_to_anchor=(1.02, 1), ncol=2)\n",
    "    ax.xaxis.set_major_locator(plt.MaxNLocator(20))\n",
    "    ax.grid(True)\n"
   ]
  },
  {
   "cell_type": "code",
   "execution_count": 109,
   "id": "d964edb7-1a72-455b-be83-82eff642c9f3",
   "metadata": {},
   "outputs": [
    {
     "data": {
      "image/png": "[encoded data removed]",
      "text/plain": [
       "<Figure size 1350x270 with 1 Axes>"
      ]
     },
     "metadata": {},
     "output_type": "display_data"
    }
   ],
   "source": [
    "plot_timeseries(\"swir-results/timeseries-basic.csv\")"
   ]
  },
  {
   "cell_type": "code",
   "execution_count": null,
   "id": "c2e08010-892b-4f29-9920-2068ebd6884c",
   "metadata": {},
   "outputs": [],
   "source": [
    "s2cube = connection.load_collection(\n",
    "    \"SENTINEL2_L2A\",\n",
    "    temporal_extent=[\"2020-06-01\", \"2020-10-01\"],\n",
    "    bands=[\"B04\", \"B08\", \"SCL\"],\n",
    ")\n",
    "red = s2cube.band(\"B04\")\n",
    "nir = s2cube.band(\"B08\")\n",
    "ndvi = (nir - red) / (nir + red)"
   ]
  },
  {
   "cell_type": "code",
   "execution_count": null,
   "id": "0a7a8997-2686-4506-9853-bf3df64fcfa7",
   "metadata": {},
   "outputs": [],
   "source": [
    "scl = s2cube.band(\"SCL\")\n",
    "mask = ~((scl == 4) | (scl == 5))"
   ]
  },
  {
   "cell_type": "code",
   "execution_count": null,
   "id": "eb9763ea-553b-4ca6-851a-ae2c89821738",
   "metadata": {},
   "outputs": [],
   "source": [
    "# 2D gaussian kernel\n",
    "g = scipy.signal.windows.gaussian(11, std=1.6)\n",
    "kernel = np.outer(g, g)\n",
    "kernel = kernel / kernel.sum()\n",
    "\n",
    "# Morphological dilation of mask: convolution + threshold\n",
    "mask = mask.apply_kernel(kernel)\n",
    "mask = mask > 0.1"
   ]
  },
  {
   "cell_type": "code",
   "execution_count": null,
   "id": "d3575972-122b-4b27-a7d5-006c67ee7b5e",
   "metadata": {},
   "outputs": [],
   "source": [
    "ndvi_masked = ndvi.mask(mask)\n",
    "timeseries_masked = ndvi_masked.aggregate_spatial(geometries=fields, reducer=\"mean\")"
   ]
  },
  {
   "cell_type": "code",
   "execution_count": null,
   "id": "eaa0e702-54a9-43d3-8c4e-9083a125a42d",
   "metadata": {},
   "outputs": [],
   "source": [
    "job = timeseries_masked.execute_batch(out_format=\"CSV\", title=\"Maked NDVI timeseries\")"
   ]
  },
  {
   "cell_type": "code",
   "execution_count": null,
   "id": "3b562ca6-b943-416d-8e99-11aa2c9d5080",
   "metadata": {},
   "outputs": [],
   "source": [
    "job.get_results().download_file(\"ndvi-results/timeseries-masked.csv\")"
   ]
  },
  {
   "cell_type": "code",
   "execution_count": null,
   "id": "c21d3804-94c7-488a-8c21-eb7decf14e51",
   "metadata": {},
   "outputs": [],
   "source": [
    "plot_timeseries(\"ndvi-results/timeseries-masked.csv\")"
   ]
  },
  {
   "cell_type": "code",
   "execution_count": null,
   "id": "bf2c99fe-e4d7-43eb-b732-963b39a58c61",
   "metadata": {},
   "outputs": [],
   "source": [
    "udf = openeo.UDF(\n",
    "    \"\"\"\n",
    "from scipy.signal import savgol_filter\n",
    "from openeo.udf import XarrayDataCube\n",
    "\n",
    "def apply_datacube(cube: XarrayDataCube, context: dict) -> XarrayDataCube:\n",
    "    array = cube.get_array()\n",
    "    filled = array.interpolate_na(dim='t')\n",
    "    smoothed_array = savgol_filter(filled.values, 5, 2, axis=0)\n",
    "    return DataCube(xarray.DataArray(smoothed_array, dims=array. dims,coords=array.coords))\n",
    "\"\"\"\n",
    ")"
   ]
  },
  {
   "cell_type": "code",
   "execution_count": null,
   "id": "5ab254c5-c150-460b-9077-ad0e94267ab2",
   "metadata": {},
   "outputs": [],
   "source": [
    "ndvi_smoothed = ndvi_masked.apply_dimension(code=udf, dimension=\"t\")"
   ]
  },
  {
   "cell_type": "code",
   "execution_count": null,
   "id": "a70ff441-ba00-451f-a66f-8533ca237344",
   "metadata": {},
   "outputs": [],
   "source": [
    "timeseries_smoothed = ndvi_smoothed.aggregate_spatial(geometries=fields, reducer=\"mean\")\n"
   ]
  },
  {
   "cell_type": "code",
   "execution_count": null,
   "id": "117c3f08-5af1-468c-bc22-d7b520ee78ce",
   "metadata": {},
   "outputs": [],
   "source": [
    "job = timeseries_smoothed.execute_batch(\n",
    "    out_format=\"CSV\", title=\"Smoothed NDVI timeseries\"\n",
    ")"
   ]
  },
  {
   "cell_type": "code",
   "execution_count": null,
   "id": "59608702-7ad6-41a7-99b4-be2ba040c889",
   "metadata": {},
   "outputs": [],
   "source": [
    "job.get_results().download_file(\"ndvi-results/timeseries-smoothed.csv\")\n"
   ]
  },
  {
   "cell_type": "code",
   "execution_count": null,
   "id": "71c931a0-e8b2-4cdd-aea1-38030a464448",
   "metadata": {},
   "outputs": [],
   "source": [
    "plot_timeseries(\"ndvi-results/timeseries-smoothed.csv\")\n"
   ]
  },
  {
   "cell_type": "code",
   "execution_count": null,
   "id": "f42d66ca-493a-4c25-a8a6-0416dbd52ddb",
   "metadata": {},
   "outputs": [],
   "source": []
  }
 ],
 "metadata": {
  "kernelspec": {
   "display_name": "Python 3 (ipykernel)",
   "language": "python",
   "name": "python3"
  },
  "language_info": {
   "codemirror_mode": {
    "name": "ipython",
    "version": 3
   },
   "file_extension": ".py",
   "mimetype": "text/x-python",
   "name": "python",
   "nbconvert_exporter": "python",
   "pygments_lexer": "ipython3",
   "version": "3.12.2"
  }
 },
 "nbformat": 4,
 "nbformat_minor": 5
}
