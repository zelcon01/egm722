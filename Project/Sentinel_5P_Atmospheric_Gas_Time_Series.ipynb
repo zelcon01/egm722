{
 "cells": [
  {
   "cell_type": "markdown",
   "id": "adbd13de-3850-4cec-97bc-ecaae0f38d6b",
   "metadata": {},
   "source": [
    "# Sentinel 5P Atmospheric Gas Timeseries Tool\n",
    "\n",
    "## Overview\n",
    "This Jupyter notebook will allow you to monitor the atmosphere above a landfill on a daily basis for the following gasses:\n",
    "- Methane (CH4)\n",
    "- Nitrogen dioxide (NO2)\n",
    "- Carbon monoxide (CO)\n",
    "- Formaldehyde (HCHO)\n",
    "- Ozone (O3)\n",
    "- Sulfur dioxide (SO2)\n",
    "\n",
    "Please run the code in order and follow any instructions given. Should you have any problems, please refer to the relevant section in the user manual. \n",
    "\n",
    "The section below imports the packages needed to run the script."
   ]
  },
  {
   "cell_type": "code",
   "execution_count": null,
   "id": "a4fa2b4c-f11d-49f3-9e5c-f514a882b937",
   "metadata": {},
   "outputs": [],
   "source": [
    "import folium  # Importing GeoJson class from folium library for visualizing geospatial data\n",
    "import pandas as pd  # Importing pandas library and aliasing it as pd for data analysis and manipulation\n",
    "import matplotlib.pyplot as plt  # Importing pyplot module from matplotlib library and aliasing it as plt for plotting\n",
    "import scipy.signal  # Importing signal module from scipy library for signal processing\n",
    "import numpy as np  # Importing numpy library and aliasing it as np for numerical computing\n",
    "import geopandas as gpd  # Importing geopandas library and aliasing it as gpd for working with geographic data\n",
    "import openeo  # Importing openeo library for working with the OpenEO API for Earth Observation data processing\n",
    "from shapely.geometry import shape  # Importing shape class from geometry module of shapely library for geometric operations"
   ]
  },
  {
   "cell_type": "markdown",
   "id": "54e9ed11-f8c8-42bd-a1e5-72170e8ead33",
   "metadata": {},
   "source": [
    "## Connect to OpenEO\n",
    "\n",
    "The code below establishes a connection with the Copernicus openEO platform which provides a wide variety of earth observation datasets\n",
    "\n",
    "- If this does not read as 'Authorised successfully' or 'Authenticated using refresh token', then please ensure that you have completed the setup steps as outlined in section (section goes here) of the user guide. \n",
    "\n",
    "- If you have followed the steps in section (section goes here) correctly and the problem persists, please look at https://dataspace.copernicus.eu/news for any information about service interruptions. \n",
    "\n",
    "- If there is no news of service problems you can raise a ticket here: https://helpcenter.dataspace.copernicus.eu/hc/en-gb/requests/new"
   ]
  },
  {
   "cell_type": "code",
   "execution_count": null,
   "id": "25811d45-a4db-48fd-9a11-9013a5bc6f8f",
   "metadata": {},
   "outputs": [],
   "source": [
    "connection = openeo.connect(url=\"openeo.dataspace.copernicus.eu\")\n",
    "connection.authenticate_oidc()"
   ]
  },
  {
   "cell_type": "markdown",
   "id": "c78e8e2d-f38a-48ca-bb77-0a08f9d6f9e2",
   "metadata": {},
   "source": [
    "## View list of landfills. \n",
    "\n",
    "For easy reference the complete list of landfills can be viewed by running the following piece of code."
   ]
  },
  {
   "cell_type": "code",
   "execution_count": null,
   "id": "d7227106-a340-4381-b80d-0c175fd27644",
   "metadata": {},
   "outputs": [],
   "source": [
    "landfills = gpd.read_file(r\"C:\\GIS_Course\\EGM722\\Project\\Data\\PZ_landfill_point4326.geojson\")\n",
    "\n",
    "landfills"
   ]
  },
  {
   "cell_type": "markdown",
   "id": "323fea5c-ad27-46f6-87cd-b04f48c08cc5",
   "metadata": {},
   "source": [
    "## View location of landfills. \n",
    "\n",
    "This section displays a map of all the landfill sites. Click any site for its name. \n",
    "\n",
    "NOTE: the warning \"...Geometry is in a geographic CRS. Results from 'centroid' are likely incorrect...\" can be ignored. "
   ]
  },
  {
   "cell_type": "code",
   "execution_count": null,
   "id": "9a48b9f3-abdb-4d1c-a143-c3f4b8a955ca",
   "metadata": {},
   "outputs": [],
   "source": [
    "# This creates the map and centres it on the geometries. \n",
    "centroids = landfills.geometry.centroid\n",
    "centre = [centroids.y.mean(), centroids.x.mean()]\n",
    "site_map = folium.Map(location=centre, zoom_start=5)\n",
    "\n",
    "# Adding the landfill locations to the map\n",
    "for feature in landfills.iterfeatures():\n",
    "    # Extract feature number from properties\n",
    "    feature_number = feature['properties']['Landfill'] #this is for the PreZero ones\n",
    "    \n",
    "    # Extract coordinates of the feature\n",
    "    coordinates = feature['geometry']['coordinates']\n",
    "    \n",
    "    # Create a marker with label for each feature\n",
    "    folium.Marker(location=[coordinates[1], coordinates[0]], \n",
    "                  popup=f\"Feature {feature_number}\").add_to(site_map)\n",
    "\n",
    "# Display the map\n",
    "site_map"
   ]
  },
  {
   "cell_type": "markdown",
   "id": "e0d8f3d0-f5a9-4450-b50f-951a42572219",
   "metadata": {},
   "source": [
    "## Adding 10,000 metre radius buffer to landfills \n",
    "\n",
    "Because gas exists as a cloud above the site, the area around the landfill is as important to minitor as the air directly above it. This section applies a buffer of 10,000m to each landfill for the analysis."
   ]
  },
  {
   "cell_type": "code",
   "execution_count": null,
   "id": "97b898c7-5a4f-4bf2-bc20-32afb5a301eb",
   "metadata": {},
   "outputs": [],
   "source": [
    "# loading dataframe\n",
    "landfill_10000m = landfills\n",
    "\n",
    "# The dataset is projected in EPSG:4326 with its units in degrees. This needs to be converted to CRS to EPSG:2062, which is in metres. \n",
    "landfill_10000m = landfill_10000m.to_crs(epsg=2062)\n",
    "\n",
    "# Now the dataframe is converted, a buffer of 5000m is added to each point\n",
    "landfill_10000m['geometry'] = landfill_10000m.buffer(10000)\n",
    "\n",
    "# Now the buffered data needs to be converted back to EPSG:4326 because the Sentinel data is projected in EPSG:4326.\n",
    "landfill_10000m = landfill_10000m.to_crs(epsg=4326)\n",
    "\n",
    "# The time series analysis requires that A GeoJSON format file is used for the analised areas, so this bit produces a file suitable for that.\n",
    "landfill_10000m_geojson = landfill_10000m.__geo_interface__"
   ]
  },
  {
   "cell_type": "markdown",
   "id": "1c9b4465-3b50-48ca-942b-631f7202d574",
   "metadata": {},
   "source": [
    "# Choose date range and gas type\n",
    "Here you can to choose the range of dates you wish to analise and the gas type to be monitored. \n",
    "\n",
    "The two parameters you need to modify before running the code are: \n",
    "- temporal_extent = [\"2023-01-31\", \"2023-03-12\"] (change this to your chosen date range using \"YYYY-MM-DD\" format)\n",
    "- bands=[\"CH4\"], (change this to either one of 'CO', 'HCHO', 'NO2', 'O3', 'SO2', 'CH4')"
   ]
  },
  {
   "cell_type": "code",
   "execution_count": null,
   "id": "96db662f-5b21-4ff2-88be-17a2ccde88cc",
   "metadata": {},
   "outputs": [],
   "source": [
    "s5cube_timeseries = connection.load_collection(\n",
    "    \"SENTINEL_5P_L2\",  \n",
    "    temporal_extent=[\"2024-01-01\", \"2024-02-28\"], # Select a date range using the format YYYY-MM-DD\n",
    "    bands=[\"CH4\"], \n",
    ")"
   ]
  },
  {
   "cell_type": "markdown",
   "id": "d8be44ce-620c-4c24-b5dd-e99f8c82f0bb",
   "metadata": {
    "scrolled": true
   },
   "source": [
    "## Running the Analysis\n",
    "Here, no modification by you is needed. The code below runs the analysis. \n",
    "\n",
    "NOTE: This analysis will take several minutes to complete, when I ran the tool, it took aproximately 5 minutes for one month of data and 8 minutes for two months. Your milage may vary.\n",
    "\n",
    "Should you wish to view the data in a spreasheet, a .CSV file will be created where the prompt \"job.get_results().download_file\" indicates."
   ]
  },
  {
   "cell_type": "code",
   "execution_count": null,
   "id": "74df8396-7afd-4acf-8573-e83458239ecb",
   "metadata": {},
   "outputs": [],
   "source": [
    "timeseries = s5cube_timeseries.aggregate_spatial(geometries=landfill_10000m_geojson, reducer=\"mean\")\n",
    "\n",
    "#This saves the results as a .CSV file which can be viewed in Microsoft Excel or a similar package. It will be saved in the indicated location.\n",
    "job = timeseries.execute_batch(out_format=\"CSV\", title=\"Gas timeseries\")\n",
    "\n",
    "job.get_results().download_file(\"Gas_Timeseries_results/Gas_timeseries.csv\")\n",
    "\n",
    "pd.read_csv(\"Gas_Timeseries_results/Gas_timeseries.csv\", index_col=0)"
   ]
  },
  {
   "cell_type": "markdown",
   "id": "bf861bf6-235a-47cd-83e9-5ad4f0dbaef1",
   "metadata": {},
   "source": [
    "## Display the data on a chart. \n",
    "\n",
    "Please run the code below to display your analised data on a chart. \n",
    "\n",
    "If you only want to see data for a selection of landfills you can modify the following perameter:\n",
    "- selected_landfill_ids=[1, 2, 3, 4, 5, 6, 7, 8, 9, 10]\n",
    "\n",
    "WARNING: Viewing more than 10 landfills at a time isn't recommended as the datapoint colours repeat for more than 10 values. "
   ]
  },
  {
   "cell_type": "code",
   "execution_count": null,
   "id": "cc8e5f3f-958f-4232-a917-9dcc05d626e0",
   "metadata": {},
   "outputs": [],
   "source": [
    "def plot_timeseries(filename, selected_landfill_ids=None, figsize=(15, 7)):\n",
    "    df = pd.read_csv(filename, index_col=0)\n",
    "    df.index = pd.to_datetime(df.index)\n",
    "    df = df.sort_index()\n",
    "\n",
    "    fig, ax = plt.subplots(figsize=figsize, dpi=90)\n",
    "\n",
    "    if selected_landfill_ids:\n",
    "        df_selected = df[df['feature_index'].isin(selected_landfill_ids)]\n",
    "        for landfill_id, group in df_selected.groupby(\"feature_index\"):\n",
    "            group[\"avg(band_0)\"].plot(marker=\"o\", label=f\"Landfill {landfill_id}\", ax=ax)\n",
    "    else:\n",
    "        df.groupby(\"feature_index\")[\"avg(band_0)\"].plot(marker=\"o\", ax=ax)\n",
    "\n",
    "    ax.set_title(filename.split(\"/\")[-1])\n",
    "    ax.set_ylabel(\"Parts per billion for CH4 or mol/m2 for all other gases\")\n",
    "\n",
    "    ymin = df[\"avg(band_0)\"].min()\n",
    "    ymax = df[\"avg(band_0)\"].max()\n",
    "    ymin_with_margin = ymin - 0.1 * (ymax - ymin)\n",
    "    ymax_with_margin = ymax + 0.1 * (ymax - ymin)\n",
    "    ax.set_ylim(ymin_with_margin, ymax_with_margin)\n",
    "\n",
    "    ax.legend(title=\"Landfill id\", loc='upper left', bbox_to_anchor=(1.02, 1), ncol=2)\n",
    "    ax.xaxis.set_major_locator(plt.MaxNLocator(30))\n",
    "    ax.grid(True)\n",
    "\n",
    "# Change the selected landfill ids for the ones you want to view.\n",
    "plot_timeseries(\"Gas_Timeseries_results/Gas_timeseries.csv\", \n",
    "                \n",
    "                selected_landfill_ids=[23])\n"
   ]
  },
  {
   "cell_type": "markdown",
   "id": "04c7ad90-ba27-48c3-a666-847365e0e353",
   "metadata": {},
   "source": [
    "## Interpreting this graph\n",
    "\n",
    "- CH4 measurements are column averaged dry air mixing ratio of methane (parts per billion). Ranges of 1,600 - 2,000\n",
    "- NO2 measurements are Nitrogen dioxide tropospheric column (mol/m2). Ranges of 0 - 0.0003\n",
    "- CO measurements are Carbon monoxide total column (mol/m2). Ranges of 0 - 0.1\n",
    "- HCHO measurements are Formaldehyde troposheric vertical column (mol/m2). Ranges of 0 - 0.001\n",
    "- O3 measurements are Ozone total column (mol/m2). Ranges of 0 - 0.36\n",
    "- SO2 measurements are Sulfur dioxide total column (mol/m2). Ranges of 0 - 0.01\n",
    "\n",
    "More information: https://docs.sentinel-hub.com/api/latest/data/sentinel-5p-l2/"
   ]
  }
 ],
 "metadata": {
  "kernelspec": {
   "display_name": "Python 3 (ipykernel)",
   "language": "python",
   "name": "python3"
  },
  "language_info": {
   "codemirror_mode": {
    "name": "ipython",
    "version": 3
   },
   "file_extension": ".py",
   "mimetype": "text/x-python",
   "name": "python",
   "nbconvert_exporter": "python",
   "pygments_lexer": "ipython3",
   "version": "3.12.2"
  }
 },
 "nbformat": 4,
 "nbformat_minor": 5
}
