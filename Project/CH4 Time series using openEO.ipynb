{
 "cells": [
  {
   "cell_type": "code",
   "execution_count": null,
   "id": "0538b5de-fb3e-4985-a169-ec1fa3cdb844",
   "metadata": {},
   "outputs": [],
   "source": [
    "# https://documentation.dataspace.copernicus.eu/notebook-samples/openeo/NDVI_Timeseries.html"
   ]
  },
  {
   "cell_type": "code",
   "execution_count": 15,
   "id": "35db1050-b36d-421d-9a56-95c9fc850f5a",
   "metadata": {},
   "outputs": [],
   "source": [
    "import json\n",
    "import os\n",
    "import pandas as pd\n",
    "import matplotlib.pyplot as plt\n",
    "import scipy.signal\n",
    "import numpy as np\n",
    "import geopandas as gpd\n",
    "import openeo"
   ]
  },
  {
   "cell_type": "code",
   "execution_count": 16,
   "id": "6fcd63d8-7504-4e73-9650-83d089691f41",
   "metadata": {},
   "outputs": [
    {
     "name": "stdout",
     "output_type": "stream",
     "text": [
      "Authenticated using refresh token.\n"
     ]
    },
    {
     "data": {
      "text/plain": [
       "<Connection to 'https://openeo.dataspace.copernicus.eu/openeo/1.2/' with OidcBearerAuth>"
      ]
     },
     "execution_count": 16,
     "metadata": {},
     "output_type": "execute_result"
    }
   ],
   "source": [
    "connection = openeo.connect(url=\"openeo.dataspace.copernicus.eu\")\n",
    "connection.authenticate_oidc()"
   ]
  },
  {
   "cell_type": "code",
   "execution_count": 17,
   "id": "b9549942-27b3-418c-b991-5480bc22ad1c",
   "metadata": {},
   "outputs": [],
   "source": [
    "fields = json.loads(\n",
    "    \"\"\"{\n",
    "    \"type\": \"FeatureCollection\",\n",
    "    \"features\": [\n",
    "        {\"type\": \"Feature\", \"properties\": {}, \"geometry\": {\"type\": \"Polygon\", \"coordinates\": [[[5.055945487931457, 51.222709834076504], [5.064972484168688, 51.221122565090525], [5.064972484168688, 51.221122565090525], [5.067474954083448, 51.218249806779134], [5.064827929485983, 51.21689628072789], [5.05917785594747, 51.217191909908095], [5.053553857094518, 51.21807492332223], [5.055945487931457, 51.222709834076504]]]}}, \n",
    "        {\"type\": \"Feature\", \"properties\": {}, \"geometry\": {\"type\": \"Polygon\", \"coordinates\": [[[5.063345886679116, 51.23087606640057], [5.06604742694687, 51.22886710731809], [5.070627820472246, 51.22874440121892], [5.068403609708207, 51.22657208381529], [5.064823257492447, 51.22676051738515], [5.064892324615199, 51.2283032878514], [5.063641745941974, 51.2285757299238], [5.062340811262595, 51.227722351687945], [5.06076005158084, 51.228042312276536], [5.063345886679116, 51.23087606640057]]]}},\n",
    "        {\"type\": \"Feature\", \"properties\": {}, \"geometry\": {\"type\": \"Polygon\", \"coordinates\": [[[5.07163184674986, 51.23481147556147], [5.076706025697324, 51.23317590781036], [5.077828303041866, 51.233226237184724], [5.078024733866917, 51.23263978271262], [5.080771081607657, 51.23259097170763], [5.083734842574312, 51.23530464074437], [5.080957826735458, 51.23646091560258], [5.079752631651647, 51.23519531038643], [5.077238400183506, 51.23490534677628], [5.072856439300575, 51.23593546777778], [5.07163184674986, 51.23481147556147]]]}}, \n",
    "        {\"type\": \"Feature\", \"properties\": {}, \"geometry\": {\"type\": \"Polygon\", \"coordinates\": [[[5.083897244679042, 51.23510639883143], [5.081302408741335, 51.232922477780846], [5.082963802194108, 51.233146058575876], [5.084497702305552, 51.232672717580655], [5.085732850338428, 51.2340852086282], [5.083897244679042, 51.23510639883143]]]}}\n",
    "    ]}\n",
    "\"\"\"\n",
    ")"
   ]
  },
  {
   "cell_type": "code",
   "execution_count": 18,
   "id": "5f063dd9-8fa5-4ed7-99d1-d7460e2caea8",
   "metadata": {},
   "outputs": [],
   "source": [
    "s2cube = connection.load_collection(\n",
    "    \"SENTINEL2_L2A\",\n",
    "    temporal_extent=[\"2020-06-01\", \"2020-10-01\"],\n",
    "    bands=[\"B11\", \"B12\"],\n",
    ")"
   ]
  },
  {
   "cell_type": "code",
   "execution_count": 19,
   "id": "994773bc-6fc6-49aa-9271-468d2cf0109d",
   "metadata": {},
   "outputs": [],
   "source": [
    "swir1 = s2cube.band(\"B11\")  # SWIR band 1\n",
    "swir2 = s2cube.band(\"B12\")  # SWIR band 2\n",
    "swir_sum = swir1 + swir2  # Add SWIR bands together\n",
    "avg_swir = swir_sum / 2  # Divide the sum by 2"
   ]
  },
  {
   "cell_type": "code",
   "execution_count": 20,
   "id": "5d166542-6fe5-424c-93ca-c9c637f32c93",
   "metadata": {},
   "outputs": [],
   "source": [
    "timeseries = avg_swir.aggregate_spatial(geometries=fields, reducer=\"mean\")\n"
   ]
  },
  {
   "cell_type": "code",
   "execution_count": 21,
   "id": "af82057c-473f-4b8d-98f6-cf46984b13e5",
   "metadata": {},
   "outputs": [
    {
     "name": "stdout",
     "output_type": "stream",
     "text": [
      "0:00:00 Job 'j-2404091cf482411395c2ae149aae88b0': send 'start'\n",
      "0:00:12 Job 'j-2404091cf482411395c2ae149aae88b0': created (progress N/A)\n",
      "0:00:17 Job 'j-2404091cf482411395c2ae149aae88b0': created (progress N/A)\n",
      "0:00:24 Job 'j-2404091cf482411395c2ae149aae88b0': created (progress N/A)\n",
      "0:00:32 Job 'j-2404091cf482411395c2ae149aae88b0': created (progress N/A)\n",
      "0:00:42 Job 'j-2404091cf482411395c2ae149aae88b0': running (progress N/A)\n",
      "0:00:54 Job 'j-2404091cf482411395c2ae149aae88b0': running (progress N/A)\n",
      "0:01:10 Job 'j-2404091cf482411395c2ae149aae88b0': running (progress N/A)\n",
      "0:01:29 Job 'j-2404091cf482411395c2ae149aae88b0': running (progress N/A)\n",
      "0:01:53 Job 'j-2404091cf482411395c2ae149aae88b0': error (progress N/A)\n",
      "Your batch job 'j-2404091cf482411395c2ae149aae88b0' failed. Error logs:\n",
      "[]\n",
      "Full logs can be inspected in an openEO (web) editor or with `connection.job('j-2404091cf482411395c2ae149aae88b0').logs()`.\n"
     ]
    },
    {
     "ename": "JobFailedException",
     "evalue": "Batch job 'j-2404091cf482411395c2ae149aae88b0' didn't finish successfully. Status: error (after 0:01:53).",
     "output_type": "error",
     "traceback": [
      "\u001b[1;31m---------------------------------------------------------------------------\u001b[0m",
      "\u001b[1;31mJobFailedException\u001b[0m                        Traceback (most recent call last)",
      "Cell \u001b[1;32mIn[21], line 1\u001b[0m\n\u001b[1;32m----> 1\u001b[0m job \u001b[38;5;241m=\u001b[39m \u001b[43mtimeseries\u001b[49m\u001b[38;5;241;43m.\u001b[39;49m\u001b[43mexecute_batch\u001b[49m\u001b[43m(\u001b[49m\u001b[43mout_format\u001b[49m\u001b[38;5;241;43m=\u001b[39;49m\u001b[38;5;124;43m\"\u001b[39;49m\u001b[38;5;124;43mCSV\u001b[39;49m\u001b[38;5;124;43m\"\u001b[39;49m\u001b[43m,\u001b[49m\u001b[43m \u001b[49m\u001b[43mtitle\u001b[49m\u001b[38;5;241;43m=\u001b[39;49m\u001b[38;5;124;43m\"\u001b[39;49m\u001b[38;5;124;43mNDVI timeseries\u001b[39;49m\u001b[38;5;124;43m\"\u001b[39;49m\u001b[43m)\u001b[49m\n",
      "File \u001b[1;32mC:\\ProgramData\\anaconda3\\envs\\EGM722\\Lib\\site-packages\\openeo\\rest\\vectorcube.py:299\u001b[0m, in \u001b[0;36mVectorCube.execute_batch\u001b[1;34m(self, outputfile, out_format, print, max_poll_interval, connection_retry_interval, job_options, validate, **format_options)\u001b[0m\n\u001b[0;32m    296\u001b[0m     out_format \u001b[38;5;241m=\u001b[39m guess_format(outputfile)\n\u001b[0;32m    298\u001b[0m job \u001b[38;5;241m=\u001b[39m \u001b[38;5;28mself\u001b[39m\u001b[38;5;241m.\u001b[39mcreate_job(out_format, job_options\u001b[38;5;241m=\u001b[39mjob_options, validate\u001b[38;5;241m=\u001b[39mvalidate, \u001b[38;5;241m*\u001b[39m\u001b[38;5;241m*\u001b[39mformat_options)\n\u001b[1;32m--> 299\u001b[0m \u001b[38;5;28;01mreturn\u001b[39;00m \u001b[43mjob\u001b[49m\u001b[38;5;241;43m.\u001b[39;49m\u001b[43mrun_synchronous\u001b[49m\u001b[43m(\u001b[49m\n\u001b[0;32m    300\u001b[0m \u001b[43m    \u001b[49m\u001b[38;5;66;43;03m# TODO #135 support multi file result sets too\u001b[39;49;00m\n\u001b[0;32m    301\u001b[0m \u001b[43m    \u001b[49m\u001b[43moutputfile\u001b[49m\u001b[38;5;241;43m=\u001b[39;49m\u001b[43moutputfile\u001b[49m\u001b[43m,\u001b[49m\n\u001b[0;32m    302\u001b[0m \u001b[43m    \u001b[49m\u001b[38;5;28;43mprint\u001b[39;49m\u001b[38;5;241;43m=\u001b[39;49m\u001b[38;5;28;43mprint\u001b[39;49m\u001b[43m,\u001b[49m\u001b[43m \u001b[49m\u001b[43mmax_poll_interval\u001b[49m\u001b[38;5;241;43m=\u001b[39;49m\u001b[43mmax_poll_interval\u001b[49m\u001b[43m,\u001b[49m\u001b[43m \u001b[49m\u001b[43mconnection_retry_interval\u001b[49m\u001b[38;5;241;43m=\u001b[39;49m\u001b[43mconnection_retry_interval\u001b[49m\n\u001b[0;32m    303\u001b[0m \u001b[43m\u001b[49m\u001b[43m)\u001b[49m\n",
      "File \u001b[1;32mC:\\ProgramData\\anaconda3\\envs\\EGM722\\Lib\\site-packages\\openeo\\rest\\job.py:239\u001b[0m, in \u001b[0;36mBatchJob.run_synchronous\u001b[1;34m(self, outputfile, print, max_poll_interval, connection_retry_interval)\u001b[0m\n\u001b[0;32m    234\u001b[0m \u001b[38;5;28;01mdef\u001b[39;00m \u001b[38;5;21mrun_synchronous\u001b[39m(\n\u001b[0;32m    235\u001b[0m         \u001b[38;5;28mself\u001b[39m, outputfile: Union[\u001b[38;5;28mstr\u001b[39m, Path, \u001b[38;5;28;01mNone\u001b[39;00m] \u001b[38;5;241m=\u001b[39m \u001b[38;5;28;01mNone\u001b[39;00m,\n\u001b[0;32m    236\u001b[0m         \u001b[38;5;28mprint\u001b[39m\u001b[38;5;241m=\u001b[39m\u001b[38;5;28mprint\u001b[39m, max_poll_interval\u001b[38;5;241m=\u001b[39m\u001b[38;5;241m60\u001b[39m, connection_retry_interval\u001b[38;5;241m=\u001b[39m\u001b[38;5;241m30\u001b[39m\n\u001b[0;32m    237\u001b[0m ) \u001b[38;5;241m-\u001b[39m\u001b[38;5;241m>\u001b[39m BatchJob:\n\u001b[0;32m    238\u001b[0m \u001b[38;5;250m    \u001b[39m\u001b[38;5;124;03m\"\"\"Start the job, wait for it to finish and download result\"\"\"\u001b[39;00m\n\u001b[1;32m--> 239\u001b[0m     \u001b[38;5;28;43mself\u001b[39;49m\u001b[38;5;241;43m.\u001b[39;49m\u001b[43mstart_and_wait\u001b[49m\u001b[43m(\u001b[49m\n\u001b[0;32m    240\u001b[0m \u001b[43m        \u001b[49m\u001b[38;5;28;43mprint\u001b[39;49m\u001b[38;5;241;43m=\u001b[39;49m\u001b[38;5;28;43mprint\u001b[39;49m\u001b[43m,\u001b[49m\u001b[43m \u001b[49m\u001b[43mmax_poll_interval\u001b[49m\u001b[38;5;241;43m=\u001b[39;49m\u001b[43mmax_poll_interval\u001b[49m\u001b[43m,\u001b[49m\u001b[43m \u001b[49m\u001b[43mconnection_retry_interval\u001b[49m\u001b[38;5;241;43m=\u001b[39;49m\u001b[43mconnection_retry_interval\u001b[49m\n\u001b[0;32m    241\u001b[0m \u001b[43m    \u001b[49m\u001b[43m)\u001b[49m\n\u001b[0;32m    242\u001b[0m     \u001b[38;5;66;03m# TODO #135 support multi file result sets too?\u001b[39;00m\n\u001b[0;32m    243\u001b[0m     \u001b[38;5;28;01mif\u001b[39;00m outputfile \u001b[38;5;129;01mis\u001b[39;00m \u001b[38;5;129;01mnot\u001b[39;00m \u001b[38;5;28;01mNone\u001b[39;00m:\n",
      "File \u001b[1;32mC:\\ProgramData\\anaconda3\\envs\\EGM722\\Lib\\site-packages\\openeo\\rest\\job.py:321\u001b[0m, in \u001b[0;36mBatchJob.start_and_wait\u001b[1;34m(self, print, max_poll_interval, connection_retry_interval, soft_error_max)\u001b[0m\n\u001b[0;32m    317\u001b[0m     \u001b[38;5;28mprint\u001b[39m(\u001b[38;5;28mself\u001b[39m\u001b[38;5;241m.\u001b[39mlogs(level\u001b[38;5;241m=\u001b[39mlogging\u001b[38;5;241m.\u001b[39mERROR))\n\u001b[0;32m    318\u001b[0m     \u001b[38;5;28mprint\u001b[39m(\n\u001b[0;32m    319\u001b[0m         \u001b[38;5;124mf\u001b[39m\u001b[38;5;124m\"\u001b[39m\u001b[38;5;124mFull logs can be inspected in an openEO (web) editor or with `connection.job(\u001b[39m\u001b[38;5;132;01m{\u001b[39;00m\u001b[38;5;28mself\u001b[39m\u001b[38;5;241m.\u001b[39mjob_id\u001b[38;5;132;01m!r}\u001b[39;00m\u001b[38;5;124m).logs()`.\u001b[39m\u001b[38;5;124m\"\u001b[39m\n\u001b[0;32m    320\u001b[0m     )\n\u001b[1;32m--> 321\u001b[0m     \u001b[38;5;28;01mraise\u001b[39;00m JobFailedException(\n\u001b[0;32m    322\u001b[0m         \u001b[38;5;124mf\u001b[39m\u001b[38;5;124m\"\u001b[39m\u001b[38;5;124mBatch job \u001b[39m\u001b[38;5;132;01m{\u001b[39;00m\u001b[38;5;28mself\u001b[39m\u001b[38;5;241m.\u001b[39mjob_id\u001b[38;5;132;01m!r}\u001b[39;00m\u001b[38;5;124m didn\u001b[39m\u001b[38;5;124m'\u001b[39m\u001b[38;5;124mt finish successfully. Status: \u001b[39m\u001b[38;5;132;01m{\u001b[39;00mstatus\u001b[38;5;132;01m}\u001b[39;00m\u001b[38;5;124m (after \u001b[39m\u001b[38;5;132;01m{\u001b[39;00melapsed()\u001b[38;5;132;01m}\u001b[39;00m\u001b[38;5;124m).\u001b[39m\u001b[38;5;124m\"\u001b[39m,\n\u001b[0;32m    323\u001b[0m         job\u001b[38;5;241m=\u001b[39m\u001b[38;5;28mself\u001b[39m,\n\u001b[0;32m    324\u001b[0m     )\n\u001b[0;32m    326\u001b[0m \u001b[38;5;28;01mreturn\u001b[39;00m \u001b[38;5;28mself\u001b[39m\n",
      "\u001b[1;31mJobFailedException\u001b[0m: Batch job 'j-2404091cf482411395c2ae149aae88b0' didn't finish successfully. Status: error (after 0:01:53)."
     ]
    }
   ],
   "source": [
    "job = timeseries.execute_batch(out_format=\"CSV\", title=\"NDVI timeseries\")"
   ]
  },
  {
   "cell_type": "code",
   "execution_count": null,
   "id": "4619f2a2-7bbf-4636-927b-2574d47ff73d",
   "metadata": {},
   "outputs": [],
   "source": [
    "job.get_results().download_file(\"ndvi-results/timeseries-basic.csv\")\n",
    "pd.read_csv(\"ndvi-results/timeseries-basic.csv\", index_col=0).head()\n"
   ]
  },
  {
   "cell_type": "code",
   "execution_count": null,
   "id": "06b28df9-63c4-4fd0-93ab-26ff4efef1c7",
   "metadata": {},
   "outputs": [],
   "source": [
    "def plot_timeseries(filename, figsize=(6, 3)):\n",
    "    df = pd.read_csv(filename, index_col=0)\n",
    "    df.index = pd.to_datetime(df.index)\n",
    "    df = df.sort_index()\n",
    "\n",
    "    fig, ax = plt.subplots(figsize=figsize, dpi=90)\n",
    "    df.groupby(\"feature_index\")[\"avg(band_0)\"].plot(marker=\"o\", ax=ax)\n",
    "    ax.set_title(filename.split(\"/\")[-1])\n",
    "    ax.set_ylabel(\"NDVI\")\n",
    "    ax.set_ylim(0, 1)\n",
    "    ax.legend(title=\"parcel id\", loc=\"lower left\", ncol=2)"
   ]
  },
  {
   "cell_type": "code",
   "execution_count": null,
   "id": "d964edb7-1a72-455b-be83-82eff642c9f3",
   "metadata": {},
   "outputs": [],
   "source": [
    "plot_timeseries(\"ndvi-results/timeseries-basic.csv\")"
   ]
  },
  {
   "cell_type": "code",
   "execution_count": null,
   "id": "c2e08010-892b-4f29-9920-2068ebd6884c",
   "metadata": {},
   "outputs": [],
   "source": [
    "s2cube = connection.load_collection(\n",
    "    \"SENTINEL2_L2A\",\n",
    "    temporal_extent=[\"2020-06-01\", \"2020-10-01\"],\n",
    "    bands=[\"B04\", \"B08\", \"SCL\"],\n",
    ")\n",
    "red = s2cube.band(\"B04\")\n",
    "nir = s2cube.band(\"B08\")\n",
    "ndvi = (nir - red) / (nir + red)"
   ]
  },
  {
   "cell_type": "code",
   "execution_count": null,
   "id": "0a7a8997-2686-4506-9853-bf3df64fcfa7",
   "metadata": {},
   "outputs": [],
   "source": [
    "scl = s2cube.band(\"SCL\")\n",
    "mask = ~((scl == 4) | (scl == 5))"
   ]
  },
  {
   "cell_type": "code",
   "execution_count": null,
   "id": "eb9763ea-553b-4ca6-851a-ae2c89821738",
   "metadata": {},
   "outputs": [],
   "source": [
    "# 2D gaussian kernel\n",
    "g = scipy.signal.windows.gaussian(11, std=1.6)\n",
    "kernel = np.outer(g, g)\n",
    "kernel = kernel / kernel.sum()\n",
    "\n",
    "# Morphological dilation of mask: convolution + threshold\n",
    "mask = mask.apply_kernel(kernel)\n",
    "mask = mask > 0.1"
   ]
  },
  {
   "cell_type": "code",
   "execution_count": null,
   "id": "d3575972-122b-4b27-a7d5-006c67ee7b5e",
   "metadata": {},
   "outputs": [],
   "source": [
    "ndvi_masked = ndvi.mask(mask)\n",
    "timeseries_masked = ndvi_masked.aggregate_spatial(geometries=fields, reducer=\"mean\")"
   ]
  },
  {
   "cell_type": "code",
   "execution_count": null,
   "id": "eaa0e702-54a9-43d3-8c4e-9083a125a42d",
   "metadata": {},
   "outputs": [],
   "source": [
    "job = timeseries_masked.execute_batch(out_format=\"CSV\", title=\"Maked NDVI timeseries\")"
   ]
  },
  {
   "cell_type": "code",
   "execution_count": null,
   "id": "3b562ca6-b943-416d-8e99-11aa2c9d5080",
   "metadata": {},
   "outputs": [],
   "source": [
    "job.get_results().download_file(\"ndvi-results/timeseries-masked.csv\")"
   ]
  },
  {
   "cell_type": "code",
   "execution_count": null,
   "id": "c21d3804-94c7-488a-8c21-eb7decf14e51",
   "metadata": {},
   "outputs": [],
   "source": [
    "plot_timeseries(\"ndvi-results/timeseries-masked.csv\")"
   ]
  },
  {
   "cell_type": "code",
   "execution_count": null,
   "id": "bf2c99fe-e4d7-43eb-b732-963b39a58c61",
   "metadata": {},
   "outputs": [],
   "source": [
    "udf = openeo.UDF(\n",
    "    \"\"\"\n",
    "from scipy.signal import savgol_filter\n",
    "from openeo.udf import XarrayDataCube\n",
    "\n",
    "def apply_datacube(cube: XarrayDataCube, context: dict) -> XarrayDataCube:\n",
    "    array = cube.get_array()\n",
    "    filled = array.interpolate_na(dim='t')\n",
    "    smoothed_array = savgol_filter(filled.values, 5, 2, axis=0)\n",
    "    return DataCube(xarray.DataArray(smoothed_array, dims=array. dims,coords=array.coords))\n",
    "\"\"\"\n",
    ")"
   ]
  },
  {
   "cell_type": "code",
   "execution_count": null,
   "id": "5ab254c5-c150-460b-9077-ad0e94267ab2",
   "metadata": {},
   "outputs": [],
   "source": [
    "ndvi_smoothed = ndvi_masked.apply_dimension(code=udf, dimension=\"t\")"
   ]
  },
  {
   "cell_type": "code",
   "execution_count": null,
   "id": "a70ff441-ba00-451f-a66f-8533ca237344",
   "metadata": {},
   "outputs": [],
   "source": [
    "timeseries_smoothed = ndvi_smoothed.aggregate_spatial(geometries=fields, reducer=\"mean\")\n"
   ]
  },
  {
   "cell_type": "code",
   "execution_count": null,
   "id": "117c3f08-5af1-468c-bc22-d7b520ee78ce",
   "metadata": {},
   "outputs": [],
   "source": [
    "job = timeseries_smoothed.execute_batch(\n",
    "    out_format=\"CSV\", title=\"Smoothed NDVI timeseries\"\n",
    ")"
   ]
  },
  {
   "cell_type": "code",
   "execution_count": null,
   "id": "59608702-7ad6-41a7-99b4-be2ba040c889",
   "metadata": {},
   "outputs": [],
   "source": [
    "job.get_results().download_file(\"ndvi-results/timeseries-smoothed.csv\")\n"
   ]
  },
  {
   "cell_type": "code",
   "execution_count": null,
   "id": "71c931a0-e8b2-4cdd-aea1-38030a464448",
   "metadata": {},
   "outputs": [],
   "source": [
    "plot_timeseries(\"ndvi-results/timeseries-smoothed.csv\")\n"
   ]
  },
  {
   "cell_type": "code",
   "execution_count": null,
   "id": "f42d66ca-493a-4c25-a8a6-0416dbd52ddb",
   "metadata": {},
   "outputs": [],
   "source": []
  }
 ],
 "metadata": {
  "kernelspec": {
   "display_name": "Python 3 (ipykernel)",
   "language": "python",
   "name": "python3"
  },
  "language_info": {
   "codemirror_mode": {
    "name": "ipython",
    "version": 3
   },
   "file_extension": ".py",
   "mimetype": "text/x-python",
   "name": "python",
   "nbconvert_exporter": "python",
   "pygments_lexer": "ipython3",
   "version": "3.12.2"
  }
 },
 "nbformat": 4,
 "nbformat_minor": 5
}
