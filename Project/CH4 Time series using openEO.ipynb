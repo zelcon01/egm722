{
 "cells": [
  {
   "cell_type": "code",
   "execution_count": null,
   "id": "0538b5de-fb3e-4985-a169-ec1fa3cdb844",
   "metadata": {},
   "outputs": [],
   "source": [
    "# https://documentation.dataspace.copernicus.eu/notebook-samples/openeo/NDVI_Timeseries.html"
   ]
  },
  {
   "cell_type": "code",
   "execution_count": null,
   "id": "35db1050-b36d-421d-9a56-95c9fc850f5a",
   "metadata": {},
   "outputs": [],
   "source": [
    "import json\n",
    "import os\n",
    "import pandas as pd\n",
    "import matplotlib.pyplot as plt\n",
    "import scipy.signal\n",
    "import numpy as np\n",
    "import geopandas as gpd\n",
    "import openeo\n",
    "from shapely.geometry import shape"
   ]
  },
  {
   "cell_type": "code",
   "execution_count": null,
   "id": "6fcd63d8-7504-4e73-9650-83d089691f41",
   "metadata": {},
   "outputs": [],
   "source": [
    "connection = openeo.connect(url=\"openeo.dataspace.copernicus.eu\")\n",
    "connection.authenticate_oidc()"
   ]
  },
  {
   "cell_type": "code",
   "execution_count": null,
   "id": "b9549942-27b3-418c-b991-5480bc22ad1c",
   "metadata": {},
   "outputs": [],
   "source": [
    "def read_json(filename: str) -> dict:\n",
    "    with open(filename,encoding=\"utf-8\") as input:\n",
    "        field = json.load(input)\n",
    "    return field\n",
    "\n",
    "fields = read_json(r\"C:\\GIS_Course\\EGM722\\Project\\Data\\madrid_landfills_buff_1km.geojson\")\n",
    "    "
   ]
  },
  {
   "cell_type": "code",
   "execution_count": null,
   "id": "5f063dd9-8fa5-4ed7-99d1-d7460e2caea8",
   "metadata": {},
   "outputs": [],
   "source": [
    "s2cube = connection.load_collection(\n",
    "    \"SENTINEL2_L2A\",\n",
    "    temporal_extent=[\"2020-06-01\", \"2020-10-01\"],\n",
    "    bands=[\"B11\", \"B12\"],\n",
    ")"
   ]
  },
  {
   "cell_type": "code",
   "execution_count": null,
   "id": "994773bc-6fc6-49aa-9271-468d2cf0109d",
   "metadata": {},
   "outputs": [],
   "source": [
    "swir1 = s2cube.band(\"B11\")  # SWIR band 1\n",
    "swir2 = s2cube.band(\"B12\")  # SWIR band 2\n",
    "swir_sum = swir1 + swir2  # Add SWIR bands together\n",
    "avg_swir = swir_sum / 2  # Divide the sum by 2"
   ]
  },
  {
   "cell_type": "code",
   "execution_count": null,
   "id": "5d166542-6fe5-424c-93ca-c9c637f32c93",
   "metadata": {},
   "outputs": [],
   "source": [
    "timeseries = avg_swir.aggregate_spatial(geometries=fields, reducer=\"mean\")\n"
   ]
  },
  {
   "cell_type": "code",
   "execution_count": null,
   "id": "af82057c-473f-4b8d-98f6-cf46984b13e5",
   "metadata": {},
   "outputs": [],
   "source": [
    "job = timeseries.execute_batch(out_format=\"CSV\", title=\"NDVI timeseries\")"
   ]
  },
  {
   "cell_type": "code",
   "execution_count": null,
   "id": "4619f2a2-7bbf-4636-927b-2574d47ff73d",
   "metadata": {},
   "outputs": [],
   "source": [
    "job.get_results().download_file(\"ndvi-results/timeseries-basic.csv\")\n",
    "pd.read_csv(\"ndvi-results/timeseries-basic.csv\", index_col=0).head()\n"
   ]
  },
  {
   "cell_type": "code",
   "execution_count": null,
   "id": "06b28df9-63c4-4fd0-93ab-26ff4efef1c7",
   "metadata": {},
   "outputs": [],
   "source": [
    "def plot_timeseries(filename, figsize=(6, 3)):\n",
    "    df = pd.read_csv(filename, index_col=0)\n",
    "    df.index = pd.to_datetime(df.index)\n",
    "    df = df.sort_index()\n",
    "\n",
    "    fig, ax = plt.subplots(figsize=figsize, dpi=90)\n",
    "    df.groupby(\"feature_index\")[\"avg(band_0)\"].plot(marker=\"o\", ax=ax)\n",
    "    ax.set_title(filename.split(\"/\")[-1])\n",
    "    ax.set_ylabel(\"NDVI\")\n",
    "    ax.set_ylim(0, 1)\n",
    "    ax.legend(title=\"parcel id\", loc=\"lower left\", ncol=2)"
   ]
  },
  {
   "cell_type": "code",
   "execution_count": null,
   "id": "d964edb7-1a72-455b-be83-82eff642c9f3",
   "metadata": {},
   "outputs": [],
   "source": [
    "plot_timeseries(\"ndvi-results/timeseries-basic.csv\")"
   ]
  },
  {
   "cell_type": "code",
   "execution_count": null,
   "id": "c2e08010-892b-4f29-9920-2068ebd6884c",
   "metadata": {},
   "outputs": [],
   "source": [
    "s2cube = connection.load_collection(\n",
    "    \"SENTINEL2_L2A\",\n",
    "    temporal_extent=[\"2020-06-01\", \"2020-10-01\"],\n",
    "    bands=[\"B04\", \"B08\", \"SCL\"],\n",
    ")\n",
    "red = s2cube.band(\"B04\")\n",
    "nir = s2cube.band(\"B08\")\n",
    "ndvi = (nir - red) / (nir + red)"
   ]
  },
  {
   "cell_type": "code",
   "execution_count": null,
   "id": "0a7a8997-2686-4506-9853-bf3df64fcfa7",
   "metadata": {},
   "outputs": [],
   "source": [
    "scl = s2cube.band(\"SCL\")\n",
    "mask = ~((scl == 4) | (scl == 5))"
   ]
  },
  {
   "cell_type": "code",
   "execution_count": null,
   "id": "eb9763ea-553b-4ca6-851a-ae2c89821738",
   "metadata": {},
   "outputs": [],
   "source": [
    "# 2D gaussian kernel\n",
    "g = scipy.signal.windows.gaussian(11, std=1.6)\n",
    "kernel = np.outer(g, g)\n",
    "kernel = kernel / kernel.sum()\n",
    "\n",
    "# Morphological dilation of mask: convolution + threshold\n",
    "mask = mask.apply_kernel(kernel)\n",
    "mask = mask > 0.1"
   ]
  },
  {
   "cell_type": "code",
   "execution_count": null,
   "id": "d3575972-122b-4b27-a7d5-006c67ee7b5e",
   "metadata": {},
   "outputs": [],
   "source": [
    "ndvi_masked = ndvi.mask(mask)\n",
    "timeseries_masked = ndvi_masked.aggregate_spatial(geometries=fields, reducer=\"mean\")"
   ]
  },
  {
   "cell_type": "code",
   "execution_count": null,
   "id": "eaa0e702-54a9-43d3-8c4e-9083a125a42d",
   "metadata": {},
   "outputs": [],
   "source": [
    "job = timeseries_masked.execute_batch(out_format=\"CSV\", title=\"Maked NDVI timeseries\")"
   ]
  },
  {
   "cell_type": "code",
   "execution_count": null,
   "id": "3b562ca6-b943-416d-8e99-11aa2c9d5080",
   "metadata": {},
   "outputs": [],
   "source": [
    "job.get_results().download_file(\"ndvi-results/timeseries-masked.csv\")"
   ]
  },
  {
   "cell_type": "code",
   "execution_count": null,
   "id": "c21d3804-94c7-488a-8c21-eb7decf14e51",
   "metadata": {},
   "outputs": [],
   "source": [
    "plot_timeseries(\"ndvi-results/timeseries-masked.csv\")"
   ]
  },
  {
   "cell_type": "code",
   "execution_count": null,
   "id": "bf2c99fe-e4d7-43eb-b732-963b39a58c61",
   "metadata": {},
   "outputs": [],
   "source": [
    "udf = openeo.UDF(\n",
    "    \"\"\"\n",
    "from scipy.signal import savgol_filter\n",
    "from openeo.udf import XarrayDataCube\n",
    "\n",
    "def apply_datacube(cube: XarrayDataCube, context: dict) -> XarrayDataCube:\n",
    "    array = cube.get_array()\n",
    "    filled = array.interpolate_na(dim='t')\n",
    "    smoothed_array = savgol_filter(filled.values, 5, 2, axis=0)\n",
    "    return DataCube(xarray.DataArray(smoothed_array, dims=array. dims,coords=array.coords))\n",
    "\"\"\"\n",
    ")"
   ]
  },
  {
   "cell_type": "code",
   "execution_count": null,
   "id": "5ab254c5-c150-460b-9077-ad0e94267ab2",
   "metadata": {},
   "outputs": [],
   "source": [
    "ndvi_smoothed = ndvi_masked.apply_dimension(code=udf, dimension=\"t\")"
   ]
  },
  {
   "cell_type": "code",
   "execution_count": null,
   "id": "a70ff441-ba00-451f-a66f-8533ca237344",
   "metadata": {},
   "outputs": [],
   "source": [
    "timeseries_smoothed = ndvi_smoothed.aggregate_spatial(geometries=fields, reducer=\"mean\")\n"
   ]
  },
  {
   "cell_type": "code",
   "execution_count": null,
   "id": "117c3f08-5af1-468c-bc22-d7b520ee78ce",
   "metadata": {},
   "outputs": [],
   "source": [
    "job = timeseries_smoothed.execute_batch(\n",
    "    out_format=\"CSV\", title=\"Smoothed NDVI timeseries\"\n",
    ")"
   ]
  },
  {
   "cell_type": "code",
   "execution_count": null,
   "id": "59608702-7ad6-41a7-99b4-be2ba040c889",
   "metadata": {},
   "outputs": [],
   "source": [
    "job.get_results().download_file(\"ndvi-results/timeseries-smoothed.csv\")\n"
   ]
  },
  {
   "cell_type": "code",
   "execution_count": null,
   "id": "71c931a0-e8b2-4cdd-aea1-38030a464448",
   "metadata": {},
   "outputs": [],
   "source": [
    "plot_timeseries(\"ndvi-results/timeseries-smoothed.csv\")\n"
   ]
  },
  {
   "cell_type": "code",
   "execution_count": null,
   "id": "f42d66ca-493a-4c25-a8a6-0416dbd52ddb",
   "metadata": {},
   "outputs": [],
   "source": []
  }
 ],
 "metadata": {
  "kernelspec": {
   "display_name": "Python 3 (ipykernel)",
   "language": "python",
   "name": "python3"
  },
  "language_info": {
   "codemirror_mode": {
    "name": "ipython",
    "version": 3
   },
   "file_extension": ".py",
   "mimetype": "text/x-python",
   "name": "python",
   "nbconvert_exporter": "python",
   "pygments_lexer": "ipython3",
   "version": "3.12.2"
  }
 },
 "nbformat": 4,
 "nbformat_minor": 5
}
