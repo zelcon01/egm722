{
 "cells": [
  {
   "cell_type": "code",
   "execution_count": null,
   "id": "d1878f53-5e51-46af-8a0f-5a894704d7a5",
   "metadata": {},
   "outputs": [],
   "source": [
    "import geopandas as gpd\n",
    "import matplotlib.pyplot as plt\n",
    "from mpl_toolkits.axes_grid1 import make_axes_locatable\n",
    "from cartopy.feature import ShapelyFeature\n",
    "import cartopy.crs as ccrs\n",
    "import matplotlib.patches as mpatches\n",
    "\n",
    "\n",
    "# ---------------------------------------------------------------------------------------------------------------------\n",
    "# in this section, write the script to load the data and complete the main part of the analysis.\n",
    "\n",
    "counties = gpd.read_file('data_files/Counties.shp') # load the Counties shapefile\n",
    "wards = gpd.read_file('data_files/NI_Wards.shp') # load the Counties shapefile\n",
    "\n",
    "join = gpd.sjoin(counties, wards, how='inner', lsuffix='left', rsuffix='right') # perform the spatial join\n",
    "join # show the joined table\n",
    "\n",
    "# try to print the results to the screen using the format method demonstrated in the workbook\n",
    "\n",
    "# load the necessary data here and transform to a UTM projection\n",
    "\n",
    "# your analysis goes here...\n",
    "\n",
    "# ---------------------------------------------------------------------------------------------------------------------\n",
    "# below here, you may need to modify the script somewhat to create your map.\n",
    "# create a crs using ccrs.UTM() that corresponds to our CRS\n",
    "ni_utm = ccrs.UTM(29)\n",
    "\n",
    "# create a figure of size 10x10 (representing the page size in inches\n",
    "fig, ax = plt.subplots(1, 1, figsize=(10, 10), subplot_kw=dict(projection=ni_utm))\n",
    "\n",
    "# add gridlines below\n",
    "gridlines = ax.gridlines(draw_labels=True,\n",
    "                         xlocs=[-8, -7.5, -7, -6.5, -6, -5.5],\n",
    "                         ylocs=[54, 54.5, 55, 55.5])\n",
    "gridlines.right_labels = False\n",
    "gridlines.bottom_labels = False\n",
    "\n",
    "# to make a nice colorbar that stays in line with our map, use these lines:\n",
    "divider = make_axes_locatable(ax)\n",
    "cax = divider.append_axes(\"right\", size=\"5%\", pad=0.1, axes_class=plt.Axes)\n",
    "\n",
    "# plot the ward data into our axis, using gdf.plot()\n",
    "ward_plot = wards.plot(column='Population', ax=ax, vmin=1000, vmax=8000, cmap='viridis',\n",
    "                       legend=True, cax=cax, legend_kwds={'label': 'Resident Population'})\n",
    "\n",
    "# add county outlines in red using ShapelyFeature\n",
    "county_outlines = ShapelyFeature(counties['geometry'], ni_utm, edgecolor='r', facecolor='none')\n",
    "ax.add_feature(county_outlines)\n",
    "\n",
    "def generate_handles(labels, colors, edge='k', alpha=1):\n",
    "    lc = len(colors)  # get the length of the color list\n",
    "    handles = [] # create an empty list\n",
    "    for ii in range(len(labels)): # for each label and color pair that we're given, make an empty box to pass to our legend\n",
    "        handles.append(mpatches.Rectangle((0, 0), 1, 1, facecolor=colors[ii % lc], edgecolor=edge, alpha=alpha))\n",
    "    return handles\n",
    "\n",
    "county_handles = generate_handles([''], ['none'], edge='r')\n",
    "\n",
    "# add a legend in the upper left-hand corner\n",
    "ax.legend(county_handles, ['County Boundaries'], fontsize=12, loc='upper left', framealpha=1)\n",
    "\n",
    "# save the figure\n",
    "fig.savefig('sample_map.png', dpi=300, bbox_inches='tight')\n"
   ]
  },
  {
   "cell_type": "code",
   "execution_count": null,
   "id": "c8401fc5-22ae-49c2-9f34-16d997a0038d",
   "metadata": {},
   "outputs": [],
   "source": [
    "wards.head() # show the first five rows of the table"
   ]
  },
  {
   "cell_type": "code",
   "execution_count": null,
   "id": "f529e5d9-8960-4793-8f2f-9e3d10797f48",
   "metadata": {},
   "outputs": [],
   "source": [
    "join = gpd.sjoin(counties, wards, how='inner', lsuffix='left', rsuffix='right') # perform the spatial join\n",
    "join # show the joined table"
   ]
  },
  {
   "cell_type": "code",
   "execution_count": null,
   "id": "9d2c9ce7-1b0b-4b86-8181-c9f91b2f745a",
   "metadata": {},
   "outputs": [],
   "source": [
    "# Group by county and sum up the population within each county\n",
    "county_population = join.groupby('CountyName')['Population'].sum()\n",
    "\n",
    "# Display the total population for each county\n",
    "print(county_population)"
   ]
  },
  {
   "cell_type": "code",
   "execution_count": null,
   "id": "33d0e9fc-232e-41f6-bbd9-b04eb7473d37",
   "metadata": {},
   "outputs": [],
   "source": []
  }
 ],
 "metadata": {
  "kernelspec": {
   "display_name": "Python 3 (ipykernel)",
   "language": "python",
   "name": "python3"
  },
  "language_info": {
   "codemirror_mode": {
    "name": "ipython",
    "version": 3
   },
   "file_extension": ".py",
   "mimetype": "text/x-python",
   "name": "python",
   "nbconvert_exporter": "python",
   "pygments_lexer": "ipython3",
   "version": "3.12.2"
  }
 },
 "nbformat": 4,
 "nbformat_minor": 5
}
