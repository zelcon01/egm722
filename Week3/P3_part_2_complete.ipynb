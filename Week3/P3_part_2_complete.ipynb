{
 "cells": [
  {
   "cell_type": "code",
   "execution_count": null,
   "id": "a2effdb9-e182-4ed4-9043-5f768ee653d0",
   "metadata": {},
   "outputs": [],
   "source": [
    "import pandas as pd\n",
    "import geopandas as gpd\n",
    "import folium"
   ]
  },
  {
   "cell_type": "code",
   "execution_count": null,
   "id": "b78374c5-b8da-4966-b2cf-221e120b35e9",
   "metadata": {},
   "outputs": [],
   "source": [
    "wards = gpd.read_file('data_files/NI_Wards.shp')"
   ]
  },
  {
   "cell_type": "code",
   "execution_count": null,
   "id": "43074ae9-ff76-4429-9894-64799385411f",
   "metadata": {},
   "outputs": [],
   "source": [
    "wards"
   ]
  },
  {
   "cell_type": "code",
   "execution_count": null,
   "id": "68d8bcb2-9661-45c3-a9c2-073f34c785e8",
   "metadata": {},
   "outputs": [],
   "source": [
    "transport = pd.read_csv('data_files/transport_data.csv')"
   ]
  },
  {
   "cell_type": "code",
   "execution_count": null,
   "id": "2b3ab3be-0091-4bdd-9b0c-ac089953ccc2",
   "metadata": {},
   "outputs": [],
   "source": [
    "transport"
   ]
  },
  {
   "cell_type": "code",
   "execution_count": null,
   "id": "84118f0f-e4f5-40d6-a6b2-88d7b2dcc9f2",
   "metadata": {},
   "outputs": [],
   "source": [
    "merged = wards.merge(transport, left_on='Ward Code', right_on='Ward Code')\n",
    "merged.head()"
   ]
  },
  {
   "cell_type": "code",
   "execution_count": null,
   "id": "67662806-349f-46b2-b01a-46a61c6b41f0",
   "metadata": {},
   "outputs": [],
   "source": [
    "map1 = merged.explore('NumBus', # show the NumBus column\n",
    "                   cmap='Greens', # use the 'plasma' colormap from matplotlib\n",
    "                   legend_kwds={'caption': 'number of bus stops per electoral ward'} # set the caption to a longer explanation\n",
    "                  )\n",
    "map1"
   ]
  },
  {
   "cell_type": "code",
   "execution_count": null,
   "id": "376e0c15-2525-47dd-ac6b-0d66cce6e0ff",
   "metadata": {},
   "outputs": [],
   "source": [
    "merged['people per bus stop'] = merged['Population'] / merged['NumBus']\n",
    "\n",
    "merged\n",
    "\n",
    "map2 = merged.explore(column='people per bus stop',  # Specify the column to visualize\n",
    "                      cmap='Oranges',  # Use the 'Oranges' colormap\n",
    "                      legend_kwds={'caption': 'People per bus stop'},  # Set the legend caption\n",
    "                      normalize=True,  # Normalize the data\n",
    "                      vmin=0,  # Set the minimum value for symbology\n",
    "                      vmax=100)  # Set the maximum value for symbology\n",
    "map2\n",
    "\n"
   ]
  },
  {
   "cell_type": "code",
   "execution_count": null,
   "id": "846a180c-e8d6-4976-b701-cd48ab8ee5cb",
   "metadata": {},
   "outputs": [],
   "source": []
  }
 ],
 "metadata": {
  "kernelspec": {
   "display_name": "Python 3 (ipykernel)",
   "language": "python",
   "name": "python3"
  },
  "language_info": {
   "codemirror_mode": {
    "name": "ipython",
    "version": 3
   },
   "file_extension": ".py",
   "mimetype": "text/x-python",
   "name": "python",
   "nbconvert_exporter": "python",
   "pygments_lexer": "ipython3",
   "version": "3.12.2"
  }
 },
 "nbformat": 4,
 "nbformat_minor": 5
}
