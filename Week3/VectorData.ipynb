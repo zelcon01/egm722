{
 "cells": [
  {
   "cell_type": "markdown",
   "metadata": {},
   "source": [
    "# vector data using shapely and geopandas\n",
    "\n",
    "## overview\n",
    "\n",
    "Up to now, you have gained some experience working with basic features of python, and used cartopy and matplotlib to create a map. In each of these practicals, you have loaded different vector datasets using a module called geopandas. In this week's practical, we'll be looking at working vector data in a bit more depth, including the different geometry types available using shapely, analyses like spatial joins and summarizing based on attributes, and how to reproject vector data from one coordinate reference system to another.\n",
    "\n",
    "\n",
    "## objectives\n",
    "-  Gain experience working with different vector data types using shapely\n",
    "-  Use geopandas to re-project vector datasets from one coordinate reference system to another\n",
    "-  Summarize features using the groupby method of a GeoDataFrame\n",
    "-  Learn how to perform different vector data operations using geopandas and shapely\n",
    "\n",
    "## data provided\n",
    "\n",
    "In the data\\_files folder, you should have the following:\n",
    "-  **NI_roads.shp**, a shapefile of roads in Northern Ireland\n",
    "-  **Counties.shp**, a shapefile of county outlines for Northern Ireland\n",
    "-  **NI_Wards.shp**, a shapefile of electoral wards for Northern Ireland\n",
    "\n",
    "## getting started\n",
    "\n",
    "In this practical, we'll be working with vector data. As a quick refresher, the three main types of vector data that we will work with are:\n",
    "\n",
    "-  **Point**: point data represent a single point in space. For our purposes, points are either two-dimensional (x, y) or three-dimensional (x, y, z). In `shapely`, the corresponding **class** of data is a **Point**.\n",
    "-  **Line**: lines are a sequence of at least two points that are joined together. In `shapely`, the corresponding **class** of data is known as a **LineString**.\n",
    "-  **Polygon**: polygons are a sequence of at least three points that are connected to form a **ring**, as well as any additional rings that represent holes in the polygon. In `shapely`, the corresponding **class** of data is a **Polygon**.\n",
    "\n",
    "We can also have **Collections** of vector data, where each feature represents a collection of **Point**, **Line**, or **Polygon** objects. In `shapely`, these are represented as **MultiPoint**, **MultiLineString**, or **MultiPolygon** objects.\n",
    "\n",
    "To get started, run the following cell to import `geopandas` and `shapely`."
   ]
  },
  {
   "cell_type": "code",
   "execution_count": null,
   "metadata": {},
   "outputs": [],
   "source": [
    "# this lets us use the figures interactively\n",
    "%matplotlib inline\n",
    "\n",
    "import pandas as pd\n",
    "import geopandas as gpd\n",
    "from shapely.geometry import Point, LineString, Polygon"
   ]
  },
  {
   "cell_type": "markdown",
   "metadata": {},
   "source": [
    "## shapely geometry types\n",
    "### Points\n",
    "As we saw in Week 1, to create a **Point**, we pass x, y (and optionally, z) coordinates to the **Point** class constructor ([documentation](https://shapely.readthedocs.io/en/stable/reference/shapely.Point.html)):"
   ]
  },
  {
   "cell_type": "code",
   "execution_count": null,
   "metadata": {},
   "outputs": [],
   "source": [
    "pt = Point(-6.677, 55.150) # creates a 2d point with coordinates -6.677, 55.150\n",
    "pt2 = Point(-6.658, 55.213) # creates a 2d point with coordinates -6.658, 55.213\n",
    "\n",
    "pt3d = Point(86.925278, 27.988056, 8848.86) # creates a 3d point\n",
    "\n",
    "print(pt) # print a well-known text (WKT) representation of the Point object"
   ]
  },
  {
   "cell_type": "markdown",
   "metadata": {},
   "source": [
    "The last line, `print(pt)`, prints a [well-known-text](https://en.wikipedia.org/wiki/Well-known_text_representation_of_geometry) (WKT) representation of the **Point** object. WKT is a standard representation of vector geometry objects - most `python` libraries and GIS softwares are able to read and/or translate WKT into other formats, such as ESRI Shapefiles, GeoJSON, etc.\n",
    "\n",
    "Remember that in python, we can find the attributes and methods for an object by looking up the documentation (for shapely, this can be found [here](https://shapely.readthedocs.io/en/stable/manual.html)), or using the built-in function `dir()`. To find out more about a particular function, we can use the built-in function `help()` (or, in jupyter notebooks/ipython, the `?` operator).\n",
    "\n",
    "As an example, let's use the built-in function `dir()` to look at the methods and attributes associated with the __Point__ class:"
   ]
  },
  {
   "cell_type": "code",
   "execution_count": null,
   "metadata": {},
   "outputs": [],
   "source": [
    "dir(pt) # show the attributes and methods associated with the pt object"
   ]
  },
  {
   "cell_type": "markdown",
   "metadata": {},
   "source": [
    "Here, in addition to the **speciall** or **magic** methods (denoted with two underscores, \\_\\_, at the beginning and end of the method name), there are a number of methods that we might find useful, including `.distance()`. \n",
    "\n",
    "To see what this method does, we can use `help(Point.distance)`:"
   ]
  },
  {
   "cell_type": "code",
   "execution_count": null,
   "metadata": {},
   "outputs": [],
   "source": [
    "help(pt.distance)"
   ]
  },
  {
   "cell_type": "markdown",
   "metadata": {},
   "source": [
    "So, `.distance()` provides the distance from the **Point** object to some other geometry. Because `shapely` does not directly deal with coordinate systems, this distance is **unitless**. This means that **we have to make sure that the two objects have the same reference system - if we do not, the distance returned will not make sense.** Don't worry, we will cover working with coordinate reference systems later on in this exercise.\n",
    "\n",
    "<span style=\"color:#009fdf;font-size:1.1em;font-weight:bold\">Use the cell below, along with the output of dir(pt) above, to work out how we can access the x, y coordinates of a **Point** object. Can you see more than one way to do this? If so, are there differences between them?</span>"
   ]
  },
  {
   "cell_type": "code",
   "execution_count": null,
   "metadata": {},
   "outputs": [],
   "source": [
    "# write your method to access the x,y coordinates of pt here"
   ]
  },
  {
   "cell_type": "markdown",
   "metadata": {},
   "source": [
    "One of the common operations we might want to do with a **Point** object is to create a **buffer** around the point. In the list of associated methods and attributes of Point objects above, you should see there is a method called `.buffer()`. \n",
    "\n",
    "A look at the help for this method:"
   ]
  },
  {
   "cell_type": "code",
   "execution_count": null,
   "metadata": {},
   "outputs": [],
   "source": [
    "help(pt.buffer) # show the help for pt.buffer"
   ]
  },
  {
   "cell_type": "markdown",
   "metadata": {},
   "source": [
    "shows that `buffer` takes a **positional parameter** of *distance*, as well as a number of **keyword parameters** that determine how the buffer operation is done. Remember that the buffer distance will be in the same coordinate system as our point - `shapely` does not, by itself, do any conversion between coordinate systems or units. \n",
    "\n",
    "Note that the object returned by buffer is a **Polygon**, rather than a point - this makes sense, as the buffer is a two-dimensional surface around the point location:"
   ]
  },
  {
   "cell_type": "code",
   "execution_count": null,
   "metadata": {},
   "outputs": [],
   "source": [
    "pt_buffer = pt.buffer(0.001) # buffer the point by 0.001 in the same coordinates\n",
    "print(type(pt_buffer)) # show the type of the buffer"
   ]
  },
  {
   "cell_type": "markdown",
   "metadata": {},
   "source": [
    "### LineStrings\n",
    "Instead of using a single x, y coordinate pair, a **LineString** object ([documentation](https://shapely.readthedocs.io/en/stable/reference/shapely.LineString.html)) takes either a list of **Point** objects, or a list of coordinate **tuples**:"
   ]
  },
  {
   "cell_type": "code",
   "execution_count": null,
   "metadata": {},
   "outputs": [],
   "source": [
    "line1 = LineString([pt, pt2]) # method one of creating a LineString, using a list of Point objects\n",
    "line2 = LineString([(-6.677, 55.150), (-6.658, 55.213)]) # method two, using a list of coordinate tuples\n",
    "\n",
    "print(line1) # show the first line\n",
    "print(line2) # show the second line"
   ]
  },
  {
   "cell_type": "markdown",
   "metadata": {},
   "source": [
    "As we can see from the output above, these two **LineString**s have the same coordinates. We can also use the `.equals()` method to check that the two objects are the same geometry:"
   ]
  },
  {
   "cell_type": "code",
   "execution_count": null,
   "metadata": {},
   "outputs": [],
   "source": [
    "line1.equals(line2) # check to see if these are the same geometry"
   ]
  },
  {
   "cell_type": "markdown",
   "metadata": {},
   "source": [
    "The coordinates of a __LineString__ are stored as a __tuple__ in an attribute called __xy__. The __tuple__ has two items representing the X and Y coordinate values. If we want the x and y coordinates as separate variables, we can access them using their respective indices:\n",
    "\n",
    "```python\n",
    "In [4]: x = line1.xy[0]\n",
    "In [5]: y = line1.xy[1]\n",
    "```\n",
    "\n",
    "We can also combine this using __tuple assignment__, or __unpacking__, which assigns values from a __tuple__ on the right-hand side of the assignment to a comma-separated grouping of variables on the left-hand side:"
   ]
  },
  {
   "cell_type": "code",
   "execution_count": null,
   "metadata": {},
   "outputs": [],
   "source": [
    "x, y = line1.xy\n",
    "\n",
    "print(x)\n",
    "print(y)"
   ]
  },
  {
   "cell_type": "markdown",
   "metadata": {},
   "source": [
    "**LineString** objects have a number of the same methods that **Point** objects do, including `.buffer()` and `.distance()`. \n",
    "\n",
    "**LineString** objects also have a `.length` attribute (just like with `.distance()`, it is __unitless__):"
   ]
  },
  {
   "cell_type": "code",
   "execution_count": null,
   "metadata": {},
   "outputs": [],
   "source": [
    "print(line1.length)"
   ]
  },
  {
   "cell_type": "markdown",
   "metadata": {},
   "source": [
    "**LineString** objects have a `.centroid` attribute, corresponding to the midpoint of the **LineString**:"
   ]
  },
  {
   "cell_type": "code",
   "execution_count": null,
   "metadata": {},
   "outputs": [],
   "source": [
    "center = line1.centroid # get the midpoint of the line\n",
    "print(center)"
   ]
  },
  {
   "cell_type": "markdown",
   "metadata": {},
   "source": [
    "The last two methods of **LineString** objects that we will explore for now are `.project()` and `.interpolate()`:"
   ]
  },
  {
   "cell_type": "code",
   "execution_count": null,
   "metadata": {},
   "outputs": [],
   "source": [
    "help(line1.project)"
   ]
  },
  {
   "cell_type": "markdown",
   "metadata": {},
   "source": [
    "So `.project()` returns the distance along the **LineString** that comes closest to the **Point** (or other geometry object). \n",
    "\n",
    "`.interpolate()`, on the other hand, does something a bit different:"
   ]
  },
  {
   "cell_type": "code",
   "execution_count": null,
   "metadata": {},
   "outputs": [],
   "source": [
    "help(line1.interpolate)"
   ]
  },
  {
   "cell_type": "markdown",
   "metadata": {},
   "source": [
    "it returns the point along the line at a specified distance; the distance can be in the units of the **LineString**'s coordinates (`normalized=False`), or it can be as a fraction of the total length of the **LineString** (`normalized=True`)."
   ]
  },
  {
   "cell_type": "code",
   "execution_count": null,
   "metadata": {},
   "outputs": [],
   "source": [
    "line1.project(center) / line1.length # check to see how far along the line our centerpoint is\n",
    "\n",
    "print(center) # print the WKT representation of the center point\n",
    "print(line1.interpolate(0.5, normalized=True)) # print the WKT representation of the point 50% along the line"
   ]
  },
  {
   "cell_type": "markdown",
   "metadata": {},
   "source": [
    "###  Polygons\n",
    "The last basic geometry type we will look at in this practical are **Polygon** objects. Similar to **LineString** objects, we can construct a **Polygon** object ([documentation](https://shapely.readthedocs.io/en/stable/reference/shapely.Polygon.html)) using a list of coordinate pairs, or a list of **Point** objects:"
   ]
  },
  {
   "cell_type": "code",
   "execution_count": null,
   "metadata": {},
   "outputs": [],
   "source": [
    "poly1 = Polygon([(-6.677, 55.150), (-6.658, 55.213), (-6.722, 55.189)])\n",
    "poly2 = Polygon([pt, pt2, Point(-6.722, 55.189)])\n",
    "\n",
    "print(poly1) # print a wkt representation of the polygon\n",
    "print(poly2)"
   ]
  },
  {
   "cell_type": "markdown",
   "metadata": {},
   "source": [
    "and, just like we saw with **LineString** objects, we can use `.equals()` to check that these two geometries are the same:"
   ]
  },
  {
   "cell_type": "code",
   "execution_count": null,
   "metadata": {},
   "outputs": [],
   "source": [
    "poly1.equals(poly2)"
   ]
  },
  {
   "cell_type": "markdown",
   "metadata": {},
   "source": [
    "Note that even though we only passed three **Point** objects (or coordinate pairs) to the **Polygon** constructor, the **Polygon** has four vertices, with the first and last vertex being the same - this is because the **Polygon** exterior is *closed*. \n",
    "\n",
    "Note also the double parentheses - this is because a **Polygon** potentially has two sets of coordinates - the *Shell*, or *exterior*, and *holes*, or *interiors*. To create a **Polygon** with a hole in it, we can pass a list of coordinates that describe the `shell`, and a second that describes the `holes`:"
   ]
  },
  {
   "cell_type": "code",
   "execution_count": null,
   "metadata": {},
   "outputs": [],
   "source": [
    "polygon_with_hole = Polygon(shell=[(-6.677, 55.150), (-6.658, 55.213), (-6.722, 55.189)],\n",
    "                            holes=[[(-6.684, 55.168), (-6.704, 55.187), (-6.672, 55.196)]]) # note the double brackets\n",
    "\n",
    "print(polygon_with_hole)"
   ]
  },
  {
   "cell_type": "markdown",
   "metadata": {},
   "source": [
    "Note the double brackets in the `holes` keyword argument:\n",
    "\n",
    "```python\n",
    "holes=[[(-6.684, 55.168), (-6.704, 55.187), (-6.672, 55.196)]]\n",
    "```\n",
    "\n",
    "This is necessary, because `holes` is expecting a sequence of coordinate sequences - effectively, a list of **Polygon** shells.\n",
    "\n",
    "Accessing the coordinates of a **Polygon** object is a little more complicated than it is for **Point** and **LineString** objects - this is because **Polygon** objects have two sets of coordinates, the `.exterior` (*shell*) and `.interiors` (*holes*). \n",
    "\n",
    "But, the `.exterior` attribute of the **Polygon** is just a **LinearRing** (a special case of **LineString** where the first and last coordinates are the same), and the `.interiors` attribute is an **InteriorRingSequence** (basically, a collection of **LinearRing**s that have to obey [additional rules](https://shapely.readthedocs.io/en/stable/manual.html#polygons)):"
   ]
  },
  {
   "cell_type": "code",
   "execution_count": null,
   "metadata": {},
   "outputs": [],
   "source": [
    "print(polygon_with_hole.exterior) # this is a single LinearRing\n",
    "for lr in polygon_with_hole.interiors: # this is potentially multiple LinearRing objects\n",
    "    print(lr)"
   ]
  },
  {
   "cell_type": "markdown",
   "metadata": {},
   "source": [
    "**Polygon** objects have nonzero `.area` and non-zero `.length` (perimeter) attributes - as with the equivalent attributes for **Point** and **LineString** objects, these are *unitless*.\n",
    "\n",
    "**Polygon** objects also have a `.centroid` (center), and we can bound the geometry using *either* the minimum bounding box parallel to the coordinate axes (the `.envelope` attribute), or a rotated minimum bounding box (the `.minimum_rotated_rectangle` attribute):"
   ]
  },
  {
   "cell_type": "code",
   "execution_count": null,
   "metadata": {},
   "outputs": [],
   "source": [
    "print('perimeter: ', poly1.length) # print the perimeter\n",
    "print('area: ', poly1.area) # print the area\n",
    "print('centroid: ', poly1.centroid) # get the centerpoint of the rectangle\n",
    "print('bounding coordinates: ', poly1.bounds) # get the minimum x, minimum y, maximum x, maximum y coordinates\n",
    "print('bounding box: ', poly1.envelope) # get the minimum bounding rectangle of the polygon, parallel to the coordinate axes\n",
    "print('rotated bounding box: ', poly1.minimum_rotated_rectangle) # get the smallest possible rectangle that covers the polygon"
   ]
  },
  {
   "cell_type": "markdown",
   "metadata": {},
   "source": [
    "There are a number of additional methods that we will cover more as we continue through the practicals - for now, this should be enough to give an idea for how these geometry objects work.\n",
    "\n",
    "## interactions between geometry objects\n",
    "`shapely` also provides a number of methods that we can use to check the spatial relationship between different objects. For example, the following code shows how we can use the `.contains()` method ([documentation](https://shapely.readthedocs.io/en/stable/manual.html#object.contains)) of a shapely geometry object to see whether another geometry object is located fully within the object:"
   ]
  },
  {
   "cell_type": "code",
   "execution_count": null,
   "metadata": {},
   "outputs": [],
   "source": [
    "poly = Polygon([(0, 0), (2, 0), (2, 3), (0, 3)])\n",
    "pt1 = Point(0, -0.1)\n",
    "pt2 = Point(1, 1)\n",
    "\n",
    "print(poly.contains(pt1)) # should return False, because pt1 is not within the polygon\n",
    "print(poly.contains(pt2)) # should return True, because pt2 is within the polygon"
   ]
  },
  {
   "cell_type": "markdown",
   "metadata": {},
   "source": [
    "We can also check to see whether two geometry objects intersect each other using the `.intersects()` method ([documentation](https://shapely.readthedocs.io/en/stable/manual.html#object.intersects)):"
   ]
  },
  {
   "cell_type": "code",
   "execution_count": null,
   "metadata": {},
   "outputs": [],
   "source": [
    "line1 = LineString([(0, 0), (1, 1)])\n",
    "line2 = LineString([(0, 1), (1, 0)])\n",
    "\n",
    "print(line1.intersects(line2)) # intersects() returns True if the geometries touch/intersect/overlap, False otherwise"
   ]
  },
  {
   "cell_type": "markdown",
   "metadata": {},
   "source": [
    "To actually get the intersection of the two geometries, we use the `.intersection()` method, which returns the geometry of the intersection (whether this is a **Point**, a **LineString**, a **Polygon**, or a mixed collection of geometries depends on the geometries and how they intersect): "
   ]
  },
  {
   "cell_type": "code",
   "execution_count": null,
   "metadata": {},
   "outputs": [],
   "source": [
    "line1 = LineString([(0, 0), (1, 1)])\n",
    "line2 = LineString([(0, 1), (1, 0)])\n",
    "poly = Polygon([(0, 0), (2, 0), (2, 3), (0, 3)])\n",
    "\n",
    "print(line1.intersection(line2)) # if the lines intersect, this will be the Point(s) of intersection\n",
    "print(line1.intersection(poly)) # if the line intersects a polygon, the result may be a line or a point"
   ]
  },
  {
   "cell_type": "markdown",
   "metadata": {},
   "source": [
    "There are a number of other methods provided by `shapely` that we can use to determine the relationship between geometry objects, including `touches`, `within`, and `overlaps`. Be sure to have a look at the full list from the [shapely user manual](https://shapely.readthedocs.io/en/stable/manual.html) to see the rest.\n",
    "\n",
    "## geopandas GeoDataFrames\n",
    "\n",
    "We have used `geopandas` in the previous two practicals to read provided shapefiles and work with the data they contain - in Practical 1, we translated a comma-separated variable (CSV) file into a shapefile, and in Practical 2, we read shapefile data and plotted it on a map using `cartopy`.\n",
    "\n",
    "This week, we will extend this introduction to look at how we can use `geopandas` to do various GIS analyses, such as spatial joins and clipping operations, as well as projecting from one coordinate reference system to another.\n",
    "\n",
    "To begin, we'll load the **NI_roads** dataset from the data_files folder and use `.head()` ([documentation](https://pandas.pydata.org/pandas-docs/stable/reference/api/pandas.DataFrame.head.html)) to show the first 5 rows of the **GeoDataFrame**:"
   ]
  },
  {
   "cell_type": "code",
   "execution_count": null,
   "metadata": {},
   "outputs": [],
   "source": [
    "roads = gpd.read_file('data_files/NI_roads.shp')\n",
    "\n",
    "roads.head() # show the first five rows of the table"
   ]
  },
  {
   "cell_type": "markdown",
   "metadata": {},
   "source": [
    "So this dataset has three columns: **SURVEY**, **Road_class**, and **geometry**. \n",
    "\n",
    "Note that each of the geometries is a **LineString** object, which means that we are working with line geometries. Hopefully, given that the data are supposed to represent roads, this makes sense.\n",
    "\n",
    "### coordinate reference systems using PROJ\n",
    "\n",
    "To start with, let's see if we can figure out how many kilometers of motorway are represented in the dataset - i.e., the sum of the length of all of the **LineString** objects that have the attribute `MOTORWAY`. \n",
    "\n",
    "First, though, let's check what the coordinate reference system (CRS) of our **GeoDataFrame** is, using the `crs` attribute:"
   ]
  },
  {
   "cell_type": "code",
   "execution_count": null,
   "metadata": {},
   "outputs": [],
   "source": [
    "roads.crs"
   ]
  },
  {
   "cell_type": "markdown",
   "metadata": {},
   "source": [
    "So this dataset has a *Geographic* coordinate reference system, **EPSG:4326**. EPSG codes (originally organized by the European Petroleum Survey Group) are a common way of working with coordinate reference systems. Each CRS in the [EPSG registry](https://epsg.org/home.html) has a unique code and standard well-known text representation.\n",
    "\n",
    "The `crs` attribute of the **GeoDataFrame** is actually a **pyproj.CRS** object ([documentation](https://pyproj4.github.io/pyproj/stable/api/crs/crs.html)). [pyproj](https://pyproj4.github.io/pyproj/stable/) is a python interface to the [PROJ](https://proj.org/) library, which is a software for transforming geospatial coordinates from one CRS to another.\n",
    "\n",
    "Each **pyproj.CRS** object provides a number of methods for converting to different formats, including well-known text, EPSG codes, JavaScript Object Notation (JSON), and PROJ string (i.e., `'+proj=longlat +datum=WGS84 +no_defs +type=crs'`).\n",
    "\n",
    "For example, to see the JSON representation of the CRS, we would use the `.to_json()` method ([documentation](https://pyproj4.github.io/pyproj/stable/api/crs/crs.html#pyproj.crs.CRS.to_json)):"
   ]
  },
  {
   "cell_type": "code",
   "execution_count": null,
   "metadata": {},
   "outputs": [],
   "source": [
    "roads.crs.to_json() # show the representation of the CRS in JSON format"
   ]
  },
  {
   "cell_type": "markdown",
   "metadata": {},
   "source": [
    "Because this is a _Geographic_ CRS, the length information provided by `.length` will also be in geographic units, which doesn't really make sense for us. This means that we first have to convert the **GeoDataFrame** to a *projected* CRS. \n",
    "\n",
    "To do this, we can use the method `to_crs()` ([documentation](https://geopandas.org/en/stable/docs/reference/api/geopandas.GeoDataFrame.to_crs.html)):"
   ]
  },
  {
   "cell_type": "code",
   "execution_count": null,
   "metadata": {},
   "outputs": [],
   "source": [
    "help(roads.to_crs) # show the help for the .to_crs() method"
   ]
  },
  {
   "cell_type": "markdown",
   "metadata": {},
   "source": [
    "So, to transform the **GeoDataFrame** to a different CRS, we have to provide either a CRS object or an EPSG code. We can also choose to do this *in place* (`inplace=True`), or assign the output to a new **GeoDataFrame** object (`inplace=False`, the default). Let's transform the **GeoDataFrame** to the Irish Transverse Mercator CRS, and assign the output to a new object called **roads_itm**.\n",
    "\n",
    "Rather than trying to find the correct JSON or PROJ representation of this CRS, we can instead use the EPSG code, which can be easier to work with.\n",
    "\n",
    "<span style=\"color:#009fdf;font-size:1.1em;font-weight:bold\">Using the search function on the [EPSG registry](https://epsg.org/search/by-name), or using an internet search, look up the EPSG code for the Irish Transverse Mercator CRS and enter it in the method call below:</span>"
   ]
  },
  {
   "cell_type": "code",
   "execution_count": null,
   "metadata": {},
   "outputs": [],
   "source": [
    "roads_itm = roads.to_crs(epsg=XX) # replace XX with the correct EPSG code for Irish Transverse Mercator\n",
    "\n",
    "roads_itm.head()"
   ]
  },
  {
   "cell_type": "markdown",
   "metadata": {},
   "source": [
    "Note that only the **geometry** column has changed - instead of geographic coordinates (e.g., (-6.21243, 54.48706)), the points in each **LineString** should be in a projected CRS (e.g., (715821.764, 861315.722)). Now, when we access the `.length` attributes of each **LineString** object, the units will be in the same units as our CRS (meters).\n",
    "\n",
    "### summarizing data using geopandas\n",
    "So that's the first part of our problem solved - our coordinates are in meters, and the lengths will be as well. The next step is to select all of the features that correspond to Motorways and sum the lengths. We saw an example of this in Practical 1 - we can slice the **GeoDataFrame** with a conditional statement (`'Road_class' == 'MOTORWAY'`) to select only those rows where the road type is `MOTORWAY`:"
   ]
  },
  {
   "cell_type": "code",
   "execution_count": null,
   "metadata": {},
   "outputs": [],
   "source": [
    "roads_itm[roads_itm['Road_class'] == 'MOTORWAY']"
   ]
  },
  {
   "cell_type": "markdown",
   "metadata": {},
   "source": [
    "But first, we might want to add a column to our **GeoDataFrame** that contains the `.length` of each of the features. One way to do this would be to *iterate* over the rows of the **GeoDataFrame** using the `.iterrows()`  ([documentation](https://pandas.pydata.org/pandas-docs/stable/reference/api/pandas.DataFrame.iterrows.html)):"
   ]
  },
  {
   "cell_type": "code",
   "execution_count": null,
   "metadata": {},
   "outputs": [],
   "source": [
    "help(roads_itm.iterrows)"
   ]
  },
  {
   "cell_type": "markdown",
   "metadata": {},
   "source": [
    "Because `.iterrows()` returns an **iterator** of (**index**, **Series**) pairs, we can use **tuple assignment** in our `for` loop definition: \n",
    "\n",
    "```python\n",
    "for ind, row in roads_itm.iterrows():\n",
    "```\n",
    "\n",
    "This gives us two variables, `ind` and `row`, which we can use inside the body of the `for` loop:\n",
    "- `ind` corresponds to the **index** of the `row`\n",
    "- `row` corresponds to the **Series**, the actual data contained in the `row`\n",
    "\n",
    "We can access the value stored in each \"column\" of the row in the same way that we do for the full **GeoDataFrame** - either `row[column]` or `row.column`. \n",
    "\n",
    "Finally, we can assign a new column in the original **GeoDataFrame** using the `.loc` [property](https://pandas.pydata.org/pandas-docs/stable/reference/api/pandas.DataFrame.loc.html), which uses either a *label* (for example, `ind`), or a **Boolean array** to index the **GeoDataFrame**. \n",
    "\n",
    "So the line below,\n",
    "\n",
    "```python\n",
    "roads_itm.loc[ind, 'Length'] = row['geometry'].length\n",
    "```\n",
    "\n",
    "assigns the `length` property of the row's geometry to a new column, `Length`, at the  index. Putting it all together, our loop looks like this:"
   ]
  },
  {
   "cell_type": "code",
   "execution_count": null,
   "metadata": {},
   "outputs": [],
   "source": [
    "for ind, row in roads_itm.iterrows(): # iterate over each row in the GeoDataFrame\n",
    "    roads_itm.loc[ind, 'Length'] = row['geometry'].length # assign the row's geometry length to a new column, Length\n",
    "    \n",
    "roads_itm.head() # show the updated GeoDataFrame to see the changes"
   ]
  },
  {
   "cell_type": "markdown",
   "metadata": {},
   "source": [
    "Finally, we can subset our **GeoDataFrame** to select only `MOTORWAY` features, and sum their length using the `.sum()` method ([documentation](https://pandas.pydata.org/pandas-docs/stable/reference/api/pandas.Series.sum.html)):"
   ]
  },
  {
   "cell_type": "code",
   "execution_count": null,
   "metadata": {
    "scrolled": true
   },
   "outputs": [],
   "source": [
    "sum_roads = roads_itm['Length'].sum()\n",
    "sum_motorway = roads_itm[roads_itm['Road_class'] == 'MOTORWAY']['Length'].sum()\n",
    "print(f'{sum_roads:.2f} total m of roads')\n",
    "print(f'{sum_motorway:.2f} total m of motorway')"
   ]
  },
  {
   "cell_type": "markdown",
   "metadata": {},
   "source": [
    "In the cell above, look at the `print` function argument:\n",
    "\n",
    "```python\n",
    "print(f'{sum_motorway:.2f} total m of motorway')\n",
    "```\n",
    "\n",
    "Here, we are using a \"[formatted string literal](https://docs.python.org/3/tutorial/inputoutput.html#tut-f-strings)\" (**f-String**) to insert the value of an object, `sum_motorway`, into our `print()` statement. We saw this in the very first exercise in Week 1, but there's something added here: the *format specification*, `:.2f`. Rather than printing the string in an unformatted way (which would contain a lot of extra decimal places), we can tell the `format` method to clean up the output using `:` and a [format specification](https://docs.python.org/3.8/library/string.html#formatspec). In this case, `.2f` tells python to format as a **float** (`f`), with 2 places after the decimal.\n",
    "\n",
    "Let's say now that we want to find the sum of all of the different road classes in our dataset. We could, of course, repeat the exercise above for each of the different values of **Road_class**. But, `pandas` (and by extension, `geopandas`) provides a nicer way to summarize data based on certain properties: the `.groupby()` method ([documentation](https://pandas.pydata.org/pandas-docs/stable/reference/api/pandas.DataFrame.groupby.html)). \n",
    "\n",
    "`.groupby()` returns an object (a **DataFrameGroupBy** object) that is similar to a **DataFrame**, but that contains information about how the data in the table is grouped; to see different properties of those groups, we can use methods like `.mean()`, `.median()`, `.sum()`, etc., exactly like we can on a **DataFrame**, **GeoDataFrame**, or **Series** object.\n",
    "\n",
    "If we want to summarize our dataset by `Road_class` and use `.sum()` to find the total length of each type of roadway, then, it would like this:"
   ]
  },
  {
   "cell_type": "code",
   "execution_count": null,
   "metadata": {},
   "outputs": [],
   "source": [
    "roads_itm.groupby(['Road_class'])['Length'].sum() / 1000 # convert to km"
   ]
  },
  {
   "cell_type": "markdown",
   "metadata": {},
   "source": [
    "`.groupby()` returns a **GeoDataFrame**, which we can then index to return a single column, `Length`. As this is a numeric column, we can also use arithmetic on it to divide by a conversion factor, to convert the length from meters to kilometers. The `.groupby()` method is a very useful way to quickly summarize a **DataFrame** (or a **GeoDataFrame** - remember that this is a **child class** of **DataFrame**).\n",
    "\n",
    "## spatial data operations using geopandas and shapely\n",
    "Oftentimes in GIS analysis, we want to summarize our data spatially, as well as thematically. In this section, we will be looking at two examples of this kind of analysis: first, using a [spatial join](https://gisgeography.com/spatial-join/), and second, using a clipping operation.\n",
    "\n",
    "Remember that the `shapely` geometry objects in the **GeoDataFrame** don't have any inherent information about the CRS of the object. This means that in order to perform operations like a spatial join, we have to first ensure that the two **GeoDataFrame** objects have the same CRS. The cell below will load the Counties shapefile in the **data_files** folder, and test whether the CRS of the `counties` **GeoDataFrame** is the same as the CRS of the `roads_itm` **GeoDataFrame**.\n",
    "\n",
    "<span style=\"color:#009fdf;font-size:1.1em;font-weight:bold\">If, when you first load the shapefile, the test below returns False, write a line of code that will ensure that the test returns True.</span>"
   ]
  },
  {
   "cell_type": "code",
   "execution_count": null,
   "metadata": {},
   "outputs": [],
   "source": [
    "counties = gpd.read_file('data_files/Counties.shp') # load the Counties shapefile\n",
    "# your line of code might go here.\n",
    "print(counties.crs == roads_itm.crs) # test if the crs is the same for roads_itm and counties."
   ]
  },
  {
   "cell_type": "markdown",
   "metadata": {},
   "source": [
    "Now that the two **GeoDataFrame** objects have the same CRS, we can proceed with the spatial join using `gpd.sjoin()` ([documentation](https://geopandas.org/en/stable/docs/reference/api/geopandas.sjoin.html)):"
   ]
  },
  {
   "cell_type": "code",
   "execution_count": null,
   "metadata": {},
   "outputs": [],
   "source": [
    "join = gpd.sjoin(counties, roads_itm, how='inner', lsuffix='left', rsuffix='right') # perform the spatial join\n",
    "join # show the joined table"
   ]
  },
  {
   "cell_type": "markdown",
   "metadata": {},
   "source": [
    "Now, we can see that our table has additional columns - we have the unnamed `index`, `COUNTY_ID`, `CountyName`, `Area_SqKM`, `OBJECTID`, and `geometry` from the `counties` **GeoDataFrame**, and `index_right` (because the original column in `roads_itm` has the same name as `index` in `counties`), `SURVEY`, `Road_class`, and `Length` from the `roads_itm` **GeoDataFrame**.\n",
    "\n",
    "Like we did with `roads_itm`, we can again summarize our new **GeoDataFrame** using `.groupby()`; this time, we'll use both the `CountyName` and `Road_class` properties to see the total length of roads by each county, and by the type of road:"
   ]
  },
  {
   "cell_type": "code",
   "execution_count": null,
   "metadata": {},
   "outputs": [],
   "source": [
    "group_county_road = join.groupby(['CountyName', 'Road_class']) # group by county name, then road class\n",
    "\n",
    "group_county_road['Length'].sum() / 1000 # show the total number of km for each category"
   ]
  },
  {
   "cell_type": "markdown",
   "metadata": {},
   "source": [
    "From this, we can quickly see that County Antrim has the most motorway of any county in Northern Ireland (93.44 km), while County Tyrone has the most \"< 4M Tarred\" road surfaces by a factor of two (2809.43 km vs. 1453.77 km for County Armagh).\n",
    "\n",
    "One thing to keep in mind is that with a spatial join, any feature in the \"right\" table that overlaps multiple features in the \"left\" table will be, in effect, double-counted. We can confirm this by calculating the total length of roads in the joined table and comparing it to the total length of roads in the original dataset:"
   ]
  },
  {
   "cell_type": "code",
   "execution_count": null,
   "metadata": {},
   "outputs": [],
   "source": [
    "join_total = join['Length'].sum() # find the total length of roads in the join GeoDataFrame\n",
    "\n",
    "# check that the total length of roads is the same between both GeoDataFrames\n",
    "print(f'Total length of roads from original file: {sum_roads:.2f}')\n",
    "print(f'Total length of roads from spatial join: {join_total:.2f}')\n",
    "print(f'Absolute difference in road length: {abs(sum_roads - join_total) / 1000:0.2f} km') # calculate the absolute difference as a percentage\n",
    "print(f'Absolute difference in road length: {(100 * abs(sum_roads - join_total) / sum_roads):0.2f}%') # calculate the absolute difference as a percentage"
   ]
  },
  {
   "cell_type": "markdown",
   "metadata": {},
   "source": [
    "And indeed, we can see that the total length of roads in the spatial join is ~300 km longer (1.42%) than the total length of roads in the original dataset.\n",
    "\n",
    "We can also see that we have double-counted features by comparing the total number of road features in the `join` **GeoDataFrame** with the number of unique road features, which we can find using a combination of `len()` ([documentation](https://docs.python.org/3/library/functions.html#len)) and `.unique()` ([documentation](https://pandas.pydata.org/pandas-docs/stable/reference/api/pandas.Series.unique.html)):"
   ]
  },
  {
   "cell_type": "code",
   "execution_count": null,
   "metadata": {},
   "outputs": [],
   "source": [
    "not_unique = len(join.index) - len(join.index_right.unique()) # get the difference between the number of objects in the table and the unique objects in the table\n",
    "\n",
    "print(f'There are {not_unique} duplicated objects in the joined table.')"
   ]
  },
  {
   "cell_type": "markdown",
   "metadata": {},
   "source": [
    "Obviously, we don't want to double-count roads - to get around this, we can use the `gpd.clip()` function ([documentation](https://geopandas.org/en/stable/docs/reference/api/geopandas.clip.html)) to clip the features of `roads_itm` to each of the county boundaries in the `counties` **GeoDataFrame**:"
   ]
  },
  {
   "cell_type": "code",
   "execution_count": null,
   "metadata": {},
   "outputs": [],
   "source": [
    "help(gpd.clip)"
   ]
  },
  {
   "cell_type": "markdown",
   "metadata": {},
   "source": [
    "Note that we have to do this for each of county, because - `gpd.clip()` will take the total boundary for the **GeoDataFrame** if there are multiple **Polygon** objects. \n",
    "\n",
    "Using a `for` loop to loop over the `counties` **GeoDataFrame**, then, we can clip `roads_itm` to each county, and combine the results in another **GeoDataFrame**:"
   ]
  },
  {
   "cell_type": "code",
   "execution_count": null,
   "metadata": {},
   "outputs": [],
   "source": [
    "clipped = [] # initialize an empty list\n",
    "for county in counties['CountyName'].unique(): # iterate over unique values of county\n",
    "    tmp_clip = gpd.clip(roads_itm, counties[counties['CountyName'] == county]) # clip the roads by county border\n",
    "    for ind, row in tmp_clip.iterrows():\n",
    "        tmp_clip.loc[ind, 'Length'] = row['geometry'].length # remember to update the length for any clipped roads\n",
    "        tmp_clip.loc[ind, 'CountyName'] = county # set the county name for each road feature    \n",
    "    clipped.append(tmp_clip) # add the clipped GeoDataFrame to the list"
   ]
  },
  {
   "cell_type": "markdown",
   "metadata": {},
   "source": [
    "Note that this step will likely take some time, as we are iterating over a large number of features.\n",
    "\n",
    "This creates a **list** of **GeoDataFrame** objects - one for each unique value of `CountyName`. Now, we can use `pd.concat()` ([documentation](https://pandas.pydata.org/pandas-docs/stable/reference/api/pandas.concat.html)) to combine these into a single **DataFrame**, then use `gpd.GeoDataFrame()` to convert this to a **GeoDataFrame**. \n",
    "\n",
    "Note the use of `ignore_index=True` with `pd.concat()` - this means that `pandas` will assign each row in the combined **DataFrame** with a new index, rather than keeping the original index. Because in this case our index values only correspond to the row number, we don't need to keep track of this in the new table."
   ]
  },
  {
   "cell_type": "code",
   "execution_count": null,
   "metadata": {},
   "outputs": [],
   "source": [
    "clipped_gdf = gpd.GeoDataFrame(pd.concat(clipped, ignore_index=True)) # create a geodataframe from the combined county geodataframes\n",
    "\n",
    "clipped_gdf # show the new, combined geodataframe"
   ]
  },
  {
   "cell_type": "markdown",
   "metadata": {},
   "source": [
    "Now, we can compare the total length of the clipped roads with the total length of roads from the original dataset:"
   ]
  },
  {
   "cell_type": "code",
   "execution_count": null,
   "metadata": {},
   "outputs": [],
   "source": [
    "# pandas has a function, concat, which will combine (concatenate) a list of DataFrames (or GeoDataFrames)\n",
    "# we can then create a GeoDataFrame from the combined DataFrame, as the combined DataFrame will have a geometry column.\n",
    "clip_total = clipped_gdf['Length'].sum()\n",
    "\n",
    "print(f'Total length of roads from original file: {sum_roads:.2f} m')\n",
    "print(f'Total length of roads from clipped join: {clip_total:.2f} m')\n",
    "print(f'Absolute difference in road length: {abs(sum_roads - clip_total) / 1000:0.2f} km')\n",
    "print(f'Absolute difference in road length: {(100 * abs(sum_roads - clip_total) / sum_roads):0.2f}%')"
   ]
  },
  {
   "cell_type": "markdown",
   "metadata": {},
   "source": [
    "So we don't have perfect overlap. This is because there isn't perfect overlap between the `counties` boundary and the `roads` features: there are a number of places where the roads extend beyond the border of Northern Ireland. One example of this is shown below:\n",
    "\n",
    "![](road_extension.png)\n",
    "\n",
    "To fix this, we could first clip `roads_itm` to the entire `counties` __GeoDataFrame__, which would eliminate these extraneous stretches of road. \n",
    "\n",
    "For now, though, agrement to within 0.01% is acceptable for our purposes - much better than the 1.42% disagreement from the original spatial join.\n",
    "\n",
    "<span style=\"color:#009fdf;font-size:1.1em;font-weight:bold\">To wrap up, write a line or two of code in the cell below that will summarize the `clipped_gdf` __GeoDataFrame__ by county and road type. Which county has the most Motorways? The most roads in total?</span>"
   ]
  },
  {
   "cell_type": "code",
   "execution_count": null,
   "metadata": {},
   "outputs": [],
   "source": [
    "# your code goes here!"
   ]
  },
  {
   "cell_type": "markdown",
   "metadata": {},
   "source": [
    "## exercise and next steps\n",
    "Now that you've gained some experience working with `shapely` geometry objects and `geopandas` **GeoDataFrame** objects, have a look at **exercise_script.py** in this folder. \n",
    "\n",
    "Using the topics covered in the Week 2 practical and this practical, modify this script to do the following:\n",
    "1. Load the counties and ward data\n",
    "2. Using a spatial join, summarize the total population by county. What county has the highest population? What about the lowest?\n",
    "3. Create a map like the one below to show population information by census area, with the county boundaries plotted overtop of the chloropleth map.\n",
    "\n",
    "![](sample_map.png)\n",
    "\n",
    "### additional exercise questions\n",
    "1. Are there any Wards that are located in more than one county? If so, how many, and what is the total population of these Wards?\n",
    "2. What Ward has the highest population? What about the lowest population?\n",
    "3. Repeat the exercise above using **exercise_script.py**, but this time use the population density (in number of residents per square km)."
   ]
  }
 ],
 "metadata": {
  "kernelspec": {
   "display_name": "Python 3 (ipykernel)",
   "language": "python",
   "name": "python3"
  },
  "language_info": {
   "codemirror_mode": {
    "name": "ipython",
    "version": 3
   },
   "file_extension": ".py",
   "mimetype": "text/x-python",
   "name": "python",
   "nbconvert_exporter": "python",
   "pygments_lexer": "ipython3",
   "version": "3.12.1"
  }
 },
 "nbformat": 4,
 "nbformat_minor": 4
}
