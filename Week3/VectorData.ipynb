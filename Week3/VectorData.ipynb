{
 "cells": [
  {
   "cell_type": "markdown",
   "metadata": {},
   "source": [
    "# vector data using shapely and geopandas\n",
    "\n",
    "## overview\n",
    "\n",
    "Up to now, you have gained some experience working with basic features of python, and used cartopy and matplotlib to create a map. In each of these practicals, you have loaded different vector datasets using a module called geopandas. In this week's practical, we'll be looking at working vector data in a bit more depth, including the different geometry types available using shapely, analyses like spatial joins and summarizing based on attributes, and how to reproject vector data from one coordinate reference system to another.\n",
    "\n",
    "\n",
    "## objectives\n",
    "-  Gain experience working with different vector data types using shapely\n",
    "-  Use geopandas to re-project vector datasets from one coordinate reference system to another\n",
    "-  Summarize features using the groupby method of a GeoDataFrame\n",
    "-  Learn how to perform different vector data operations using geopandas and shapely\n",
    "\n",
    "## data provided\n",
    "\n",
    "In the data\\_files folder, you should have the following:\n",
    "-  **NI_roads.shp**, a shapefile of roads in Northern Ireland\n",
    "-  **Counties.shp**, a shapefile of county outlines for Northern Ireland\n",
    "-  **NI_Wards.shp**, a shapefile of electoral wards for Northern Ireland\n",
    "\n",
    "## getting started\n",
    "\n",
    "In this practical, we'll be working with vector data. As a quick refresher, the three main types of vector data that we will work with are:\n",
    "\n",
    "-  **Point**: point data represent a single point in space. For our purposes, points are either two-dimensional (x, y) or three-dimensional (x, y, z). In `shapely`, the corresponding **class** of data is a **Point**.\n",
    "-  **Line**: lines are a sequence of at least two points that are joined together. In `shapely`, the corresponding **class** of data is known as a **LineString**.\n",
    "-  **Polygon**: polygons are a sequence of at least three points that are connected to form a **ring**, as well as any additional rings that represent holes in the polygon. In `shapely`, the corresponding **class** of data is a **Polygon**.\n",
    "\n",
    "We can also have **Collections** of vector data, where each feature represents a collection of **Point**, **Line**, or **Polygon** objects. In `shapely`, these are represented as **MultiPoint**, **MultiLineString**, or **MultiPolygon** objects.\n",
    "\n",
    "To get started, run the following cell to import `geopandas` and `shapely`."
   ]
  },
  {
   "cell_type": "code",
   "execution_count": 1,
   "metadata": {},
   "outputs": [],
   "source": [
    "# this lets us use the figures interactively\n",
    "%matplotlib inline\n",
    "\n",
    "import pandas as pd\n",
    "import geopandas as gpd\n",
    "from shapely.geometry import Point, LineString, Polygon"
   ]
  },
  {
   "cell_type": "markdown",
   "metadata": {},
   "source": [
    "## shapely geometry types\n",
    "### Points\n",
    "As we saw in Week 1, to create a **Point**, we pass x, y (and optionally, z) coordinates to the **Point** class constructor ([documentation](https://shapely.readthedocs.io/en/stable/reference/shapely.Point.html)):"
   ]
  },
  {
   "cell_type": "code",
   "execution_count": 2,
   "metadata": {},
   "outputs": [
    {
     "name": "stdout",
     "output_type": "stream",
     "text": [
      "POINT (-6.677 55.15)\n",
      "POINT (-6.658 55.213)\n",
      "POINT Z (86.925278 27.988056 8848.86)\n"
     ]
    }
   ],
   "source": [
    "pt = Point(-6.677, 55.150) # creates a 2d point with coordinates -6.677, 55.150\n",
    "pt2 = Point(-6.658, 55.213) # creates a 2d point with coordinates -6.658, 55.213\n",
    "\n",
    "pt3d = Point(86.925278, 27.988056, 8848.86) # creates a 3d point\n",
    "\n",
    "print(pt) # print a well-known text (WKT) representation of the Point object\n",
    "print(pt2)\n",
    "print(pt3d)"
   ]
  },
  {
   "cell_type": "markdown",
   "metadata": {},
   "source": [
    "The last line, `print(pt)`, prints a [well-known-text](https://en.wikipedia.org/wiki/Well-known_text_representation_of_geometry) (WKT) representation of the **Point** object. WKT is a standard representation of vector geometry objects - most `python` libraries and GIS softwares are able to read and/or translate WKT into other formats, such as ESRI Shapefiles, GeoJSON, etc.\n",
    "\n",
    "Remember that in python, we can find the attributes and methods for an object by looking up the documentation (for shapely, this can be found [here](https://shapely.readthedocs.io/en/stable/manual.html)), or using the built-in function `dir()`. To find out more about a particular function, we can use the built-in function `help()` (or, in jupyter notebooks/ipython, the `?` operator).\n",
    "\n",
    "As an example, let's use the built-in function `dir()` to look at the methods and attributes associated with the __Point__ class:"
   ]
  },
  {
   "cell_type": "code",
   "execution_count": 3,
   "metadata": {},
   "outputs": [
    {
     "data": {
      "text/plain": [
       "['__and__',\n",
       " '__bool__',\n",
       " '__class__',\n",
       " '__delattr__',\n",
       " '__dir__',\n",
       " '__doc__',\n",
       " '__eq__',\n",
       " '__format__',\n",
       " '__ge__',\n",
       " '__geo_interface__',\n",
       " '__getattribute__',\n",
       " '__getstate__',\n",
       " '__gt__',\n",
       " '__hash__',\n",
       " '__init__',\n",
       " '__init_subclass__',\n",
       " '__le__',\n",
       " '__lt__',\n",
       " '__module__',\n",
       " '__ne__',\n",
       " '__new__',\n",
       " '__nonzero__',\n",
       " '__or__',\n",
       " '__reduce__',\n",
       " '__reduce_ex__',\n",
       " '__repr__',\n",
       " '__setattr__',\n",
       " '__setstate__',\n",
       " '__sizeof__',\n",
       " '__slots__',\n",
       " '__str__',\n",
       " '__sub__',\n",
       " '__subclasshook__',\n",
       " '__xor__',\n",
       " '_geom',\n",
       " '_geom_prepared',\n",
       " '_ndim',\n",
       " '_repr_svg_',\n",
       " 'almost_equals',\n",
       " 'area',\n",
       " 'boundary',\n",
       " 'bounds',\n",
       " 'buffer',\n",
       " 'centroid',\n",
       " 'contains',\n",
       " 'contains_properly',\n",
       " 'convex_hull',\n",
       " 'coords',\n",
       " 'covered_by',\n",
       " 'covers',\n",
       " 'crosses',\n",
       " 'difference',\n",
       " 'disjoint',\n",
       " 'distance',\n",
       " 'dwithin',\n",
       " 'envelope',\n",
       " 'equals',\n",
       " 'equals_exact',\n",
       " 'geom_type',\n",
       " 'geometryType',\n",
       " 'has_z',\n",
       " 'hausdorff_distance',\n",
       " 'interpolate',\n",
       " 'intersection',\n",
       " 'intersects',\n",
       " 'is_closed',\n",
       " 'is_empty',\n",
       " 'is_ring',\n",
       " 'is_simple',\n",
       " 'is_valid',\n",
       " 'length',\n",
       " 'line_interpolate_point',\n",
       " 'line_locate_point',\n",
       " 'minimum_clearance',\n",
       " 'minimum_rotated_rectangle',\n",
       " 'normalize',\n",
       " 'oriented_envelope',\n",
       " 'overlaps',\n",
       " 'point_on_surface',\n",
       " 'project',\n",
       " 'relate',\n",
       " 'relate_pattern',\n",
       " 'representative_point',\n",
       " 'reverse',\n",
       " 'segmentize',\n",
       " 'simplify',\n",
       " 'svg',\n",
       " 'symmetric_difference',\n",
       " 'touches',\n",
       " 'type',\n",
       " 'union',\n",
       " 'within',\n",
       " 'wkb',\n",
       " 'wkb_hex',\n",
       " 'wkt',\n",
       " 'x',\n",
       " 'xy',\n",
       " 'y',\n",
       " 'z']"
      ]
     },
     "execution_count": 3,
     "metadata": {},
     "output_type": "execute_result"
    }
   ],
   "source": [
    "dir(pt) # show the attributes and methods associated with the pt object"
   ]
  },
  {
   "cell_type": "markdown",
   "metadata": {},
   "source": [
    "Here, in addition to the **speciall** or **magic** methods (denoted with two underscores, \\_\\_, at the beginning and end of the method name), there are a number of methods that we might find useful, including `.distance()`. \n",
    "\n",
    "To see what this method does, we can use `help(Point.distance)`:"
   ]
  },
  {
   "cell_type": "code",
   "execution_count": 4,
   "metadata": {},
   "outputs": [
    {
     "name": "stdout",
     "output_type": "stream",
     "text": [
      "Help on method distance in module shapely.geometry.base:\n",
      "\n",
      "distance(other) method of shapely.geometry.point.Point instance\n",
      "    Unitless distance to other geometry (float)\n",
      "\n"
     ]
    }
   ],
   "source": [
    "help(pt.distance)"
   ]
  },
  {
   "cell_type": "markdown",
   "metadata": {},
   "source": [
    "So, `.distance()` provides the distance from the **Point** object to some other geometry. Because `shapely` does not directly deal with coordinate systems, this distance is **unitless**. This means that **we have to make sure that the two objects have the same reference system - if we do not, the distance returned will not make sense.** Don't worry, we will cover working with coordinate reference systems later on in this exercise.\n",
    "\n",
    "<span style=\"color:#009fdf;font-size:1.1em;font-weight:bold\">Use the cell below, along with the output of dir(pt) above, to work out how we can access the x, y coordinates of a **Point** object. Can you see more than one way to do this? If so, are there differences between them?</span>"
   ]
  },
  {
   "cell_type": "code",
   "execution_count": 5,
   "metadata": {
    "scrolled": true
   },
   "outputs": [
    {
     "data": {
      "text/plain": [
       "(array('d', [-6.677]), array('d', [55.15]))"
      ]
     },
     "execution_count": 5,
     "metadata": {},
     "output_type": "execute_result"
    }
   ],
   "source": [
    "pt.xy\n"
   ]
  },
  {
   "cell_type": "markdown",
   "metadata": {},
   "source": [
    "One of the common operations we might want to do with a **Point** object is to create a **buffer** around the point. In the list of associated methods and attributes of Point objects above, you should see there is a method called `.buffer()`. \n",
    "\n",
    "A look at the help for this method:"
   ]
  },
  {
   "cell_type": "code",
   "execution_count": 6,
   "metadata": {},
   "outputs": [
    {
     "name": "stdout",
     "output_type": "stream",
     "text": [
      "Help on method buffer in module shapely.geometry.base:\n",
      "\n",
      "buffer(distance, quad_segs=16, cap_style='round', join_style='round', mitre_limit=5.0, single_sided=False, **kwargs) method of shapely.geometry.point.Point instance\n",
      "    Get a geometry that represents all points within a distance\n",
      "    of this geometry.\n",
      "\n",
      "    A positive distance produces a dilation, a negative distance an\n",
      "    erosion. A very small or zero distance may sometimes be used to\n",
      "    \"tidy\" a polygon.\n",
      "\n",
      "    Parameters\n",
      "    ----------\n",
      "    distance : float\n",
      "        The distance to buffer around the object.\n",
      "    resolution : int, optional\n",
      "        The resolution of the buffer around each vertex of the\n",
      "        object.\n",
      "    quad_segs : int, optional\n",
      "        Sets the number of line segments used to approximate an\n",
      "        angle fillet.\n",
      "    cap_style : shapely.BufferCapStyle or {'round', 'square', 'flat'}, default 'round'\n",
      "        Specifies the shape of buffered line endings. BufferCapStyle.round ('round')\n",
      "        results in circular line endings (see ``quad_segs``). Both BufferCapStyle.square\n",
      "        ('square') and BufferCapStyle.flat ('flat') result in rectangular line endings,\n",
      "        only BufferCapStyle.flat ('flat') will end at the original vertex,\n",
      "        while BufferCapStyle.square ('square') involves adding the buffer width.\n",
      "    join_style : shapely.BufferJoinStyle or {'round', 'mitre', 'bevel'}, default 'round'\n",
      "        Specifies the shape of buffered line midpoints. BufferJoinStyle.ROUND ('round')\n",
      "        results in rounded shapes. BufferJoinStyle.bevel ('bevel') results in a beveled\n",
      "        edge that touches the original vertex. BufferJoinStyle.mitre ('mitre') results\n",
      "        in a single vertex that is beveled depending on the ``mitre_limit`` parameter.\n",
      "    mitre_limit : float, optional\n",
      "        The mitre limit ratio is used for very sharp corners. The\n",
      "        mitre ratio is the ratio of the distance from the corner to\n",
      "        the end of the mitred offset corner. When two line segments\n",
      "        meet at a sharp angle, a miter join will extend the original\n",
      "        geometry. To prevent unreasonable geometry, the mitre limit\n",
      "        allows controlling the maximum length of the join corner.\n",
      "        Corners with a ratio which exceed the limit will be beveled.\n",
      "    single_side : bool, optional\n",
      "        The side used is determined by the sign of the buffer\n",
      "        distance:\n",
      "\n",
      "            a positive distance indicates the left-hand side\n",
      "            a negative distance indicates the right-hand side\n",
      "\n",
      "        The single-sided buffer of point geometries is the same as\n",
      "        the regular buffer.  The End Cap Style for single-sided\n",
      "        buffers is always ignored, and forced to the equivalent of\n",
      "        CAP_FLAT.\n",
      "    quadsegs : int, optional\n",
      "        Deprecated alias for `quad_segs`.\n",
      "\n",
      "    Returns\n",
      "    -------\n",
      "    Geometry\n",
      "\n",
      "    Notes\n",
      "    -----\n",
      "    The return value is a strictly two-dimensional geometry. All\n",
      "    Z coordinates of the original geometry will be ignored.\n",
      "\n",
      "    Examples\n",
      "    --------\n",
      "    >>> from shapely.wkt import loads\n",
      "    >>> g = loads('POINT (0.0 0.0)')\n",
      "\n",
      "    16-gon approx of a unit radius circle:\n",
      "\n",
      "    >>> g.buffer(1.0).area  # doctest: +ELLIPSIS\n",
      "    3.1365484905459...\n",
      "\n",
      "    128-gon approximation:\n",
      "\n",
      "    >>> g.buffer(1.0, 128).area  # doctest: +ELLIPSIS\n",
      "    3.141513801144...\n",
      "\n",
      "    triangle approximation:\n",
      "\n",
      "    >>> g.buffer(1.0, 3).area\n",
      "    3.0\n",
      "    >>> list(g.buffer(1.0, cap_style=BufferCapStyle.square).exterior.coords)\n",
      "    [(1.0, 1.0), (1.0, -1.0), (-1.0, -1.0), (-1.0, 1.0), (1.0, 1.0)]\n",
      "    >>> g.buffer(1.0, cap_style=BufferCapStyle.square).area\n",
      "    4.0\n",
      "\n"
     ]
    }
   ],
   "source": [
    "help(pt.buffer) # show the help for pt.buffer"
   ]
  },
  {
   "cell_type": "markdown",
   "metadata": {},
   "source": [
    "shows that `buffer` takes a **positional parameter** of *distance*, as well as a number of **keyword parameters** that determine how the buffer operation is done. Remember that the buffer distance will be in the same coordinate system as our point - `shapely` does not, by itself, do any conversion between coordinate systems or units. \n",
    "\n",
    "Note that the object returned by buffer is a **Polygon**, rather than a point - this makes sense, as the buffer is a two-dimensional surface around the point location:"
   ]
  },
  {
   "cell_type": "code",
   "execution_count": 7,
   "metadata": {},
   "outputs": [
    {
     "name": "stdout",
     "output_type": "stream",
     "text": [
      "<class 'shapely.geometry.polygon.Polygon'>\n"
     ]
    }
   ],
   "source": [
    "pt_buffer = pt.buffer(0.001) # buffer the point by 0.001 in the same coordinates\n",
    "print(type(pt_buffer)) # show the type of the buffer"
   ]
  },
  {
   "cell_type": "markdown",
   "metadata": {},
   "source": [
    "### LineStrings\n",
    "Instead of using a single x, y coordinate pair, a **LineString** object ([documentation](https://shapely.readthedocs.io/en/stable/reference/shapely.LineString.html)) takes either a list of **Point** objects, or a list of coordinate **tuples**:"
   ]
  },
  {
   "cell_type": "code",
   "execution_count": 8,
   "metadata": {},
   "outputs": [
    {
     "name": "stdout",
     "output_type": "stream",
     "text": [
      "LINESTRING (-6.677 55.15, -6.658 55.213)\n",
      "LINESTRING (-6.677 55.15, -6.658 55.213)\n"
     ]
    }
   ],
   "source": [
    "line1 = LineString([pt, pt2]) # method one of creating a LineString, using a list of Point objects\n",
    "line2 = LineString([(-6.677, 55.150), (-6.658, 55.213)]) # method two, using a list of coordinate tuples\n",
    "\n",
    "print(line1) # show the first line\n",
    "print(line2) # show the second line"
   ]
  },
  {
   "cell_type": "markdown",
   "metadata": {},
   "source": [
    "As we can see from the output above, these two **LineString**s have the same coordinates. We can also use the `.equals()` method to check that the two objects are the same geometry:"
   ]
  },
  {
   "cell_type": "code",
   "execution_count": 9,
   "metadata": {},
   "outputs": [
    {
     "data": {
      "text/plain": [
       "True"
      ]
     },
     "execution_count": 9,
     "metadata": {},
     "output_type": "execute_result"
    }
   ],
   "source": [
    "line1.equals(line2) # check to see if these are the same geometry"
   ]
  },
  {
   "cell_type": "markdown",
   "metadata": {},
   "source": [
    "The coordinates of a __LineString__ are stored as a __tuple__ in an attribute called __xy__. The __tuple__ has two items representing the X and Y coordinate values. If we want the x and y coordinates as separate variables, we can access them using their respective indices:\n",
    "\n",
    "```python\n",
    "In [4]: x = line1.xy[0]\n",
    "In [5]: y = line1.xy[1]\n",
    "```\n",
    "\n",
    "We can also combine this using __tuple assignment__, or __unpacking__, which assigns values from a __tuple__ on the right-hand side of the assignment to a comma-separated grouping of variables on the left-hand side:"
   ]
  },
  {
   "cell_type": "code",
   "execution_count": 10,
   "metadata": {},
   "outputs": [
    {
     "name": "stdout",
     "output_type": "stream",
     "text": [
      "array('d', [-6.677, -6.658])\n",
      "array('d', [55.15, 55.213])\n"
     ]
    }
   ],
   "source": [
    "x, y = line1.xy\n",
    "\n",
    "print(x)\n",
    "print(y)"
   ]
  },
  {
   "cell_type": "markdown",
   "metadata": {},
   "source": [
    "**LineString** objects have a number of the same methods that **Point** objects do, including `.buffer()` and `.distance()`. \n",
    "\n",
    "**LineString** objects also have a `.length` attribute (just like with `.distance()`, it is __unitless__):"
   ]
  },
  {
   "cell_type": "code",
   "execution_count": 11,
   "metadata": {},
   "outputs": [
    {
     "name": "stdout",
     "output_type": "stream",
     "text": [
      "0.06580273550545046\n"
     ]
    }
   ],
   "source": [
    "print(line1.length)"
   ]
  },
  {
   "cell_type": "markdown",
   "metadata": {},
   "source": [
    "**LineString** objects have a `.centroid` attribute, corresponding to the midpoint of the **LineString**:"
   ]
  },
  {
   "cell_type": "code",
   "execution_count": 12,
   "metadata": {},
   "outputs": [
    {
     "name": "stdout",
     "output_type": "stream",
     "text": [
      "POINT (-6.6675 55.1815)\n"
     ]
    }
   ],
   "source": [
    "center = line1.centroid # get the midpoint of the line\n",
    "print(center)"
   ]
  },
  {
   "cell_type": "markdown",
   "metadata": {},
   "source": [
    "The last two methods of **LineString** objects that we will explore for now are `.project()` and `.interpolate()`:"
   ]
  },
  {
   "cell_type": "code",
   "execution_count": 13,
   "metadata": {},
   "outputs": [
    {
     "name": "stdout",
     "output_type": "stream",
     "text": [
      "Help on method project in module shapely.geometry.base:\n",
      "\n",
      "project(other, normalized=False) method of shapely.geometry.linestring.LineString instance\n",
      "    Returns the distance along this geometry to a point nearest the\n",
      "    specified point\n",
      "\n",
      "    If the normalized arg is True, return the distance normalized to the\n",
      "    length of the linear geometry.\n",
      "\n",
      "    Alias of `line_locate_point`.\n",
      "\n"
     ]
    }
   ],
   "source": [
    "help(line1.project)"
   ]
  },
  {
   "cell_type": "markdown",
   "metadata": {},
   "source": [
    "So `.project()` returns the distance along the **LineString** that comes closest to the **Point** (or other geometry object). \n",
    "\n",
    "`.interpolate()`, on the other hand, does something a bit different:"
   ]
  },
  {
   "cell_type": "code",
   "execution_count": 14,
   "metadata": {},
   "outputs": [
    {
     "name": "stdout",
     "output_type": "stream",
     "text": [
      "Help on method interpolate in module shapely.geometry.base:\n",
      "\n",
      "interpolate(distance, normalized=False) method of shapely.geometry.linestring.LineString instance\n",
      "    Return a point at the specified distance along a linear geometry\n",
      "\n",
      "    Negative length values are taken as measured in the reverse\n",
      "    direction from the end of the geometry. Out-of-range index\n",
      "    values are handled by clamping them to the valid range of values.\n",
      "    If the normalized arg is True, the distance will be interpreted as a\n",
      "    fraction of the geometry's length.\n",
      "\n",
      "    Alias of `line_interpolate_point`.\n",
      "\n"
     ]
    }
   ],
   "source": [
    "help(line1.interpolate)"
   ]
  },
  {
   "cell_type": "markdown",
   "metadata": {},
   "source": [
    "it returns the point along the line at a specified distance; the distance can be in the units of the **LineString**'s coordinates (`normalized=False`), or it can be as a fraction of the total length of the **LineString** (`normalized=True`)."
   ]
  },
  {
   "cell_type": "code",
   "execution_count": 15,
   "metadata": {},
   "outputs": [
    {
     "name": "stdout",
     "output_type": "stream",
     "text": [
      "POINT (-6.6675 55.1815)\n",
      "POINT (-6.6675 55.1815)\n"
     ]
    }
   ],
   "source": [
    "line1.project(center) / line1.length # check to see how far along the line our centerpoint is\n",
    "\n",
    "print(center) # print the WKT representation of the center point\n",
    "print(line1.interpolate(0.5, normalized=True)) # print the WKT representation of the point 50% along the line"
   ]
  },
  {
   "cell_type": "markdown",
   "metadata": {},
   "source": [
    "###  Polygons\n",
    "The last basic geometry type we will look at in this practical are **Polygon** objects. Similar to **LineString** objects, we can construct a **Polygon** object ([documentation](https://shapely.readthedocs.io/en/stable/reference/shapely.Polygon.html)) using a list of coordinate pairs, or a list of **Point** objects:"
   ]
  },
  {
   "cell_type": "code",
   "execution_count": 16,
   "metadata": {},
   "outputs": [
    {
     "name": "stdout",
     "output_type": "stream",
     "text": [
      "POLYGON ((-6.677 55.15, -6.658 55.213, -6.722 55.189, -6.677 55.15))\n",
      "POLYGON ((-6.677 55.15, -6.658 55.213, -6.722 55.189, -6.677 55.15))\n"
     ]
    }
   ],
   "source": [
    "poly1 = Polygon([(-6.677, 55.150), (-6.658, 55.213), (-6.722, 55.189)])\n",
    "poly2 = Polygon([pt, pt2, Point(-6.722, 55.189)])\n",
    "\n",
    "print(poly1) # print a wkt representation of the polygon\n",
    "print(poly2)"
   ]
  },
  {
   "cell_type": "markdown",
   "metadata": {},
   "source": [
    "and, just like we saw with **LineString** objects, we can use `.equals()` to check that these two geometries are the same:"
   ]
  },
  {
   "cell_type": "code",
   "execution_count": 17,
   "metadata": {},
   "outputs": [
    {
     "data": {
      "text/plain": [
       "True"
      ]
     },
     "execution_count": 17,
     "metadata": {},
     "output_type": "execute_result"
    }
   ],
   "source": [
    "poly1.equals(poly2)"
   ]
  },
  {
   "cell_type": "markdown",
   "metadata": {},
   "source": [
    "Note that even though we only passed three **Point** objects (or coordinate pairs) to the **Polygon** constructor, the **Polygon** has four vertices, with the first and last vertex being the same - this is because the **Polygon** exterior is *closed*. \n",
    "\n",
    "Note also the double parentheses - this is because a **Polygon** potentially has two sets of coordinates - the *Shell*, or *exterior*, and *holes*, or *interiors*. To create a **Polygon** with a hole in it, we can pass a list of coordinates that describe the `shell`, and a second that describes the `holes`:"
   ]
  },
  {
   "cell_type": "code",
   "execution_count": 18,
   "metadata": {},
   "outputs": [
    {
     "name": "stdout",
     "output_type": "stream",
     "text": [
      "POLYGON ((-6.677 55.15, -6.658 55.213, -6.722 55.189, -6.677 55.15), (-6.684 55.168, -6.704 55.187, -6.672 55.196, -6.684 55.168))\n"
     ]
    }
   ],
   "source": [
    "polygon_with_hole = Polygon(shell=[(-6.677, 55.150), (-6.658, 55.213), (-6.722, 55.189)],\n",
    "                            holes=[[(-6.684, 55.168), (-6.704, 55.187), (-6.672, 55.196)]]) # note the double brackets\n",
    "\n",
    "print(polygon_with_hole)"
   ]
  },
  {
   "cell_type": "markdown",
   "metadata": {},
   "source": [
    "Note the double brackets in the `holes` keyword argument:\n",
    "\n",
    "```python\n",
    "holes=[[(-6.684, 55.168), (-6.704, 55.187), (-6.672, 55.196)]]\n",
    "```\n",
    "\n",
    "This is necessary, because `holes` is expecting a sequence of coordinate sequences - effectively, a list of **Polygon** shells.\n",
    "\n",
    "Accessing the coordinates of a **Polygon** object is a little more complicated than it is for **Point** and **LineString** objects - this is because **Polygon** objects have two sets of coordinates, the `.exterior` (*shell*) and `.interiors` (*holes*). \n",
    "\n",
    "But, the `.exterior` attribute of the **Polygon** is just a **LinearRing** (a special case of **LineString** where the first and last coordinates are the same), and the `.interiors` attribute is an **InteriorRingSequence** (basically, a collection of **LinearRing**s that have to obey [additional rules](https://shapely.readthedocs.io/en/stable/manual.html#polygons)):"
   ]
  },
  {
   "cell_type": "code",
   "execution_count": 19,
   "metadata": {},
   "outputs": [
    {
     "name": "stdout",
     "output_type": "stream",
     "text": [
      "LINEARRING (-6.677 55.15, -6.658 55.213, -6.722 55.189, -6.677 55.15)\n",
      "LINEARRING (-6.684 55.168, -6.704 55.187, -6.672 55.196, -6.684 55.168)\n"
     ]
    }
   ],
   "source": [
    "print(polygon_with_hole.exterior) # this is a single LinearRing\n",
    "for lr in polygon_with_hole.interiors: # this is potentially multiple LinearRing objects\n",
    "    print(lr)"
   ]
  },
  {
   "cell_type": "markdown",
   "metadata": {},
   "source": [
    "**Polygon** objects have nonzero `.area` and non-zero `.length` (perimeter) attributes - as with the equivalent attributes for **Point** and **LineString** objects, these are *unitless*.\n",
    "\n",
    "**Polygon** objects also have a `.centroid` (center), and we can bound the geometry using *either* the minimum bounding box parallel to the coordinate axes (the `.envelope` attribute), or a rotated minimum bounding box (the `.minimum_rotated_rectangle` attribute):"
   ]
  },
  {
   "cell_type": "code",
   "execution_count": 20,
   "metadata": {},
   "outputs": [
    {
     "name": "stdout",
     "output_type": "stream",
     "text": [
      "perimeter:  0.1937030651918303\n",
      "area:  0.0017880000000000786\n",
      "centroid:  POINT (-6.685666666666668 55.184000000000005)\n",
      "bounding coordinates:  (-6.722, 55.15, -6.658, 55.213)\n",
      "bounding box:  POLYGON ((-6.722 55.15, -6.658 55.15, -6.658 55.213, -6.722 55.213, -6.722 55.15))\n",
      "rotated bounding box:  POLYGON ((-6.677 55.15, -6.722 55.189, -6.682670050761448 55.23438071065995, -6.637670050761482 55.195380710659904, -6.677 55.15))\n"
     ]
    }
   ],
   "source": [
    "print('perimeter: ', poly1.length) # print the perimeter\n",
    "print('area: ', poly1.area) # print the area\n",
    "print('centroid: ', poly1.centroid) # get the centerpoint of the rectangle\n",
    "print('bounding coordinates: ', poly1.bounds) # get the minimum x, minimum y, maximum x, maximum y coordinates\n",
    "print('bounding box: ', poly1.envelope) # get the minimum bounding rectangle of the polygon, parallel to the coordinate axes\n",
    "print('rotated bounding box: ', poly1.minimum_rotated_rectangle) # get the smallest possible rectangle that covers the polygon"
   ]
  },
  {
   "cell_type": "markdown",
   "metadata": {},
   "source": [
    "There are a number of additional methods that we will cover more as we continue through the practicals - for now, this should be enough to give an idea for how these geometry objects work.\n",
    "\n",
    "## interactions between geometry objects\n",
    "`shapely` also provides a number of methods that we can use to check the spatial relationship between different objects. For example, the following code shows how we can use the `.contains()` method ([documentation](https://shapely.readthedocs.io/en/stable/manual.html#object.contains)) of a shapely geometry object to see whether another geometry object is located fully within the object:"
   ]
  },
  {
   "cell_type": "code",
   "execution_count": 21,
   "metadata": {},
   "outputs": [
    {
     "name": "stdout",
     "output_type": "stream",
     "text": [
      "False\n",
      "True\n"
     ]
    }
   ],
   "source": [
    "poly = Polygon([(0, 0), (2, 0), (2, 3), (0, 3)])\n",
    "pt1 = Point(0, -0.1)\n",
    "pt2 = Point(1, 1)\n",
    "\n",
    "print(poly.contains(pt1)) # should return False, because pt1 is not within the polygon\n",
    "print(poly.contains(pt2)) # should return True, because pt2 is within the polygon"
   ]
  },
  {
   "cell_type": "markdown",
   "metadata": {},
   "source": [
    "We can also check to see whether two geometry objects intersect each other using the `.intersects()` method ([documentation](https://shapely.readthedocs.io/en/stable/manual.html#object.intersects)):"
   ]
  },
  {
   "cell_type": "code",
   "execution_count": 22,
   "metadata": {},
   "outputs": [
    {
     "name": "stdout",
     "output_type": "stream",
     "text": [
      "True\n"
     ]
    }
   ],
   "source": [
    "line1 = LineString([(0, 0), (1, 1)])\n",
    "line2 = LineString([(0, 1), (1, 0)])\n",
    "\n",
    "print(line1.intersects(line2)) # intersects() returns True if the geometries touch/intersect/overlap, False otherwise"
   ]
  },
  {
   "cell_type": "markdown",
   "metadata": {},
   "source": [
    "To actually get the intersection of the two geometries, we use the `.intersection()` method, which returns the geometry of the intersection (whether this is a **Point**, a **LineString**, a **Polygon**, or a mixed collection of geometries depends on the geometries and how they intersect): "
   ]
  },
  {
   "cell_type": "code",
   "execution_count": 23,
   "metadata": {},
   "outputs": [
    {
     "name": "stdout",
     "output_type": "stream",
     "text": [
      "POINT (0.5 0.5)\n",
      "LINESTRING (0 0, 1 1)\n"
     ]
    }
   ],
   "source": [
    "line1 = LineString([(0, 0), (1, 1)])\n",
    "line2 = LineString([(0, 1), (1, 0)])\n",
    "poly = Polygon([(0, 0), (2, 0), (2, 3), (0, 3)])\n",
    "\n",
    "print(line1.intersection(line2)) # if the lines intersect, this will be the Point(s) of intersection\n",
    "print(line1.intersection(poly)) # if the line intersects a polygon, the result may be a line or a point"
   ]
  },
  {
   "cell_type": "markdown",
   "metadata": {},
   "source": [
    "There are a number of other methods provided by `shapely` that we can use to determine the relationship between geometry objects, including `touches`, `within`, and `overlaps`. Be sure to have a look at the full list from the [shapely user manual](https://shapely.readthedocs.io/en/stable/manual.html) to see the rest.\n",
    "\n",
    "## geopandas GeoDataFrames\n",
    "\n",
    "We have used `geopandas` in the previous two practicals to read provided shapefiles and work with the data they contain - in Practical 1, we translated a comma-separated variable (CSV) file into a shapefile, and in Practical 2, we read shapefile data and plotted it on a map using `cartopy`.\n",
    "\n",
    "This week, we will extend this introduction to look at how we can use `geopandas` to do various GIS analyses, such as spatial joins and clipping operations, as well as projecting from one coordinate reference system to another.\n",
    "\n",
    "To begin, we'll load the **NI_roads** dataset from the data_files folder and use `.head()` ([documentation](https://pandas.pydata.org/pandas-docs/stable/reference/api/pandas.DataFrame.head.html)) to show the first 5 rows of the **GeoDataFrame**:"
   ]
  },
  {
   "cell_type": "code",
   "execution_count": 24,
   "metadata": {},
   "outputs": [
    {
     "data": {
      "text/html": [
       "<div>\n",
       "<style scoped>\n",
       "    .dataframe tbody tr th:only-of-type {\n",
       "        vertical-align: middle;\n",
       "    }\n",
       "\n",
       "    .dataframe tbody tr th {\n",
       "        vertical-align: top;\n",
       "    }\n",
       "\n",
       "    .dataframe thead th {\n",
       "        text-align: right;\n",
       "    }\n",
       "</style>\n",
       "<table border=\"1\" class=\"dataframe\">\n",
       "  <thead>\n",
       "    <tr style=\"text-align: right;\">\n",
       "      <th></th>\n",
       "      <th>SURVEY</th>\n",
       "      <th>Road_class</th>\n",
       "      <th>geometry</th>\n",
       "    </tr>\n",
       "  </thead>\n",
       "  <tbody>\n",
       "    <tr>\n",
       "      <th>0</th>\n",
       "      <td>20050114</td>\n",
       "      <td>MOTORWAY</td>\n",
       "      <td>LINESTRING (-6.21243 54.48706, -6.21652 54.48879)</td>\n",
       "    </tr>\n",
       "    <tr>\n",
       "      <th>1</th>\n",
       "      <td>20050114</td>\n",
       "      <td>MOTORWAY</td>\n",
       "      <td>LINESTRING (-6.35014 54.48597, -6.35293 54.485...</td>\n",
       "    </tr>\n",
       "    <tr>\n",
       "      <th>2</th>\n",
       "      <td>20050114</td>\n",
       "      <td>MOTORWAY</td>\n",
       "      <td>LINESTRING (-6.35521 54.48357, -6.35305 54.484...</td>\n",
       "    </tr>\n",
       "    <tr>\n",
       "      <th>3</th>\n",
       "      <td>20050202</td>\n",
       "      <td>MOTORWAY</td>\n",
       "      <td>LINESTRING (-6.25336 54.87630, -6.25336 54.876...</td>\n",
       "    </tr>\n",
       "    <tr>\n",
       "      <th>4</th>\n",
       "      <td>20050202</td>\n",
       "      <td>MOTORWAY</td>\n",
       "      <td>LINESTRING (-6.25432 54.87731, -6.25362 54.876...</td>\n",
       "    </tr>\n",
       "  </tbody>\n",
       "</table>\n",
       "</div>"
      ],
      "text/plain": [
       "     SURVEY Road_class                                           geometry\n",
       "0  20050114   MOTORWAY  LINESTRING (-6.21243 54.48706, -6.21652 54.48879)\n",
       "1  20050114   MOTORWAY  LINESTRING (-6.35014 54.48597, -6.35293 54.485...\n",
       "2  20050114   MOTORWAY  LINESTRING (-6.35521 54.48357, -6.35305 54.484...\n",
       "3  20050202   MOTORWAY  LINESTRING (-6.25336 54.87630, -6.25336 54.876...\n",
       "4  20050202   MOTORWAY  LINESTRING (-6.25432 54.87731, -6.25362 54.876..."
      ]
     },
     "execution_count": 24,
     "metadata": {},
     "output_type": "execute_result"
    }
   ],
   "source": [
    "roads = gpd.read_file('data_files/NI_roads.shp')\n",
    "\n",
    "roads.head() # show the first five rows of the table"
   ]
  },
  {
   "cell_type": "markdown",
   "metadata": {},
   "source": [
    "So this dataset has three columns: **SURVEY**, **Road_class**, and **geometry**. \n",
    "\n",
    "Note that each of the geometries is a **LineString** object, which means that we are working with line geometries. Hopefully, given that the data are supposed to represent roads, this makes sense.\n",
    "\n",
    "### coordinate reference systems using PROJ\n",
    "\n",
    "To start with, let's see if we can figure out how many kilometers of motorway are represented in the dataset - i.e., the sum of the length of all of the **LineString** objects that have the attribute `MOTORWAY`. \n",
    "\n",
    "First, though, let's check what the coordinate reference system (CRS) of our **GeoDataFrame** is, using the `crs` attribute:"
   ]
  },
  {
   "cell_type": "code",
   "execution_count": 25,
   "metadata": {},
   "outputs": [
    {
     "data": {
      "text/plain": [
       "<Geographic 2D CRS: EPSG:4326>\n",
       "Name: WGS 84\n",
       "Axis Info [ellipsoidal]:\n",
       "- Lat[north]: Geodetic latitude (degree)\n",
       "- Lon[east]: Geodetic longitude (degree)\n",
       "Area of Use:\n",
       "- name: World.\n",
       "- bounds: (-180.0, -90.0, 180.0, 90.0)\n",
       "Datum: World Geodetic System 1984 ensemble\n",
       "- Ellipsoid: WGS 84\n",
       "- Prime Meridian: Greenwich"
      ]
     },
     "execution_count": 25,
     "metadata": {},
     "output_type": "execute_result"
    }
   ],
   "source": [
    "roads.crs"
   ]
  },
  {
   "cell_type": "markdown",
   "metadata": {},
   "source": [
    "So this dataset has a *Geographic* coordinate reference system, **EPSG:4326**. EPSG codes (originally organized by the European Petroleum Survey Group) are a common way of working with coordinate reference systems. Each CRS in the [EPSG registry](https://epsg.org/home.html) has a unique code and standard well-known text representation.\n",
    "\n",
    "The `crs` attribute of the **GeoDataFrame** is actually a **pyproj.CRS** object ([documentation](https://pyproj4.github.io/pyproj/stable/api/crs/crs.html)). [pyproj](https://pyproj4.github.io/pyproj/stable/) is a python interface to the [PROJ](https://proj.org/) library, which is a software for transforming geospatial coordinates from one CRS to another.\n",
    "\n",
    "Each **pyproj.CRS** object provides a number of methods for converting to different formats, including well-known text, EPSG codes, JavaScript Object Notation (JSON), and PROJ string (i.e., `'+proj=longlat +datum=WGS84 +no_defs +type=crs'`).\n",
    "\n",
    "For example, to see the JSON representation of the CRS, we would use the `.to_json()` method ([documentation](https://pyproj4.github.io/pyproj/stable/api/crs/crs.html#pyproj.crs.CRS.to_json)):"
   ]
  },
  {
   "cell_type": "code",
   "execution_count": 26,
   "metadata": {},
   "outputs": [
    {
     "data": {
      "text/plain": [
       "'{\"$schema\":\"https://proj.org/schemas/v0.7/projjson.schema.json\",\"type\":\"GeographicCRS\",\"name\":\"WGS 84\",\"datum_ensemble\":{\"name\":\"World Geodetic System 1984 ensemble\",\"members\":[{\"name\":\"World Geodetic System 1984 (Transit)\",\"id\":{\"authority\":\"EPSG\",\"code\":1166}},{\"name\":\"World Geodetic System 1984 (G730)\",\"id\":{\"authority\":\"EPSG\",\"code\":1152}},{\"name\":\"World Geodetic System 1984 (G873)\",\"id\":{\"authority\":\"EPSG\",\"code\":1153}},{\"name\":\"World Geodetic System 1984 (G1150)\",\"id\":{\"authority\":\"EPSG\",\"code\":1154}},{\"name\":\"World Geodetic System 1984 (G1674)\",\"id\":{\"authority\":\"EPSG\",\"code\":1155}},{\"name\":\"World Geodetic System 1984 (G1762)\",\"id\":{\"authority\":\"EPSG\",\"code\":1156}},{\"name\":\"World Geodetic System 1984 (G2139)\",\"id\":{\"authority\":\"EPSG\",\"code\":1309}}],\"ellipsoid\":{\"name\":\"WGS 84\",\"semi_major_axis\":6378137,\"inverse_flattening\":298.257223563},\"accuracy\":\"2.0\",\"id\":{\"authority\":\"EPSG\",\"code\":6326}},\"coordinate_system\":{\"subtype\":\"ellipsoidal\",\"axis\":[{\"name\":\"Geodetic latitude\",\"abbreviation\":\"Lat\",\"direction\":\"north\",\"unit\":\"degree\"},{\"name\":\"Geodetic longitude\",\"abbreviation\":\"Lon\",\"direction\":\"east\",\"unit\":\"degree\"}]},\"scope\":\"Horizontal component of 3D system.\",\"area\":\"World.\",\"bbox\":{\"south_latitude\":-90,\"west_longitude\":-180,\"north_latitude\":90,\"east_longitude\":180},\"id\":{\"authority\":\"EPSG\",\"code\":4326}}'"
      ]
     },
     "execution_count": 26,
     "metadata": {},
     "output_type": "execute_result"
    }
   ],
   "source": [
    "roads.crs.to_json() # show the representation of the CRS in JSON format"
   ]
  },
  {
   "cell_type": "markdown",
   "metadata": {},
   "source": [
    "Because this is a _Geographic_ CRS, the length information provided by `.length` will also be in geographic units, which doesn't really make sense for us. This means that we first have to convert the **GeoDataFrame** to a *projected* CRS. \n",
    "\n",
    "To do this, we can use the method `to_crs()` ([documentation](https://geopandas.org/en/stable/docs/reference/api/geopandas.GeoDataFrame.to_crs.html)):"
   ]
  },
  {
   "cell_type": "code",
   "execution_count": 27,
   "metadata": {},
   "outputs": [
    {
     "name": "stdout",
     "output_type": "stream",
     "text": [
      "Help on method to_crs in module geopandas.geodataframe:\n",
      "\n",
      "to_crs(crs=None, epsg=None, inplace=False) method of geopandas.geodataframe.GeoDataFrame instance\n",
      "    Transform geometries to a new coordinate reference system.\n",
      "\n",
      "    Transform all geometries in an active geometry column to a different coordinate\n",
      "    reference system.  The ``crs`` attribute on the current GeoSeries must\n",
      "    be set.  Either ``crs`` or ``epsg`` may be specified for output.\n",
      "\n",
      "    This method will transform all points in all objects. It has no notion\n",
      "    of projecting entire geometries.  All segments joining points are\n",
      "    assumed to be lines in the current projection, not geodesics. Objects\n",
      "    crossing the dateline (or other projection boundary) will have\n",
      "    undesirable behavior.\n",
      "\n",
      "    Parameters\n",
      "    ----------\n",
      "    crs : pyproj.CRS, optional if `epsg` is specified\n",
      "        The value can be anything accepted by\n",
      "        :meth:`pyproj.CRS.from_user_input() <pyproj.crs.CRS.from_user_input>`,\n",
      "        such as an authority string (eg \"EPSG:4326\") or a WKT string.\n",
      "    epsg : int, optional if `crs` is specified\n",
      "        EPSG code specifying output projection.\n",
      "    inplace : bool, optional, default: False\n",
      "        Whether to return a new GeoDataFrame or do the transformation in\n",
      "        place.\n",
      "\n",
      "    Returns\n",
      "    -------\n",
      "    GeoDataFrame\n",
      "\n",
      "    Examples\n",
      "    --------\n",
      "    >>> from shapely.geometry import Point\n",
      "    >>> d = {'col1': ['name1', 'name2'], 'geometry': [Point(1, 2), Point(2, 1)]}\n",
      "    >>> gdf = geopandas.GeoDataFrame(d, crs=4326)\n",
      "    >>> gdf\n",
      "        col1                 geometry\n",
      "    0  name1  POINT (1.00000 2.00000)\n",
      "    1  name2  POINT (2.00000 1.00000)\n",
      "    >>> gdf.crs  # doctest: +SKIP\n",
      "    <Geographic 2D CRS: EPSG:4326>\n",
      "    Name: WGS 84\n",
      "    Axis Info [ellipsoidal]:\n",
      "    - Lat[north]: Geodetic latitude (degree)\n",
      "    - Lon[east]: Geodetic longitude (degree)\n",
      "    Area of Use:\n",
      "    - name: World\n",
      "    - bounds: (-180.0, -90.0, 180.0, 90.0)\n",
      "    Datum: World Geodetic System 1984\n",
      "    - Ellipsoid: WGS 84\n",
      "    - Prime Meridian: Greenwich\n",
      "\n",
      "    >>> gdf = gdf.to_crs(3857)\n",
      "    >>> gdf\n",
      "        col1                       geometry\n",
      "    0  name1  POINT (111319.491 222684.209)\n",
      "    1  name2  POINT (222638.982 111325.143)\n",
      "    >>> gdf.crs  # doctest: +SKIP\n",
      "    <Projected CRS: EPSG:3857>\n",
      "    Name: WGS 84 / Pseudo-Mercator\n",
      "    Axis Info [cartesian]:\n",
      "    - X[east]: Easting (metre)\n",
      "    - Y[north]: Northing (metre)\n",
      "    Area of Use:\n",
      "    - name: World - 85°S to 85°N\n",
      "    - bounds: (-180.0, -85.06, 180.0, 85.06)\n",
      "    Coordinate Operation:\n",
      "    - name: Popular Visualisation Pseudo-Mercator\n",
      "    - method: Popular Visualisation Pseudo Mercator\n",
      "    Datum: World Geodetic System 1984\n",
      "    - Ellipsoid: WGS 84\n",
      "    - Prime Meridian: Greenwich\n",
      "\n",
      "    See also\n",
      "    --------\n",
      "    GeoDataFrame.set_crs : assign CRS without re-projection\n",
      "\n"
     ]
    }
   ],
   "source": [
    "help(roads.to_crs) # show the help for the .to_crs() method"
   ]
  },
  {
   "cell_type": "markdown",
   "metadata": {},
   "source": [
    "So, to transform the **GeoDataFrame** to a different CRS, we have to provide either a CRS object or an EPSG code. We can also choose to do this *in place* (`inplace=True`), or assign the output to a new **GeoDataFrame** object (`inplace=False`, the default). Let's transform the **GeoDataFrame** to the Irish Transverse Mercator CRS, and assign the output to a new object called **roads_itm**.\n",
    "\n",
    "Rather than trying to find the correct JSON or PROJ representation of this CRS, we can instead use the EPSG code, which can be easier to work with.\n",
    "\n",
    "<span style=\"color:#009fdf;font-size:1.1em;font-weight:bold\">Using the search function on the [EPSG registry](https://epsg.org/search/by-name), or using an internet search, look up the EPSG code for the Irish Transverse Mercator CRS and enter it in the method call below:</span>"
   ]
  },
  {
   "cell_type": "code",
   "execution_count": 28,
   "metadata": {},
   "outputs": [
    {
     "data": {
      "text/html": [
       "<div>\n",
       "<style scoped>\n",
       "    .dataframe tbody tr th:only-of-type {\n",
       "        vertical-align: middle;\n",
       "    }\n",
       "\n",
       "    .dataframe tbody tr th {\n",
       "        vertical-align: top;\n",
       "    }\n",
       "\n",
       "    .dataframe thead th {\n",
       "        text-align: right;\n",
       "    }\n",
       "</style>\n",
       "<table border=\"1\" class=\"dataframe\">\n",
       "  <thead>\n",
       "    <tr style=\"text-align: right;\">\n",
       "      <th></th>\n",
       "      <th>SURVEY</th>\n",
       "      <th>Road_class</th>\n",
       "      <th>geometry</th>\n",
       "    </tr>\n",
       "  </thead>\n",
       "  <tbody>\n",
       "    <tr>\n",
       "      <th>0</th>\n",
       "      <td>20050114</td>\n",
       "      <td>MOTORWAY</td>\n",
       "      <td>LINESTRING (715821.764 861315.722, 715551.578 ...</td>\n",
       "    </tr>\n",
       "    <tr>\n",
       "      <th>1</th>\n",
       "      <td>20050114</td>\n",
       "      <td>MOTORWAY</td>\n",
       "      <td>LINESTRING (706902.850 860976.744, 706722.699 ...</td>\n",
       "    </tr>\n",
       "    <tr>\n",
       "      <th>2</th>\n",
       "      <td>20050114</td>\n",
       "      <td>MOTORWAY</td>\n",
       "      <td>LINESTRING (706580.488 860702.194, 706718.477 ...</td>\n",
       "    </tr>\n",
       "    <tr>\n",
       "      <th>3</th>\n",
       "      <td>20050202</td>\n",
       "      <td>MOTORWAY</td>\n",
       "      <td>LINESTRING (712092.429 904563.815, 712092.444 ...</td>\n",
       "    </tr>\n",
       "    <tr>\n",
       "      <th>4</th>\n",
       "      <td>20050202</td>\n",
       "      <td>MOTORWAY</td>\n",
       "      <td>LINESTRING (712027.800 904674.564, 712074.991 ...</td>\n",
       "    </tr>\n",
       "  </tbody>\n",
       "</table>\n",
       "</div>"
      ],
      "text/plain": [
       "     SURVEY Road_class                                           geometry\n",
       "0  20050114   MOTORWAY  LINESTRING (715821.764 861315.722, 715551.578 ...\n",
       "1  20050114   MOTORWAY  LINESTRING (706902.850 860976.744, 706722.699 ...\n",
       "2  20050114   MOTORWAY  LINESTRING (706580.488 860702.194, 706718.477 ...\n",
       "3  20050202   MOTORWAY  LINESTRING (712092.429 904563.815, 712092.444 ...\n",
       "4  20050202   MOTORWAY  LINESTRING (712027.800 904674.564, 712074.991 ..."
      ]
     },
     "execution_count": 28,
     "metadata": {},
     "output_type": "execute_result"
    }
   ],
   "source": [
    "roads_itm = roads.to_crs(epsg=2157) # replace XX with the correct EPSG code for Irish Transverse Mercator\n",
    "\n",
    "roads_itm.head()"
   ]
  },
  {
   "cell_type": "markdown",
   "metadata": {},
   "source": [
    "Note that only the **geometry** column has changed - instead of geographic coordinates (e.g., (-6.21243, 54.48706)), the points in each **LineString** should be in a projected CRS (e.g., (715821.764, 861315.722)). Now, when we access the `.length` attributes of each **LineString** object, the units will be in the same units as our CRS (meters).\n",
    "\n",
    "### summarizing data using geopandas\n",
    "So that's the first part of our problem solved - our coordinates are in meters, and the lengths will be as well. The next step is to select all of the features that correspond to Motorways and sum the lengths. We saw an example of this in Practical 1 - we can slice the **GeoDataFrame** with a conditional statement (`'Road_class' == 'MOTORWAY'`) to select only those rows where the road type is `MOTORWAY`:"
   ]
  },
  {
   "cell_type": "code",
   "execution_count": 29,
   "metadata": {},
   "outputs": [
    {
     "data": {
      "text/html": [
       "<div>\n",
       "<style scoped>\n",
       "    .dataframe tbody tr th:only-of-type {\n",
       "        vertical-align: middle;\n",
       "    }\n",
       "\n",
       "    .dataframe tbody tr th {\n",
       "        vertical-align: top;\n",
       "    }\n",
       "\n",
       "    .dataframe thead th {\n",
       "        text-align: right;\n",
       "    }\n",
       "</style>\n",
       "<table border=\"1\" class=\"dataframe\">\n",
       "  <thead>\n",
       "    <tr style=\"text-align: right;\">\n",
       "      <th></th>\n",
       "      <th>SURVEY</th>\n",
       "      <th>Road_class</th>\n",
       "      <th>geometry</th>\n",
       "    </tr>\n",
       "  </thead>\n",
       "  <tbody>\n",
       "    <tr>\n",
       "      <th>0</th>\n",
       "      <td>20050114</td>\n",
       "      <td>MOTORWAY</td>\n",
       "      <td>LINESTRING (715821.764 861315.722, 715551.578 ...</td>\n",
       "    </tr>\n",
       "    <tr>\n",
       "      <th>1</th>\n",
       "      <td>20050114</td>\n",
       "      <td>MOTORWAY</td>\n",
       "      <td>LINESTRING (706902.850 860976.744, 706722.699 ...</td>\n",
       "    </tr>\n",
       "    <tr>\n",
       "      <th>2</th>\n",
       "      <td>20050114</td>\n",
       "      <td>MOTORWAY</td>\n",
       "      <td>LINESTRING (706580.488 860702.194, 706718.477 ...</td>\n",
       "    </tr>\n",
       "    <tr>\n",
       "      <th>3</th>\n",
       "      <td>20050202</td>\n",
       "      <td>MOTORWAY</td>\n",
       "      <td>LINESTRING (712092.429 904563.815, 712092.444 ...</td>\n",
       "    </tr>\n",
       "    <tr>\n",
       "      <th>4</th>\n",
       "      <td>20050202</td>\n",
       "      <td>MOTORWAY</td>\n",
       "      <td>LINESTRING (712027.800 904674.564, 712074.991 ...</td>\n",
       "    </tr>\n",
       "    <tr>\n",
       "      <th>...</th>\n",
       "      <td>...</td>\n",
       "      <td>...</td>\n",
       "      <td>...</td>\n",
       "    </tr>\n",
       "    <tr>\n",
       "      <th>184</th>\n",
       "      <td>20060307</td>\n",
       "      <td>MOTORWAY</td>\n",
       "      <td>LINESTRING (689780.678 860102.839, 689891.015 ...</td>\n",
       "    </tr>\n",
       "    <tr>\n",
       "      <th>185</th>\n",
       "      <td>20060307</td>\n",
       "      <td>MOTORWAY</td>\n",
       "      <td>LINESTRING (694554.962 860120.553, 694360.981 ...</td>\n",
       "    </tr>\n",
       "    <tr>\n",
       "      <th>186</th>\n",
       "      <td>20060307</td>\n",
       "      <td>MOTORWAY</td>\n",
       "      <td>LINESTRING (694486.325 860265.563, 694313.977 ...</td>\n",
       "    </tr>\n",
       "    <tr>\n",
       "      <th>187</th>\n",
       "      <td>20060307</td>\n",
       "      <td>MOTORWAY</td>\n",
       "      <td>LINESTRING (694661.519 860169.035, 694933.288 ...</td>\n",
       "    </tr>\n",
       "    <tr>\n",
       "      <th>188</th>\n",
       "      <td>20060307</td>\n",
       "      <td>MOTORWAY</td>\n",
       "      <td>LINESTRING (694588.594 860318.453, 694898.337 ...</td>\n",
       "    </tr>\n",
       "  </tbody>\n",
       "</table>\n",
       "<p>189 rows × 3 columns</p>\n",
       "</div>"
      ],
      "text/plain": [
       "       SURVEY Road_class                                           geometry\n",
       "0    20050114   MOTORWAY  LINESTRING (715821.764 861315.722, 715551.578 ...\n",
       "1    20050114   MOTORWAY  LINESTRING (706902.850 860976.744, 706722.699 ...\n",
       "2    20050114   MOTORWAY  LINESTRING (706580.488 860702.194, 706718.477 ...\n",
       "3    20050202   MOTORWAY  LINESTRING (712092.429 904563.815, 712092.444 ...\n",
       "4    20050202   MOTORWAY  LINESTRING (712027.800 904674.564, 712074.991 ...\n",
       "..        ...        ...                                                ...\n",
       "184  20060307   MOTORWAY  LINESTRING (689780.678 860102.839, 689891.015 ...\n",
       "185  20060307   MOTORWAY  LINESTRING (694554.962 860120.553, 694360.981 ...\n",
       "186  20060307   MOTORWAY  LINESTRING (694486.325 860265.563, 694313.977 ...\n",
       "187  20060307   MOTORWAY  LINESTRING (694661.519 860169.035, 694933.288 ...\n",
       "188  20060307   MOTORWAY  LINESTRING (694588.594 860318.453, 694898.337 ...\n",
       "\n",
       "[189 rows x 3 columns]"
      ]
     },
     "execution_count": 29,
     "metadata": {},
     "output_type": "execute_result"
    }
   ],
   "source": [
    "roads_itm[roads_itm['Road_class'] == 'MOTORWAY']"
   ]
  },
  {
   "cell_type": "markdown",
   "metadata": {},
   "source": [
    "But first, we might want to add a column to our **GeoDataFrame** that contains the `.length` of each of the features. One way to do this would be to *iterate* over the rows of the **GeoDataFrame** using the `.iterrows()`  ([documentation](https://pandas.pydata.org/pandas-docs/stable/reference/api/pandas.DataFrame.iterrows.html)):"
   ]
  },
  {
   "cell_type": "code",
   "execution_count": 30,
   "metadata": {},
   "outputs": [
    {
     "name": "stdout",
     "output_type": "stream",
     "text": [
      "Help on method iterrows in module pandas.core.frame:\n",
      "\n",
      "iterrows() -> 'Iterable[tuple[Hashable, Series]]' method of geopandas.geodataframe.GeoDataFrame instance\n",
      "    Iterate over DataFrame rows as (index, Series) pairs.\n",
      "\n",
      "    Yields\n",
      "    ------\n",
      "    index : label or tuple of label\n",
      "        The index of the row. A tuple for a `MultiIndex`.\n",
      "    data : Series\n",
      "        The data of the row as a Series.\n",
      "\n",
      "    See Also\n",
      "    --------\n",
      "    DataFrame.itertuples : Iterate over DataFrame rows as namedtuples of the values.\n",
      "    DataFrame.items : Iterate over (column name, Series) pairs.\n",
      "\n",
      "    Notes\n",
      "    -----\n",
      "    1. Because ``iterrows`` returns a Series for each row,\n",
      "       it does **not** preserve dtypes across the rows (dtypes are\n",
      "       preserved across columns for DataFrames).\n",
      "\n",
      "       To preserve dtypes while iterating over the rows, it is better\n",
      "       to use :meth:`itertuples` which returns namedtuples of the values\n",
      "       and which is generally faster than ``iterrows``.\n",
      "\n",
      "    2. You should **never modify** something you are iterating over.\n",
      "       This is not guaranteed to work in all cases. Depending on the\n",
      "       data types, the iterator returns a copy and not a view, and writing\n",
      "       to it will have no effect.\n",
      "\n",
      "    Examples\n",
      "    --------\n",
      "\n",
      "    >>> df = pd.DataFrame([[1, 1.5]], columns=['int', 'float'])\n",
      "    >>> row = next(df.iterrows())[1]\n",
      "    >>> row\n",
      "    int      1.0\n",
      "    float    1.5\n",
      "    Name: 0, dtype: float64\n",
      "    >>> print(row['int'].dtype)\n",
      "    float64\n",
      "    >>> print(df['int'].dtype)\n",
      "    int64\n",
      "\n"
     ]
    }
   ],
   "source": [
    "help(roads_itm.iterrows)"
   ]
  },
  {
   "cell_type": "markdown",
   "metadata": {},
   "source": [
    "Because `.iterrows()` returns an **iterator** of (**index**, **Series**) pairs, we can use **tuple assignment** in our `for` loop definition: \n",
    "\n",
    "```python\n",
    "for ind, row in roads_itm.iterrows():\n",
    "```\n",
    "\n",
    "This gives us two variables, `ind` and `row`, which we can use inside the body of the `for` loop:\n",
    "- `ind` corresponds to the **index** of the `row`\n",
    "- `row` corresponds to the **Series**, the actual data contained in the `row`\n",
    "\n",
    "We can access the value stored in each \"column\" of the row in the same way that we do for the full **GeoDataFrame** - either `row[column]` or `row.column`. \n",
    "\n",
    "Finally, we can assign a new column in the original **GeoDataFrame** using the `.loc` [property](https://pandas.pydata.org/pandas-docs/stable/reference/api/pandas.DataFrame.loc.html), which uses either a *label* (for example, `ind`), or a **Boolean array** to index the **GeoDataFrame**. \n",
    "\n",
    "So the line below,\n",
    "\n",
    "```python\n",
    "roads_itm.loc[ind, 'Length'] = row['geometry'].length\n",
    "```\n",
    "\n",
    "assigns the `length` property of the row's geometry to a new column, `Length`, at the  index. Putting it all together, our loop looks like this:"
   ]
  },
  {
   "cell_type": "code",
   "execution_count": 31,
   "metadata": {},
   "outputs": [
    {
     "data": {
      "text/html": [
       "<div>\n",
       "<style scoped>\n",
       "    .dataframe tbody tr th:only-of-type {\n",
       "        vertical-align: middle;\n",
       "    }\n",
       "\n",
       "    .dataframe tbody tr th {\n",
       "        vertical-align: top;\n",
       "    }\n",
       "\n",
       "    .dataframe thead th {\n",
       "        text-align: right;\n",
       "    }\n",
       "</style>\n",
       "<table border=\"1\" class=\"dataframe\">\n",
       "  <thead>\n",
       "    <tr style=\"text-align: right;\">\n",
       "      <th></th>\n",
       "      <th>SURVEY</th>\n",
       "      <th>Road_class</th>\n",
       "      <th>geometry</th>\n",
       "      <th>Length</th>\n",
       "    </tr>\n",
       "  </thead>\n",
       "  <tbody>\n",
       "    <tr>\n",
       "      <th>0</th>\n",
       "      <td>20050114</td>\n",
       "      <td>MOTORWAY</td>\n",
       "      <td>LINESTRING (715821.764 861315.722, 715551.578 ...</td>\n",
       "      <td>328.039442</td>\n",
       "    </tr>\n",
       "    <tr>\n",
       "      <th>1</th>\n",
       "      <td>20050114</td>\n",
       "      <td>MOTORWAY</td>\n",
       "      <td>LINESTRING (706902.850 860976.744, 706722.699 ...</td>\n",
       "      <td>436.487174</td>\n",
       "    </tr>\n",
       "    <tr>\n",
       "      <th>2</th>\n",
       "      <td>20050114</td>\n",
       "      <td>MOTORWAY</td>\n",
       "      <td>LINESTRING (706580.488 860702.194, 706718.477 ...</td>\n",
       "      <td>424.254143</td>\n",
       "    </tr>\n",
       "    <tr>\n",
       "      <th>3</th>\n",
       "      <td>20050202</td>\n",
       "      <td>MOTORWAY</td>\n",
       "      <td>LINESTRING (712092.429 904563.815, 712092.444 ...</td>\n",
       "      <td>390.066144</td>\n",
       "    </tr>\n",
       "    <tr>\n",
       "      <th>4</th>\n",
       "      <td>20050202</td>\n",
       "      <td>MOTORWAY</td>\n",
       "      <td>LINESTRING (712027.800 904674.564, 712074.991 ...</td>\n",
       "      <td>128.415820</td>\n",
       "    </tr>\n",
       "  </tbody>\n",
       "</table>\n",
       "</div>"
      ],
      "text/plain": [
       "     SURVEY Road_class                                           geometry  \\\n",
       "0  20050114   MOTORWAY  LINESTRING (715821.764 861315.722, 715551.578 ...   \n",
       "1  20050114   MOTORWAY  LINESTRING (706902.850 860976.744, 706722.699 ...   \n",
       "2  20050114   MOTORWAY  LINESTRING (706580.488 860702.194, 706718.477 ...   \n",
       "3  20050202   MOTORWAY  LINESTRING (712092.429 904563.815, 712092.444 ...   \n",
       "4  20050202   MOTORWAY  LINESTRING (712027.800 904674.564, 712074.991 ...   \n",
       "\n",
       "       Length  \n",
       "0  328.039442  \n",
       "1  436.487174  \n",
       "2  424.254143  \n",
       "3  390.066144  \n",
       "4  128.415820  "
      ]
     },
     "execution_count": 31,
     "metadata": {},
     "output_type": "execute_result"
    }
   ],
   "source": [
    "for ind, row in roads_itm.iterrows(): # iterate over each row in the GeoDataFrame\n",
    "    roads_itm.loc[ind, 'Length'] = row['geometry'].length # assign the row's geometry length to a new column, Length\n",
    "    \n",
    "roads_itm.head() # show the updated GeoDataFrame to see the changes"
   ]
  },
  {
   "cell_type": "markdown",
   "metadata": {},
   "source": [
    "Finally, we can subset our **GeoDataFrame** to select only `MOTORWAY` features, and sum their length using the `.sum()` method ([documentation](https://pandas.pydata.org/pandas-docs/stable/reference/api/pandas.Series.sum.html)):"
   ]
  },
  {
   "cell_type": "code",
   "execution_count": 32,
   "metadata": {
    "scrolled": true
   },
   "outputs": [
    {
     "name": "stdout",
     "output_type": "stream",
     "text": [
      "20709668.26 total m of roads\n",
      "152721.50 total m of motorway\n"
     ]
    }
   ],
   "source": [
    "sum_roads = roads_itm['Length'].sum()\n",
    "sum_motorway = roads_itm[roads_itm['Road_class'] == 'MOTORWAY']['Length'].sum()\n",
    "print(f'{sum_roads:.2f} total m of roads')\n",
    "print(f'{sum_motorway:.2f} total m of motorway')"
   ]
  },
  {
   "cell_type": "markdown",
   "metadata": {},
   "source": [
    "In the cell above, look at the `print` function argument:\n",
    "\n",
    "```python\n",
    "print(f'{sum_motorway:.2f} total m of motorway')\n",
    "```\n",
    "\n",
    "Here, we are using a \"[formatted string literal](https://docs.python.org/3/tutorial/inputoutput.html#tut-f-strings)\" (**f-String**) to insert the value of an object, `sum_motorway`, into our `print()` statement. We saw this in the very first exercise in Week 1, but there's something added here: the *format specification*, `:.2f`. Rather than printing the string in an unformatted way (which would contain a lot of extra decimal places), we can tell the `format` method to clean up the output using `:` and a [format specification](https://docs.python.org/3.8/library/string.html#formatspec). In this case, `.2f` tells python to format as a **float** (`f`), with 2 places after the decimal.\n",
    "\n",
    "Let's say now that we want to find the sum of all of the different road classes in our dataset. We could, of course, repeat the exercise above for each of the different values of **Road_class**. But, `pandas` (and by extension, `geopandas`) provides a nicer way to summarize data based on certain properties: the `.groupby()` method ([documentation](https://pandas.pydata.org/pandas-docs/stable/reference/api/pandas.DataFrame.groupby.html)). \n",
    "\n",
    "`.groupby()` returns an object (a **DataFrameGroupBy** object) that is similar to a **DataFrame**, but that contains information about how the data in the table is grouped; to see different properties of those groups, we can use methods like `.mean()`, `.median()`, `.sum()`, etc., exactly like we can on a **DataFrame**, **GeoDataFrame**, or **Series** object.\n",
    "\n",
    "If we want to summarize our dataset by `Road_class` and use `.sum()` to find the total length of each type of roadway, then, it would like this:"
   ]
  },
  {
   "cell_type": "code",
   "execution_count": 33,
   "metadata": {},
   "outputs": [
    {
     "data": {
      "text/plain": [
       "Road_class\n",
       "<4M_TARRED    7446.246844\n",
       "<4M_T_OVER       1.755136\n",
       "A_CLASS       2087.794944\n",
       "B_CLASS       2845.838320\n",
       "CL_MINOR      8020.969927\n",
       "CL_M_OVER        6.042721\n",
       "DUAL_CARR      148.298869\n",
       "MOTORWAY       152.721496\n",
       "Name: Length, dtype: float64"
      ]
     },
     "execution_count": 33,
     "metadata": {},
     "output_type": "execute_result"
    }
   ],
   "source": [
    "roads_itm.groupby(['Road_class'])['Length'].sum() / 1000 # convert to km"
   ]
  },
  {
   "cell_type": "markdown",
   "metadata": {},
   "source": [
    "`.groupby()` returns a **GeoDataFrame**, which we can then index to return a single column, `Length`. As this is a numeric column, we can also use arithmetic on it to divide by a conversion factor, to convert the length from meters to kilometers. The `.groupby()` method is a very useful way to quickly summarize a **DataFrame** (or a **GeoDataFrame** - remember that this is a **child class** of **DataFrame**).\n",
    "\n",
    "## spatial data operations using geopandas and shapely\n",
    "Oftentimes in GIS analysis, we want to summarize our data spatially, as well as thematically. In this section, we will be looking at two examples of this kind of analysis: first, using a [spatial join](https://gisgeography.com/spatial-join/), and second, using a clipping operation.\n",
    "\n",
    "Remember that the `shapely` geometry objects in the **GeoDataFrame** don't have any inherent information about the CRS of the object. This means that in order to perform operations like a spatial join, we have to first ensure that the two **GeoDataFrame** objects have the same CRS. The cell below will load the Counties shapefile in the **data_files** folder, and test whether the CRS of the `counties` **GeoDataFrame** is the same as the CRS of the `roads_itm` **GeoDataFrame**.\n",
    "\n",
    "<span style=\"color:#009fdf;font-size:1.1em;font-weight:bold\">If, when you first load the shapefile, the test below returns False, write a line of code that will ensure that the test returns True.</span>"
   ]
  },
  {
   "cell_type": "code",
   "execution_count": 34,
   "metadata": {},
   "outputs": [
    {
     "name": "stdout",
     "output_type": "stream",
     "text": [
      "True\n",
      "EPSG:2157\n",
      "EPSG:2157\n"
     ]
    }
   ],
   "source": [
    "counties = gpd.read_file('data_files/Counties.shp') # load the Counties shapefile\n",
    "\n",
    "counties = counties.to_crs(epsg=2157)\n",
    "\n",
    "print(counties.crs == roads_itm.crs) # test if the crs is the same for roads_itm and counties.\n",
    "print(counties.crs)\n",
    "print(roads_itm.crs)"
   ]
  },
  {
   "cell_type": "code",
   "execution_count": 35,
   "metadata": {},
   "outputs": [
    {
     "data": {
      "text/plain": [
       "Index(['COUNTY_ID', 'CountyName', 'Area_SqKM', 'OBJECTID', 'geometry',\n",
       "       'index_right', 'SURVEY', 'Road_class', 'Length'],\n",
       "      dtype='object')"
      ]
     },
     "execution_count": 35,
     "metadata": {},
     "output_type": "execute_result"
    }
   ],
   "source": [
    "join = gpd.sjoin(counties, roads_itm, how='inner', lsuffix='left', rsuffix='right') # perform the spatial join\n",
    "join.columns"
   ]
  },
  {
   "cell_type": "markdown",
   "metadata": {},
   "source": [
    "Now that the two **GeoDataFrame** objects have the same CRS, we can proceed with the spatial join using `gpd.sjoin()` ([documentation](https://geopandas.org/en/stable/docs/reference/api/geopandas.sjoin.html)):"
   ]
  },
  {
   "cell_type": "code",
   "execution_count": 36,
   "metadata": {},
   "outputs": [
    {
     "data": {
      "text/html": [
       "<div>\n",
       "<style scoped>\n",
       "    .dataframe tbody tr th:only-of-type {\n",
       "        vertical-align: middle;\n",
       "    }\n",
       "\n",
       "    .dataframe tbody tr th {\n",
       "        vertical-align: top;\n",
       "    }\n",
       "\n",
       "    .dataframe thead th {\n",
       "        text-align: right;\n",
       "    }\n",
       "</style>\n",
       "<table border=\"1\" class=\"dataframe\">\n",
       "  <thead>\n",
       "    <tr style=\"text-align: right;\">\n",
       "      <th></th>\n",
       "      <th>COUNTY_ID</th>\n",
       "      <th>CountyName</th>\n",
       "      <th>Area_SqKM</th>\n",
       "      <th>OBJECTID</th>\n",
       "      <th>geometry</th>\n",
       "      <th>index_right</th>\n",
       "      <th>SURVEY</th>\n",
       "      <th>Road_class</th>\n",
       "      <th>Length</th>\n",
       "    </tr>\n",
       "  </thead>\n",
       "  <tbody>\n",
       "    <tr>\n",
       "      <th>0</th>\n",
       "      <td>6</td>\n",
       "      <td>TYRONE</td>\n",
       "      <td>3265.796622</td>\n",
       "      <td>1</td>\n",
       "      <td>POLYGON ((639612.430 910662.582, 639617.397 91...</td>\n",
       "      <td>16347</td>\n",
       "      <td>20060307</td>\n",
       "      <td>CL_MINOR</td>\n",
       "      <td>1776.014121</td>\n",
       "    </tr>\n",
       "    <tr>\n",
       "      <th>0</th>\n",
       "      <td>6</td>\n",
       "      <td>TYRONE</td>\n",
       "      <td>3265.796622</td>\n",
       "      <td>1</td>\n",
       "      <td>POLYGON ((639612.430 910662.582, 639617.397 91...</td>\n",
       "      <td>16351</td>\n",
       "      <td>20060307</td>\n",
       "      <td>CL_MINOR</td>\n",
       "      <td>2175.532649</td>\n",
       "    </tr>\n",
       "    <tr>\n",
       "      <th>0</th>\n",
       "      <td>6</td>\n",
       "      <td>TYRONE</td>\n",
       "      <td>3265.796622</td>\n",
       "      <td>1</td>\n",
       "      <td>POLYGON ((639612.430 910662.582, 639617.397 91...</td>\n",
       "      <td>9202</td>\n",
       "      <td>20060307</td>\n",
       "      <td>&lt;4M_TARRED</td>\n",
       "      <td>1697.930073</td>\n",
       "    </tr>\n",
       "    <tr>\n",
       "      <th>0</th>\n",
       "      <td>6</td>\n",
       "      <td>TYRONE</td>\n",
       "      <td>3265.796622</td>\n",
       "      <td>1</td>\n",
       "      <td>POLYGON ((639612.430 910662.582, 639617.397 91...</td>\n",
       "      <td>16350</td>\n",
       "      <td>20060307</td>\n",
       "      <td>CL_MINOR</td>\n",
       "      <td>498.221371</td>\n",
       "    </tr>\n",
       "    <tr>\n",
       "      <th>0</th>\n",
       "      <td>6</td>\n",
       "      <td>TYRONE</td>\n",
       "      <td>3265.796622</td>\n",
       "      <td>1</td>\n",
       "      <td>POLYGON ((639612.430 910662.582, 639617.397 91...</td>\n",
       "      <td>9205</td>\n",
       "      <td>20060307</td>\n",
       "      <td>&lt;4M_TARRED</td>\n",
       "      <td>1602.620429</td>\n",
       "    </tr>\n",
       "    <tr>\n",
       "      <th>...</th>\n",
       "      <td>...</td>\n",
       "      <td>...</td>\n",
       "      <td>...</td>\n",
       "      <td>...</td>\n",
       "      <td>...</td>\n",
       "      <td>...</td>\n",
       "      <td>...</td>\n",
       "      <td>...</td>\n",
       "      <td>...</td>\n",
       "    </tr>\n",
       "    <tr>\n",
       "      <th>5</th>\n",
       "      <td>3</td>\n",
       "      <td>DOWN</td>\n",
       "      <td>2491.238606</td>\n",
       "      <td>6</td>\n",
       "      <td>MULTIPOLYGON (((725768.785 812618.064, 725765....</td>\n",
       "      <td>8266</td>\n",
       "      <td>20031029</td>\n",
       "      <td>B_CLASS</td>\n",
       "      <td>359.944265</td>\n",
       "    </tr>\n",
       "    <tr>\n",
       "      <th>5</th>\n",
       "      <td>3</td>\n",
       "      <td>DOWN</td>\n",
       "      <td>2491.238606</td>\n",
       "      <td>6</td>\n",
       "      <td>MULTIPOLYGON (((725768.785 812618.064, 725765....</td>\n",
       "      <td>8289</td>\n",
       "      <td>20031029</td>\n",
       "      <td>B_CLASS</td>\n",
       "      <td>32.871037</td>\n",
       "    </tr>\n",
       "    <tr>\n",
       "      <th>5</th>\n",
       "      <td>3</td>\n",
       "      <td>DOWN</td>\n",
       "      <td>2491.238606</td>\n",
       "      <td>6</td>\n",
       "      <td>MULTIPOLYGON (((725768.785 812618.064, 725765....</td>\n",
       "      <td>25107</td>\n",
       "      <td>20031029</td>\n",
       "      <td>CL_MINOR</td>\n",
       "      <td>1812.506853</td>\n",
       "    </tr>\n",
       "    <tr>\n",
       "      <th>5</th>\n",
       "      <td>3</td>\n",
       "      <td>DOWN</td>\n",
       "      <td>2491.238606</td>\n",
       "      <td>6</td>\n",
       "      <td>MULTIPOLYGON (((725768.785 812618.064, 725765....</td>\n",
       "      <td>25099</td>\n",
       "      <td>20031029</td>\n",
       "      <td>CL_MINOR</td>\n",
       "      <td>711.113371</td>\n",
       "    </tr>\n",
       "    <tr>\n",
       "      <th>5</th>\n",
       "      <td>3</td>\n",
       "      <td>DOWN</td>\n",
       "      <td>2491.238606</td>\n",
       "      <td>6</td>\n",
       "      <td>MULTIPOLYGON (((725768.785 812618.064, 725765....</td>\n",
       "      <td>25098</td>\n",
       "      <td>20031029</td>\n",
       "      <td>CL_MINOR</td>\n",
       "      <td>1330.450742</td>\n",
       "    </tr>\n",
       "  </tbody>\n",
       "</table>\n",
       "<p>25771 rows × 9 columns</p>\n",
       "</div>"
      ],
      "text/plain": [
       "    COUNTY_ID CountyName    Area_SqKM  OBJECTID  \\\n",
       "0           6     TYRONE  3265.796622         1   \n",
       "0           6     TYRONE  3265.796622         1   \n",
       "0           6     TYRONE  3265.796622         1   \n",
       "0           6     TYRONE  3265.796622         1   \n",
       "0           6     TYRONE  3265.796622         1   \n",
       "..        ...        ...          ...       ...   \n",
       "5           3       DOWN  2491.238606         6   \n",
       "5           3       DOWN  2491.238606         6   \n",
       "5           3       DOWN  2491.238606         6   \n",
       "5           3       DOWN  2491.238606         6   \n",
       "5           3       DOWN  2491.238606         6   \n",
       "\n",
       "                                             geometry  index_right    SURVEY  \\\n",
       "0   POLYGON ((639612.430 910662.582, 639617.397 91...        16347  20060307   \n",
       "0   POLYGON ((639612.430 910662.582, 639617.397 91...        16351  20060307   \n",
       "0   POLYGON ((639612.430 910662.582, 639617.397 91...         9202  20060307   \n",
       "0   POLYGON ((639612.430 910662.582, 639617.397 91...        16350  20060307   \n",
       "0   POLYGON ((639612.430 910662.582, 639617.397 91...         9205  20060307   \n",
       "..                                                ...          ...       ...   \n",
       "5   MULTIPOLYGON (((725768.785 812618.064, 725765....         8266  20031029   \n",
       "5   MULTIPOLYGON (((725768.785 812618.064, 725765....         8289  20031029   \n",
       "5   MULTIPOLYGON (((725768.785 812618.064, 725765....        25107  20031029   \n",
       "5   MULTIPOLYGON (((725768.785 812618.064, 725765....        25099  20031029   \n",
       "5   MULTIPOLYGON (((725768.785 812618.064, 725765....        25098  20031029   \n",
       "\n",
       "    Road_class       Length  \n",
       "0     CL_MINOR  1776.014121  \n",
       "0     CL_MINOR  2175.532649  \n",
       "0   <4M_TARRED  1697.930073  \n",
       "0     CL_MINOR   498.221371  \n",
       "0   <4M_TARRED  1602.620429  \n",
       "..         ...          ...  \n",
       "5      B_CLASS   359.944265  \n",
       "5      B_CLASS    32.871037  \n",
       "5     CL_MINOR  1812.506853  \n",
       "5     CL_MINOR   711.113371  \n",
       "5     CL_MINOR  1330.450742  \n",
       "\n",
       "[25771 rows x 9 columns]"
      ]
     },
     "execution_count": 36,
     "metadata": {},
     "output_type": "execute_result"
    }
   ],
   "source": [
    "\n",
    "join # show the joined table"
   ]
  },
  {
   "cell_type": "markdown",
   "metadata": {},
   "source": [
    "Now, we can see that our table has additional columns - we have the unnamed `index`, `COUNTY_ID`, `CountyName`, `Area_SqKM`, `OBJECTID`, and `geometry` from the `counties` **GeoDataFrame**, and `index_right` (because the original column in `roads_itm` has the same name as `index` in `counties`), `SURVEY`, `Road_class`, and `Length` from the `roads_itm` **GeoDataFrame**.\n",
    "\n",
    "Like we did with `roads_itm`, we can again summarize our new **GeoDataFrame** using `.groupby()`; this time, we'll use both the `CountyName` and `Road_class` properties to see the total length of roads by each county, and by the type of road:"
   ]
  },
  {
   "cell_type": "code",
   "execution_count": 37,
   "metadata": {},
   "outputs": [
    {
     "data": {
      "text/plain": [
       "CountyName   Road_class\n",
       "ANTRIM       <4M_TARRED     516.951450\n",
       "             <4M_T_OVER       0.120136\n",
       "             A_CLASS        532.651362\n",
       "             B_CLASS        735.885336\n",
       "             CL_MINOR      2269.134803\n",
       "             CL_M_OVER        1.946761\n",
       "             DUAL_CARR       45.350703\n",
       "             MOTORWAY        93.435273\n",
       "ARMAGH       <4M_TARRED    1453.772533\n",
       "             <4M_T_OVER       0.500763\n",
       "             A_CLASS        259.807504\n",
       "             B_CLASS        366.886425\n",
       "             CL_MINOR       642.702779\n",
       "             CL_M_OVER        1.350493\n",
       "             DUAL_CARR        3.811509\n",
       "             MOTORWAY        40.464137\n",
       "DOWN         <4M_TARRED    1271.910977\n",
       "             <4M_T_OVER       0.929374\n",
       "             A_CLASS        508.976590\n",
       "             B_CLASS        452.671910\n",
       "             CL_MINOR      1949.326984\n",
       "             CL_M_OVER        2.519256\n",
       "             DUAL_CARR       84.654771\n",
       "             MOTORWAY        34.937970\n",
       "FERMANAGH    <4M_TARRED     770.153617\n",
       "             A_CLASS        217.382843\n",
       "             B_CLASS        238.418712\n",
       "             CL_MINOR       655.136730\n",
       "             CL_M_OVER        0.049085\n",
       "LONDONDERRY  <4M_TARRED     709.707418\n",
       "             A_CLASS        332.016729\n",
       "             B_CLASS        429.867700\n",
       "             CL_MINOR      1389.131277\n",
       "             CL_M_OVER        0.070609\n",
       "             DUAL_CARR       17.636143\n",
       "TYRONE       <4M_TARRED    2809.432458\n",
       "             <4M_T_OVER       0.204863\n",
       "             A_CLASS        264.551090\n",
       "             B_CLASS        669.228135\n",
       "             CL_MINOR      1215.752094\n",
       "             CL_M_OVER        0.106517\n",
       "             DUAL_CARR        3.040743\n",
       "             MOTORWAY        11.914958\n",
       "Name: Length, dtype: float64"
      ]
     },
     "execution_count": 37,
     "metadata": {},
     "output_type": "execute_result"
    }
   ],
   "source": [
    "group_county_road = join.groupby(['CountyName', 'Road_class']) # group by county name, then road class\n",
    "\n",
    "group_county_road['Length'].sum() / 1000 # show the total number of km for each category"
   ]
  },
  {
   "cell_type": "markdown",
   "metadata": {},
   "source": [
    "From this, we can quickly see that County Antrim has the most motorway of any county in Northern Ireland (93.44 km), while County Tyrone has the most \"< 4M Tarred\" road surfaces by a factor of two (2809.43 km vs. 1453.77 km for County Armagh).\n",
    "\n",
    "One thing to keep in mind is that with a spatial join, any feature in the \"right\" table that overlaps multiple features in the \"left\" table will be, in effect, double-counted. We can confirm this by calculating the total length of roads in the joined table and comparing it to the total length of roads in the original dataset:"
   ]
  },
  {
   "cell_type": "code",
   "execution_count": 38,
   "metadata": {},
   "outputs": [
    {
     "name": "stdout",
     "output_type": "stream",
     "text": [
      "Total length of roads from original file: 20709668.26\n",
      "Total length of roads from spatial join: 21004501.52\n",
      "Absolute difference in road length: 294.83 km\n",
      "Absolute difference in road length: 1.42%\n"
     ]
    }
   ],
   "source": [
    "join_total = join['Length'].sum() # find the total length of roads in the join GeoDataFrame\n",
    "\n",
    "# check that the total length of roads is the same between both GeoDataFrames\n",
    "print(f'Total length of roads from original file: {sum_roads:.2f}')\n",
    "print(f'Total length of roads from spatial join: {join_total:.2f}')\n",
    "print(f'Absolute difference in road length: {abs(sum_roads - join_total) / 1000:0.2f} km') # calculate the absolute difference as a percentage\n",
    "print(f'Absolute difference in road length: {(100 * abs(sum_roads - join_total) / sum_roads):0.2f}%') # calculate the absolute difference as a percentage"
   ]
  },
  {
   "cell_type": "markdown",
   "metadata": {},
   "source": [
    "And indeed, we can see that the total length of roads in the spatial join is ~300 km longer (1.42%) than the total length of roads in the original dataset.\n",
    "\n",
    "We can also see that we have double-counted features by comparing the total number of road features in the `join` **GeoDataFrame** with the number of unique road features, which we can find using a combination of `len()` ([documentation](https://docs.python.org/3/library/functions.html#len)) and `.unique()` ([documentation](https://pandas.pydata.org/pandas-docs/stable/reference/api/pandas.Series.unique.html)):"
   ]
  },
  {
   "cell_type": "code",
   "execution_count": 39,
   "metadata": {},
   "outputs": [
    {
     "name": "stdout",
     "output_type": "stream",
     "text": [
      "There are 196 duplicated objects in the joined table.\n"
     ]
    }
   ],
   "source": [
    "not_unique = len(join.index) - len(join.index_right.unique()) # get the difference between the number of objects in the table and the unique objects in the table\n",
    "\n",
    "print(f'There are {not_unique} duplicated objects in the joined table.')"
   ]
  },
  {
   "cell_type": "markdown",
   "metadata": {},
   "source": [
    "Obviously, we don't want to double-count roads - to get around this, we can use the `gpd.clip()` function ([documentation](https://geopandas.org/en/stable/docs/reference/api/geopandas.clip.html)) to clip the features of `roads_itm` to each of the county boundaries in the `counties` **GeoDataFrame**:"
   ]
  },
  {
   "cell_type": "code",
   "execution_count": 40,
   "metadata": {},
   "outputs": [
    {
     "name": "stdout",
     "output_type": "stream",
     "text": [
      "Help on function clip in module geopandas.tools.clip:\n",
      "\n",
      "clip(gdf, mask, keep_geom_type=False)\n",
      "    Clip points, lines, or polygon geometries to the mask extent.\n",
      "\n",
      "    Both layers must be in the same Coordinate Reference System (CRS).\n",
      "    The ``gdf`` will be clipped to the full extent of the clip object.\n",
      "\n",
      "    If there are multiple polygons in mask, data from ``gdf`` will be\n",
      "    clipped to the total boundary of all polygons in mask.\n",
      "\n",
      "    If the ``mask`` is list-like with four elements ``(minx, miny, maxx, maxy)``, a\n",
      "    faster rectangle clipping algorithm will be used. Note that this can lead to\n",
      "    slightly different results in edge cases, e.g. if a line would be reduced to a\n",
      "    point, this point might not be returned.\n",
      "    The geometry is clipped in a fast but possibly dirty way. The output is not\n",
      "    guaranteed to be valid. No exceptions will be raised for topological errors.\n",
      "\n",
      "    Parameters\n",
      "    ----------\n",
      "    gdf : GeoDataFrame or GeoSeries\n",
      "        Vector layer (point, line, polygon) to be clipped to mask.\n",
      "    mask : GeoDataFrame, GeoSeries, (Multi)Polygon, list-like\n",
      "        Polygon vector layer used to clip ``gdf``.\n",
      "        The mask's geometry is dissolved into one geometric feature\n",
      "        and intersected with ``gdf``.\n",
      "        If the mask is list-like with four elements ``(minx, miny, maxx, maxy)``,\n",
      "        ``clip`` will use a faster rectangle clipping (:meth:`~GeoSeries.clip_by_rect`),\n",
      "        possibly leading to slightly different results.\n",
      "    keep_geom_type : boolean, default False\n",
      "        If True, return only geometries of original type in case of intersection\n",
      "        resulting in multiple geometry types or GeometryCollections.\n",
      "        If False, return all resulting geometries (potentially mixed-types).\n",
      "\n",
      "    Returns\n",
      "    -------\n",
      "    GeoDataFrame or GeoSeries\n",
      "         Vector data (points, lines, polygons) from ``gdf`` clipped to\n",
      "         polygon boundary from mask.\n",
      "\n",
      "    See also\n",
      "    --------\n",
      "    GeoDataFrame.clip : equivalent GeoDataFrame method\n",
      "    GeoSeries.clip : equivalent GeoSeries method\n",
      "\n",
      "    Examples\n",
      "    --------\n",
      "    Clip points (grocery stores) with polygons (the Near West Side community):\n",
      "\n",
      "    >>> import geodatasets\n",
      "    >>> chicago = geopandas.read_file(\n",
      "    ...     geodatasets.get_path(\"geoda.chicago_health\")\n",
      "    ... )\n",
      "    >>> near_west_side = chicago[chicago[\"community\"] == \"NEAR WEST SIDE\"]\n",
      "    >>> groceries = geopandas.read_file(\n",
      "    ...     geodatasets.get_path(\"geoda.groceries\")\n",
      "    ... ).to_crs(chicago.crs)\n",
      "    >>> groceries.shape\n",
      "    (148, 8)\n",
      "\n",
      "    >>> nws_groceries = geopandas.clip(groceries, near_west_side)\n",
      "    >>> nws_groceries.shape\n",
      "    (7, 8)\n",
      "\n"
     ]
    }
   ],
   "source": [
    "help(gpd.clip)"
   ]
  },
  {
   "cell_type": "markdown",
   "metadata": {},
   "source": [
    "Note that we have to do this for each of county, because - `gpd.clip()` will take the total boundary for the **GeoDataFrame** if there are multiple **Polygon** objects. \n",
    "\n",
    "Using a `for` loop to loop over the `counties` **GeoDataFrame**, then, we can clip `roads_itm` to each county, and combine the results in another **GeoDataFrame**:"
   ]
  },
  {
   "cell_type": "code",
   "execution_count": 41,
   "metadata": {},
   "outputs": [],
   "source": [
    "clipped = [] # initialize an empty list\n",
    "for county in counties['CountyName'].unique(): # iterate over unique values of county\n",
    "    tmp_clip = gpd.clip(roads_itm, counties[counties['CountyName'] == county]) # clip the roads by county border\n",
    "    for ind, row in tmp_clip.iterrows():\n",
    "        tmp_clip.loc[ind, 'Length'] = row['geometry'].length # remember to update the length for any clipped roads\n",
    "        tmp_clip.loc[ind, 'CountyName'] = county # set the county name for each road feature    \n",
    "    clipped.append(tmp_clip) # add the clipped GeoDataFrame to the list"
   ]
  },
  {
   "cell_type": "markdown",
   "metadata": {},
   "source": [
    "Note that this step will likely take some time, as we are iterating over a large number of features.\n",
    "\n",
    "This creates a **list** of **GeoDataFrame** objects - one for each unique value of `CountyName`. Now, we can use `pd.concat()` ([documentation](https://pandas.pydata.org/pandas-docs/stable/reference/api/pandas.concat.html)) to combine these into a single **DataFrame**, then use `gpd.GeoDataFrame()` to convert this to a **GeoDataFrame**. \n",
    "\n",
    "Note the use of `ignore_index=True` with `pd.concat()` - this means that `pandas` will assign each row in the combined **DataFrame** with a new index, rather than keeping the original index. Because in this case our index values only correspond to the row number, we don't need to keep track of this in the new table."
   ]
  },
  {
   "cell_type": "code",
   "execution_count": 42,
   "metadata": {},
   "outputs": [
    {
     "data": {
      "text/html": [
       "<div>\n",
       "<style scoped>\n",
       "    .dataframe tbody tr th:only-of-type {\n",
       "        vertical-align: middle;\n",
       "    }\n",
       "\n",
       "    .dataframe tbody tr th {\n",
       "        vertical-align: top;\n",
       "    }\n",
       "\n",
       "    .dataframe thead th {\n",
       "        text-align: right;\n",
       "    }\n",
       "</style>\n",
       "<table border=\"1\" class=\"dataframe\">\n",
       "  <thead>\n",
       "    <tr style=\"text-align: right;\">\n",
       "      <th></th>\n",
       "      <th>SURVEY</th>\n",
       "      <th>Road_class</th>\n",
       "      <th>geometry</th>\n",
       "      <th>Length</th>\n",
       "      <th>CountyName</th>\n",
       "    </tr>\n",
       "  </thead>\n",
       "  <tbody>\n",
       "    <tr>\n",
       "      <th>0</th>\n",
       "      <td>20060307</td>\n",
       "      <td>CL_MINOR</td>\n",
       "      <td>LINESTRING (632882.932 851830.599, 632887.217 ...</td>\n",
       "      <td>6.489861</td>\n",
       "      <td>TYRONE</td>\n",
       "    </tr>\n",
       "    <tr>\n",
       "      <th>1</th>\n",
       "      <td>20060307</td>\n",
       "      <td>CL_MINOR</td>\n",
       "      <td>LINESTRING (631649.216 852358.662, 631721.543 ...</td>\n",
       "      <td>1278.916778</td>\n",
       "      <td>TYRONE</td>\n",
       "    </tr>\n",
       "    <tr>\n",
       "      <th>2</th>\n",
       "      <td>20060307</td>\n",
       "      <td>&lt;4M_TARRED</td>\n",
       "      <td>LINESTRING (631649.216 852358.662, 631797.464 ...</td>\n",
       "      <td>1697.930073</td>\n",
       "      <td>TYRONE</td>\n",
       "    </tr>\n",
       "    <tr>\n",
       "      <th>3</th>\n",
       "      <td>20060307</td>\n",
       "      <td>CL_MINOR</td>\n",
       "      <td>LINESTRING (631371.471 852744.491, 631417.304 ...</td>\n",
       "      <td>498.221371</td>\n",
       "      <td>TYRONE</td>\n",
       "    </tr>\n",
       "    <tr>\n",
       "      <th>4</th>\n",
       "      <td>20060307</td>\n",
       "      <td>&lt;4M_TARRED</td>\n",
       "      <td>LINESTRING (632593.457 853379.330, 632619.320 ...</td>\n",
       "      <td>1602.620429</td>\n",
       "      <td>TYRONE</td>\n",
       "    </tr>\n",
       "    <tr>\n",
       "      <th>...</th>\n",
       "      <td>...</td>\n",
       "      <td>...</td>\n",
       "      <td>...</td>\n",
       "      <td>...</td>\n",
       "      <td>...</td>\n",
       "    </tr>\n",
       "    <tr>\n",
       "      <th>25766</th>\n",
       "      <td>20031029</td>\n",
       "      <td>B_CLASS</td>\n",
       "      <td>LINESTRING (739973.079 879334.877, 740102.529 ...</td>\n",
       "      <td>359.944265</td>\n",
       "      <td>DOWN</td>\n",
       "    </tr>\n",
       "    <tr>\n",
       "      <th>25767</th>\n",
       "      <td>20031029</td>\n",
       "      <td>B_CLASS</td>\n",
       "      <td>LINESTRING (740277.263 879527.310, 740286.593 ...</td>\n",
       "      <td>32.871037</td>\n",
       "      <td>DOWN</td>\n",
       "    </tr>\n",
       "    <tr>\n",
       "      <th>25768</th>\n",
       "      <td>20031029</td>\n",
       "      <td>CL_MINOR</td>\n",
       "      <td>LINESTRING (744315.098 881017.933, 744389.078 ...</td>\n",
       "      <td>1812.506853</td>\n",
       "      <td>DOWN</td>\n",
       "    </tr>\n",
       "    <tr>\n",
       "      <th>25769</th>\n",
       "      <td>20031029</td>\n",
       "      <td>CL_MINOR</td>\n",
       "      <td>LINESTRING (745191.606 882583.540, 745417.129 ...</td>\n",
       "      <td>711.113371</td>\n",
       "      <td>DOWN</td>\n",
       "    </tr>\n",
       "    <tr>\n",
       "      <th>25770</th>\n",
       "      <td>20031029</td>\n",
       "      <td>CL_MINOR</td>\n",
       "      <td>LINESTRING (745191.606 882583.540, 745338.104 ...</td>\n",
       "      <td>1330.450742</td>\n",
       "      <td>DOWN</td>\n",
       "    </tr>\n",
       "  </tbody>\n",
       "</table>\n",
       "<p>25771 rows × 5 columns</p>\n",
       "</div>"
      ],
      "text/plain": [
       "         SURVEY  Road_class  \\\n",
       "0      20060307    CL_MINOR   \n",
       "1      20060307    CL_MINOR   \n",
       "2      20060307  <4M_TARRED   \n",
       "3      20060307    CL_MINOR   \n",
       "4      20060307  <4M_TARRED   \n",
       "...         ...         ...   \n",
       "25766  20031029     B_CLASS   \n",
       "25767  20031029     B_CLASS   \n",
       "25768  20031029    CL_MINOR   \n",
       "25769  20031029    CL_MINOR   \n",
       "25770  20031029    CL_MINOR   \n",
       "\n",
       "                                                geometry       Length  \\\n",
       "0      LINESTRING (632882.932 851830.599, 632887.217 ...     6.489861   \n",
       "1      LINESTRING (631649.216 852358.662, 631721.543 ...  1278.916778   \n",
       "2      LINESTRING (631649.216 852358.662, 631797.464 ...  1697.930073   \n",
       "3      LINESTRING (631371.471 852744.491, 631417.304 ...   498.221371   \n",
       "4      LINESTRING (632593.457 853379.330, 632619.320 ...  1602.620429   \n",
       "...                                                  ...          ...   \n",
       "25766  LINESTRING (739973.079 879334.877, 740102.529 ...   359.944265   \n",
       "25767  LINESTRING (740277.263 879527.310, 740286.593 ...    32.871037   \n",
       "25768  LINESTRING (744315.098 881017.933, 744389.078 ...  1812.506853   \n",
       "25769  LINESTRING (745191.606 882583.540, 745417.129 ...   711.113371   \n",
       "25770  LINESTRING (745191.606 882583.540, 745338.104 ...  1330.450742   \n",
       "\n",
       "      CountyName  \n",
       "0         TYRONE  \n",
       "1         TYRONE  \n",
       "2         TYRONE  \n",
       "3         TYRONE  \n",
       "4         TYRONE  \n",
       "...          ...  \n",
       "25766       DOWN  \n",
       "25767       DOWN  \n",
       "25768       DOWN  \n",
       "25769       DOWN  \n",
       "25770       DOWN  \n",
       "\n",
       "[25771 rows x 5 columns]"
      ]
     },
     "execution_count": 42,
     "metadata": {},
     "output_type": "execute_result"
    }
   ],
   "source": [
    "clipped_gdf = gpd.GeoDataFrame(pd.concat(clipped, ignore_index=True)) # create a geodataframe from the combined county geodataframes\n",
    "\n",
    "clipped_gdf # show the new, combined geodataframe"
   ]
  },
  {
   "cell_type": "markdown",
   "metadata": {},
   "source": [
    "Now, we can compare the total length of the clipped roads with the total length of roads from the original dataset:"
   ]
  },
  {
   "cell_type": "code",
   "execution_count": 43,
   "metadata": {},
   "outputs": [
    {
     "name": "stdout",
     "output_type": "stream",
     "text": [
      "Total length of roads from original file: 20709668.26 m\n",
      "Total length of roads from clipped join: 20707226.50 m\n",
      "Absolute difference in road length: 2.44 km\n",
      "Absolute difference in road length: 0.01%\n"
     ]
    }
   ],
   "source": [
    "# pandas has a function, concat, which will combine (concatenate) a list of DataFrames (or GeoDataFrames)\n",
    "# we can then create a GeoDataFrame from the combined DataFrame, as the combined DataFrame will have a geometry column.\n",
    "clip_total = clipped_gdf['Length'].sum()\n",
    "\n",
    "print(f'Total length of roads from original file: {sum_roads:.2f} m')\n",
    "print(f'Total length of roads from clipped join: {clip_total:.2f} m')\n",
    "print(f'Absolute difference in road length: {abs(sum_roads - clip_total) / 1000:0.2f} km')\n",
    "print(f'Absolute difference in road length: {(100 * abs(sum_roads - clip_total) / sum_roads):0.2f}%')"
   ]
  },
  {
   "cell_type": "markdown",
   "metadata": {},
   "source": [
    "So we don't have perfect overlap. This is because there isn't perfect overlap between the `counties` boundary and the `roads` features: there are a number of places where the roads extend beyond the border of Northern Ireland. One example of this is shown below:\n",
    "\n",
    "![](road_extension.png)\n",
    "\n",
    "To fix this, we could first clip `roads_itm` to the entire `counties` __GeoDataFrame__, which would eliminate these extraneous stretches of road. \n",
    "\n",
    "For now, though, agrement to within 0.01% is acceptable for our purposes - much better than the 1.42% disagreement from the original spatial join.\n",
    "\n",
    "<span style=\"color:#009fdf;font-size:1.1em;font-weight:bold\">To wrap up, write a line or two of code in the cell below that will summarize the `clipped_gdf` __GeoDataFrame__ by county and road type. Which county has the most Motorways? The most roads in total?</span>"
   ]
  },
  {
   "cell_type": "markdown",
   "metadata": {},
   "source": [
    "## exercise and next steps\n",
    "Now that you've gained some experience working with `shapely` geometry objects and `geopandas` **GeoDataFrame** objects, have a look at **exercise_script.py** in this folder. \n",
    "\n",
    "Using the topics covered in the Week 2 practical and this practical, modify this script to do the following:\n",
    "1. Load the counties and ward data\n",
    "2. Using a spatial join, summarize the total population by county. What county has the highest population? What about the lowest?\n",
    "3. Create a map like the one below to show population information by census area, with the county boundaries plotted overtop of the chloropleth map.\n",
    "\n",
    "![](sample_map.png)\n",
    "\n",
    "### additional exercise questions\n",
    "1. Are there any Wards that are located in more than one county? If so, how many, and what is the total population of these Wards?\n",
    "2. What Ward has the highest population? What about the lowest population?\n",
    "3. Repeat the exercise above using **exercise_script.py**, but this time use the population density (in number of residents per square km)."
   ]
  },
  {
   "cell_type": "code",
   "execution_count": 44,
   "metadata": {},
   "outputs": [
    {
     "name": "stdout",
     "output_type": "stream",
     "text": [
      "CountyName   Road_class\n",
      "ANTRIM       <4M_TARRED     514.457571\n",
      "             <4M_T_OVER       0.120136\n",
      "             A_CLASS        527.802372\n",
      "             B_CLASS        730.322109\n",
      "             CL_MINOR      2251.693792\n",
      "             CL_M_OVER        1.946761\n",
      "             DUAL_CARR       42.871103\n",
      "             MOTORWAY        80.404877\n",
      "ARMAGH       <4M_TARRED    1451.883941\n",
      "             <4M_T_OVER       0.500763\n",
      "             A_CLASS        255.000882\n",
      "             B_CLASS        362.190241\n",
      "             CL_MINOR       632.787871\n",
      "             CL_M_OVER        1.350493\n",
      "             DUAL_CARR        2.786647\n",
      "             MOTORWAY        33.389573\n",
      "DOWN         <4M_TARRED    1267.355524\n",
      "             <4M_T_OVER       0.929374\n",
      "             A_CLASS        498.853783\n",
      "             B_CLASS        449.090648\n",
      "             CL_MINOR      1935.926379\n",
      "             CL_M_OVER        2.519256\n",
      "             DUAL_CARR       83.482136\n",
      "             MOTORWAY        28.754106\n",
      "FERMANAGH    <4M_TARRED     757.384039\n",
      "             A_CLASS        214.947138\n",
      "             B_CLASS        230.871440\n",
      "             CL_MINOR       640.059941\n",
      "             CL_M_OVER        0.049085\n",
      "LONDONDERRY  <4M_TARRED     686.358621\n",
      "             A_CLASS        330.094814\n",
      "             B_CLASS        420.446899\n",
      "             CL_MINOR      1376.007512\n",
      "             CL_M_OVER        0.070609\n",
      "             DUAL_CARR       17.006412\n",
      "TYRONE       <4M_TARRED    2766.854963\n",
      "             <4M_T_OVER       0.204863\n",
      "             A_CLASS        260.718136\n",
      "             B_CLASS        652.835496\n",
      "             CL_MINOR      1184.464164\n",
      "             CL_M_OVER        0.106517\n",
      "             DUAL_CARR        2.152571\n",
      "             MOTORWAY        10.172941\n",
      "Name: Length, dtype: float64\n"
     ]
    }
   ],
   "source": [
    "# Group by county name and road class\n",
    "group_county_road_clipped = clipped_gdf.groupby(['CountyName', 'Road_class'])\n",
    "\n",
    "# Calculate the total length for each category\n",
    "total_length_km = group_county_road_clipped['Length'].sum() / 1000\n",
    "\n",
    "# Show the total length for each category\n",
    "print(total_length_km)\n",
    "\n",
    "# Optionally, if you still need to access `clipped_gdf` later in your code, you can use it after the above operations.\n"
   ]
  },
  {
   "cell_type": "code",
   "execution_count": null,
   "metadata": {},
   "outputs": [],
   "source": []
  }
 ],
 "metadata": {
  "kernelspec": {
   "display_name": "Python 3 (ipykernel)",
   "language": "python",
   "name": "python3"
  },
  "language_info": {
   "codemirror_mode": {
    "name": "ipython",
    "version": 3
   },
   "file_extension": ".py",
   "mimetype": "text/x-python",
   "name": "python",
   "nbconvert_exporter": "python",
   "pygments_lexer": "ipython3",
   "version": "3.12.2"
  }
 },
 "nbformat": 4,
 "nbformat_minor": 4
}
